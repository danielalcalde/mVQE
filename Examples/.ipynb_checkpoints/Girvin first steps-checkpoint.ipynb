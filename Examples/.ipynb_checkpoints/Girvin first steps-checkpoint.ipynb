{
 "cells": [
  {
   "cell_type": "code",
   "execution_count": 319,
   "metadata": {},
   "outputs": [],
   "source": [
    "using Revise\n",
    "using PastaQ\n",
    "using ITensors\n",
    "using Random\n",
    "using OptimKit\n",
    "using Zygote\n",
    "using Zygote: ChainRulesCore\n",
    "using BenchmarkTools\n",
    "using LinearAlgebra\n",
    "using JLD2\n",
    "using Flux\n",
    "using PyCall\n",
    "using SymPy\n",
    "using QOS\n",
    "\n",
    "import mVQE\n",
    "using mVQE.Hamiltonians: hamiltonian_tfi, hamiltonian_ghz\n",
    "using mVQE.ITensorsExtension: projective_measurement\n",
    "using mVQE: loss, optimize_and_evolve\n",
    "using mVQE.Circuits: VariationalCircuitRy, VariationalMeasurement, VariationalMeasurementMC, VariationalMeasurementMCFeedback\n",
    "using mVQE.Misc: get_ancillas_indices, pprint\n",
    "using mVQE.Optimizers: OptimizerWrapper\n",
    "using mVQE.pyflexmps: pfs"
   ]
  },
  {
   "cell_type": "markdown",
   "metadata": {},
   "source": [
    "## Translation from spin One to Spin Half"
   ]
  },
  {
   "cell_type": "code",
   "execution_count": 97,
   "metadata": {},
   "outputs": [
    {
     "data": {
      "text/plain": [
       "Dict{Any, Any} with 6 entries:\n",
       "  |1_0>  => |1/2_0>*|1/2_1>\n",
       "  |0_0>  => sqrt(2)*|-1/2_0>*|1/2_1>/2 + sqrt(2)*|1/2_0>*|-1/2_1>/2\n",
       "  |-1_0> => |-1/2_0>*|-1/2_1>\n",
       "  |-1_2> => |-1/2_2>*|-1/2_3>\n",
       "  |1_2>  => |1/2_2>*|1/2_3>\n",
       "  |0_2>  => sqrt(2)*|-1/2_2>*|1/2_3>/2 + sqrt(2)*|1/2_2>*|-1/2_3>/2"
      ]
     },
     "execution_count": 97,
     "metadata": {},
     "output_type": "execute_result"
    }
   ],
   "source": [
    "spin_trans = Dict()\n",
    "for i in [0, 2]\n",
    "    spin_trans[pfs.KetSpinOne(\"1\", i)] = pfs.KetSpinHalf.from_spin1(stot=1, sz=1, n1=i, n2=i+1)\n",
    "    spin_trans[pfs.KetSpinOne(\"0\", i)] = pfs.KetSpinHalf.from_spin1(stot=1, sz=0, n1=i, n2=i+1)\n",
    "    spin_trans[pfs.KetSpinOne(\"-1\", i)] = pfs.KetSpinHalf.from_spin1(stot=1, sz=-1, n1=i, n2=i+1)\n",
    "end\n",
    "spin_trans"
   ]
  },
  {
   "cell_type": "code",
   "execution_count": 98,
   "metadata": {},
   "outputs": [
    {
     "data": {
      "text/plain": [
       "Dict{Any, Any} with 2 entries:\n",
       "  \"1/2\"  => 0\n",
       "  \"-1/2\" => 1"
      ]
     },
     "execution_count": 98,
     "metadata": {},
     "output_type": "execute_result"
    }
   ],
   "source": [
    "pfs.KetSpinHalf.quantum_states"
   ]
  },
  {
   "cell_type": "code",
   "execution_count": 99,
   "metadata": {},
   "outputs": [
    {
     "data": {
      "text/plain": [
       "Dict{Any, Any} with 6 entries:\n",
       "  |1_0>  => |-1/2_0>*|1/2_1>\n",
       "  |0_0>  => |1/2_0>*|1/2_1>\n",
       "  |-1_0> => |1/2_0>*|-1/2_1>\n",
       "  |-1_2> => |1/2_2>*|-1/2_3>\n",
       "  |1_2>  => |-1/2_2>*|1/2_3>\n",
       "  |0_2>  => |1/2_2>*|1/2_3>"
      ]
     },
     "execution_count": 99,
     "metadata": {},
     "output_type": "execute_result"
    }
   ],
   "source": [
    "spin_trans_girvin = Dict()\n",
    "for i in [0, 2]\n",
    "    spin_trans_girvin[pfs.KetSpinOne(\"1\", i)] = pfs.KetSpinHalf(\"-1/2\", i)*pfs.KetSpinHalf(\"1/2\", i+1)\n",
    "    spin_trans_girvin[pfs.KetSpinOne(\"0\", i)] = pfs.KetSpinHalf(\"1/2\", i)*pfs.KetSpinHalf(\"1/2\", i+1)\n",
    "    spin_trans_girvin[pfs.KetSpinOne(\"-1\", i)] = pfs.KetSpinHalf(\"1/2\", i)*pfs.KetSpinHalf(\"-1/2\", i+1)\n",
    "end\n",
    "spin_trans_girvin"
   ]
  },
  {
   "cell_type": "markdown",
   "metadata": {},
   "source": [
    "## Hamiltonian"
   ]
  },
  {
   "cell_type": "code",
   "execution_count": 100,
   "metadata": {},
   "outputs": [
    {
     "data": {
      "text/plain": [
       "4-element Vector{PyObject}:\n",
       " PyObject H_0\n",
       " PyObject H_1\n",
       " PyObject H_2\n",
       " PyObject H_3"
      ]
     },
     "execution_count": 100,
     "metadata": {},
     "output_type": "execute_result"
    }
   ],
   "source": [
    "S = [[pfs.sigmax(j), pfs.sigmay(j), pfs.sigmaz(j)] for j in 0:3]\n",
    "hilberts = [S[i][1].hilbert_space.__pyobject__ for i in 1:4]"
   ]
  },
  {
   "cell_type": "code",
   "execution_count": 101,
   "metadata": {},
   "outputs": [],
   "source": [
    "\"\"\"\n",
    "\n",
    "\n",
    "S0 = S[1] .+ S[2]\n",
    "S1 = S[3] .+ S[4]\n",
    "SS = sum(S0 .* S1)\n",
    "ham_aklt = SS/2 + (SS ^ 2)/6 + 1/3 * pfs.sigma(\"id\", 0)\n",
    "ham_aklt = pfs.apply(expand(ham_aklt), hilberts_order=hilberts)\n",
    "\"\"\";"
   ]
  },
  {
   "cell_type": "code",
   "execution_count": 102,
   "metadata": {},
   "outputs": [
    {
     "data": {
      "text/latex": [
       "$\\frac{\\sigma_{0}^{+} \\sigma_{1}^{+} \\sigma_{2}^{-} \\sigma_{3}^{-}}{6} + \\frac{\\sigma_{0}^{+} \\sigma_{1}^{-} \\sigma_{2}^{+} \\sigma_{3}^{-}}{6} + \\frac{\\sigma_{0}^{+} \\sigma_{1}^{-} \\sigma_{2}^{-} \\sigma_{3}^{+}}{6} + \\frac{\\sigma_{0}^{+} \\sigma_{1}^{-} P_{2}^{+} P_{3}^{+}}{4} + \\frac{\\sigma_{0}^{+} \\sigma_{1}^{-} P_{2}^{+} P_{3}^{-}}{6} + \\frac{\\sigma_{0}^{+} \\sigma_{1}^{-} P_{2}^{-} P_{3}^{+}}{6} + \\frac{\\sigma_{0}^{+} \\sigma_{1}^{-} P_{2}^{-} P_{3}^{-}}{4} + \\frac{\\sigma_{0}^{+} P_{1}^{+} \\sigma_{2}^{-} P_{3}^{+}}{4} + \\frac{\\sigma_{0}^{+} P_{1}^{+} \\sigma_{2}^{-} P_{3}^{-}}{6} + \\frac{\\sigma_{0}^{+} P_{1}^{+} P_{2}^{+} \\sigma_{3}^{-}}{4} + \\frac{\\sigma_{0}^{+} P_{1}^{+} P_{2}^{-} \\sigma_{3}^{-}}{6} + \\frac{\\sigma_{0}^{+} P_{1}^{-} \\sigma_{2}^{-} P_{3}^{+}}{6} + \\frac{\\sigma_{0}^{+} P_{1}^{-} \\sigma_{2}^{-} P_{3}^{-}}{4} + \\frac{\\sigma_{0}^{+} P_{1}^{-} P_{2}^{+} \\sigma_{3}^{-}}{6} + \\frac{\\sigma_{0}^{+} P_{1}^{-} P_{2}^{-} \\sigma_{3}^{-}}{4} + \\frac{\\sigma_{0}^{-} \\sigma_{1}^{+} \\sigma_{2}^{+} \\sigma_{3}^{-}}{6} + \\frac{\\sigma_{0}^{-} \\sigma_{1}^{+} \\sigma_{2}^{-} \\sigma_{3}^{+}}{6} + \\frac{\\sigma_{0}^{-} \\sigma_{1}^{+} P_{2}^{+} P_{3}^{+}}{4} + \\frac{\\sigma_{0}^{-} \\sigma_{1}^{+} P_{2}^{+} P_{3}^{-}}{6} + \\frac{\\sigma_{0}^{-} \\sigma_{1}^{+} P_{2}^{-} P_{3}^{+}}{6} + \\frac{\\sigma_{0}^{-} \\sigma_{1}^{+} P_{2}^{-} P_{3}^{-}}{4} + \\frac{\\sigma_{0}^{-} \\sigma_{1}^{-} \\sigma_{2}^{+} \\sigma_{3}^{+}}{6} + \\frac{\\sigma_{0}^{-} P_{1}^{+} \\sigma_{2}^{+} P_{3}^{+}}{4} + \\frac{\\sigma_{0}^{-} P_{1}^{+} \\sigma_{2}^{+} P_{3}^{-}}{6} + \\frac{\\sigma_{0}^{-} P_{1}^{+} P_{2}^{+} \\sigma_{3}^{+}}{4} + \\frac{\\sigma_{0}^{-} P_{1}^{+} P_{2}^{-} \\sigma_{3}^{+}}{6} + \\frac{\\sigma_{0}^{-} P_{1}^{-} \\sigma_{2}^{+} P_{3}^{+}}{6} + \\frac{\\sigma_{0}^{-} P_{1}^{-} \\sigma_{2}^{+} P_{3}^{-}}{4} + \\frac{\\sigma_{0}^{-} P_{1}^{-} P_{2}^{+} \\sigma_{3}^{+}}{6} + \\frac{\\sigma_{0}^{-} P_{1}^{-} P_{2}^{-} \\sigma_{3}^{+}}{4} + \\frac{P_{0}^{+} \\sigma_{1}^{+} \\sigma_{2}^{-} P_{3}^{+}}{4} + \\frac{P_{0}^{+} \\sigma_{1}^{+} \\sigma_{2}^{-} P_{3}^{-}}{6} + \\frac{P_{0}^{+} \\sigma_{1}^{+} P_{2}^{+} \\sigma_{3}^{-}}{4} + \\frac{P_{0}^{+} \\sigma_{1}^{+} P_{2}^{-} \\sigma_{3}^{-}}{6} + \\frac{P_{0}^{+} \\sigma_{1}^{-} \\sigma_{2}^{+} P_{3}^{+}}{4} + \\frac{P_{0}^{+} \\sigma_{1}^{-} \\sigma_{2}^{+} P_{3}^{-}}{6} + \\frac{P_{0}^{+} \\sigma_{1}^{-} P_{2}^{+} \\sigma_{3}^{+}}{4} + \\frac{P_{0}^{+} \\sigma_{1}^{-} P_{2}^{-} \\sigma_{3}^{+}}{6} + \\frac{P_{0}^{+} P_{1}^{+} \\sigma_{2}^{+} \\sigma_{3}^{-}}{4} + \\frac{P_{0}^{+} P_{1}^{+} \\sigma_{2}^{-} \\sigma_{3}^{+}}{4} + P_{0}^{+} P_{1}^{+} P_{2}^{+} P_{3}^{+} + \\frac{P_{0}^{+} P_{1}^{+} P_{2}^{+} P_{3}^{-}}{4} + \\frac{P_{0}^{+} P_{1}^{+} P_{2}^{-} P_{3}^{+}}{4} + \\frac{P_{0}^{+} P_{1}^{+} P_{2}^{-} P_{3}^{-}}{6} + \\frac{P_{0}^{+} P_{1}^{-} \\sigma_{2}^{+} \\sigma_{3}^{-}}{6} + \\frac{P_{0}^{+} P_{1}^{-} \\sigma_{2}^{-} \\sigma_{3}^{+}}{6} + \\frac{P_{0}^{+} P_{1}^{-} P_{2}^{+} P_{3}^{+}}{4} + \\frac{P_{0}^{+} P_{1}^{-} P_{2}^{+} P_{3}^{-}}{6} + \\frac{P_{0}^{+} P_{1}^{-} P_{2}^{-} P_{3}^{+}}{6} + \\frac{P_{0}^{+} P_{1}^{-} P_{2}^{-} P_{3}^{-}}{4} + \\frac{P_{0}^{-} \\sigma_{1}^{+} \\sigma_{2}^{-} P_{3}^{+}}{6} + \\frac{P_{0}^{-} \\sigma_{1}^{+} \\sigma_{2}^{-} P_{3}^{-}}{4} + \\frac{P_{0}^{-} \\sigma_{1}^{+} P_{2}^{+} \\sigma_{3}^{-}}{6} + \\frac{P_{0}^{-} \\sigma_{1}^{+} P_{2}^{-} \\sigma_{3}^{-}}{4} + \\frac{P_{0}^{-} \\sigma_{1}^{-} \\sigma_{2}^{+} P_{3}^{+}}{6} + \\frac{P_{0}^{-} \\sigma_{1}^{-} \\sigma_{2}^{+} P_{3}^{-}}{4} + \\frac{P_{0}^{-} \\sigma_{1}^{-} P_{2}^{+} \\sigma_{3}^{+}}{6} + \\frac{P_{0}^{-} \\sigma_{1}^{-} P_{2}^{-} \\sigma_{3}^{+}}{4} + \\frac{P_{0}^{-} P_{1}^{+} \\sigma_{2}^{+} \\sigma_{3}^{-}}{6} + \\frac{P_{0}^{-} P_{1}^{+} \\sigma_{2}^{-} \\sigma_{3}^{+}}{6} + \\frac{P_{0}^{-} P_{1}^{+} P_{2}^{+} P_{3}^{+}}{4} + \\frac{P_{0}^{-} P_{1}^{+} P_{2}^{+} P_{3}^{-}}{6} + \\frac{P_{0}^{-} P_{1}^{+} P_{2}^{-} P_{3}^{+}}{6} + \\frac{P_{0}^{-} P_{1}^{+} P_{2}^{-} P_{3}^{-}}{4} + \\frac{P_{0}^{-} P_{1}^{-} \\sigma_{2}^{+} \\sigma_{3}^{-}}{4} + \\frac{P_{0}^{-} P_{1}^{-} \\sigma_{2}^{-} \\sigma_{3}^{+}}{4} + \\frac{P_{0}^{-} P_{1}^{-} P_{2}^{+} P_{3}^{+}}{6} + \\frac{P_{0}^{-} P_{1}^{-} P_{2}^{+} P_{3}^{-}}{4} + \\frac{P_{0}^{-} P_{1}^{-} P_{2}^{-} P_{3}^{+}}{4} + P_{0}^{-} P_{1}^{-} P_{2}^{-} P_{3}^{-}$"
      ],
      "text/plain": [
       "sigma(+,0,False)⋅sigma(+,1,False)⋅sigma(-,2,False)⋅sigma(-,3,False)   sigma(+,\n",
       "─────────────────────────────────────────────────────────────────── + ────────\n",
       "                                 6                                            \n",
       "\n",
       "0,False)⋅sigma(-,1,False)⋅sigma(+,2,False)⋅sigma(-,3,False)   sigma(+,0,False)\n",
       "─────────────────────────────────────────────────────────── + ────────────────\n",
       "                         6                                                    \n",
       "\n",
       "⋅sigma(-,1,False)⋅sigma(-,2,False)⋅sigma(+,3,False)   sigma(+,0,False)⋅sigma(-\n",
       "─────────────────────────────────────────────────── + ────────────────────────\n",
       "                 6                                                            \n",
       "\n",
       ",1,False)⋅sigma(P+,2,False)⋅sigma(P+,3,False)   sigma(+,0,False)⋅sigma(-,1,Fal\n",
       "───────────────────────────────────────────── + ──────────────────────────────\n",
       "          4                                                                   \n",
       "\n",
       "se)⋅sigma(P+,2,False)⋅sigma(P-,3,False)   sigma(+,0,False)⋅sigma(-,1,False)⋅si\n",
       "─────────────────────────────────────── + ────────────────────────────────────\n",
       "    6                                                                       6 \n",
       "\n",
       "gma(P-,2,False)⋅sigma(P+,3,False)   sigma(+,0,False)⋅sigma(-,1,False)⋅sigma(P-\n",
       "───────────────────────────────── + ──────────────────────────────────────────\n",
       "                                                                      4       \n",
       "\n",
       ",2,False)⋅sigma(P-,3,False)   sigma(+,0,False)⋅sigma(P+,1,False)⋅sigma(-,2,Fal\n",
       "─────────────────────────── + ────────────────────────────────────────────────\n",
       "                                                                4             \n",
       "\n",
       "se)⋅sigma(P+,3,False)   sigma(+,0,False)⋅sigma(P+,1,False)⋅sigma(-,2,False)⋅si\n",
       "───────────────────── + ──────────────────────────────────────────────────────\n",
       "                                                          6                   \n",
       "\n",
       "gma(P-,3,False)   sigma(+,0,False)⋅sigma(P+,1,False)⋅sigma(P+,2,False)⋅sigma(-\n",
       "─────────────── + ────────────────────────────────────────────────────────────\n",
       "                                                    4                         \n",
       "\n",
       ",3,False)   sigma(+,0,False)⋅sigma(P+,1,False)⋅sigma(P-,2,False)⋅sigma(-,3,Fal\n",
       "───────── + ──────────────────────────────────────────────────────────────────\n",
       "                                              6                               \n",
       "\n",
       "se)   sigma(+,0,False)⋅sigma(P-,1,False)⋅sigma(-,2,False)⋅sigma(P+,3,False)   \n",
       "─── + ───────────────────────────────────────────────────────────────────── + \n",
       "                                        6                                     \n",
       "\n",
       "sigma(+,0,False)⋅sigma(P-,1,False)⋅sigma(-,2,False)⋅sigma(P-,3,False)   sigma(\n",
       "───────────────────────────────────────────────────────────────────── + ──────\n",
       "                                  4                                           \n",
       "\n",
       "+,0,False)⋅sigma(P-,1,False)⋅sigma(P+,2,False)⋅sigma(-,3,False)   sigma(+,0,Fa\n",
       "─────────────────────────────────────────────────────────────── + ────────────\n",
       "                            6                                                 \n",
       "\n",
       "lse)⋅sigma(P-,1,False)⋅sigma(P-,2,False)⋅sigma(-,3,False)   sigma(-,0,False)⋅s\n",
       "───────────────────────────────────────────────────────── + ──────────────────\n",
       "                      4                                                       \n",
       "\n",
       "igma(+,1,False)⋅sigma(+,2,False)⋅sigma(-,3,False)   sigma(-,0,False)⋅sigma(+,1\n",
       "───────────────────────────────────────────────── + ──────────────────────────\n",
       "               6                                                              \n",
       "\n",
       ",False)⋅sigma(-,2,False)⋅sigma(+,3,False)   sigma(-,0,False)⋅sigma(+,1,False)⋅\n",
       "───────────────────────────────────────── + ──────────────────────────────────\n",
       "       6                                                                      \n",
       "\n",
       "sigma(P+,2,False)⋅sigma(P+,3,False)   sigma(-,0,False)⋅sigma(+,1,False)⋅sigma(\n",
       "─────────────────────────────────── + ────────────────────────────────────────\n",
       "4                                                                       6     \n",
       "\n",
       "P+,2,False)⋅sigma(P-,3,False)   sigma(-,0,False)⋅sigma(+,1,False)⋅sigma(P-,2,F\n",
       "───────────────────────────── + ──────────────────────────────────────────────\n",
       "                                                                  6           \n",
       "\n",
       "alse)⋅sigma(P+,3,False)   sigma(-,0,False)⋅sigma(+,1,False)⋅sigma(P-,2,False)⋅\n",
       "─────────────────────── + ────────────────────────────────────────────────────\n",
       "                                                            4                 \n",
       "\n",
       "sigma(P-,3,False)   sigma(-,0,False)⋅sigma(-,1,False)⋅sigma(+,2,False)⋅sigma(+\n",
       "───────────────── + ──────────────────────────────────────────────────────────\n",
       "                                                     6                        \n",
       "\n",
       ",3,False)   sigma(-,0,False)⋅sigma(P+,1,False)⋅sigma(+,2,False)⋅sigma(P+,3,Fal\n",
       "───────── + ──────────────────────────────────────────────────────────────────\n",
       "                                              4                               \n",
       "\n",
       "se)   sigma(-,0,False)⋅sigma(P+,1,False)⋅sigma(+,2,False)⋅sigma(P-,3,False)   \n",
       "─── + ───────────────────────────────────────────────────────────────────── + \n",
       "                                        6                                     \n",
       "\n",
       "sigma(-,0,False)⋅sigma(P+,1,False)⋅sigma(P+,2,False)⋅sigma(+,3,False)   sigma(\n",
       "───────────────────────────────────────────────────────────────────── + ──────\n",
       "                                  4                                           \n",
       "\n",
       "-,0,False)⋅sigma(P+,1,False)⋅sigma(P-,2,False)⋅sigma(+,3,False)   sigma(-,0,Fa\n",
       "─────────────────────────────────────────────────────────────── + ────────────\n",
       "                            6                                                 \n",
       "\n",
       "lse)⋅sigma(P-,1,False)⋅sigma(+,2,False)⋅sigma(P+,3,False)   sigma(-,0,False)⋅s\n",
       "───────────────────────────────────────────────────────── + ──────────────────\n",
       "                      6                                                       \n",
       "\n",
       "igma(P-,1,False)⋅sigma(+,2,False)⋅sigma(P-,3,False)   sigma(-,0,False)⋅sigma(P\n",
       "─────────────────────────────────────────────────── + ────────────────────────\n",
       "                4                                                             \n",
       "\n",
       "-,1,False)⋅sigma(P+,2,False)⋅sigma(+,3,False)   sigma(-,0,False)⋅sigma(P-,1,Fa\n",
       "───────────────────────────────────────────── + ──────────────────────────────\n",
       "          6                                                                   \n",
       "\n",
       "lse)⋅sigma(P-,2,False)⋅sigma(+,3,False)   sigma(P+,0,False)⋅sigma(+,1,False)⋅s\n",
       "─────────────────────────────────────── + ────────────────────────────────────\n",
       "    4                                                                       4 \n",
       "\n",
       "igma(-,2,False)⋅sigma(P+,3,False)   sigma(P+,0,False)⋅sigma(+,1,False)⋅sigma(-\n",
       "───────────────────────────────── + ──────────────────────────────────────────\n",
       "                                                                      6       \n",
       "\n",
       ",2,False)⋅sigma(P-,3,False)   sigma(P+,0,False)⋅sigma(+,1,False)⋅sigma(P+,2,Fa\n",
       "─────────────────────────── + ────────────────────────────────────────────────\n",
       "                                                                4             \n",
       "\n",
       "lse)⋅sigma(-,3,False)   sigma(P+,0,False)⋅sigma(+,1,False)⋅sigma(P-,2,False)⋅s\n",
       "───────────────────── + ──────────────────────────────────────────────────────\n",
       "                                                          6                   \n",
       "\n",
       "igma(-,3,False)   sigma(P+,0,False)⋅sigma(-,1,False)⋅sigma(+,2,False)⋅sigma(P+\n",
       "─────────────── + ────────────────────────────────────────────────────────────\n",
       "                                                    4                         \n",
       "\n",
       ",3,False)   sigma(P+,0,False)⋅sigma(-,1,False)⋅sigma(+,2,False)⋅sigma(P-,3,Fal\n",
       "───────── + ──────────────────────────────────────────────────────────────────\n",
       "                                              6                               \n",
       "\n",
       "se)   sigma(P+,0,False)⋅sigma(-,1,False)⋅sigma(P+,2,False)⋅sigma(+,3,False)   \n",
       "─── + ───────────────────────────────────────────────────────────────────── + \n",
       "                                        4                                     \n",
       "\n",
       "sigma(P+,0,False)⋅sigma(-,1,False)⋅sigma(P-,2,False)⋅sigma(+,3,False)   sigma(\n",
       "───────────────────────────────────────────────────────────────────── + ──────\n",
       "                                  6                                           \n",
       "\n",
       "P+,0,False)⋅sigma(P+,1,False)⋅sigma(+,2,False)⋅sigma(-,3,False)   sigma(P+,0,F\n",
       "─────────────────────────────────────────────────────────────── + ────────────\n",
       "                            4                                                 \n",
       "\n",
       "alse)⋅sigma(P+,1,False)⋅sigma(-,2,False)⋅sigma(+,3,False)                     \n",
       "───────────────────────────────────────────────────────── + sigma(P+,0,False)⋅\n",
       "                      4                                                       \n",
       "\n",
       "                                                        sigma(P+,0,False)⋅sigm\n",
       "sigma(P+,1,False)⋅sigma(P+,2,False)⋅sigma(P+,3,False) + ──────────────────────\n",
       "                                                                              \n",
       "\n",
       "a(P+,1,False)⋅sigma(P+,2,False)⋅sigma(P-,3,False)   sigma(P+,0,False)⋅sigma(P+\n",
       "───────────────────────────────────────────────── + ──────────────────────────\n",
       "             4                                                                \n",
       "\n",
       ",1,False)⋅sigma(P-,2,False)⋅sigma(P+,3,False)   sigma(P+,0,False)⋅sigma(P+,1,F\n",
       "───────────────────────────────────────────── + ──────────────────────────────\n",
       "         4                                                                    \n",
       "\n",
       "alse)⋅sigma(P-,2,False)⋅sigma(P-,3,False)   sigma(P+,0,False)⋅sigma(P-,1,False\n",
       "───────────────────────────────────────── + ──────────────────────────────────\n",
       "     6                                                                        \n",
       "\n",
       ")⋅sigma(+,2,False)⋅sigma(-,3,False)   sigma(P+,0,False)⋅sigma(P-,1,False)⋅sigm\n",
       "─────────────────────────────────── + ────────────────────────────────────────\n",
       "6                                                                       6     \n",
       "\n",
       "a(-,2,False)⋅sigma(+,3,False)   sigma(P+,0,False)⋅sigma(P-,1,False)⋅sigma(P+,2\n",
       "───────────────────────────── + ──────────────────────────────────────────────\n",
       "                                                                   4          \n",
       "\n",
       ",False)⋅sigma(P+,3,False)   sigma(P+,0,False)⋅sigma(P-,1,False)⋅sigma(P+,2,Fal\n",
       "───────────────────────── + ──────────────────────────────────────────────────\n",
       "                                                               6              \n",
       "\n",
       "se)⋅sigma(P-,3,False)   sigma(P+,0,False)⋅sigma(P-,1,False)⋅sigma(P-,2,False)⋅\n",
       "───────────────────── + ──────────────────────────────────────────────────────\n",
       "                                                           6                  \n",
       "\n",
       "sigma(P+,3,False)   sigma(P+,0,False)⋅sigma(P-,1,False)⋅sigma(P-,2,False)⋅sigm\n",
       "───────────────── + ──────────────────────────────────────────────────────────\n",
       "                                                       4                      \n",
       "\n",
       "a(P-,3,False)   sigma(P-,0,False)⋅sigma(+,1,False)⋅sigma(-,2,False)⋅sigma(P+,3\n",
       "───────────── + ──────────────────────────────────────────────────────────────\n",
       "                                                  6                           \n",
       "\n",
       ",False)   sigma(P-,0,False)⋅sigma(+,1,False)⋅sigma(-,2,False)⋅sigma(P-,3,False\n",
       "─────── + ────────────────────────────────────────────────────────────────────\n",
       "                                            4                                 \n",
       "\n",
       ")   sigma(P-,0,False)⋅sigma(+,1,False)⋅sigma(P+,2,False)⋅sigma(-,3,False)   si\n",
       "─ + ───────────────────────────────────────────────────────────────────── + ──\n",
       "                                      6                                       \n",
       "\n",
       "gma(P-,0,False)⋅sigma(+,1,False)⋅sigma(P-,2,False)⋅sigma(-,3,False)   sigma(P-\n",
       "─────────────────────────────────────────────────────────────────── + ────────\n",
       "                                4                                             \n",
       "\n",
       ",0,False)⋅sigma(-,1,False)⋅sigma(+,2,False)⋅sigma(P+,3,False)   sigma(P-,0,Fal\n",
       "───────────────────────────────────────────────────────────── + ──────────────\n",
       "                          6                                                   \n",
       "\n",
       "se)⋅sigma(-,1,False)⋅sigma(+,2,False)⋅sigma(P-,3,False)   sigma(P-,0,False)⋅si\n",
       "─────────────────────────────────────────────────────── + ────────────────────\n",
       "                    4                                                         \n",
       "\n",
       "gma(-,1,False)⋅sigma(P+,2,False)⋅sigma(+,3,False)   sigma(P-,0,False)⋅sigma(-,\n",
       "───────────────────────────────────────────────── + ──────────────────────────\n",
       "              6                                                               \n",
       "\n",
       "1,False)⋅sigma(P-,2,False)⋅sigma(+,3,False)   sigma(P-,0,False)⋅sigma(P+,1,Fal\n",
       "─────────────────────────────────────────── + ────────────────────────────────\n",
       "        4                                                                     \n",
       "\n",
       "se)⋅sigma(+,2,False)⋅sigma(-,3,False)   sigma(P-,0,False)⋅sigma(P+,1,False)⋅si\n",
       "───────────────────────────────────── + ──────────────────────────────────────\n",
       "  6                                                                       6   \n",
       "\n",
       "gma(-,2,False)⋅sigma(+,3,False)   sigma(P-,0,False)⋅sigma(P+,1,False)⋅sigma(P+\n",
       "─────────────────────────────── + ────────────────────────────────────────────\n",
       "                                                                     4        \n",
       "\n",
       ",2,False)⋅sigma(P+,3,False)   sigma(P-,0,False)⋅sigma(P+,1,False)⋅sigma(P+,2,F\n",
       "─────────────────────────── + ────────────────────────────────────────────────\n",
       "                                                                 6            \n",
       "\n",
       "alse)⋅sigma(P-,3,False)   sigma(P-,0,False)⋅sigma(P+,1,False)⋅sigma(P-,2,False\n",
       "─────────────────────── + ────────────────────────────────────────────────────\n",
       "                                                             6                \n",
       "\n",
       ")⋅sigma(P+,3,False)   sigma(P-,0,False)⋅sigma(P+,1,False)⋅sigma(P-,2,False)⋅si\n",
       "─────────────────── + ────────────────────────────────────────────────────────\n",
       "                                                         4                    \n",
       "\n",
       "gma(P-,3,False)   sigma(P-,0,False)⋅sigma(P-,1,False)⋅sigma(+,2,False)⋅sigma(-\n",
       "─────────────── + ────────────────────────────────────────────────────────────\n",
       "                                                    4                         \n",
       "\n",
       ",3,False)   sigma(P-,0,False)⋅sigma(P-,1,False)⋅sigma(-,2,False)⋅sigma(+,3,Fal\n",
       "───────── + ──────────────────────────────────────────────────────────────────\n",
       "                                              4                               \n",
       "\n",
       "se)   sigma(P-,0,False)⋅sigma(P-,1,False)⋅sigma(P+,2,False)⋅sigma(P+,3,False) \n",
       "─── + ─────────────────────────────────────────────────────────────────────── \n",
       "                                         6                                    \n",
       "\n",
       "  sigma(P-,0,False)⋅sigma(P-,1,False)⋅sigma(P+,2,False)⋅sigma(P-,3,False)   si\n",
       "+ ─────────────────────────────────────────────────────────────────────── + ──\n",
       "                                     4                                        \n",
       "\n",
       "gma(P-,0,False)⋅sigma(P-,1,False)⋅sigma(P-,2,False)⋅sigma(P+,3,False)         \n",
       "───────────────────────────────────────────────────────────────────── + sigma(\n",
       "                                 4                                            \n",
       "\n",
       "                                                                 \n",
       "P-,0,False)⋅sigma(P-,1,False)⋅sigma(P-,2,False)⋅sigma(P-,3,False)\n",
       "                                                                 "
      ]
     },
     "execution_count": 102,
     "metadata": {},
     "output_type": "execute_result"
    }
   ],
   "source": [
    "ham_aklt = 0\n",
    "for i in -2:2\n",
    "    state = pfs.KetSpinOne.from_spin2(stot=2, sz=i, n1=0, n2=2)\n",
    "    state = subs(state, spin_trans)\n",
    "    ham_aklt += pfs.projector(state)\n",
    "end\n",
    "ham_aklt"
   ]
  },
  {
   "cell_type": "code",
   "execution_count": 103,
   "metadata": {},
   "outputs": [
    {
     "data": {
      "text/latex": [
       "$- \\frac{\\sigma_{0}^{+} \\sigma_{1}^{-}}{2} - \\frac{\\sigma_{0}^{-} \\sigma_{1}^{+}}{2} + \\frac{P_{0}^{+} P_{1}^{-}}{2} + \\frac{P_{0}^{-} P_{1}^{+}}{2}$"
      ],
      "text/plain": [
       "  sigma(+,0,False)⋅sigma(-,1,False)   sigma(-,0,False)⋅sigma(+,1,False)   sigm\n",
       "- ───────────────────────────────── - ───────────────────────────────── + ────\n",
       "                  2                                   2                       \n",
       "\n",
       "a(P+,0,False)⋅sigma(P-,1,False)   sigma(P-,0,False)⋅sigma(P+,1,False)\n",
       "─────────────────────────────── + ───────────────────────────────────\n",
       "             2                                     2                 "
      ]
     },
     "execution_count": 103,
     "metadata": {},
     "output_type": "execute_result"
    }
   ],
   "source": [
    "singlet = pfs.KetSpinHalf.from_spin1(stot=0, sz=0, n1=0, n2=1)\n",
    "ham_spin1 = pfs.projector(singlet)"
   ]
  },
  {
   "cell_type": "code",
   "execution_count": 104,
   "metadata": {},
   "outputs": [
    {
     "data": {
      "text/latex": [
       "$\\frac{\\sigma_{0}^{+} \\sigma_{1}^{-} \\sigma_{2}^{-} \\sigma_{3}^{+}}{6} + \\frac{\\sigma_{0}^{+} P_{1}^{+} \\sigma_{2}^{-} P_{3}^{+}}{2} + \\frac{\\sigma_{0}^{+} P_{1}^{+} P_{2}^{+} \\sigma_{3}^{+}}{3} + \\frac{\\sigma_{0}^{-} \\sigma_{1}^{+} \\sigma_{2}^{+} \\sigma_{3}^{-}}{6} + \\frac{\\sigma_{0}^{-} P_{1}^{+} \\sigma_{2}^{+} P_{3}^{+}}{2} + \\frac{\\sigma_{0}^{-} P_{1}^{+} P_{2}^{+} \\sigma_{3}^{-}}{3} + \\frac{P_{0}^{+} \\sigma_{1}^{+} \\sigma_{2}^{+} P_{3}^{+}}{3} + \\frac{P_{0}^{+} \\sigma_{1}^{+} P_{2}^{+} \\sigma_{3}^{-}}{2} + \\frac{P_{0}^{+} \\sigma_{1}^{-} \\sigma_{2}^{-} P_{3}^{+}}{3} + \\frac{P_{0}^{+} \\sigma_{1}^{-} P_{2}^{+} \\sigma_{3}^{+}}{2} + \\frac{2 P_{0}^{+} P_{1}^{+} P_{2}^{+} P_{3}^{+}}{3} + \\frac{P_{0}^{+} P_{1}^{+} P_{2}^{+} P_{3}^{-}}{2} + \\frac{P_{0}^{+} P_{1}^{+} P_{2}^{-} P_{3}^{+}}{2} + \\frac{P_{0}^{+} P_{1}^{-} P_{2}^{+} P_{3}^{+}}{2} + P_{0}^{+} P_{1}^{-} P_{2}^{+} P_{3}^{-} + \\frac{P_{0}^{+} P_{1}^{-} P_{2}^{-} P_{3}^{+}}{6} + \\frac{P_{0}^{-} P_{1}^{+} P_{2}^{+} P_{3}^{+}}{2} + \\frac{P_{0}^{-} P_{1}^{+} P_{2}^{+} P_{3}^{-}}{6} + P_{0}^{-} P_{1}^{+} P_{2}^{-} P_{3}^{+}$"
      ],
      "text/plain": [
       "sigma(+,0,False)⋅sigma(-,1,False)⋅sigma(-,2,False)⋅sigma(+,3,False)   sigma(+,\n",
       "─────────────────────────────────────────────────────────────────── + ────────\n",
       "                                 6                                            \n",
       "\n",
       "0,False)⋅sigma(P+,1,False)⋅sigma(-,2,False)⋅sigma(P+,3,False)   sigma(+,0,Fals\n",
       "───────────────────────────────────────────────────────────── + ──────────────\n",
       "                          2                                                   \n",
       "\n",
       "e)⋅sigma(P+,1,False)⋅sigma(P+,2,False)⋅sigma(+,3,False)   sigma(-,0,False)⋅sig\n",
       "─────────────────────────────────────────────────────── + ────────────────────\n",
       "                    3                                                         \n",
       "\n",
       "ma(+,1,False)⋅sigma(+,2,False)⋅sigma(-,3,False)   sigma(-,0,False)⋅sigma(P+,1,\n",
       "─────────────────────────────────────────────── + ────────────────────────────\n",
       "             6                                                                \n",
       "\n",
       "False)⋅sigma(+,2,False)⋅sigma(P+,3,False)   sigma(-,0,False)⋅sigma(P+,1,False)\n",
       "───────────────────────────────────────── + ──────────────────────────────────\n",
       "      2                                                                       \n",
       "\n",
       "⋅sigma(P+,2,False)⋅sigma(-,3,False)   sigma(P+,0,False)⋅sigma(+,1,False)⋅sigma\n",
       "─────────────────────────────────── + ────────────────────────────────────────\n",
       "3                                                                       3     \n",
       "\n",
       "(+,2,False)⋅sigma(P+,3,False)   sigma(P+,0,False)⋅sigma(+,1,False)⋅sigma(P+,2,\n",
       "───────────────────────────── + ──────────────────────────────────────────────\n",
       "                                                                  2           \n",
       "\n",
       "False)⋅sigma(-,3,False)   sigma(P+,0,False)⋅sigma(-,1,False)⋅sigma(-,2,False)⋅\n",
       "─────────────────────── + ────────────────────────────────────────────────────\n",
       "                                                            3                 \n",
       "\n",
       "sigma(P+,3,False)   sigma(P+,0,False)⋅sigma(-,1,False)⋅sigma(P+,2,False)⋅sigma\n",
       "───────────────── + ──────────────────────────────────────────────────────────\n",
       "                                                      2                       \n",
       "\n",
       "(+,3,False)   2⋅sigma(P+,0,False)⋅sigma(P+,1,False)⋅sigma(P+,2,False)⋅sigma(P+\n",
       "─────────── + ────────────────────────────────────────────────────────────────\n",
       "                                                  3                           \n",
       "\n",
       ",3,False)   sigma(P+,0,False)⋅sigma(P+,1,False)⋅sigma(P+,2,False)⋅sigma(P-,3,F\n",
       "───────── + ──────────────────────────────────────────────────────────────────\n",
       "                                               2                              \n",
       "\n",
       "alse)   sigma(P+,0,False)⋅sigma(P+,1,False)⋅sigma(P-,2,False)⋅sigma(P+,3,False\n",
       "───── + ──────────────────────────────────────────────────────────────────────\n",
       "                                           2                                  \n",
       "\n",
       ")   sigma(P+,0,False)⋅sigma(P-,1,False)⋅sigma(P+,2,False)⋅sigma(P+,3,False)   \n",
       "─ + ─────────────────────────────────────────────────────────────────────── + \n",
       "                                       2                                      \n",
       "\n",
       "                                                                          sigm\n",
       "sigma(P+,0,False)⋅sigma(P-,1,False)⋅sigma(P+,2,False)⋅sigma(P-,3,False) + ────\n",
       "                                                                              \n",
       "\n",
       "a(P+,0,False)⋅sigma(P-,1,False)⋅sigma(P-,2,False)⋅sigma(P+,3,False)   sigma(P-\n",
       "─────────────────────────────────────────────────────────────────── + ────────\n",
       "                               6                                              \n",
       "\n",
       ",0,False)⋅sigma(P+,1,False)⋅sigma(P+,2,False)⋅sigma(P+,3,False)   sigma(P-,0,F\n",
       "─────────────────────────────────────────────────────────────── + ────────────\n",
       "                           2                                                  \n",
       "\n",
       "alse)⋅sigma(P+,1,False)⋅sigma(P+,2,False)⋅sigma(P-,3,False)                   \n",
       "─────────────────────────────────────────────────────────── + sigma(P-,0,False\n",
       "                       6                                                      \n",
       "\n",
       "                                                       \n",
       ")⋅sigma(P+,1,False)⋅sigma(P-,2,False)⋅sigma(P+,3,False)\n",
       "                                                       "
      ]
     },
     "execution_count": 104,
     "metadata": {},
     "output_type": "execute_result"
    }
   ],
   "source": [
    "ham_aklt_girvin = 0\n",
    "for i in -2:2\n",
    "    state = pfs.KetSpinOne.from_spin2(stot=2, sz=i, n1=0, n2=2)\n",
    "    state = subs(state, spin_trans_girvin)\n",
    "    ham_aklt_girvin += pfs.projector(state)\n",
    "end\n",
    "ham_aklt_girvin"
   ]
  },
  {
   "cell_type": "code",
   "execution_count": 105,
   "metadata": {},
   "outputs": [
    {
     "data": {
      "text/latex": [
       "$P_{0}^{-} P_{1}^{-}$"
      ],
      "text/plain": [
       "sigma(P-,0,False)⋅sigma(P-,1,False)"
      ]
     },
     "execution_count": 105,
     "metadata": {},
     "output_type": "execute_result"
    }
   ],
   "source": [
    "singlet = pfs.KetSpinHalf(\"-1/2\", 0) * pfs.KetSpinHalf(\"-1/2\", 1)\n",
    "ham_spin1_girvin = pfs.projector(singlet)"
   ]
  },
  {
   "cell_type": "code",
   "execution_count": 106,
   "metadata": {},
   "outputs": [
    {
     "data": {
      "text/plain": [
       "H_aklt_tot_girvin (generic function with 1 method)"
      ]
     },
     "execution_count": 106,
     "metadata": {},
     "output_type": "execute_result"
    }
   ],
   "source": [
    "function H_aklt_tot(hilbert_state)\n",
    "    N_state = length(hilbert_state)\n",
    "    op1 = mVQE.pyflexmps.convert_sympy_to_opsum(ham_aklt, Vector(1:2:N_state-2))\n",
    "    op2 = mVQE.pyflexmps.convert_sympy_to_opsum(ham_spin1, Vector(1:2:N_state))\n",
    "    return MPO(op1 + op2, hilbert_state), MPO(op1, hilbert_state), MPO(op2, hilbert_state)\n",
    "end\n",
    "\n",
    "function H_aklt_tot_girvin(hilbert_state)\n",
    "    N_state = length(hilbert_state)\n",
    "    op1 = mVQE.pyflexmps.convert_sympy_to_opsum(ham_aklt_girvin, Vector(1:2:N_state-2))\n",
    "    op2 = mVQE.pyflexmps.convert_sympy_to_opsum(ham_spin1_girvin, Vector(1:2:N_state))\n",
    "    return MPO(op1 + op2, hilbert_state), MPO(op1, hilbert_state), MPO(op2, hilbert_state)\n",
    "end"
   ]
  },
  {
   "attachments": {
    "image.png": {
     "image/png": "[encoded data removed]"
    }
   },
   "cell_type": "markdown",
   "metadata": {},
   "source": [
    "## Gates\n",
    "![image.png](attachment:image.png)"
   ]
  },
  {
   "cell_type": "code",
   "execution_count": 601,
   "metadata": {},
   "outputs": [
    {
     "data": {
      "text/plain": [
       "bell_gate (generic function with 1 method)"
      ]
     },
     "execution_count": 601,
     "metadata": {},
     "output_type": "execute_result"
    }
   ],
   "source": [
    "singlet_gate(i1, i2)=[(\"X\", i1), (\"X\", i2), (\"H\", i2), (\"CX\", (i2, i1))]\n",
    "\n",
    "\n",
    "θ_1 = 2 * atan(-1 / sqrt(2))\n",
    "θ_2 = 2 * atan(sqrt(2))\n",
    "\n",
    "U_gate_L(c_in, i1, i2) =[(\"CX\", (c_in, i1)), (\"CRy\", (i1, c_in), (θ = θ_1,)), (\"X\", i1),(\"CRy\", (i1, i2), (θ = θ_2,)), (\"X\", i1),\n",
    "                        (\"CX\", (c_in, i1)), (\"CX\", (i1, i2)), (\"CX\", (i2, i1))]\n",
    "\n",
    "U_gate_R(c_in, i1, i2) =[(\"CX\", (c_in, i1)), (\"CRy\", (i1, c_in), (θ = θ_1,)), (\"X\", i1),(\"CRy\", (i1, i2), (θ = θ_2,)), (\"X\", i1),\n",
    "                        (\"CX\", (c_in, i1)), (\"CX\", (i1, i2)), (\"CX\", (i2, i1)), (\"SWAP\", c_in, i1)]\n",
    "\n",
    "\n",
    "U_gate2(c_in, i1, i2) = [(\"CX\", (c_in, i1)), (\"CRy\", (i1, c_in), (θ = θ_1,)), (\"CRy\", (i1, i2), (θ = θ_2,)),\n",
    "                        (\"CX\", (c_in, i1)), (\"CX\", (i1, i2)), (\"CX\", (i2, i1))]\n",
    "\n",
    "U_gate_L_(i0, i1, i2) = U_gate_L(i2, i1, i0)\n",
    "#U_gate_R(i3, i4, i5) = U_gate_R(i3, i4, i5)\n",
    "\n",
    "U2_gate(i0, i1, i2, i3, i4, i5) = vcat(U_gate_L_(i0, i1, i2), U_gate_R(i3, i4, i5))\n",
    "    \n",
    "bell_gate(i0, i1) = [(\"CX\", (i1, i0)), (\"H\", i1)]"
   ]
  },
  {
   "cell_type": "markdown",
   "metadata": {},
   "source": [
    "### Understanding U"
   ]
  },
  {
   "cell_type": "code",
   "execution_count": 372,
   "metadata": {},
   "outputs": [
    {
     "data": {
      "text/latex": [
       "$S_{0}^{+}$"
      ],
      "text/plain": [
       "Spin1(+,0,False)"
      ]
     },
     "execution_count": 372,
     "metadata": {},
     "output_type": "execute_result"
    }
   ],
   "source": [
    "pfs.Spin1(\"+\", 0)"
   ]
  },
  {
   "cell_type": "code",
   "execution_count": 373,
   "metadata": {},
   "outputs": [
    {
     "data": {
      "text/latex": [
       "$\\frac{\\sqrt{2} \\left({\\left|\\downarrow_0\\right\\rangle } {\\left|0_1\\right\\rangle } {\\left|\\uparrow_2\\right\\rangle } {\\left|0_3\\right\\rangle } - {\\left|\\uparrow_0\\right\\rangle } {\\left|0_1\\right\\rangle } {\\left|\\downarrow_2\\right\\rangle } {\\left|0_3\\right\\rangle }\\right)}{2}$"
      ],
      "text/plain": [
       "√2⋅(❘-1/20⟩⋅❘01⟩⋅❘1/22⟩⋅❘03⟩ - ❘1/20⟩⋅❘01⟩⋅❘-1/22⟩⋅❘03⟩)\n",
       "────────────────────────────────────────────────────────\n",
       "                           2                            "
      ]
     },
     "execution_count": 373,
     "metadata": {},
     "output_type": "execute_result"
    }
   ],
   "source": [
    "Utot = (pfs.sigma(\"+\", 0) * pfs.Spin1(\"+\", 1) - pfs.sigma(\"-\", 0) * pfs.Spin1(\"-\", 1)  - pfs.sigma(\"z\", 0)*pfs.Spin1(\"id\", 1)) / sympy.sqrt(2)\n",
    "Utot += (pfs.sigma(\"+\", 2) * pfs.Spin1(\"+\", 3) - pfs.sigma(\"-\", 2) * pfs.Spin1(\"-\", 3)  - pfs.sigma(\"z\", 2)*pfs.Spin1(\"id\", 3)) / sympy.sqrt(2)\n",
    "ψ_0 = (pfs.KetSpinHalf(\"-1/2\", 0) * pfs.KetSpinOne(\"0\", 1) * pfs.KetSpinHalf(\"1/2\", 2) * pfs.KetSpinOne(\"0\", 3) - pfs.KetSpinHalf(\"1/2\", 0) * pfs.KetSpinOne(\"0\", 1) * pfs.KetSpinHalf(\"-1/2\", 2) * pfs.KetSpinOne(\"0\", 3))/sympy.sqrt(2)"
   ]
  },
  {
   "cell_type": "code",
   "execution_count": 374,
   "metadata": {},
   "outputs": [
    {
     "data": {
      "text/latex": [
       "$\\frac{\\sqrt{2} {\\left|\\downarrow_0\\right\\rangle } {\\left|-_1\\right\\rangle } {\\left|\\downarrow_2\\right\\rangle } {\\left|0_3\\right\\rangle }}{2} - \\frac{\\sqrt{2} {\\left|\\downarrow_0\\right\\rangle } {\\left|0_1\\right\\rangle } {\\left|\\downarrow_2\\right\\rangle } {\\left|-_3\\right\\rangle }}{2} - \\frac{\\sqrt{2} {\\left|\\uparrow_0\\right\\rangle } {\\left|0_1\\right\\rangle } {\\left|\\uparrow_2\\right\\rangle } {\\left|+_3\\right\\rangle }}{2} + \\frac{\\sqrt{2} {\\left|\\uparrow_0\\right\\rangle } {\\left|+_1\\right\\rangle } {\\left|\\uparrow_2\\right\\rangle } {\\left|0_3\\right\\rangle }}{2}$"
      ],
      "text/plain": [
       "√2⋅❘-1/20⟩⋅❘-11⟩⋅❘-1/22⟩⋅❘03⟩   √2⋅❘-1/20⟩⋅❘01⟩⋅❘-1/22⟩⋅❘-13⟩   √2⋅❘1/20⟩⋅❘01⟩\n",
       "───────────────────────────── - ───────────────────────────── - ──────────────\n",
       "              2                               2                             2 \n",
       "\n",
       "⋅❘1/22⟩⋅❘13⟩   √2⋅❘1/20⟩⋅❘11⟩⋅❘1/22⟩⋅❘03⟩\n",
       "──────────── + ──────────────────────────\n",
       "                           2             "
      ]
     },
     "execution_count": 374,
     "metadata": {},
     "output_type": "execute_result"
    }
   ],
   "source": [
    "pfs.apply(Utot * ψ_0)"
   ]
  },
  {
   "cell_type": "code",
   "execution_count": 375,
   "metadata": {},
   "outputs": [
    {
     "data": {
      "text/latex": [
       "$\\frac{\\sqrt{3} {\\left|-_1\\right\\rangle } {\\left|+_3\\right\\rangle }}{3} - \\frac{\\sqrt{3} {\\left|0_1\\right\\rangle } {\\left|0_3\\right\\rangle }}{3} + \\frac{\\sqrt{3} {\\left|+_1\\right\\rangle } {\\left|-_3\\right\\rangle }}{3}$"
      ],
      "text/plain": [
       "√3⋅❘-11⟩⋅❘13⟩   √3⋅❘01⟩⋅❘03⟩   √3⋅❘11⟩⋅❘-13⟩\n",
       "───────────── - ──────────── + ─────────────\n",
       "      3              3               3      "
      ]
     },
     "execution_count": 375,
     "metadata": {},
     "output_type": "execute_result"
    }
   ],
   "source": [
    "pfs.KetSpinOne.from_spin2(stot=0, sz=0, n1=1, n2=3)"
   ]
  },
  {
   "cell_type": "code",
   "execution_count": 376,
   "metadata": {},
   "outputs": [
    {
     "data": {
      "text/latex": [
       "$\\frac{1}{2}$"
      ],
      "text/plain": [
       "1/2"
      ]
     },
     "execution_count": 376,
     "metadata": {},
     "output_type": "execute_result"
    }
   ],
   "source": [
    "ss = pfs.BraSpinOne(\"-1\", 1) * pfs.BraSpinOne(\"0\", 3)\n",
    "s = 0\n",
    "for i in -1:1:1\n",
    "    s += pfs.apply(ss * pfs.KetSpinOne.from_spin2(stot=1, sz=i, n1=1, n2=3)) ^2\n",
    "end\n",
    "s += pfs.apply(ss * pfs.KetSpinOne.from_spin2(stot=0, sz=0, n1=1, n2=3)) ^2\n",
    "1-s"
   ]
  },
  {
   "cell_type": "markdown",
   "metadata": {},
   "source": [
    "#### Construct U from A"
   ]
  },
  {
   "cell_type": "code",
   "execution_count": 377,
   "metadata": {},
   "outputs": [],
   "source": [
    "using Einsum\n",
    "A = zeros((2, 3, 2))\n",
    "A[1, 1, 2] = sqrt(2/3) \n",
    "\n",
    "A[1, 2, 1] = -sqrt(1/3) \n",
    "A[2, 2, 2] = sqrt(1/3) \n",
    "\n",
    "A[2, 3, 1] = -sqrt(2/3);\n",
    "\n",
    "P = zeros((2, 3, 2))\n",
    "P[1, 1, 1] = 1\n",
    "\n",
    "P[1, 2, 2] = sqrt(1/2) \n",
    "P[2, 2, 1] = sqrt(1/2) \n",
    "\n",
    "P[2, 3, 2] = 1;\n",
    "\n",
    "\n",
    "P_girvin = zeros((2, 3, 2))\n",
    "P_girvin[2, 1, 1] = 1\n",
    "P_girvin[1, 2, 1] = 1\n",
    "P_girvin[1, 3, 2] = 1;"
   ]
  },
  {
   "cell_type": "code",
   "execution_count": 378,
   "metadata": {},
   "outputs": [
    {
     "data": {
      "text/plain": [
       "2×2 Matrix{Float64}:\n",
       "  0.0       0.707107\n",
       " -0.707107  0.0"
      ]
     },
     "execution_count": 378,
     "metadata": {},
     "output_type": "execute_result"
    }
   ],
   "source": [
    "∑ = zeros(2, 2)\n",
    "∑[1, 2] = 1 / sqrt(2)\n",
    "∑[2, 1] = -1 / sqrt(2)\n",
    "∑"
   ]
  },
  {
   "cell_type": "code",
   "execution_count": 379,
   "metadata": {},
   "outputs": [
    {
     "name": "stdout",
     "output_type": "stream",
     "text": [
      "[ 1, 1, 2] : 0.70711\n",
      "[ 1, 2, 1] : -0.50000\n",
      "[ 2, 2, 2] : 0.50000\n",
      "[ 2, 3, 1] : -0.70711\n"
     ]
    }
   ],
   "source": [
    "@einsum A_2[i, j, k] := P[i, j, α] * ∑[α, k];\n",
    "print_non_zero(A_2)"
   ]
  },
  {
   "cell_type": "code",
   "execution_count": 380,
   "metadata": {},
   "outputs": [
    {
     "data": {
      "text/plain": [
       "1"
      ]
     },
     "execution_count": 380,
     "metadata": {},
     "output_type": "execute_result"
    }
   ],
   "source": [
    "s = zeros(3)\n",
    "s[2] = 1"
   ]
  },
  {
   "cell_type": "code",
   "execution_count": 522,
   "metadata": {},
   "outputs": [
    {
     "name": "stdout",
     "output_type": "stream",
     "text": [
      "[1, 1, 2, 2] =>  0.81650\n",
      "[2, 1, 2, 1] => -0.57735\n",
      "[2, 2, 2, 2] =>  0.57735\n",
      "[3, 2, 2, 1] => -0.81650\n"
     ]
    }
   ],
   "source": [
    "@einsum U[s1_i, h_i, s1_j, h_j] := A[h_i, s1_i, h_j] * s[s1_j];\n",
    "print_non_zero(U)"
   ]
  },
  {
   "cell_type": "code",
   "execution_count": 524,
   "metadata": {},
   "outputs": [
    {
     "name": "stdout",
     "output_type": "stream",
     "text": [
      "[1, 1, 1, 1, 1, 1] => -0.57735\n",
      "[1, 2, 1, 2, 1, 1] =>  0.81650\n",
      "[2, 1, 1, 2, 1, 1] =>  0.57735\n",
      "[2, 1, 2, 1, 1, 1] => -0.81650\n"
     ]
    }
   ],
   "source": [
    "# Convert spin1 - 2Xspinhalf\n",
    "@einsum U_half_crafted[hc_i, h1_i, h2_i, hc_j, h1_j, h2_j] := U[s1_i, hc_i, s1_j, hc_j] * P_girvin[h1_i, s1_i, h2_i] * P_girvin[h1_j, s1_j, h2_j]\n",
    "print_non_zero(U_half_crafted)"
   ]
  },
  {
   "cell_type": "code",
   "execution_count": 525,
   "metadata": {},
   "outputs": [],
   "source": [
    "@einsum U_half_crafted_swap[h1_i, h2_i, hc_i, hc_j, h1_j, h2_j] := U[s1_i, hc_i, s1_j, hc_j] * P_girvin[h1_i, s1_i, h2_i] * P_girvin[h1_j, s1_j, h2_j];"
   ]
  },
  {
   "cell_type": "code",
   "execution_count": 526,
   "metadata": {},
   "outputs": [],
   "source": [
    "@einsum U_half_crafted_swap_right[h2_i, h1_i, hc_i, hc_j, h1_j, h2_j] := U[s1_i, hc_i, s1_j, hc_j] * P_girvin[h1_i, s1_i, h2_i] * P_girvin[h1_j, s1_j, h2_j];"
   ]
  },
  {
   "cell_type": "markdown",
   "metadata": {},
   "source": [
    "#### Construct U directly as an operator"
   ]
  },
  {
   "cell_type": "code",
   "execution_count": 383,
   "metadata": {},
   "outputs": [
    {
     "data": {
      "text/latex": [
       "${\\left|\\uparrow_1\\right\\rangle } {\\left|\\downarrow_2\\right\\rangle }$"
      ],
      "text/plain": [
       "❘1/21⟩⋅❘-1/22⟩"
      ]
     },
     "execution_count": 383,
     "metadata": {},
     "output_type": "execute_result"
    }
   ],
   "source": [
    "Splus = pfs.sigma(\"P+\", 1) * pfs.sigma(\"+\", 2) + pfs.sigma(\"-\", 1) * pfs.sigma(\"P+\", 2)\n",
    "Sminus = Splus.adjoint()\n",
    "up_state = pfs.KetSpinHalf(\"-1/2\", 1) * pfs.KetSpinHalf(\"1/2\", 2)\n",
    "zero_state = pfs.KetSpinHalf(\"1/2\", 1) * pfs.KetSpinHalf(\"1/2\", 2)\n",
    "down_state = pfs.KetSpinHalf(\"1/2\", 1) * pfs.KetSpinHalf(\"-1/2\", 2)"
   ]
  },
  {
   "cell_type": "code",
   "execution_count": 384,
   "metadata": {},
   "outputs": [
    {
     "data": {
      "text/plain": [
       "(0, 0, 0, 0, 0)"
      ]
     },
     "execution_count": 384,
     "metadata": {},
     "output_type": "execute_result"
    }
   ],
   "source": [
    "pfs.apply(Splus * zero_state)- up_state, pfs.apply(Splus * down_state)- zero_state, pfs.apply(Sminus * down_state), pfs.apply(Sminus * up_state - zero_state), pfs.apply(Sminus * zero_state - down_state) "
   ]
  },
  {
   "cell_type": "code",
   "execution_count": 528,
   "metadata": {},
   "outputs": [
    {
     "data": {
      "text/latex": [
       "$0.707106781186547 \\sigma_{0}^{+} \\sigma_{1}^{-} P_{2}^{+} + 0.707106781186547 \\sigma_{0}^{+} P_{1}^{+} \\sigma_{2}^{+} - 0.707106781186547 \\sigma_{0}^{-} \\sigma_{1}^{+} P_{2}^{+} - 0.707106781186547 \\sigma_{0}^{-} P_{1}^{+} \\sigma_{2}^{-} - 0.707106781186547 \\sigma_{0}^{z} i_{1} i_{2}$"
      ],
      "text/plain": [
       "0.707106781186547⋅sigma(+,0,False)⋅sigma(-,1,False)⋅sigma(P+,2,False) + 0.7071\n",
       "06781186547⋅sigma(+,0,False)⋅sigma(P+,1,False)⋅sigma(+,2,False) - 0.7071067811\n",
       "86547⋅sigma(-,0,False)⋅sigma(+,1,False)⋅sigma(P+,2,False) - 0.707106781186547⋅\n",
       "sigma(-,0,False)⋅sigma(P+,1,False)⋅sigma(-,2,False) - 0.707106781186547⋅sigma(\n",
       "z,0,False)⋅sigma(id,1,False)⋅sigma(id,2,False)"
      ]
     },
     "execution_count": 528,
     "metadata": {},
     "output_type": "execute_result"
    }
   ],
   "source": [
    "U_sym = (pfs.sigma(\"+\", 0) * Splus - pfs.sigma(\"-\", 0) * Sminus - pfs.sigma(\"z\", 0)) / sqrt(2)\n",
    "U_sym = pfs.insert_identity(U_sym, hilberts[1:3])\n",
    "#U_sym = pfs.KetSpinHalf(\"-1/2\", 0)*pfs.KetSpinHalf(\"1/2\", 1)*pfs.KetSpinHalf(\"1/2\", 2)\n",
    "#U_sym = pfs.projector(U_sym)\n",
    "#U_sym = pfs.quantum_operators.mirror(U_sym)"
   ]
  },
  {
   "cell_type": "code",
   "execution_count": 529,
   "metadata": {},
   "outputs": [
    {
     "data": {
      "text/latex": [
       "$- 0.707106781186547 {\\left|\\downarrow_0\\right\\rangle } {\\left|\\uparrow_1\\right\\rangle } {\\left|\\downarrow_2\\right\\rangle } - 0.707106781186547 {\\left|\\uparrow_0\\right\\rangle } {\\left|\\uparrow_1\\right\\rangle } {\\left|\\uparrow_2\\right\\rangle }$"
      ],
      "text/plain": [
       "-0.707106781186547⋅❘-1/20⟩⋅❘1/21⟩⋅❘-1/22⟩ - 0.707106781186547⋅❘1/20⟩⋅❘1/21⟩⋅❘1\n",
       "/22⟩"
      ]
     },
     "execution_count": 529,
     "metadata": {},
     "output_type": "execute_result"
    }
   ],
   "source": [
    "pfs.apply(U_sym * pfs.KetSpinHalf(\"1/2\", 0) * zero_state)"
   ]
  },
  {
   "cell_type": "code",
   "execution_count": 560,
   "metadata": {},
   "outputs": [
    {
     "data": {
      "text/plain": [
       "U2_gate_2 (generic function with 1 method)"
      ]
     },
     "execution_count": 560,
     "metadata": {},
     "output_type": "execute_result"
    }
   ],
   "source": [
    "Um_ = pfs.matrix_form_subspace(U_sym, [0, 1, 2], reshape=false)\n",
    "Um = permutedims(Um_, (3, 2, 1, 6, 5, 4))\n",
    "ITensors.op(::OpName\"U_aklt\", ::SiteType\"Qubit\") = Array(reshape(Um, 8, 8))\n",
    "        \n",
    "U_aklt_sw = permutedims(U_half_crafted_swap, (3, 2, 1, 6, 5, 4))\n",
    "ITensors.op(::OpName\"U_aklt_sw\", ::SiteType\"Qubit\") = Array(reshape(U_aklt_sw, 8, 8))\n",
    "        \n",
    "U_aklt_sw_right = permutedims(U_half_crafted_swap_right, (3, 2, 1, 6, 5, 4))\n",
    "ITensors.op(::OpName\"U_aklt_sw_R\", ::SiteType\"Qubit\") = Array(reshape(U_aklt_sw_right, 8, 8))\n",
    "    \n",
    "U2_gate_2(i0, i1, i2, i3, i4, i5) = [(\"U_aklt_sw\", (i2, i1, i0)), (\"U_aklt_sw_R\", (i3, i4, i5))]"
   ]
  },
  {
   "cell_type": "code",
   "execution_count": 534,
   "metadata": {},
   "outputs": [],
   "source": [
    "hilbert_ = qubits(3);"
   ]
  },
  {
   "cell_type": "markdown",
   "metadata": {},
   "source": [
    "000"
   ]
  },
  {
   "cell_type": "code",
   "execution_count": 535,
   "metadata": {},
   "outputs": [
    {
     "name": "stdout",
     "output_type": "stream",
     "text": [
      "[1, 1, 1, 1, 1, 1] => -0.57735\n",
      "[1, 2, 2, 1, 1, 1] => -0.81650\n"
     ]
    }
   ],
   "source": [
    "gate = (\"U_aklt_sw\", (1, 2, 3))\n",
    "ψ_1 = runcircuit(ψ, gate)\n",
    "t = contract(ψ_1[1:end]).tensor\n",
    "print_non_zero(t)"
   ]
  },
  {
   "cell_type": "code",
   "execution_count": 536,
   "metadata": {},
   "outputs": [
    {
     "name": "stdout",
     "output_type": "stream",
     "text": [
      "[1, 1, 1] =>  0.57735\n",
      "[1, 2, 2] =>  0.81650\n"
     ]
    }
   ],
   "source": [
    "gate = U_gate2(1, 2, 3)\n",
    "ψ = productstate(hilbert_, [0, 0, 0]);\n",
    "ψ_2 = runcircuit(ψ, gate)\n",
    "t = contract(ψ_2[1:end]).tensor\n",
    "print_non_zero(t)"
   ]
  },
  {
   "cell_type": "code",
   "execution_count": 537,
   "metadata": {},
   "outputs": [
    {
     "name": "stdout",
     "output_type": "stream",
     "text": [
      "[1, 1, 1] => -0.57735\n",
      "[1, 2, 2] => -0.81650\n"
     ]
    }
   ],
   "source": [
    "print_non_zero(U_half_crafted_swap[:, :, :, 1, 1, 1])"
   ]
  },
  {
   "cell_type": "markdown",
   "metadata": {},
   "source": [
    "100"
   ]
  },
  {
   "cell_type": "code",
   "execution_count": 538,
   "metadata": {},
   "outputs": [
    {
     "name": "stdout",
     "output_type": "stream",
     "text": [
      "[1, 1, 2] =>  0.57735\n",
      "[2, 1, 1] =>  0.81650\n"
     ]
    }
   ],
   "source": [
    "gate = (\"U_aklt_sw\", (1, 2, 3))\n",
    "ψ2 = productstate(hilbert_, [1, 0, 0]);\n",
    "ψ_1 = runcircuit(ψ2, gate)\n",
    "t = contract(ψ_1[1:end]).tensor\n",
    "print_non_zero(t)"
   ]
  },
  {
   "cell_type": "code",
   "execution_count": 439,
   "metadata": {},
   "outputs": [
    {
     "name": "stdout",
     "output_type": "stream",
     "text": [
      "[ 1, 1, 2] : 0.57735\n",
      "[ 2, 1, 1] : 0.81650\n"
     ]
    }
   ],
   "source": [
    "gate = U_gate2(1, 2, 3)\n",
    "ψ = productstate(hilbert_, [1, 0, 0]);\n",
    "ψ_2 = runcircuit(ψ, gate)\n",
    "t = contract(ψ_2[1:end]).tensor\n",
    "print_non_zero(t)"
   ]
  },
  {
   "cell_type": "code",
   "execution_count": 440,
   "metadata": {},
   "outputs": [
    {
     "name": "stdout",
     "output_type": "stream",
     "text": [
      "[ 1, 1, 2] : 0.57735\n",
      "[ 2, 1, 1] : 0.81650\n"
     ]
    }
   ],
   "source": [
    "print_non_zero(U_half_crafted_swap[:, :, :, 2, 1, 1])"
   ]
  },
  {
   "cell_type": "markdown",
   "metadata": {},
   "source": [
    "## Rotate into girvin frame of reference"
   ]
  },
  {
   "cell_type": "code",
   "execution_count": 441,
   "metadata": {},
   "outputs": [],
   "source": [
    "girvin_rot = zeros(2, 2, 2, 2)\n",
    "girvin_rot[2, 1, 1, 1] = 1\n",
    "\n",
    "girvin_rot[1, 1, 1, 2] = 1/sqrt(2)\n",
    "girvin_rot[1, 1, 2, 1] = 1/sqrt(2)\n",
    "\n",
    "girvin_rot[1, 2, 2, 2] = 1\n",
    "\n",
    "\n",
    "girvin_rot[2, 2, 1, 2] = 1/sqrt(2)\n",
    "girvin_rot[2, 2, 2, 1] = -1/sqrt(2)\n",
    "\n",
    "\n",
    "girvin_rot = reshape(girvin_rot, (4,4))\n",
    "\n",
    "ITensors.op(::OpName\"girvin_rot\", ::SiteType\"Qubit\") =  Array(transpose(girvin_rot))\n",
    "ITensors.op(::OpName\"girvin_rot_T\", ::SiteType\"Qubit\") = girvin_rot"
   ]
  },
  {
   "cell_type": "code",
   "execution_count": 442,
   "metadata": {},
   "outputs": [],
   "source": [
    "girvin_kill = zeros(2, 2, 2, 2)\n",
    "girvin_kill[2, 2, 2, 2] = 1\n",
    "\n",
    "girvin_kill = reshape(girvin_kill, (4,4))\n",
    "\n",
    "ITensors.op(::OpName\"girvin_kill\", ::SiteType\"Qubit\") =  Array(transpose(girvin_kill))"
   ]
  },
  {
   "cell_type": "markdown",
   "metadata": {},
   "source": [
    "### Aklt half state construction"
   ]
  },
  {
   "cell_type": "code",
   "execution_count": 156,
   "metadata": {},
   "outputs": [],
   "source": [
    "using Einsum"
   ]
  },
  {
   "cell_type": "code",
   "execution_count": 157,
   "metadata": {},
   "outputs": [
    {
     "data": {
      "text/plain": [
       "2×2 Matrix{Float64}:\n",
       "  0.0       0.707107\n",
       " -0.707107  0.0"
      ]
     },
     "execution_count": 157,
     "metadata": {},
     "output_type": "execute_result"
    }
   ],
   "source": [
    "∑ = zeros(2, 2)\n",
    "∑[1, 2] = 1 / sqrt(2)\n",
    "∑[2, 1] = -1 / sqrt(2)\n",
    "∑"
   ]
  },
  {
   "cell_type": "code",
   "execution_count": 158,
   "metadata": {},
   "outputs": [],
   "source": [
    "M = zeros(2, 2, 3)\n",
    "M[1, 1, 1] = 1\n",
    "\n",
    "M[1, 2, 2] = 1 / sqrt(2)\n",
    "M[2, 1, 2] = 1 / sqrt(2)\n",
    "\n",
    "M[2, 2, 3] = 1\n",
    "M;"
   ]
  },
  {
   "cell_type": "markdown",
   "metadata": {},
   "source": [
    "## 4 body AKLT"
   ]
  },
  {
   "cell_type": "code",
   "execution_count": 443,
   "metadata": {},
   "outputs": [
    {
     "data": {
      "text/plain": [
       "norm_ (generic function with 1 method)"
      ]
     },
     "execution_count": 443,
     "metadata": {},
     "output_type": "execute_result"
    }
   ],
   "source": [
    "function norm_(ψ)\n",
    "    n = norm(ψ)\n",
    "    return ψ/n\n",
    "end"
   ]
  },
  {
   "cell_type": "code",
   "execution_count": 444,
   "metadata": {},
   "outputs": [
    {
     "data": {
      "text/plain": [
       "([2, 3, 4, 5], [1, 6], 6)"
      ]
     },
     "execution_count": 444,
     "metadata": {},
     "output_type": "execute_result"
    }
   ],
   "source": [
    "N_state = 4\n",
    "state_indices, ancilla_indices, N = get_ancillas_indices(N_state, [false, true, true, true, true, false])\n",
    "hilbert = qubits(N)\n",
    "\n",
    "hilbert_state = hilbert[state_indices]\n",
    "hilbert_ancilla = hilbert[ancilla_indices]\n",
    "\n",
    "ψ = productstate(hilbert, fill(0, N))\n",
    "state_indices, ancilla_indices, N"
   ]
  },
  {
   "cell_type": "code",
   "execution_count": 445,
   "metadata": {},
   "outputs": [],
   "source": [
    "H, H_aklt, H_spin1 = H_aklt_tot_girvin(hilbert_state);"
   ]
  },
  {
   "cell_type": "markdown",
   "metadata": {},
   "source": [
    "### Theory"
   ]
  },
  {
   "cell_type": "code",
   "execution_count": 446,
   "metadata": {},
   "outputs": [],
   "source": [
    "aklts = mVQE.StateFactory.AKLT_halfs(hilbert[state_indices], basis=\"girvin\");"
   ]
  },
  {
   "cell_type": "code",
   "execution_count": 447,
   "metadata": {},
   "outputs": [],
   "source": [
    "aklts2 = mVQE.StateFactory.AKLT_halfs(hilbert[state_indices]);"
   ]
  },
  {
   "cell_type": "code",
   "execution_count": 448,
   "metadata": {},
   "outputs": [
    {
     "data": {
      "text/plain": [
       "4-element Vector{Float64}:\n",
       " 1.0000000000000004\n",
       " 4.1505799198966917e-35\n",
       " 4.108650548026101e-34\n",
       " 0.03999999999999998"
      ]
     },
     "execution_count": 448,
     "metadata": {},
     "output_type": "execute_result"
    }
   ],
   "source": [
    "gates_girvin_rot = [(\"girvin_rot\", i, i+1) for i in 1:2:N_state]\n",
    "one_aklt_rot = runcircuit(aklts[4], gates_girvin_rot)\n",
    "[inner(aklt, one_aklt_rot)^2 for aklt in aklts2]"
   ]
  },
  {
   "cell_type": "code",
   "execution_count": 449,
   "metadata": {},
   "outputs": [
    {
     "data": {
      "text/plain": [
       "MPS\n",
       "[1] ((dim=2|id=929|\"Qubit,Site,n=2\"), (dim=1|id=110|\"Link,n=1\"))\n",
       "[2] ((dim=1|id=110|\"Link,n=1\"), (dim=2|id=652|\"Qubit,Site,n=3\"), (dim=2|id=188|\"Link,n=2\"))\n",
       "[3] ((dim=2|id=858|\"Qubit,Site,n=4\"), (dim=2|id=188|\"Link,n=2\"), (dim=1|id=920|\"Link,n=1\"))\n",
       "[4] ((dim=1|id=920|\"Link,n=1\"), (dim=2|id=102|\"Qubit,Site,n=5\"))\n"
      ]
     },
     "execution_count": 449,
     "metadata": {},
     "output_type": "execute_result"
    }
   ],
   "source": [
    "gates_girvin_rot = [(\"girvin_kill\", i, i+1) for i in 1:2:N_state]\n",
    "one_aklt_rot = runcircuit(aklts[4], gates_girvin_rot)"
   ]
  },
  {
   "cell_type": "code",
   "execution_count": 450,
   "metadata": {},
   "outputs": [
    {
     "data": {
      "text/plain": [
       "0.0"
      ]
     },
     "execution_count": 450,
     "metadata": {},
     "output_type": "execute_result"
    }
   ],
   "source": [
    "inner(aklts[4], one_aklt_rot)"
   ]
  },
  {
   "cell_type": "code",
   "execution_count": 451,
   "metadata": {},
   "outputs": [
    {
     "data": {
      "text/plain": [
       "4-element Vector{Float64}:\n",
       " -1.4456736846207887e-16\n",
       " -1.0289892457876184e-16\n",
       " -1.8343182262917545e-16\n",
       " -6.633914702911159e-17"
      ]
     },
     "execution_count": 451,
     "metadata": {},
     "output_type": "execute_result"
    }
   ],
   "source": [
    "[inner(aklt, H_aklt, aklt) for aklt in aklts]"
   ]
  },
  {
   "cell_type": "code",
   "execution_count": 452,
   "metadata": {},
   "outputs": [
    {
     "data": {
      "text/plain": [
       "4-element Vector{Float64}:\n",
       " -1.4341817372594356e-17\n",
       "  2.4836958235360675e-33\n",
       "  8.67911612700002e-34\n",
       "  0.0"
      ]
     },
     "execution_count": 452,
     "metadata": {},
     "output_type": "execute_result"
    }
   ],
   "source": [
    "[inner(aklt, H_spin1, aklt) for aklt in aklts]"
   ]
  },
  {
   "cell_type": "code",
   "execution_count": 453,
   "metadata": {},
   "outputs": [
    {
     "data": {
      "text/plain": [
       "4-element Vector{Vector{Float64}}:\n",
       " [0.9999999999999996, 2.465190328815661e-34, 1.8454582378989077e-33, 0.03999999999999992]\n",
       " [2.465190328815661e-34, 1.0, 0.0, 0.0]\n",
       " [1.8454582378989077e-33, 0.0, 1.0000000000000004, 6.162975822039153e-35]\n",
       " [0.03999999999999992, 0.0, 6.162975822039153e-35, 1.0]"
      ]
     },
     "execution_count": 453,
     "metadata": {},
     "output_type": "execute_result"
    }
   ],
   "source": [
    "[[inner(aklt, aklt2)^2 for aklt in aklts] for aklt2 in aklts]"
   ]
  },
  {
   "cell_type": "markdown",
   "metadata": {},
   "source": [
    "### DMRG"
   ]
  },
  {
   "cell_type": "code",
   "execution_count": 454,
   "metadata": {},
   "outputs": [
    {
     "name": "stdout",
     "output_type": "stream",
     "text": [
      "Ground state energy from DMRG: 1.1818418745782947e-17\n"
     ]
    },
    {
     "data": {
      "text/plain": [
       "MPS\n",
       "[1] ((dim=2|id=636|\"Link,l=1\"), (dim=2|id=929|\"Qubit,Site,n=2\"))\n",
       "[2] ((dim=3|id=635|\"Link,l=2\"), (dim=2|id=652|\"Qubit,Site,n=3\"), (dim=2|id=636|\"Link,l=1\"))\n",
       "[3] ((dim=2|id=858|\"Qubit,Site,n=4\"), (dim=2|id=256|\"Link,l=3\"), (dim=3|id=635|\"Link,l=2\"))\n",
       "[4] ((dim=2|id=102|\"Qubit,Site,n=5\"), (dim=2|id=256|\"Link,l=3\"))\n"
      ]
     },
     "execution_count": 454,
     "metadata": {},
     "output_type": "execute_result"
    }
   ],
   "source": [
    "maxdim_ = 10\n",
    "nsweeps = 100\n",
    "start_mps = randomMPS(hilbert_state, linkdims=maxdim_)\n",
    "Edmrg, Φ = dmrg(H, start_mps; outputlevel=0, nsweeps, maxdim=maxdim_)\n",
    "println(\"Ground state energy from DMRG: $Edmrg\")\n",
    "Φ"
   ]
  },
  {
   "cell_type": "code",
   "execution_count": 455,
   "metadata": {},
   "outputs": [
    {
     "data": {
      "text/plain": [
       "-1.035323499589805e-17"
      ]
     },
     "execution_count": 455,
     "metadata": {},
     "output_type": "execute_result"
    }
   ],
   "source": [
    "inner(Φ, H_spin1, Φ)"
   ]
  },
  {
   "cell_type": "code",
   "execution_count": 456,
   "metadata": {},
   "outputs": [
    {
     "data": {
      "text/plain": [
       "-8.059034901249607e-17"
      ]
     },
     "execution_count": 456,
     "metadata": {},
     "output_type": "execute_result"
    }
   ],
   "source": [
    "inner(Φ, H_aklt, Φ)"
   ]
  },
  {
   "cell_type": "code",
   "execution_count": 457,
   "metadata": {},
   "outputs": [
    {
     "data": {
      "text/plain": [
       "4-element Vector{Float64}:\n",
       " 0.06013290579795169\n",
       " 0.010798907688186626\n",
       " 0.38361435250201287\n",
       " 0.5970201319099254"
      ]
     },
     "execution_count": 457,
     "metadata": {},
     "output_type": "execute_result"
    }
   ],
   "source": [
    "[inner(aklt, Φ)^2 for aklt in aklts]"
   ]
  },
  {
   "cell_type": "code",
   "execution_count": 458,
   "metadata": {},
   "outputs": [
    {
     "data": {
      "text/plain": [
       "1.0515662978980767"
      ]
     },
     "execution_count": 458,
     "metadata": {},
     "output_type": "execute_result"
    }
   ],
   "source": [
    "sum([inner(aklt, Φ)^2 for aklt in aklts])"
   ]
  },
  {
   "cell_type": "markdown",
   "metadata": {},
   "source": [
    "### With gates"
   ]
  },
  {
   "cell_type": "code",
   "execution_count": 604,
   "metadata": {},
   "outputs": [
    {
     "name": "stdout",
     "output_type": "stream",
     "text": [
      "0.2222222222222225\n",
      "8.713852901040922e-18 1.7166979703698093e-17\n"
     ]
    }
   ],
   "source": [
    "gates = vcat(singlet_gate(3, 4), U2_gate(1, 2, 3, 4, 5, 6))\n",
    "ψ = productstate(hilbert, fill(0, N))\n",
    "ψ2 = runcircuit(ψ, gates)\n",
    "ψ3 = mVQE.ITensorsExtension.reduce_MPS(ψ2, [1,6], [2, 2])\n",
    "\n",
    "println(norm(ψ3)^2)\n",
    "ψ3 = norm_(ψ3)\n",
    "\n",
    "println(inner(ψ3, H_aklt, ψ3),\" \", inner(ψ3, H_spin1, ψ3))"
   ]
  },
  {
   "cell_type": "code",
   "execution_count": 592,
   "metadata": {},
   "outputs": [
    {
     "name": "stdout",
     "output_type": "stream",
     "text": [
      "0.9999999999999999\n",
      "0.22222222222222232\n",
      "-5.1499021275194155e-17 2.21262257243707e-17\n"
     ]
    }
   ],
   "source": [
    "gates = vcat(singlet_gate(3, 4), U2_gate_2(1, 2, 3, 4, 5, 6))\n",
    "ψ2 = runcircuit(ψ, gates)\n",
    "println(norm(ψ2))\n",
    "ψ3 = mVQE.ITensorsExtension.reduce_MPS(ψ2, [1, 6], [2, 2])\n",
    "\n",
    "println(norm(ψ3)^2)\n",
    "ψ3 = norm_(ψ3)\n",
    "\n",
    "println(inner(ψ3, H_aklt, ψ3),\" \", inner(ψ3, H_spin1, ψ3))"
   ]
  },
  {
   "cell_type": "code",
   "execution_count": 593,
   "metadata": {},
   "outputs": [
    {
     "name": "stdout",
     "output_type": "stream",
     "text": [
      "[1, 1, 2, 1] => -0.70711\n",
      "[2, 1, 1, 1] =>  0.70711\n"
     ]
    }
   ],
   "source": [
    "print_non_zero(contract(ψ3[1:end]).tensor)"
   ]
  },
  {
   "cell_type": "code",
   "execution_count": 594,
   "metadata": {},
   "outputs": [
    {
     "name": "stdout",
     "output_type": "stream",
     "text": [
      "[1, 1, 1, 1] =>  0.44721\n",
      "[2, 1, 1, 2] => -0.89443\n"
     ]
    }
   ],
   "source": [
    "print_non_zero(contract(aklts[1][:]).tensor)"
   ]
  },
  {
   "cell_type": "code",
   "execution_count": 595,
   "metadata": {},
   "outputs": [
    {
     "data": {
      "text/plain": [
       "0.9999999999999998"
      ]
     },
     "execution_count": 595,
     "metadata": {},
     "output_type": "execute_result"
    }
   ],
   "source": [
    "sum([inner(aklt, ψ3)^2 for aklt in aklts])"
   ]
  },
  {
   "cell_type": "code",
   "execution_count": 596,
   "metadata": {},
   "outputs": [
    {
     "data": {
      "text/plain": [
       "4-element Vector{Float64}:\n",
       " 4.0834767383804695e-32\n",
       " 0.9999999999999998\n",
       " 4.9935350946256196e-64\n",
       " 2.328934133412633e-33"
      ]
     },
     "execution_count": 596,
     "metadata": {},
     "output_type": "execute_result"
    }
   ],
   "source": [
    "[inner(aklt, ψ3)^2 for aklt in aklts]"
   ]
  },
  {
   "cell_type": "markdown",
   "metadata": {},
   "source": [
    "## 8 body AKLT"
   ]
  },
  {
   "cell_type": "code",
   "execution_count": 605,
   "metadata": {},
   "outputs": [
    {
     "data": {
      "text/plain": [
       "([2, 3, 4, 5, 8, 9, 10, 11], [1, 6, 7, 12], 12)"
      ]
     },
     "execution_count": 605,
     "metadata": {},
     "output_type": "execute_result"
    }
   ],
   "source": [
    "N_state = 8\n",
    "state_indices, ancilla_indices, N = get_ancillas_indices(N_state, [false, true, true, true, true, false])\n",
    "hilbert = qubits(N)\n",
    "\n",
    "hilbert_state = hilbert[state_indices]\n",
    "hilbert_ancilla = hilbert[ancilla_indices]\n",
    "\n",
    "H = hamiltonian_ghz(state_indices, hilbert)\n",
    "ψ = productstate(hilbert, fill(0, N))\n",
    "state_indices, ancilla_indices, N"
   ]
  },
  {
   "cell_type": "code",
   "execution_count": 606,
   "metadata": {},
   "outputs": [],
   "source": [
    "H_8, H_aklt_8, H_spin1_8 = H_aklt_tot_girvin(hilbert_state);"
   ]
  },
  {
   "cell_type": "markdown",
   "metadata": {},
   "source": [
    "### Theory"
   ]
  },
  {
   "cell_type": "code",
   "execution_count": 607,
   "metadata": {},
   "outputs": [
    {
     "data": {
      "text/plain": [
       "4-element Vector{Float64}:\n",
       " -2.300229684433203e-16\n",
       " -2.2604608407546864e-16\n",
       " -1.1391664085135525e-16\n",
       " -3.4277540885151127e-16"
      ]
     },
     "execution_count": 607,
     "metadata": {},
     "output_type": "execute_result"
    }
   ],
   "source": [
    "aklts = mVQE.StateFactory.AKLT_halfs(hilbert[state_indices], basis=\"girvin\")\n",
    "[inner(aklt, H_aklt_8, aklt) for aklt in aklts]"
   ]
  },
  {
   "cell_type": "code",
   "execution_count": 608,
   "metadata": {},
   "outputs": [
    {
     "data": {
      "text/plain": [
       "4-element Vector{Float64}:\n",
       "  1.1030603225852904e-17\n",
       " -7.904698986219084e-18\n",
       " -2.0563437429092842e-17\n",
       " -1.5209349424606859e-18"
      ]
     },
     "execution_count": 608,
     "metadata": {},
     "output_type": "execute_result"
    }
   ],
   "source": [
    "[inner(aklt, H_spin1_8, aklt) for aklt in aklts]"
   ]
  },
  {
   "cell_type": "code",
   "execution_count": 609,
   "metadata": {},
   "outputs": [
    {
     "name": "stdout",
     "output_type": "stream",
     "text": [
      "Ground state energy from DMRG: -6.953588049289108e-16\n"
     ]
    },
    {
     "data": {
      "text/plain": [
       "0.9993416114014706"
      ]
     },
     "execution_count": 609,
     "metadata": {},
     "output_type": "execute_result"
    }
   ],
   "source": [
    "maxdim_ = 4\n",
    "nsweeps = 10\n",
    "start_mps = randomMPS(hilbert_state, linkdims=maxdim_)\n",
    "Edmrg, Φ = dmrg(H_8, start_mps; outputlevel=0, nsweeps, maxdim=maxdim_)\n",
    "println(\"Ground state energy from DMRG: $Edmrg\")\n",
    "sum([inner(Φ, aklt)^2 for aklt in aklts])"
   ]
  },
  {
   "cell_type": "markdown",
   "metadata": {},
   "source": [
    "### Gates"
   ]
  },
  {
   "cell_type": "code",
   "execution_count": 610,
   "metadata": {},
   "outputs": [],
   "source": [
    "gates = vcat(singlet_gate(3, 4), singlet_gate(9, 10))\n",
    "gates = vcat(gates, U2_gate(1, 2, 3, 4, 5, 6))\n",
    "gates = vcat(gates, U2_gate(7, 8, 9, 10, 11, 12));\n",
    "gates = vcat(gates, bell_gate(7, 6));"
   ]
  },
  {
   "cell_type": "code",
   "execution_count": 611,
   "metadata": {},
   "outputs": [],
   "source": [
    "ψ2 = runcircuit(ψ, gates);"
   ]
  },
  {
   "cell_type": "code",
   "execution_count": 637,
   "metadata": {},
   "outputs": [
    {
     "name": "stdout",
     "output_type": "stream",
     "text": [
      "-3.583441369784768e-16\n",
      "-1.8676482051465933e-17\n"
     ]
    },
    {
     "data": {
      "text/plain": [
       "4-element Vector{Int64}:\n",
       " 2\n",
       " 2\n",
       " 2\n",
       " 1"
      ]
     },
     "execution_count": 637,
     "metadata": {},
     "output_type": "execute_result"
    }
   ],
   "source": [
    "ψp, measurement = mVQE.ITensorsExtension.projective_measurement_sample(ψ2; indices=[1, 6, 7, 12], remove_measured=true)\n",
    "println(inner(ψp, H_aklt_8, ψp))\n",
    "println(inner(ψp, H_spin1_8, ψp))\n",
    "measurement"
   ]
  },
  {
   "cell_type": "code",
   "execution_count": 642,
   "metadata": {},
   "outputs": [
    {
     "name": "stdout",
     "output_type": "stream",
     "text": [
      "-7.59026859103271e-16\n"
     ]
    }
   ],
   "source": [
    "ψp2 = mVQE.ITensorsExtension.reduce_MPS(ψ2, [1,6,7,12], [1, 2, 2, 1])\n",
    "ψp2 = norm_(ψp2)\n",
    "println(inner(ψp2, H_8, ψp2))"
   ]
  },
  {
   "cell_type": "code",
   "execution_count": 644,
   "metadata": {},
   "outputs": [
    {
     "name": "stdout",
     "output_type": "stream",
     "text": [
      "Permutation: [1, 1, 1, 1] Result: 0.7642276422764215 6.456288048864156e-18\n",
      "Permutation: [1, 1, 1, 2] Result: 0.7166666666666652 6.876739111567368e-18\n",
      "Permutation: [1, 1, 2, 1] Result: 0.7666666666666655 -1.7515091768099328e-18\n",
      "Permutation: [1, 1, 2, 2] Result: 0.715447154471544 -1.4689416956319626e-17\n",
      "Permutation: [1, 2, 1, 1] Result: 0.7642276422764218 9.257724535411378e-18\n",
      "Permutation: [1, 2, 1, 2] Result: 0.7166666666666658 1.2814517455992566e-17\n",
      "Permutation: [1, 2, 2, 1] Result: -7.59026859103271e-16 -8.077251211911513e-18\n",
      "Permutation: [1, 2, 2, 2] Result: -6.752891893480285e-16 1.8087090984463291e-19\n",
      "Permutation: [2, 1, 1, 1] Result: 0.7166666666666653 -1.2149063113749495e-17\n",
      "Permutation: [2, 1, 1, 2] Result: 0.7642276422764216 -4.158567803973588e-18\n",
      "Permutation: [2, 1, 2, 1] Result: 0.7154471544715434 -2.5125755429604024e-17\n",
      "Permutation: [2, 1, 2, 2] Result: 0.7666666666666659 -2.051740318155101e-17\n",
      "Permutation: [2, 2, 1, 1] Result: 0.7166666666666652 -1.3810138380678518e-17\n",
      "Permutation: [2, 2, 1, 2] Result: 0.7642276422764216 -2.0443804467166762e-17\n",
      "Permutation: [2, 2, 2, 1] Result: -5.279427709361505e-16 -4.9804332196444625e-18\n",
      "Permutation: [2, 2, 2, 2] Result: -6.367803192180421e-16 -1.2186863772747027e-17\n"
     ]
    }
   ],
   "source": [
    "# Function to go through all permutations of the last array with values 1 or 2\n",
    "function permute_array_and_evaluate(ψ2, H_aklt_8)\n",
    "    for a in 1:2\n",
    "        for b in 1:2\n",
    "            for c in 1:2\n",
    "                for d in 1:2\n",
    "                    permuted_array = [a, b, c, d]\n",
    "                    ψp2 = mVQE.ITensorsExtension.reduce_MPS(ψ2, [1, 6, 7, 12], permuted_array)\n",
    "\n",
    "                    ψp2= norm_(ψp2)\n",
    "                    result = inner(ψp2, H_8, ψp2)\n",
    "                    result2 = inner(ψp2, H_spin1_8, ψp2)\n",
    "                    println(\"Permutation: \", permuted_array, \" Result: \", result, \" \", result2)\n",
    "\n",
    "                end\n",
    "            end\n",
    "        end\n",
    "    end\n",
    "end\n",
    "\n",
    "# Call the function with your inputs\n",
    "permute_array_and_evaluate(ψ2, H_aklt_8)\n"
   ]
  },
  {
   "cell_type": "code",
   "execution_count": null,
   "metadata": {},
   "outputs": [],
   "source": []
  },
  {
   "cell_type": "markdown",
   "metadata": {},
   "source": [
    "## Testing AKLT trace"
   ]
  },
  {
   "cell_type": "code",
   "execution_count": 2422,
   "metadata": {},
   "outputs": [],
   "source": [
    "N = 100 * 10\n",
    "Nm = Int(N/2)\n",
    "hilbert_a = qubits(N);\n",
    "aklts = mVQE.StateFactory.AKLT_halfs(hilbert_a, basis=\"girvin\")\n",
    "aklt = aklts[1] + aklts[4];\n",
    "aklt = norm_(aklt);"
   ]
  },
  {
   "cell_type": "code",
   "execution_count": 2423,
   "metadata": {},
   "outputs": [],
   "source": [
    "ρ_aklt = outer(aklt, aklt');"
   ]
  },
  {
   "cell_type": "code",
   "execution_count": 2424,
   "metadata": {},
   "outputs": [
    {
     "data": {
      "text/plain": [
       "1.000000000000222"
      ]
     },
     "execution_count": 2424,
     "metadata": {},
     "output_type": "execute_result"
    }
   ],
   "source": [
    "tr(ρ_aklt)"
   ]
  },
  {
   "cell_type": "code",
   "execution_count": 2425,
   "metadata": {},
   "outputs": [],
   "source": [
    "Nr = 6\n",
    "tr_sites = vcat(Vector(1:Nm), Vector(Nm+Nr+1:N));"
   ]
  },
  {
   "cell_type": "code",
   "execution_count": 2426,
   "metadata": {},
   "outputs": [
    {
     "data": {
      "text/plain": [
       "Dim 1: (dim=16|id=587|\"Link,n=500\")\n",
       "Dim 2: (dim=16|id=157|\"Link,n=506\")\n",
       "NDTensors.Dense{Float64, Vector{Float64}}\n",
       " 16×16\n",
       "  0.25000000000007294   -0.12265147365102967    …  -0.2797258304006583\n",
       " -0.12679064569795168    0.06220423816005941        0.1418664746195398\n",
       "  0.020905620088080504  -0.010256420445563562      -0.023391367756709164\n",
       "  0.21586810978106075   -0.1059061671156063        -0.24153554506204006\n",
       " -0.08499150623601096    0.04169733395065755        0.09509727863545574\n",
       " -0.08708193753606197    0.04272291186872713    …   0.09743626916066449\n",
       "  0.04754585157227059   -0.023326275045321546      -0.05319921125262346\n",
       "  0.06586822708534386   -0.03231534047518287       -0.073700178073846\n",
       "  0.0777849311173438    -0.03816174571753303       -0.08703381779780253\n",
       " -0.014440777891263738   0.007084730756120773       0.016157834349056183\n",
       " -0.04401630134388003    0.021594656897972384   …   0.049249985778315505\n",
       " -0.014252606251092408   0.0069924126402554155      0.01594728847583713\n",
       "  0.0732872594336072    -0.035955161477498554      -0.08200135801139322\n",
       "  0.08195933380460418   -0.040209732282353514      -0.09170457083028355\n",
       " -0.13008340154865125    0.06381968358990427        0.14555075007811266\n",
       " -0.25607097800813594    0.12562993124779648    …   0.2865186678592543"
      ]
     },
     "execution_count": 2426,
     "metadata": {},
     "output_type": "execute_result"
    }
   ],
   "source": [
    "tr_op = tr(MPO(ρ_aklt[tr_sites]))\n",
    "tr_op.tensor"
   ]
  },
  {
   "cell_type": "code",
   "execution_count": 2427,
   "metadata": {},
   "outputs": [
    {
     "data": {
      "text/plain": [
       "ITensor ord=12 (dim=2|id=782|\"Qubit,Site,n=501\") (dim=2|id=782|\"Qubit,Site,n=501\")' (dim=2|id=676|\"Qubit,Site,n=502\") (dim=2|id=676|\"Qubit,Site,n=502\")' (dim=2|id=855|\"Qubit,Site,n=503\") (dim=2|id=855|\"Qubit,Site,n=503\")' (dim=2|id=161|\"Qubit,Site,n=504\") (dim=2|id=161|\"Qubit,Site,n=504\")' (dim=2|id=192|\"Qubit,Site,n=505\") (dim=2|id=192|\"Qubit,Site,n=505\")' (dim=2|id=585|\"Qubit,Site,n=506\") (dim=2|id=585|\"Qubit,Site,n=506\")'\n",
       "NDTensors.Dense{Float64, Vector{Float64}}"
      ]
     },
     "execution_count": 2427,
     "metadata": {},
     "output_type": "execute_result"
    }
   ],
   "source": [
    "ρ_aklt_reduced2 = contract(vcat(ρ_aklt[Nm+1:Nm+Nr],tr_op))"
   ]
  },
  {
   "cell_type": "code",
   "execution_count": 2428,
   "metadata": {},
   "outputs": [],
   "source": [
    "ρ_aklt_reduced_T = Array(reshape(ρ_aklt_reduced2.tensor.storage, tuple(fill(2, Nr*2)...)));"
   ]
  },
  {
   "cell_type": "code",
   "execution_count": 2429,
   "metadata": {},
   "outputs": [],
   "source": [
    "ρ_aklt_reduced_T_trans = permutedims(ρ_aklt_reduced_T, vcat(1:2:Nr*2, 2:2:Nr*2))\n",
    "ρ_aklt_reduced_T_trans_R = reshape(ρ_aklt_reduced_T_trans, (2^Nr, 2^Nr));"
   ]
  },
  {
   "cell_type": "code",
   "execution_count": 2430,
   "metadata": {},
   "outputs": [
    {
     "data": {
      "text/plain": [
       "1.0000000000002216"
      ]
     },
     "execution_count": 2430,
     "metadata": {},
     "output_type": "execute_result"
    }
   ],
   "source": [
    "tr(ρ_aklt_reduced_T_trans_R)"
   ]
  },
  {
   "cell_type": "code",
   "execution_count": 2431,
   "metadata": {},
   "outputs": [
    {
     "data": {
      "text/plain": [
       "4.298602560608003e-14"
      ]
     },
     "execution_count": 2431,
     "metadata": {},
     "output_type": "execute_result"
    }
   ],
   "source": [
    "sum(abs.(ρ_aklt_reduced_T_trans_R - transpose(ρ_aklt_reduced_T_trans_R)))"
   ]
  },
  {
   "cell_type": "code",
   "execution_count": 2432,
   "metadata": {
    "scrolled": true
   },
   "outputs": [
    {
     "data": {
      "text/plain": [
       "64-element Vector{ComplexF64}:\n",
       "   -6.05533478197873e-16 + 0.0im\n",
       "   -4.41705805020154e-16 - 8.280264372140248e-18im\n",
       "   -4.41705805020154e-16 + 8.280264372140248e-18im\n",
       "  -1.799018991098299e-16 - 8.32761129120865e-17im\n",
       "  -1.799018991098299e-16 + 8.32761129120865e-17im\n",
       " -1.1872416127936493e-16 + 0.0im\n",
       "  -6.500393349341364e-17 + 0.0im\n",
       "  -3.460845603743487e-17 - 2.0340600366215802e-17im\n",
       "  -3.460845603743487e-17 + 2.0340600366215802e-17im\n",
       " -1.5996039270640277e-17 + 0.0im\n",
       " -2.6313530883608615e-18 + 0.0im\n",
       " -1.9249603633521213e-18 + 0.0im\n",
       "  -6.326103577536342e-19 + 0.0im\n",
       "                         ⋮\n",
       "   1.040510015555181e-16 - 2.8004984648542444e-17im\n",
       "   1.040510015555181e-16 + 2.8004984648542444e-17im\n",
       "  2.0845015856612026e-16 + 0.0im\n",
       "   3.711368060840589e-16 - 1.8222179174970572e-16im\n",
       "   3.711368060840589e-16 + 1.8222179174970572e-16im\n",
       "   3.984347902712295e-16 + 0.0im\n",
       "   4.408546966908275e-16 - 2.2849238487457674e-16im\n",
       "   4.408546966908275e-16 + 2.2849238487457674e-16im\n",
       "     0.22222222222227148 + 0.0im\n",
       "     0.25925925925931614 + 0.0im\n",
       "      0.2592592592593168 - 2.3221980631040627e-16im\n",
       "      0.2592592592593168 + 2.3221980631040627e-16im"
      ]
     },
     "execution_count": 2432,
     "metadata": {},
     "output_type": "execute_result"
    }
   ],
   "source": [
    "eigvals(ρ_aklt_reduced_T_trans_R)"
   ]
  },
  {
   "cell_type": "code",
   "execution_count": null,
   "metadata": {},
   "outputs": [],
   "source": []
  },
  {
   "cell_type": "code",
   "execution_count": null,
   "metadata": {},
   "outputs": [],
   "source": []
  }
 ],
 "metadata": {
  "@webio": {
   "lastCommId": null,
   "lastKernelId": null
  },
  "kernelspec": {
   "display_name": "Julia 1.8.5",
   "language": "julia",
   "name": "julia-1.8"
  },
  "language_info": {
   "file_extension": ".jl",
   "mimetype": "application/julia",
   "name": "julia",
   "version": "1.8.5"
  }
 },
 "nbformat": 4,
 "nbformat_minor": 2
}
