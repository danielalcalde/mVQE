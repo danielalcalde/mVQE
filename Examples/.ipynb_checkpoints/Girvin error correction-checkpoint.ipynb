{
 "cells": [
  {
   "cell_type": "code",
   "execution_count": 763,
   "id": "e6c6ae3c",
   "metadata": {},
   "outputs": [],
   "source": [
    "using Revise\n",
    "using PastaQ\n",
    "using ITensors\n",
    "using Random\n",
    "using OptimKit\n",
    "using Zygote\n",
    "using Zygote: ChainRulesCore\n",
    "using BenchmarkTools\n",
    "using LinearAlgebra\n",
    "using JLD2\n",
    "using Flux\n",
    "using PyCall\n",
    "using SymPy\n",
    "using QOS\n",
    "\n",
    "import mVQE\n",
    "using mVQE.Hamiltonians: hamiltonian_tfi, hamiltonian_ghz, hamiltonian_aklt_half\n",
    "using mVQE.ITensorsExtension: projective_measurement\n",
    "using mVQE: loss, optimize_and_evolve\n",
    "using mVQE.Circuits: AbstractVariationalCircuit, VariationalCircuitRy, VariationalMeasurement, VariationalMeasurementMC, VariationalMeasurementMCFeedback\n",
    "using mVQE.Misc: get_ancillas_indices, pprint\n",
    "using mVQE.Optimizers: OptimizerWrapper\n",
    "using mVQE.pyflexmps: pfs"
   ]
  },
  {
   "cell_type": "code",
   "execution_count": 2,
   "id": "2af5df9c",
   "metadata": {},
   "outputs": [
    {
     "data": {
      "text/plain": [
       "bell_gate (generic function with 1 method)"
      ]
     },
     "execution_count": 2,
     "metadata": {},
     "output_type": "execute_result"
    }
   ],
   "source": [
    "singlet_gate(i1, i2)=[(\"X\", i1), (\"X\", i2), (\"H\", i2), (\"CX\", (i2, i1))]\n",
    "\n",
    "\n",
    "θ_1 = 2 * atan(-1 / sqrt(2))\n",
    "θ_2 = 2 * atan(sqrt(2))\n",
    "\n",
    "U_gate_L(c_in, i1, i2) =[(\"CX\", (c_in, i1)), (\"CRy\", (i1, c_in), (θ = θ_1,)), (\"X\", i1),(\"CRy\", (i1, i2), (θ = θ_2,)), (\"X\", i1),\n",
    "                        (\"CX\", (c_in, i1)), (\"CX\", (i1, i2)), (\"CX\", (i2, i1))]\n",
    "\n",
    "U_gate_R(c_in, i1, i2) =[(\"CX\", (c_in, i1)), (\"CRy\", (i1, c_in), (θ = θ_1,)), (\"X\", i1),(\"CRy\", (i1, i2), (θ = θ_2,)), (\"X\", i1),\n",
    "                        (\"CX\", (c_in, i1)), (\"CX\", (i1, i2)), (\"CX\", (i2, i1)), (\"SWAP\", c_in, i1)]\n",
    "\n",
    "U_gate_L_(i0, i1, i2) = U_gate_L(i2, i1, i0)\n",
    "#U_gate_R(i3, i4, i5) = U_gate_R(i3, i4, i5)\n",
    "\n",
    "U2_gate(i0, i1, i2, i3, i4, i5) = vcat(U_gate_L_(i0, i1, i2), U_gate_R(i3, i4, i5))\n",
    "    \n",
    "bell_gate(i0, i1) = [(\"CX\", (i1, i0)), (\"H\", i1)]"
   ]
  },
  {
   "cell_type": "code",
   "execution_count": 990,
   "id": "b60111fa",
   "metadata": {},
   "outputs": [],
   "source": [
    "Ux = zeros(2, 2, 2, 2)\n",
    "Ux[1, 2, 2, 1] = 1\n",
    "Ux[1, 1, 1, 1] = 1\n",
    "Ux[2, 1, 1, 2] = 1\n",
    "Ux[2, 2, 2, 2] = 1\n",
    "Ux = reshape(Ux, 4, 4)\n",
    "ITensors.op(::OpName\"Ux\", ::SiteType\"Qubit\") = Ux\n",
    "\n",
    "Uy = zeros(2, 2, 2, 2)\n",
    "Uy[1, 2, 2, 1] = 1 # |+><-|\n",
    "Uy[1, 1, 1, 1] = -1 # |0><0|\n",
    "Uy[2, 1, 1, 2] = 1 # |-><+|\n",
    "Uy[2, 2, 2, 2] = 1\n",
    "Uy = reshape(Uy, 4, 4)\n",
    "ITensors.op(::OpName\"Uy\", ::SiteType\"Qubit\") = Uy\n",
    "\n",
    "Uz = zeros(2, 2, 2, 2)\n",
    "Uz[2, 1, 2, 1] = 1\n",
    "Uz[1, 1, 1, 1] = -1\n",
    "Uz[1, 2, 1, 2] = 1\n",
    "Uz[2, 2, 2, 2] = 1\n",
    "Uz = reshape(Uz, 4, 4)\n",
    "ITensors.op(::OpName\"Uz\", ::SiteType\"Qubit\") = Uz\n",
    "\n",
    "Ui = zeros(2, 2, 2, 2)\n",
    "Ui[2, 1, 2, 1] = 1\n",
    "Ui[1, 1, 1, 1] = 1\n",
    "Ui[1, 2, 1, 2] = 1\n",
    "Ui[2, 2, 2, 2] = 1\n",
    "Ui = reshape(Ui, 4, 4)\n",
    "ITensors.op(::OpName\"Ui\", ::SiteType\"Qubit\") = Ui"
   ]
  },
  {
   "cell_type": "code",
   "execution_count": 620,
   "id": "915b0c4c",
   "metadata": {},
   "outputs": [
    {
     "data": {
      "text/plain": [
       "4×4 Matrix{Float64}:\n",
       " 1.0  0.0  0.0  0.0\n",
       " 0.0  0.0  1.0  0.0\n",
       " 0.0  1.0  0.0  0.0\n",
       " 0.0  0.0  0.0  1.0"
      ]
     },
     "execution_count": 620,
     "metadata": {},
     "output_type": "execute_result"
    }
   ],
   "source": [
    "Uy*Uz"
   ]
  },
  {
   "cell_type": "code",
   "execution_count": 621,
   "id": "0f559386",
   "metadata": {},
   "outputs": [
    {
     "data": {
      "text/plain": [
       "4×4 Matrix{Float64}:\n",
       " -1.0  0.0  0.0  0.0\n",
       "  0.0  0.0  1.0  0.0\n",
       "  0.0  1.0  0.0  0.0\n",
       "  0.0  0.0  0.0  1.0"
      ]
     },
     "execution_count": 621,
     "metadata": {},
     "output_type": "execute_result"
    }
   ],
   "source": [
    "Ux*Uz"
   ]
  },
  {
   "cell_type": "code",
   "execution_count": 790,
   "id": "0fb5dcf1",
   "metadata": {},
   "outputs": [
    {
     "data": {
      "text/plain": [
       "([2, 3, 4, 5, 8, 9, 10, 11], [1, 6, 7, 12], 12)"
      ]
     },
     "execution_count": 790,
     "metadata": {},
     "output_type": "execute_result"
    }
   ],
   "source": [
    "N_state = 8\n",
    "state_indices, ancilla_indices, N = get_ancillas_indices(N_state, [false, true, true, true, true, false])\n",
    "hilbert = qubits(N)\n",
    "\n",
    "hilbert_state = hilbert[state_indices]\n",
    "hilbert_ancilla = hilbert[ancilla_indices]\n",
    "\n",
    "H = hamiltonian_ghz(state_indices, hilbert)\n",
    "ψ = productstate(hilbert, fill(0, N))\n",
    "state_indices, ancilla_indices, N"
   ]
  },
  {
   "cell_type": "code",
   "execution_count": 800,
   "id": "2e606638",
   "metadata": {},
   "outputs": [],
   "source": [
    "aklts = mVQE.StateFactory.AKLT_halfs(hilbert[state_indices], basis=\"girvin\");\n",
    "H_8, H_aklt_8, H_spin1_8 = hamiltonian_aklt_half(hilbert_state);\n",
    "Htot_8, = hamiltonian_aklt_half(hilbert, sublattice=state_indices);"
   ]
  },
  {
   "cell_type": "code",
   "execution_count": 792,
   "id": "b720166e",
   "metadata": {},
   "outputs": [],
   "source": [
    "gates = vcat(singlet_gate(3, 4), singlet_gate(9, 10))\n",
    "gates = vcat(gates, U2_gate(1, 2, 3, 4, 5, 6))\n",
    "gates = vcat(gates, U2_gate(7, 8, 9, 10, 11, 12));\n",
    "gates = vcat(gates, bell_gate(7, 6));"
   ]
  },
  {
   "cell_type": "code",
   "execution_count": 793,
   "id": "29186523",
   "metadata": {},
   "outputs": [],
   "source": [
    "ψ2 = runcircuit(ψ, gates);"
   ]
  },
  {
   "cell_type": "code",
   "execution_count": 794,
   "id": "9cd170d9",
   "metadata": {},
   "outputs": [
    {
     "name": "stdout",
     "output_type": "stream",
     "text": [
      "0.7642276422764219\n",
      "1.4881715379374344e-19\n"
     ]
    },
    {
     "data": {
      "text/plain": [
       "4-element Vector{Int64}:\n",
       " 2\n",
       " 2\n",
       " 1\n",
       " 2"
      ]
     },
     "execution_count": 794,
     "metadata": {},
     "output_type": "execute_result"
    }
   ],
   "source": [
    "ψp, measurement = mVQE.ITensorsExtension.projective_measurement_sample(ψ2; indices=[1, 6, 7, 12], remove_measured=true)\n",
    "#measurement = [2, 1, 2, 1]\n",
    "#ψp = mVQE.ITensorsExtension.reduce_MPS(ψ2, [1, 6, 7, 12], measurement, norm=true)\n",
    "println(inner(ψp, H_aklt_8, ψp))\n",
    "println(inner(ψp, H_spin1_8, ψp))\n",
    "measurement"
   ]
  },
  {
   "cell_type": "code",
   "execution_count": 797,
   "id": "de3248f7",
   "metadata": {},
   "outputs": [
    {
     "data": {
      "text/plain": [
       "(MPS\n",
       "[1] ((dim=2|id=327|\"Link,n=1\"), (dim=2|id=819|\"Qubit,Site,n=1\"))\n",
       "[2] ((dim=2|id=10|\"Qubit,Site,n=2\"), (dim=3|id=172|\"Link,n=1\"), (dim=2|id=327|\"Link,n=1\"))\n",
       "[3] ((dim=2|id=325|\"Qubit,Site,n=3\"), (dim=2|id=39|\"Link,n=1\"), (dim=3|id=172|\"Link,n=1\"))\n",
       "[4] ((dim=2|id=790|\"Qubit,Site,n=4\"), (dim=3|id=832|\"Link,n=1\"), (dim=2|id=39|\"Link,n=1\"))\n",
       "[5] ((dim=2|id=485|\"Qubit,Site,n=5\"), (dim=2|id=550|\"Link,n=1\"), (dim=3|id=832|\"Link,n=1\"))\n",
       "[6] ((dim=2|id=422|\"Link,n=1\"), (dim=2|id=550|\"Link,n=1\"), (dim=2|id=452|\"Qubit,Site,n=6\"))\n",
       "[7] ((dim=2|id=782|\"Link,n=1\"), (dim=2|id=422|\"Link,n=1\"), (dim=2|id=591|\"Qubit,Site,n=7\"))\n",
       "[8] ((dim=2|id=867|\"Qubit,Site,n=8\"), (dim=3|id=506|\"Link,n=1\"), (dim=2|id=782|\"Link,n=1\"))\n",
       "[9] ((dim=2|id=611|\"Qubit,Site,n=9\"), (dim=2|id=744|\"Link,n=1\"), (dim=3|id=506|\"Link,n=1\"))\n",
       "[10] ((dim=2|id=912|\"Qubit,Site,n=10\"), (dim=3|id=742|\"Link,n=1\"), (dim=2|id=744|\"Link,n=1\"))\n",
       "[11] ((dim=2|id=498|\"Qubit,Site,n=11\"), (dim=2|id=812|\"Link,n=1\"), (dim=3|id=742|\"Link,n=1\"))\n",
       "[12] ((dim=2|id=812|\"Link,n=1\"), (dim=2|id=356|\"Qubit,Site,n=12\"))\n",
       ", [2, 2, 2, 1])"
      ]
     },
     "execution_count": 797,
     "metadata": {},
     "output_type": "execute_result"
    }
   ],
   "source": [
    "ψp, measurement = mVQE.ITensorsExtension.projective_measurement_sample(ψ2; indices=[1, 6, 7, 12])"
   ]
  },
  {
   "cell_type": "code",
   "execution_count": null,
   "id": "f263d168",
   "metadata": {},
   "outputs": [],
   "source": []
  },
  {
   "cell_type": "code",
   "execution_count": 439,
   "id": "2a0c3acf",
   "metadata": {},
   "outputs": [],
   "source": [
    "ψp_c = contract(ψp[:]);\n",
    "#print_non_zero(-ψp_c.tensor);"
   ]
  },
  {
   "cell_type": "code",
   "execution_count": 440,
   "id": "2de0c078",
   "metadata": {},
   "outputs": [
    {
     "data": {
      "text/plain": [
       "\"Ui\""
      ]
     },
     "execution_count": 440,
     "metadata": {},
     "output_type": "execute_result"
    }
   ],
   "source": [
    "correction_gates_ = Dict()\n",
    "\n",
    "correction_gates_[[1, 1]] = \"Uy\"\n",
    "correction_gates_[[1, 2]] = \"Uz\"\n",
    "correction_gates_[[2, 1]] = \"Ux\"\n",
    "correction_gates_[[2, 2]] = \"Ui\""
   ]
  },
  {
   "cell_type": "code",
   "execution_count": 441,
   "id": "e07dbdea",
   "metadata": {},
   "outputs": [
    {
     "name": "stdout",
     "output_type": "stream",
     "text": [
      "-7.868875857628445e-17\n",
      "-2.5925233326292737e-18\n"
     ]
    }
   ],
   "source": [
    "g = correction_gates_[measurement[2:3]]\n",
    "gates = [(g, (1, 2)), (g, (3, 4))]\n",
    "ψp_corr = runcircuit(ψp, gates);\n",
    "\n",
    "g = correction_gates_[measurement[2:3]]\n",
    "gates = [(g, (5, 6)), (g, (7, 8))]\n",
    "ψp_corr2 = runcircuit(ψp, gates);\n",
    "\n",
    "println(inner(ψp_corr, H_aklt_8, ψp_corr))\n",
    "println(inner(ψp_corr, H_spin1_8, ψp_corr))"
   ]
  },
  {
   "cell_type": "code",
   "execution_count": 442,
   "id": "65c14b95",
   "metadata": {},
   "outputs": [
    {
     "data": {
      "text/plain": [
       "4-element Vector{Float64}:\n",
       " 3.861700385545229e-31\n",
       " 1.0000000000000009\n",
       " 7.193328435888741e-36\n",
       " 2.7497618514764353e-31"
      ]
     },
     "execution_count": 442,
     "metadata": {},
     "output_type": "execute_result"
    }
   ],
   "source": [
    "[inner(ψp_corr, aklt)^2 for aklt in aklts]"
   ]
  },
  {
   "cell_type": "code",
   "execution_count": 443,
   "id": "6ce96d6f",
   "metadata": {},
   "outputs": [
    {
     "data": {
      "text/plain": [
       "4-element Vector{Float64}:\n",
       " 6.607544022926606e-32\n",
       " 1.0000000000000004\n",
       " 3.851859888774594e-36\n",
       " 1.6741147109337584e-32"
      ]
     },
     "execution_count": 443,
     "metadata": {},
     "output_type": "execute_result"
    }
   ],
   "source": [
    "[inner(ψp_corr2, aklt)^2 for aklt in aklts]"
   ]
  },
  {
   "cell_type": "markdown",
   "id": "5711564c",
   "metadata": {},
   "source": [
    "## Larger AKLTs"
   ]
  },
  {
   "cell_type": "code",
   "execution_count": 1166,
   "id": "5ea7a7ce",
   "metadata": {},
   "outputs": [
    {
     "data": {
      "text/plain": [
       "([2, 3, 4, 5, 8, 9, 10, 11, 14, 15, 16, 17, 20, 21, 22, 23], [1, 6, 7, 12, 13, 18, 19, 24], 24)"
      ]
     },
     "execution_count": 1166,
     "metadata": {},
     "output_type": "execute_result"
    }
   ],
   "source": [
    "N_state = 4 * 4\n",
    "state_indices, ancilla_indices, N = get_ancillas_indices(N_state, [false, true, true, true, true, false])\n",
    "hilbert = qubits(N)\n",
    "\n",
    "hilbert_state = hilbert[state_indices]\n",
    "hilbert_ancilla = hilbert[ancilla_indices]\n",
    "\n",
    "ψ = productstate(hilbert, fill(0, N))\n",
    "aklts = mVQE.StateFactory.AKLT_halfs(hilbert[state_indices], basis=\"girvin\");\n",
    "state_indices, ancilla_indices, N"
   ]
  },
  {
   "cell_type": "code",
   "execution_count": 1167,
   "id": "09552907",
   "metadata": {},
   "outputs": [],
   "source": [
    "aklts = mVQE.StateFactory.AKLT_halfs(hilbert[state_indices], basis=\"girvin\")\n",
    "H, = hamiltonian_aklt_half(hilbert_state)\n",
    "Htot, Htot_aklt, Htot_spin1 = hamiltonian_aklt_half(hilbert, sublattice=state_indices);"
   ]
  },
  {
   "cell_type": "code",
   "execution_count": 1168,
   "id": "a0196f3c",
   "metadata": {},
   "outputs": [
    {
     "data": {
      "text/plain": [
       "correction_gates2 (generic function with 1 method)"
      ]
     },
     "execution_count": 1168,
     "metadata": {},
     "output_type": "execute_result"
    }
   ],
   "source": [
    "function girvin_gates(N)\n",
    "    gates = Vector()\n",
    "    for site in 3:6:N\n",
    "        gates = vcat(gates, singlet_gate(site, site + 1))\n",
    "    end\n",
    "    \n",
    "    for site in 1:6:N\n",
    "        gates = vcat(gates, U2_gate(site, site+1, site+2, site+3, site+4, site+5))\n",
    "    end\n",
    "    \n",
    "    for site in 6:6:N-1\n",
    "        gates = vcat(gates, bell_gate(site+1, site))\n",
    "    end\n",
    "    return gates\n",
    "end\n",
    "            \n",
    "function correction_gates(M)\n",
    "    M = M[2:end-1]\n",
    "    @assert mod(length(M), 2) == 0\n",
    "    M = reshape(M, (2, Int(length(M)/2)))\n",
    "    gates = Vector()\n",
    "    for i in 1:size(M, 2)\n",
    "        Mi = M[:, i]\n",
    "        g = correction_gates_[Mi]\n",
    "        for sites in 1:4:4*i\n",
    "            gates = vcat(gates, [(g, (sites, sites+1)), (g, (sites+2, sites+3))])\n",
    "        end\n",
    "    end\n",
    "    return gates\n",
    "end\n",
    "            \n",
    "function correction_gates2(M, sites)\n",
    "    M = M[2:end-1]\n",
    "    @assert mod(length(M), 2) == 0\n",
    "    M = reshape(M, (2, Int(length(M)/2)))\n",
    "    gates = Vector()\n",
    "    for i in 1:size(M, 2)\n",
    "        Mi = M[:, i]\n",
    "        g = correction_gates_[Mi]\n",
    "        for site in 1:4:4*i\n",
    "            gates = vcat(gates, [(g, (sites[site], sites[site+1])),\n",
    "                                 (g, (sites[site+2], sites[site+3]))])\n",
    "        end\n",
    "    end\n",
    "    return gates\n",
    "end"
   ]
  },
  {
   "cell_type": "code",
   "execution_count": 1169,
   "id": "fb463808",
   "metadata": {},
   "outputs": [],
   "source": [
    "ψ2 = runcircuit(ψ, girvin_gates(N));"
   ]
  },
  {
   "cell_type": "code",
   "execution_count": 1170,
   "id": "040f9e05",
   "metadata": {},
   "outputs": [
    {
     "data": {
      "text/plain": [
       "-2.0306562378939883e-15"
      ]
     },
     "execution_count": 1170,
     "metadata": {},
     "output_type": "execute_result"
    }
   ],
   "source": [
    "ψp, measurement = mVQE.ITensorsExtension.projective_measurement_sample(ψ2; indices=ancilla_indices, remove_measured=true);\n",
    "\n",
    "ψp_corr = runcircuit(ψp, correction_gates(measurement));\n",
    "inner(ψp_corr, H, ψp_corr)"
   ]
  },
  {
   "cell_type": "markdown",
   "id": "93557228",
   "metadata": {},
   "source": [
    "### Make it a parametrized quantum circuit"
   ]
  },
  {
   "cell_type": "code",
   "execution_count": 1171,
   "id": "4732e68c",
   "metadata": {},
   "outputs": [],
   "source": [
    "# Uz*Uz=I\n",
    "# Ux*Ux=I\n",
    "# Uy*Uy=I\n",
    "\n",
    "# Ux*Uy=Uz\n",
    "# Ux*Uz=Uy\n",
    "\n",
    "# Uy*Uz=Ux"
   ]
  },
  {
   "cell_type": "code",
   "execution_count": 1172,
   "id": "bba1cf44",
   "metadata": {},
   "outputs": [
    {
     "data": {
      "text/plain": [
       "4×4 Matrix{Float64}:\n",
       "  1.0  -0.0  -0.0  -0.0\n",
       " -0.0  -1.0  -0.0  -0.0\n",
       " -0.0  -0.0  -1.0  -0.0\n",
       " -0.0  -0.0  -0.0  -1.0"
      ]
     },
     "execution_count": 1172,
     "metadata": {},
     "output_type": "execute_result"
    }
   ],
   "source": [
    "-Uz"
   ]
  },
  {
   "cell_type": "code",
   "execution_count": 1173,
   "id": "166bf226",
   "metadata": {},
   "outputs": [],
   "source": [
    "function ITensors.op(::OpName\"U_rot\", ::SiteType\"Qubit\"; α::Number, β::Number, γ::Number, δ::Number) \n",
    "    return [\n",
    "    1 0 0 0\n",
    "    0 exp(1im*(α-β-δ)) * cos(γ) -exp(1im*(α-β+δ)) * sin(γ)  0\n",
    "    0 exp(1im*(α+β-δ)) * sin(γ)  exp(1im*(α+β+δ)) * cos(γ)  0\n",
    "    0 0 0 1]\n",
    "end"
   ]
  },
  {
   "cell_type": "code",
   "execution_count": 1174,
   "id": "9ff50aa2",
   "metadata": {},
   "outputs": [
    {
     "data": {
      "text/plain": [
       "4×4 Matrix{Float64}:\n",
       " 1.0  0.0  0.0  0.0\n",
       " 0.0  0.0  1.0  0.0\n",
       " 0.0  1.0  0.0  0.0\n",
       " 0.0  0.0  0.0  1.0"
      ]
     },
     "execution_count": 1174,
     "metadata": {},
     "output_type": "execute_result"
    }
   ],
   "source": [
    "Ux"
   ]
  },
  {
   "cell_type": "code",
   "execution_count": 1175,
   "id": "82d391fd",
   "metadata": {},
   "outputs": [
    {
     "data": {
      "text/plain": [
       "4×8 Matrix{Float64}:\n",
       " 3.14159  3.14159  3.14159  3.14159  1.5708   1.5708   0.0  0.0\n",
       " 3.14159  3.14159  3.14159  3.14159  1.5708   1.5708   0.0  0.0\n",
       " 3.14159  3.14159  3.14159  3.14159  1.5708   1.5708   0.0  0.0\n",
       " 6.28319  6.28319  3.14159  3.14159  3.14159  3.14159  0.0  0.0"
      ]
     },
     "execution_count": 1175,
     "metadata": {},
     "output_type": "execute_result"
    }
   ],
   "source": [
    "correction_gates_params = Dict()\n",
    "correction_gates_params[[1, 1]] = [pi/2, pi/2, pi/2, 0]\n",
    "correction_gates_params[[1, 2]] = [0, 0, 0, pi]\n",
    "correction_gates_params[[2, 1]] = [pi/2, pi/2, pi/2, pi]\n",
    "correction_gates_params[[2, 2]] = [0, 0, 0, 0];\n",
    "\n",
    "function param_correction_gates(M)\n",
    "    Ns_spin1 = length(M)\n",
    "    M = M[2:end-1]\n",
    "    \n",
    "    @assert mod(length(M), 2) == 0\n",
    "    \n",
    "    M = reshape(M, (2, Int(length(M)/2)))\n",
    "    angles = zeros((4, Ns_spin1))\n",
    "    for i in 1:size(M, 2)\n",
    "        Mi = M[:, i]\n",
    "        g = correction_gates_params[Mi]\n",
    "        add = hcat(vcat(fill(g, 2i), fill([0, 0, 0, 0], Ns_spin1-2i))...)\n",
    "        angles = angles .+ add\n",
    "    end\n",
    "    return angles\n",
    "end\n",
    "params = param_correction_gates(measurement)"
   ]
  },
  {
   "cell_type": "code",
   "execution_count": 1199,
   "id": "6e631eeb",
   "metadata": {},
   "outputs": [
    {
     "data": {
      "text/plain": [
       "GirvinCircuit()"
      ]
     },
     "execution_count": 1199,
     "metadata": {},
     "output_type": "execute_result"
    }
   ],
   "source": [
    "struct GirvinCircuit <: AbstractVariationalCircuit\n",
    "end\n",
    "function generate_circuit(model::GirvinCircuit; params=nothing)\n",
    "    @assert size(params, 1) == 4\n",
    "    N = size(params, 2)\n",
    "    N_state = N * 2\n",
    "    \n",
    "    state_indices, = get_ancillas_indices(N_state, [false, true, true, true, true, false])\n",
    "    println(state_indices)\n",
    "    gates = Vector()\n",
    "    \n",
    "    for site in 1:N\n",
    "        p = (α=params[1, site], β=params[2, site], γ=params[3, site], δ=params[4, site])\n",
    "        gates = vcat(gates, [(\"U_rot\", (state_indices[2site-1], state_indices[2site]), p)])\n",
    "    end\n",
    "    return gates\n",
    "end\n",
    "circ = GirvinCircuit()\n"
   ]
  },
  {
   "cell_type": "code",
   "execution_count": null,
   "id": "b7d6c5a6",
   "metadata": {},
   "outputs": [],
   "source": [
    "# Fix the gates"
   ]
  },
  {
   "cell_type": "code",
   "execution_count": 1228,
   "id": "08de32d8",
   "metadata": {},
   "outputs": [
    {
     "name": "stdout",
     "output_type": "stream",
     "text": [
      "[2, 3, 4, 5, 8, 9, 10, 11, 14, 15, 16, 17, 20, 21, 22, 23]\n"
     ]
    },
    {
     "data": {
      "text/plain": [
       "0.7404246672762369 - 1.1118114820870415e-32im"
      ]
     },
     "execution_count": 1228,
     "metadata": {},
     "output_type": "execute_result"
    }
   ],
   "source": [
    "ψp, measurement = mVQE.ITensorsExtension.projective_measurement_sample(ψ2; indices=ancilla_indices);\n",
    "\n",
    "params = param_correction_gates(measurement)\n",
    "gates = generate_circuit(circ; params)\n",
    "gates2 = correction_gates2(measurement, state_indices)\n",
    "ψp_corr = runcircuit(ψp, gates);\n",
    "inner(ψp_corr, Htot, ψp_corr)"
   ]
  },
  {
   "cell_type": "code",
   "execution_count": 1229,
   "id": "d4fb0b15",
   "metadata": {},
   "outputs": [
    {
     "name": "stdout",
     "output_type": "stream",
     "text": [
      "[2, 3, 4, 5, 8, 9, 10, 11, 14, 15, 16, 17, 20, 21, 22, 23]\n"
     ]
    },
    {
     "data": {
      "text/plain": [
       "8-element Vector{Any}:\n",
       " (\"U_rot\", (2, 3), (α = 3.141592653589793, β = 3.141592653589793, γ = 3.141592653589793, δ = 3.141592653589793))\n",
       " (\"U_rot\", (4, 5), (α = 3.141592653589793, β = 3.141592653589793, γ = 3.141592653589793, δ = 3.141592653589793))\n",
       " (\"U_rot\", (8, 9), (α = 1.5707963267948966, β = 1.5707963267948966, γ = 1.5707963267948966, δ = 0.0))\n",
       " (\"U_rot\", (10, 11), (α = 1.5707963267948966, β = 1.5707963267948966, γ = 1.5707963267948966, δ = 0.0))\n",
       " (\"U_rot\", (14, 15), (α = 1.5707963267948966, β = 1.5707963267948966, γ = 1.5707963267948966, δ = 0.0))\n",
       " (\"U_rot\", (16, 17), (α = 1.5707963267948966, β = 1.5707963267948966, γ = 1.5707963267948966, δ = 0.0))\n",
       " (\"U_rot\", (20, 21), (α = 0.0, β = 0.0, γ = 0.0, δ = 0.0))\n",
       " (\"U_rot\", (22, 23), (α = 0.0, β = 0.0, γ = 0.0, δ = 0.0))"
      ]
     },
     "execution_count": 1229,
     "metadata": {},
     "output_type": "execute_result"
    }
   ],
   "source": [
    "gates = generate_circuit(circ; params)"
   ]
  },
  {
   "cell_type": "code",
   "execution_count": 1230,
   "id": "8f55ee94",
   "metadata": {},
   "outputs": [
    {
     "data": {
      "text/plain": [
       "-1.9836104838642843e-15"
      ]
     },
     "execution_count": 1230,
     "metadata": {},
     "output_type": "execute_result"
    }
   ],
   "source": [
    "ψp_corr = runcircuit(ψp, gates2);\n",
    "inner(ψp_corr, Htot, ψp_corr)"
   ]
  },
  {
   "cell_type": "code",
   "execution_count": 1231,
   "id": "e8841aca",
   "metadata": {},
   "outputs": [
    {
     "data": {
      "text/plain": [
       "0.7404246672762369 - 1.1118114820870415e-32im"
      ]
     },
     "execution_count": 1231,
     "metadata": {},
     "output_type": "execute_result"
    }
   ],
   "source": [
    "ψp_corr = runcircuit(ψp, gates);\n",
    "inner(ψp_corr, Htot, ψp_corr)"
   ]
  },
  {
   "cell_type": "code",
   "execution_count": 1232,
   "id": "bf6d08f7",
   "metadata": {},
   "outputs": [
    {
     "data": {
      "text/plain": [
       "8-element Vector{Any}:\n",
       " (\"U_rot\", (2, 3), (α = 3.141592653589793, β = 3.141592653589793, γ = 3.141592653589793, δ = 3.141592653589793))\n",
       " (\"U_rot\", (4, 5), (α = 3.141592653589793, β = 3.141592653589793, γ = 3.141592653589793, δ = 3.141592653589793))\n",
       " (\"U_rot\", (8, 9), (α = 1.5707963267948966, β = 1.5707963267948966, γ = 1.5707963267948966, δ = 0.0))\n",
       " (\"U_rot\", (10, 11), (α = 1.5707963267948966, β = 1.5707963267948966, γ = 1.5707963267948966, δ = 0.0))\n",
       " (\"U_rot\", (14, 15), (α = 1.5707963267948966, β = 1.5707963267948966, γ = 1.5707963267948966, δ = 0.0))\n",
       " (\"U_rot\", (16, 17), (α = 1.5707963267948966, β = 1.5707963267948966, γ = 1.5707963267948966, δ = 0.0))\n",
       " (\"U_rot\", (20, 21), (α = 0.0, β = 0.0, γ = 0.0, δ = 0.0))\n",
       " (\"U_rot\", (22, 23), (α = 0.0, β = 0.0, γ = 0.0, δ = 0.0))"
      ]
     },
     "execution_count": 1232,
     "metadata": {},
     "output_type": "execute_result"
    }
   ],
   "source": [
    "gates"
   ]
  },
  {
   "cell_type": "code",
   "execution_count": 1233,
   "id": "0b573d52",
   "metadata": {},
   "outputs": [
    {
     "data": {
      "text/plain": [
       "12-element Vector{Any}:\n",
       " (\"Ux\", (2, 3))\n",
       " (\"Ux\", (4, 5))\n",
       " (\"Ui\", (2, 3))\n",
       " (\"Ui\", (4, 5))\n",
       " (\"Ui\", (8, 9))\n",
       " (\"Ui\", (10, 11))\n",
       " (\"Uy\", (2, 3))\n",
       " (\"Uy\", (4, 5))\n",
       " (\"Uy\", (8, 9))\n",
       " (\"Uy\", (10, 11))\n",
       " (\"Uy\", (14, 15))\n",
       " (\"Uy\", (16, 17))"
      ]
     },
     "execution_count": 1233,
     "metadata": {},
     "output_type": "execute_result"
    }
   ],
   "source": [
    "gates2"
   ]
  },
  {
   "cell_type": "code",
   "execution_count": 1234,
   "id": "5e39c3ba",
   "metadata": {},
   "outputs": [
    {
     "data": {
      "text/plain": [
       "Dim 1: 4\n",
       "Dim 2: 4\n",
       "NDTensors.Dense{Float64, Vector{Float64}}\n",
       " 4×4\n",
       " 1.0  0.0   0.0  0.0\n",
       " 0.0  1.0  -0.0  0.0\n",
       " 0.0  0.0   1.0  0.0\n",
       " 0.0  0.0   0.0  1.0"
      ]
     },
     "execution_count": 1234,
     "metadata": {},
     "output_type": "execute_result"
    }
   ],
   "source": [
    "t = op(\"U_rot\", hilbert[1], hilbert[2] ; α = 0.0, β = 0.0, γ = 0.0, δ = 6.283185307179586)\n",
    "real(reshape(t.tensor, 4, 4))"
   ]
  },
  {
   "cell_type": "code",
   "execution_count": 1152,
   "id": "87ba359e",
   "metadata": {},
   "outputs": [
    {
     "data": {
      "text/plain": [
       "Dim 1: 4\n",
       "Dim 2: 4\n",
       "NDTensors.Dense{Float64, Vector{Float64}}\n",
       " 4×4\n",
       " 1.0   0.0                    0.0                    0.0\n",
       " 0.0  -6.123233995736766e-17  1.0                    0.0\n",
       " 0.0   1.0                    6.123233995736766e-17  0.0\n",
       " 0.0   0.0                    0.0                    1.0"
      ]
     },
     "execution_count": 1152,
     "metadata": {},
     "output_type": "execute_result"
    }
   ],
   "source": []
  },
  {
   "cell_type": "code",
   "execution_count": 1079,
   "id": "8f82a01d",
   "metadata": {},
   "outputs": [
    {
     "data": {
      "text/plain": [
       "0.7999999999999993 - 8.450270210531019e-33im"
      ]
     },
     "execution_count": 1079,
     "metadata": {},
     "output_type": "execute_result"
    }
   ],
   "source": [
    "ψp_corr2 = mVQE.ITensorsExtension.reduce_MPS(ψp_corr, ancilla_indices, measurement);\n",
    "inner(ψp_corr2, H, ψp_corr2)"
   ]
  },
  {
   "cell_type": "code",
   "execution_count": 1054,
   "id": "bcb822c7",
   "metadata": {},
   "outputs": [
    {
     "data": {
      "text/plain": [
       "0.9999999999999996"
      ]
     },
     "execution_count": 1054,
     "metadata": {},
     "output_type": "execute_result"
    }
   ],
   "source": [
    "norm(ψp_corr2)"
   ]
  },
  {
   "cell_type": "code",
   "execution_count": 873,
   "id": "77ffe8e9",
   "metadata": {},
   "outputs": [
    {
     "data": {
      "text/plain": [
       "1.2237442922374402"
      ]
     },
     "execution_count": 873,
     "metadata": {},
     "output_type": "execute_result"
    }
   ],
   "source": [
    "0.6118721461187201*2"
   ]
  },
  {
   "cell_type": "code",
   "execution_count": 1057,
   "id": "7dee9af3",
   "metadata": {},
   "outputs": [
    {
     "data": {
      "text/plain": [
       "3-element Vector{Int64}:\n",
       " 2\n",
       " 4\n",
       " 8"
      ]
     },
     "execution_count": 1057,
     "metadata": {},
     "output_type": "execute_result"
    }
   ],
   "source": [
    "sublattice[Vector(1:2:N_state-2)]"
   ]
  }
 ],
 "metadata": {
  "kernelspec": {
   "display_name": "Julia 1.8.5",
   "language": "julia",
   "name": "julia-1.8"
  },
  "language_info": {
   "file_extension": ".jl",
   "mimetype": "application/julia",
   "name": "julia",
   "version": "1.8.5"
  }
 },
 "nbformat": 4,
 "nbformat_minor": 5
}
