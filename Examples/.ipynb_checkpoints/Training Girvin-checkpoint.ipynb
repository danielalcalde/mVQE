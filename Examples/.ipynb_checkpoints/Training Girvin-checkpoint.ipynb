{
 "cells": [
  {
   "cell_type": "code",
   "execution_count": 1,
   "id": "9c165373",
   "metadata": {},
   "outputs": [
    {
     "name": "stderr",
     "output_type": "stream",
     "text": [
      "┌ Info: Precompiling mVQE [fbf8b4f3-d5ee-4fcd-97a7-1cb357585aed]\n",
      "└ @ Base loading.jl:1664\n"
     ]
    }
   ],
   "source": [
    "using Revise\n",
    "using PastaQ\n",
    "using ITensors\n",
    "using Random\n",
    "using OptimKit\n",
    "using Zygote\n",
    "using Zygote: ChainRulesCore\n",
    "using BenchmarkTools\n",
    "using LinearAlgebra\n",
    "using JLD2\n",
    "using Flux\n",
    "using PyCall\n",
    "using SymPy\n",
    "using QOS\n",
    "\n",
    "import mVQE\n",
    "using mVQE.Hamiltonians: hamiltonian_tfi, hamiltonian_ghz, hamiltonian_aklt_half\n",
    "using mVQE.ITensorsExtension: projective_measurement\n",
    "using mVQE: loss, optimize_and_evolve\n",
    "using mVQE.Circuits: AbstractVariationalCircuit, VariationalCircuitRy, VariationalMeasurement, VariationalMeasurementMC, VariationalMeasurementMCFeedback\n",
    "using mVQE.Misc: get_ancillas_indices, pprint\n",
    "using mVQE.Optimizers: OptimizerWrapper\n",
    "using mVQE.pyflexmps: pfs"
   ]
  },
  {
   "cell_type": "code",
   "execution_count": 2,
   "id": "a232a63e",
   "metadata": {},
   "outputs": [
    {
     "data": {
      "text/plain": [
       "([2, 3, 4, 5, 8, 9, 10, 11, 14, 15  …  46, 47, 50, 51, 52, 53, 56, 57, 58, 59], [1, 6, 7, 12, 13, 18, 19, 24, 25, 30, 31, 36, 37, 42, 43, 48, 49, 54, 55, 60], 60)"
      ]
     },
     "execution_count": 2,
     "metadata": {},
     "output_type": "execute_result"
    }
   ],
   "source": [
    "N_state = 4 * 10\n",
    "state_indices, ancilla_indices, N = get_ancillas_indices(N_state, [false, true, true, true, true, false])\n",
    "hilbert = qubits(N)\n",
    "\n",
    "hilbert_state = hilbert[state_indices]\n",
    "hilbert_ancilla = hilbert[ancilla_indices]\n",
    "\n",
    "ψ = productstate(hilbert, fill(0, N))\n",
    "ρ = outer(ψ, ψ')\n",
    "aklts = mVQE.StateFactory.AKLT_halfs(hilbert[state_indices], basis=\"girvin\");\n",
    "state_indices, ancilla_indices, N"
   ]
  },
  {
   "cell_type": "code",
   "execution_count": 4,
   "id": "fb4dc284",
   "metadata": {},
   "outputs": [],
   "source": [
    "aklts = mVQE.StateFactory.AKLT_halfs(hilbert[state_indices], basis=\"girvin\")\n",
    "H, = hamiltonian_aklt_half(hilbert_state)\n",
    "Htot, Htot_aklt, Htot_spin1 = hamiltonian_aklt_half(hilbert, sublattice=state_indices);"
   ]
  },
  {
   "cell_type": "code",
   "execution_count": 5,
   "id": "0a776bad",
   "metadata": {},
   "outputs": [],
   "source": [
    "gcirc = mVQE.GirvinProtocol.GirvinCircuitIdeal(N_state);\n",
    "corrcirc = mVQE.GirvinProtocol.GirvinCorrCircuit();"
   ]
  },
  {
   "cell_type": "code",
   "execution_count": 6,
   "id": "86093855",
   "metadata": {},
   "outputs": [
    {
     "data": {
      "text/plain": [
       "-7.543350480350849e-15 - 2.56578610471449e-16im"
      ]
     },
     "execution_count": 6,
     "metadata": {},
     "output_type": "execute_result"
    }
   ],
   "source": [
    "ψ2 = gcirc(ψ);\n",
    "ψp, measurement = mVQE.ITensorsExtension.projective_measurement_sample(ψ2; indices=ancilla_indices)\n",
    "params = mVQE.GirvinProtocol.param_correction_gates(measurement.-1);\n",
    "ψp_corr = corrcirc(ψp; params)\n",
    "inner(ψp_corr, Htot, ψp_corr')"
   ]
  },
  {
   "cell_type": "markdown",
   "id": "6a0776f4",
   "metadata": {},
   "source": [
    "VariationalMeasurementMCFeedback"
   ]
  },
  {
   "cell_type": "code",
   "execution_count": 7,
   "id": "c1470454",
   "metadata": {},
   "outputs": [],
   "source": [
    "vmodels = [mVQE.GirvinProtocol.GirvinCircuitIdeal(N_state), mVQE.GirvinProtocol.GirvinCorrCircuit(Int(N_state/2))]\n",
    "\n",
    "g(a, b)= mVQE.GirvinProtocol.param_correction_gates\n",
    "    \n",
    "model = VariationalMeasurementMCFeedback(vmodels, [g], ancilla_indices);"
   ]
  },
  {
   "cell_type": "code",
   "execution_count": 8,
   "id": "dd5621a6",
   "metadata": {},
   "outputs": [
    {
     "data": {
      "text/plain": [
       "-6.7307020930595725e-15 + 1.056434752791667e-16im"
      ]
     },
     "execution_count": 8,
     "metadata": {},
     "output_type": "execute_result"
    }
   ],
   "source": [
    "ψ_aklt = model(ψ);\n",
    "inner(ψ_aklt, Htot, ψ_aklt')"
   ]
  },
  {
   "cell_type": "markdown",
   "id": "bb9d3969",
   "metadata": {},
   "source": [
    "# Training"
   ]
  },
  {
   "cell_type": "code",
   "execution_count": 56,
   "id": "f4394d01",
   "metadata": {},
   "outputs": [],
   "source": [
    "vmodels = [mVQE.GirvinProtocol.GirvinCircuitIdeal(N_state), mVQE.GirvinProtocol.GirvinCorrCircuit(Int(N_state/2))]\n",
    "#vmodels = [mVQE.GirvinProtocol.GirvinCircuit(Int(N_state/4)), mVQE.GirvinProtocol.GirvinCorrCircuit(Int(N_state/2))]\n",
    "#vmodels = [VariationalCircuitRy(N, 1) for _ in 1:2]\n",
    "    \n",
    "dense(x, y) = mVQE.GirvinProtocol.GirvinCorrectionNetwork()\n",
    "#dense(x, y) = Flux.Dense(Flux.glorot_uniform(y, x)/10, 2π .* rand(y))\n",
    "\n",
    "model = VariationalMeasurementMCFeedback(vmodels, [dense], ancilla_indices);"
   ]
  },
  {
   "cell_type": "code",
   "execution_count": 57,
   "id": "25335bd4",
   "metadata": {},
   "outputs": [],
   "source": [
    "#H_tfi = MPO(hamiltonian_tfi(state_indices, 0.1), hilbert);"
   ]
  },
  {
   "cell_type": "code",
   "execution_count": 58,
   "id": "fc31ce55",
   "metadata": {},
   "outputs": [
    {
     "data": {
      "text/plain": [
       "2.641592653589793"
      ]
     },
     "execution_count": 58,
     "metadata": {},
     "output_type": "execute_result"
    }
   ],
   "source": [
    "model.vcircuits[1].params[1,1] = pi-0.5"
   ]
  },
  {
   "cell_type": "code",
   "execution_count": 59,
   "id": "f776d438",
   "metadata": {},
   "outputs": [
    {
     "data": {
      "text/plain": [
       "0.045339791950661276"
      ]
     },
     "execution_count": 59,
     "metadata": {},
     "output_type": "execute_result"
    }
   ],
   "source": [
    "l"
   ]
  },
  {
   "cell_type": "code",
   "execution_count": 60,
   "id": "f3471ce2",
   "metadata": {},
   "outputs": [
    {
     "name": "stdout",
     "output_type": "stream",
     "text": [
      "  1.734624 seconds (3.95 M allocations: 2.519 GiB, 11.65% gc time)\n"
     ]
    },
    {
     "data": {
      "text/plain": [
       "10×8 Matrix{Float64}:\n",
       " -0.177565     -0.0226699     0.0240451    …  -0.001603      0.0563845\n",
       " -3.6314e-15    0.00604531    0.00854935      -5.62724e-10  -1.44886e-16\n",
       " -1.48026e-14  -0.000671697  -0.000949928      4.40245e-9    7.39921e-15\n",
       " -6.6398e-15    7.4605e-5     0.000105548     -4.0284e-8     6.31017e-15\n",
       " -2.17534e-15   8.03666e-6    1.17274e-5      -3.62026e-7   -5.80245e-15\n",
       " -1.13163e-15   1.3821e-6    -1.30312e-6   …   3.25757e-6   -2.82736e-16\n",
       " -1.7155e-15    2.06291e-5   -1.4485e-7        2.93187e-5   -2.42566e-16\n",
       " -3.98601e-15  -0.000186572   1.60209e-8      -0.000263869   3.67858e-15\n",
       "  6.02146e-16   0.00167925   -1.85366e-9       0.00237482    1.70744e-15\n",
       " -2.34408e-16   0.0151133    -2.64816e-10      0.0213734     1.04766e-16"
      ]
     },
     "execution_count": 60,
     "metadata": {},
     "output_type": "execute_result"
    }
   ],
   "source": [
    "l, grad = @time mVQE.loss_and_grad(ρ, Htot, model)\n",
    "grad[model.vcircuits[1].params]"
   ]
  },
  {
   "cell_type": "code",
   "execution_count": 61,
   "id": "d21f6004",
   "metadata": {},
   "outputs": [
    {
     "data": {
      "text/plain": [
       "OptimizerWrapper(ADAM(0.01, (0.9, 0.999), 1.0e-8, IdDict{Any, Any}()), 10, 0.001, 10)"
      ]
     },
     "execution_count": 61,
     "metadata": {},
     "output_type": "execute_result"
    }
   ],
   "source": [
    "optimzer = OptimizerWrapper(ADAM(0.01); gradtol=1e-3, maxiter=10, verbosity=10)"
   ]
  },
  {
   "cell_type": "code",
   "execution_count": null,
   "id": "b0324a9d",
   "metadata": {},
   "outputs": [],
   "source": [
    "## Why does it not work with psi?"
   ]
  },
  {
   "cell_type": "code",
   "execution_count": 62,
   "id": "0dbf2cde",
   "metadata": {},
   "outputs": [
    {
     "name": "stderr",
     "output_type": "stream",
     "text": [
      "┌ Info: ADAM: iter 1: f = 0.04533979188080224, ‖∇f‖ = 0.20882413729891422, ‖θ‖ = 20.52474396299839\n",
      "└ @ mVQE.Optimizers /local/alcalde/workprojects/mVQE/mVQE/src/Optimizers.jl:41\n",
      "┌ Info: ADAM: iter 2: f = 0.04209842124495071, ‖∇f‖ = 0.19871819805615298, ‖θ‖ = 20.52628319905024\n",
      "└ @ mVQE.Optimizers /local/alcalde/workprojects/mVQE/mVQE/src/Optimizers.jl:41\n",
      "┌ Info: ADAM: iter 3: f = 0.039518776380199724, ‖∇f‖ = 0.1910310943148347, ‖θ‖ = 20.52742085148499\n",
      "└ @ mVQE.Optimizers /local/alcalde/workprojects/mVQE/mVQE/src/Optimizers.jl:41\n",
      "┌ Info: ADAM: iter 4: f = 0.035964560163192445, ‖∇f‖ = 0.1845609513410758, ‖θ‖ = 20.532563880427897\n",
      "└ @ mVQE.Optimizers /local/alcalde/workprojects/mVQE/mVQE/src/Optimizers.jl:41\n"
     ]
    },
    {
     "ename": "LoadError",
     "evalue": "InterruptException:",
     "output_type": "error",
     "traceback": [
      "InterruptException:",
      "",
      "Stacktrace:",
      "  [1] reshape",
      "    @ ./reshapedarray.jl:51 [inlined]",
      "  [2] reshape",
      "    @ ./reshapedarray.jl:117 [inlined]",
      "  [3] StridedView",
      "    @ ~/.julia/packages/Strided/pDrSx/src/stridedview.jl:17 [inlined]",
      "  [4] StridedView (repeats 3 times)",
      "    @ ~/.julia/packages/Strided/pDrSx/src/stridedview.jl:15 [inlined]",
      "  [5] similar(a::Strided.StridedView{ComplexF64, 4, Vector{ComplexF64}, typeof(identity)}, #unused#::Type{ComplexF64}, dims::NTuple{4, Int64})",
      "    @ Strided ~/.julia/packages/Strided/pDrSx/src/stridedview.jl:56",
      "  [6] similar",
      "    @ ./abstractarray.jl:794 [inlined]",
      "  [7] similar",
      "    @ ./abstractarray.jl:793 [inlined]",
      "  [8] copy",
      "    @ ~/.julia/packages/Strided/pDrSx/src/stridedview.jl:58 [inlined]",
      "  [9] maybeunstrided(A::Strided.StridedView{ComplexF64, 4, Vector{ComplexF64}, typeof(identity)})",
      "    @ Strided ~/.julia/packages/Strided/pDrSx/src/macros.jl:34",
      " [10] _contract!(CT::NDTensors.DenseTensor{ComplexF64, 2, Tuple{Index{Int64}, Index{Int64}}, NDTensors.Dense{ComplexF64, Vector{ComplexF64}}}, AT::NDTensors.DenseTensor{ComplexF64, 4, NTuple{4, Index{Int64}}, NDTensors.Dense{ComplexF64, Vector{ComplexF64}}}, BT::NDTensors.DenseTensor{ComplexF64, 4, NTuple{4, Index{Int64}}, NDTensors.Dense{ComplexF64, Vector{ComplexF64}}}, props::NDTensors.ContractionProperties{4, 4, 2}, α::ComplexF64, β::ComplexF64)",
      "    @ NDTensors /local/alcalde/workprojects/forks/installed/ITensors.jl/NDTensors/src/dense/tensoralgebra/contract.jl:357",
      " [11] contract!",
      "    @ /local/alcalde/workprojects/forks/installed/ITensors.jl/NDTensors/src/dense/tensoralgebra/contract.jl:317 [inlined]",
      " [12] contract!",
      "    @ /local/alcalde/workprojects/forks/installed/ITensors.jl/NDTensors/src/dense/tensoralgebra/contract.jl:275 [inlined]",
      " [13] _contract!!(output_tensor::NDTensors.DenseTensor{ComplexF64, 2, Tuple{Index{Int64}, Index{Int64}}, NDTensors.Dense{ComplexF64, Vector{ComplexF64}}}, labelsoutput_tensor::Tuple{Int64, Int64}, tensor1::NDTensors.DenseTensor{ComplexF64, 4, NTuple{4, Index{Int64}}, NDTensors.Dense{ComplexF64, Vector{ComplexF64}}}, labelstensor1::NTuple{4, Int64}, tensor2::NDTensors.DenseTensor{Float64, 4, NTuple{4, Index{Int64}}, NDTensors.Dense{Float64, Vector{Float64}}}, labelstensor2::NTuple{4, Int64}, α::Int64, β::Int64)",
      "    @ NDTensors /local/alcalde/workprojects/forks/installed/ITensors.jl/NDTensors/src/tensoralgebra/generic_tensor_operations.jl:127",
      " [14] _contract!!",
      "    @ /local/alcalde/workprojects/forks/installed/ITensors.jl/NDTensors/src/tensoralgebra/generic_tensor_operations.jl:115 [inlined]",
      " [15] contract!!",
      "    @ /local/alcalde/workprojects/forks/installed/ITensors.jl/NDTensors/src/tensoralgebra/generic_tensor_operations.jl:176 [inlined]",
      " [16] contract!!",
      "    @ /local/alcalde/workprojects/forks/installed/ITensors.jl/NDTensors/src/tensoralgebra/generic_tensor_operations.jl:145 [inlined]",
      " [17] contract(tensor1::NDTensors.DenseTensor{ComplexF64, 4, NTuple{4, Index{Int64}}, NDTensors.Dense{ComplexF64, Vector{ComplexF64}}}, labelstensor1::NTuple{4, Int64}, tensor2::NDTensors.DenseTensor{Float64, 4, NTuple{4, Index{Int64}}, NDTensors.Dense{Float64, Vector{Float64}}}, labelstensor2::NTuple{4, Int64}, labelsoutput_tensor::Tuple{Int64, Int64})",
      "    @ NDTensors /local/alcalde/workprojects/forks/installed/ITensors.jl/NDTensors/src/tensoralgebra/generic_tensor_operations.jl:98",
      " [18] contract(::Type{NDTensors.CanContract{NDTensors.DenseTensor{ComplexF64, 4, NTuple{4, Index{Int64}}, NDTensors.Dense{ComplexF64, Vector{ComplexF64}}}, NDTensors.DenseTensor{Float64, 4, NTuple{4, Index{Int64}}, NDTensors.Dense{Float64, Vector{Float64}}}}}, tensor1::NDTensors.DenseTensor{ComplexF64, 4, NTuple{4, Index{Int64}}, NDTensors.Dense{ComplexF64, Vector{ComplexF64}}}, labels_tensor1::NTuple{4, Int64}, tensor2::NDTensors.DenseTensor{Float64, 4, NTuple{4, Index{Int64}}, NDTensors.Dense{Float64, Vector{Float64}}}, labels_tensor2::NTuple{4, Int64})",
      "    @ NDTensors /local/alcalde/workprojects/forks/installed/ITensors.jl/NDTensors/src/tensoralgebra/generic_tensor_operations.jl:76",
      " [19] contract",
      "    @ ~/.julia/packages/SimpleTraits/l1ZsK/src/SimpleTraits.jl:331 [inlined]",
      " [20] _contract(A::NDTensors.DenseTensor{ComplexF64, 4, NTuple{4, Index{Int64}}, NDTensors.Dense{ComplexF64, Vector{ComplexF64}}}, B::NDTensors.DenseTensor{Float64, 4, NTuple{4, Index{Int64}}, NDTensors.Dense{Float64, Vector{Float64}}})",
      "    @ ITensors /local/alcalde/workprojects/forks/installed/ITensors.jl/src/tensor_operations/tensor_algebra.jl:3",
      " [21] _contract(A::ITensor, B::ITensor)",
      "    @ ITensors /local/alcalde/workprojects/forks/installed/ITensors.jl/src/tensor_operations/tensor_algebra.jl:9",
      " [22] contract(A::ITensor, B::ITensor)",
      "    @ ITensors /local/alcalde/workprojects/forks/installed/ITensors.jl/src/tensor_operations/tensor_algebra.jl:104",
      " [23] #230",
      "    @ /local/alcalde/workprojects/forks/installed/ITensors.jl/src/tensor_operations/tensor_algebra.jl:190 [inlined]",
      " [24] BottomRF",
      "    @ ./reduce.jl:81 [inlined]",
      " [25] afoldl",
      "    @ ./operators.jl:550 [inlined]",
      " [26] _foldl_impl",
      "    @ ./tuple.jl:277 [inlined]",
      " [27] foldl_impl",
      "    @ ./reduce.jl:48 [inlined]",
      " [28] mapfoldl_impl",
      "    @ ./reduce.jl:44 [inlined]",
      " [29] #mapfoldl#259",
      "    @ ./reduce.jl:170 [inlined]",
      " [30] mapfoldl",
      "    @ ./reduce.jl:170 [inlined]",
      " [31] #foldl#260",
      "    @ ./reduce.jl:193 [inlined]",
      " [32] foldl",
      "    @ ./reduce.jl:193 [inlined]",
      " [33] contract(As::Tuple{ITensor, ITensor, ITensor}; sequence::String, kwargs::Base.Pairs{Symbol, Union{}, Tuple{}, NamedTuple{(), Tuple{}}})",
      "    @ ITensors /local/alcalde/workprojects/forks/installed/ITensors.jl/src/tensor_operations/tensor_algebra.jl:190",
      " [34] contract",
      "    @ /local/alcalde/workprojects/forks/installed/ITensors.jl/src/tensor_operations/tensor_algebra.jl:186 [inlined]",
      " [35] #contract#234",
      "    @ /local/alcalde/workprojects/forks/installed/ITensors.jl/src/tensor_operations/tensor_algebra.jl:200 [inlined]",
      " [36] contract",
      "    @ /local/alcalde/workprojects/forks/installed/ITensors.jl/src/tensor_operations/tensor_algebra.jl:200 [inlined]",
      " [37] #*#236",
      "    @ /local/alcalde/workprojects/forks/installed/ITensors.jl/src/tensor_operations/tensor_algebra.jl:210 [inlined]",
      " [38] *",
      "    @ /local/alcalde/workprojects/forks/installed/ITensors.jl/src/tensor_operations/tensor_algebra.jl:210 [inlined]",
      " [39] _contract(::Type{ITensor}, ψ::MPO, ϕ::MPO; kwargs::Base.Pairs{Symbol, Any, NTuple{4, Symbol}, NamedTuple{(:cutoff, :maxdim, :svd_alg, :move_sites_back), Tuple{Float64, Int64, String, Bool}}})",
      "    @ ITensors.ITensorChainRules /local/alcalde/workprojects/forks/installed/ITensors.jl/src/ITensorChainRules/mps/abstractmps.jl:53",
      " [40] (::ITensors.ITensorChainRules.var\"#apply_pullback#90\"{Bool, Base.Pairs{Symbol, Any, NTuple{4, Symbol}, NamedTuple{(:cutoff, :maxdim, :svd_alg, :move_sites_back), Tuple{Float64, Int64, String, Bool}}}, Vector{ITensor}, MPO, Vector{MPO}, Int64})(ȳ::ChainRulesCore.Tangent{Any, NamedTuple{(:data, :llim, :rlim), Tuple{Vector{ITensor}, ChainRulesCore.ZeroTangent, ChainRulesCore.ZeroTangent}}})",
      "    @ ITensors.ITensorChainRules /local/alcalde/workprojects/forks/installed/ITensors.jl/src/ITensorChainRules/mps/abstractmps.jl:112",
      " [41] ZBack",
      "    @ /local/alcalde/.julia/packages/Zygote/dABKa/src/compiler/chainrules.jl:206 [inlined]",
      " [42] (::Zygote.var\"#kw_zpullback#45\"{ITensors.ITensorChainRules.var\"#apply_pullback#90\"{Bool, Base.Pairs{Symbol, Any, NTuple{4, Symbol}, NamedTuple{(:cutoff, :maxdim, :svd_alg, :move_sites_back), Tuple{Float64, Int64, String, Bool}}}, Vector{ITensor}, MPO, Vector{MPO}, Int64}})(dy::Base.RefValue{Any})",
      "    @ Zygote /local/alcalde/.julia/packages/Zygote/dABKa/src/compiler/chainrules.jl:232",
      " [43] Pullback",
      "    @ ~/.julia/packages/PastaQ/D5CCg/src/circuits/runcircuit.jl:350 [inlined]",
      " [44] (::typeof(∂(#runcircuit#151)))(Δ::Base.RefValue{Any})",
      "    @ Zygote /local/alcalde/.julia/packages/Zygote/dABKa/src/compiler/interface2.jl:0",
      " [45] Pullback",
      "    @ ~/.julia/packages/PastaQ/D5CCg/src/circuits/runcircuit.jl:305 [inlined]",
      " [46] (::typeof(∂(runcircuit##kw)))(Δ::Base.RefValue{Any})",
      "    @ Zygote /local/alcalde/.julia/packages/Zygote/dABKa/src/compiler/interface2.jl:0",
      " [47] Pullback",
      "    @ ~/.julia/packages/PastaQ/D5CCg/src/circuits/runcircuit.jl:163 [inlined]",
      " [48] (::typeof(∂(#runcircuit#145)))(Δ::Base.RefValue{Any})",
      "    @ Zygote /local/alcalde/.julia/packages/Zygote/dABKa/src/compiler/interface2.jl:0",
      " [49] Pullback",
      "    @ ~/.julia/packages/PastaQ/D5CCg/src/circuits/runcircuit.jl:153 [inlined]",
      " [50] (::typeof(∂(runcircuit##kw)))(Δ::Base.RefValue{Any})",
      "    @ Zygote /local/alcalde/.julia/packages/Zygote/dABKa/src/compiler/interface2.jl:0",
      " [51] Pullback",
      "    @ /local/alcalde/workprojects/mVQE/mVQE/src/Circuits.jl:106 [inlined]",
      " [52] (::typeof(∂(#_#12)))(Δ::Base.RefValue{Any})",
      "    @ Zygote /local/alcalde/.julia/packages/Zygote/dABKa/src/compiler/interface2.jl:0",
      " [53] Pullback",
      "    @ /local/alcalde/workprojects/mVQE/mVQE/src/Circuits.jl:104 [inlined]",
      " [54] (::typeof(∂(Any##kw)))(Δ::Base.RefValue{Any})",
      "    @ Zygote /local/alcalde/.julia/packages/Zygote/dABKa/src/compiler/interface2.jl:0",
      " [55] Pullback",
      "    @ /local/alcalde/workprojects/mVQE/mVQE/src/FeedbackCircuits/FeedbackCircuits.jl:86 [inlined]",
      " [56] (::typeof(∂(#_#26)))(Δ::MPO)",
      "    @ Zygote /local/alcalde/.julia/packages/Zygote/dABKa/src/compiler/interface2.jl:0",
      " [57] Pullback",
      "    @ /local/alcalde/workprojects/mVQE/mVQE/src/FeedbackCircuits/FeedbackCircuits.jl:83 [inlined]",
      " [58] (::typeof(∂(Any##kw)))(Δ::MPO)",
      "    @ Zygote /local/alcalde/.julia/packages/Zygote/dABKa/src/compiler/interface2.jl:0",
      " [59] Pullback",
      "    @ /local/alcalde/workprojects/mVQE/mVQE/src/mVQE.jl:45 [inlined]",
      " [60] (::typeof(∂(#loss#3)))(Δ::Float64)",
      "    @ Zygote /local/alcalde/.julia/packages/Zygote/dABKa/src/compiler/interface2.jl:0",
      " [61] Pullback",
      "    @ /local/alcalde/workprojects/mVQE/mVQE/src/mVQE.jl:44 [inlined]",
      " [62] (::typeof(∂(loss##kw)))(Δ::Float64)",
      "    @ Zygote /local/alcalde/.julia/packages/Zygote/dABKa/src/compiler/interface2.jl:0",
      " [63] Pullback",
      "    @ /local/alcalde/workprojects/mVQE/mVQE/src/mVQE.jl:83 [inlined]",
      " [64] (::typeof(∂(λ)))(Δ::Float64)",
      "    @ Zygote /local/alcalde/.julia/packages/Zygote/dABKa/src/compiler/interface2.jl:0",
      " [65] (::Zygote.var\"#99#100\"{Params{Zygote.Buffer{Any, Vector{Any}}}, typeof(∂(λ)), Zygote.Context{true}})(Δ::Float64)",
      "    @ Zygote /local/alcalde/.julia/packages/Zygote/dABKa/src/compiler/interface.jl:378",
      " [66] withgradient(f::Function, args::Params{Zygote.Buffer{Any, Vector{Any}}})",
      "    @ Zygote /local/alcalde/.julia/packages/Zygote/dABKa/src/compiler/interface.jl:124",
      " [67] loss_and_grad(ψs::MPO, H::MPO, model::VariationalMeasurementMCFeedback; kwargs::Base.Pairs{Symbol, Bool, Tuple{Symbol}, NamedTuple{(:verbose,), Tuple{Bool}}})",
      "    @ mVQE /local/alcalde/workprojects/mVQE/mVQE/src/mVQE.jl:82",
      " [68] loss_and_grad(ψs::MPO, H::MPO, model::VariationalMeasurementMCFeedback, samples::Int64; kwargs::Base.Pairs{Symbol, Bool, Tuple{Symbol}, NamedTuple{(:verbose,), Tuple{Bool}}})",
      "    @ mVQE /local/alcalde/workprojects/mVQE/mVQE/src/mVQE.jl:91",
      " [69] loss_and_grad_serial",
      "    @ /local/alcalde/workprojects/mVQE/mVQE/src/mVQE.jl:164 [inlined]",
      " [70] optimize(loss_and_grad::mVQE.var\"#loss_and_grad_serial#68\"{Int64, Base.Pairs{Symbol, Bool, Tuple{Symbol}, NamedTuple{(:verbose,), Tuple{Bool}}}, MPO, MPO}, θ::VariationalMeasurementMCFeedback, optimizer::OptimizerWrapper; finalize!::typeof(OptimKit._finalize!))",
      "    @ mVQE.Optimizers /local/alcalde/workprojects/mVQE/mVQE/src/Optimizers.jl:25",
      " [71] optimize",
      "    @ /local/alcalde/workprojects/mVQE/mVQE/src/Optimizers.jl:17 [inlined]",
      " [72] optimize_and_evolve(ψs::MPO, H::MPO, model::VariationalMeasurementMCFeedback; optimizer::OptimizerWrapper, samples::Int64, parallel::Bool, threaded::Bool, kwargs::Base.Pairs{Symbol, Bool, Tuple{Symbol}, NamedTuple{(:verbose,), Tuple{Bool}}})",
      "    @ mVQE /local/alcalde/workprojects/mVQE/mVQE/src/mVQE.jl:167",
      " [73] top-level scope",
      "    @ In[62]:1",
      " [74] eval",
      "    @ ./boot.jl:368 [inlined]"
     ]
    }
   ],
   "source": [
    "loss_value, trained_model, ρ, misc = optimize_and_evolve(ρ, Htot, model; samples=10,\n",
    "                                           optimizer=optimzer, verbose=true, parallel=false)"
   ]
  },
  {
   "cell_type": "code",
   "execution_count": 94,
   "id": "2e763792",
   "metadata": {},
   "outputs": [
    {
     "data": {
      "text/plain": [
       "Dict{String, Any} with 4 entries:\n",
       "  \"niter\"    => 0\n",
       "  \"history\"  => [0.0 0.0 0.0; 0.0 0.0 6.92085e-310; … ; 0.0 0.0 0.0; 0.0 0.0 0.…\n",
       "  \"gradient\" => Grads(...)\n",
       "  \"loss\"     => 0.740741"
      ]
     },
     "execution_count": 94,
     "metadata": {},
     "output_type": "execute_result"
    }
   ],
   "source": [
    "misc"
   ]
  }
 ],
 "metadata": {
  "@webio": {
   "lastCommId": null,
   "lastKernelId": null
  },
  "kernelspec": {
   "display_name": "Julia 1.8.5",
   "language": "julia",
   "name": "julia-1.8"
  },
  "language_info": {
   "file_extension": ".jl",
   "mimetype": "application/julia",
   "name": "julia",
   "version": "1.8.5"
  }
 },
 "nbformat": 4,
 "nbformat_minor": 5
}
