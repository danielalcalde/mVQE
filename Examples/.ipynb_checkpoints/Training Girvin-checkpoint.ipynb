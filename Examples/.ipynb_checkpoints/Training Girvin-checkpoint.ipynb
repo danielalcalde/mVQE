{
 "cells": [
  {
   "cell_type": "code",
   "execution_count": 1,
   "id": "0c72af88",
   "metadata": {},
   "outputs": [
    {
     "name": "stderr",
     "output_type": "stream",
     "text": [
      "┌ Info: Precompiling mVQE [fbf8b4f3-d5ee-4fcd-97a7-1cb357585aed]\n",
      "└ @ Base loading.jl:1664\n"
     ]
    }
   ],
   "source": [
    "using Revise\n",
    "using PastaQ\n",
    "using ITensors\n",
    "using Random\n",
    "using OptimKit\n",
    "using Zygote\n",
    "using Zygote: ChainRulesCore\n",
    "using BenchmarkTools\n",
    "using LinearAlgebra\n",
    "using JLD2\n",
    "using Flux\n",
    "using PyCall\n",
    "using SymPy\n",
    "using QOS\n",
    "\n",
    "import mVQE\n",
    "using mVQE.Hamiltonians: hamiltonian_tfi, hamiltonian_ghz, hamiltonian_aklt_half\n",
    "using mVQE.ITensorsExtension: projective_measurement\n",
    "using mVQE: loss, optimize_and_evolve\n",
    "using mVQE.Circuits: AbstractVariationalCircuit, VariationalCircuitRy, VariationalMeasurement, VariationalMeasurementMC, VariationalMeasurementMCFeedback\n",
    "using mVQE.Misc: get_ancillas_indices, pprint\n",
    "using mVQE.Optimizers: OptimizerWrapper\n",
    "using mVQE.pyflexmps: pfs"
   ]
  },
  {
   "cell_type": "code",
   "execution_count": 2,
   "id": "2c517022",
   "metadata": {},
   "outputs": [
    {
     "data": {
      "text/plain": [
       "([2, 3, 4, 5, 8, 9, 10, 11, 14, 15  …  46, 47, 50, 51, 52, 53, 56, 57, 58, 59], [1, 6, 7, 12, 13, 18, 19, 24, 25, 30, 31, 36, 37, 42, 43, 48, 49, 54, 55, 60], 60)"
      ]
     },
     "execution_count": 2,
     "metadata": {},
     "output_type": "execute_result"
    }
   ],
   "source": [
    "N_state = 4 * 10\n",
    "state_indices, ancilla_indices, N = get_ancillas_indices(N_state, [false, true, true, true, true, false])\n",
    "hilbert = qubits(N)\n",
    "\n",
    "hilbert_state = hilbert[state_indices]\n",
    "hilbert_ancilla = hilbert[ancilla_indices]\n",
    "\n",
    "ψ = productstate(hilbert, fill(0, N))\n",
    "aklts = mVQE.StateFactory.AKLT_halfs(hilbert[state_indices], basis=\"girvin\");\n",
    "state_indices, ancilla_indices, N"
   ]
  },
  {
   "cell_type": "code",
   "execution_count": 4,
   "id": "e31ecab5",
   "metadata": {},
   "outputs": [],
   "source": [
    "aklts = mVQE.StateFactory.AKLT_halfs(hilbert[state_indices], basis=\"girvin\")\n",
    "H, = hamiltonian_aklt_half(hilbert_state)\n",
    "Htot, Htot_aklt, Htot_spin1 = hamiltonian_aklt_half(hilbert, sublattice=state_indices);"
   ]
  },
  {
   "cell_type": "code",
   "execution_count": 5,
   "id": "260fe3b3",
   "metadata": {},
   "outputs": [],
   "source": [
    "gcirc = mVQE.GirvinProtocol.GirvinCircuitIdeal(N_state);\n",
    "corrcirc = mVQE.GirvinProtocol.GirvinCorrCircuit();"
   ]
  },
  {
   "cell_type": "code",
   "execution_count": 7,
   "id": "692a0375",
   "metadata": {},
   "outputs": [
    {
     "data": {
      "text/plain": [
       "-6.882602868059423e-15 - 7.676294750471858e-17im"
      ]
     },
     "execution_count": 7,
     "metadata": {},
     "output_type": "execute_result"
    }
   ],
   "source": [
    "ψ2 = gcirc(ψ);\n",
    "ψp, measurement = mVQE.ITensorsExtension.projective_measurement_sample(ψ2; indices=ancilla_indices)\n",
    "params = mVQE.GirvinProtocol.param_correction_gates(measurement.-1);\n",
    "ψp_corr = corrcirc(ψp; params)\n",
    "inner(ψp_corr, Htot, ψp_corr')"
   ]
  },
  {
   "cell_type": "markdown",
   "id": "62d0ba01",
   "metadata": {},
   "source": [
    "VariationalMeasurementMCFeedback"
   ]
  },
  {
   "cell_type": "code",
   "execution_count": 9,
   "id": "64d414d4",
   "metadata": {},
   "outputs": [],
   "source": [
    "vmodels = [mVQE.GirvinProtocol.GirvinCircuitIdeal(N_state), mVQE.GirvinProtocol.GirvinCorrCircuit(Int(N_state/2))]\n",
    "\n",
    "g(a, b)= mVQE.GirvinProtocol.param_correction_gates\n",
    "    \n",
    "model = VariationalMeasurementMCFeedback(vmodels, [g], ancilla_indices);"
   ]
  },
  {
   "cell_type": "code",
   "execution_count": 10,
   "id": "13a7d782",
   "metadata": {},
   "outputs": [
    {
     "data": {
      "text/plain": [
       "-6.188428499515139e-15 + 7.64989366586741e-17im"
      ]
     },
     "execution_count": 10,
     "metadata": {},
     "output_type": "execute_result"
    }
   ],
   "source": [
    "ψ_aklt = model(ψ);\n",
    "inner(ψ_aklt, Htot, ψ_aklt')"
   ]
  },
  {
   "cell_type": "code",
   "execution_count": null,
   "id": "cd3fad22",
   "metadata": {},
   "outputs": [],
   "source": []
  }
 ],
 "metadata": {
  "@webio": {
   "lastCommId": null,
   "lastKernelId": null
  },
  "kernelspec": {
   "display_name": "Julia 1.8.5",
   "language": "julia",
   "name": "julia-1.8"
  },
  "language_info": {
   "file_extension": ".jl",
   "mimetype": "application/julia",
   "name": "julia",
   "version": "1.8.5"
  }
 },
 "nbformat": 4,
 "nbformat_minor": 5
}
