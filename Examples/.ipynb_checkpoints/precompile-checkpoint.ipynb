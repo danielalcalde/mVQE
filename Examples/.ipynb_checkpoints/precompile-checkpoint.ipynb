{
 "cells": [
  {
   "cell_type": "code",
   "execution_count": 1,
   "id": "74e62c42",
   "metadata": {},
   "outputs": [],
   "source": [
    "using SnoopCompile\n",
    "import Core\n",
    "Core.String(e::Expr) = repr(e)\n",
    "\n",
    "data = SnoopCompile.read(\"./colortypes_compiles.log\")\n",
    "\n",
    "pc = SnoopCompile.parcel(reverse!(data[2]))\n"
   ]
  },
  {
   "cell_type": "code",
   "execution_count": 22,
   "id": "0ba11092",
   "metadata": {},
   "outputs": [
    {
     "data": {
      "text/plain": [
       "write (generic function with 1 method)"
      ]
     },
     "execution_count": 22,
     "metadata": {},
     "output_type": "execute_result"
    }
   ],
   "source": [
    "function write(prefix::AbstractString, pc::Dict; always::Bool = false)\n",
    "    if !isdir(prefix)\n",
    "        mkpath(prefix)\n",
    "    end\n",
    "    for (k, v) in pc\n",
    "        open(joinpath(prefix, \"precompile_$k.jl\"), \"w\") do io\n",
    "            println(io, SnoopCompile.warnpcfail_str, '\\n')\n",
    "            if any(str->occursin(\"__lookup\", str), v)\n",
    "                println(io, SnoopCompile.lookup_kwbody_str)\n",
    "            end\n",
    "            if k != \"Base\"\n",
    "                println(io, \"\"\"\n",
    "    if !(\"$k\" in keys(Pkg.installed()))\n",
    "        Pkg.add(\"$k\")\n",
    "    end\n",
    "    using $k \\n\"\"\")\n",
    "            end\n",
    "            println(io, \"function _precompile_()\")\n",
    "            !always && println(io, \"    ccall(:jl_generating_output, Cint, ()) == 1 || return nothing\")\n",
    "            for ln in sort(v)\n",
    "                println(io, \"    @warnpcfail \", ln)\n",
    "            end\n",
    "            println(io, \"end\")\n",
    "        end\n",
    "    end\n",
    "end"
   ]
  },
  {
   "cell_type": "code",
   "execution_count": 23,
   "id": "03e46c47",
   "metadata": {},
   "outputs": [],
   "source": [
    "write(\"./precompile2\", pc; always=true)"
   ]
  },
  {
   "cell_type": "code",
   "execution_count": null,
   "id": "6027866c",
   "metadata": {},
   "outputs": [],
   "source": []
  }
 ],
 "metadata": {
  "kernelspec": {
   "display_name": "Julia 1.8.5",
   "language": "julia",
   "name": "julia-1.8"
  },
  "language_info": {
   "file_extension": ".jl",
   "mimetype": "application/julia",
   "name": "julia",
   "version": "1.8.5"
  },
  "toc": {
   "base_numbering": 1,
   "nav_menu": {},
   "number_sections": true,
   "sideBar": true,
   "skip_h1_title": false,
   "title_cell": "Table of Contents",
   "title_sidebar": "Contents",
   "toc_cell": false,
   "toc_position": {},
   "toc_section_display": true,
   "toc_window_display": false
  }
 },
 "nbformat": 4,
 "nbformat_minor": 5
}
