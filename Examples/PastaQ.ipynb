{
 "cells": [
  {
   "cell_type": "code",
   "execution_count": 2,
   "id": "3ea894af",
   "metadata": {},
   "outputs": [],
   "source": [
    "using PastaQ\n",
    "using ITensors\n",
    "using Random\n",
    "using Printf\n",
    "using OptimKit\n",
    "using Zygote"
   ]
  },
  {
   "cell_type": "code",
   "execution_count": 3,
   "id": "e9351972",
   "metadata": {},
   "outputs": [
    {
     "data": {
      "text/plain": [
       "hamiltonian_ancillas (generic function with 1 method)"
      ]
     },
     "execution_count": 3,
     "metadata": {},
     "output_type": "execute_result"
    }
   ],
   "source": [
    "function hamiltonian(N)\n",
    "    os = OpSum()\n",
    "  \n",
    "    os += -J, \"Z\", 1, \"Z\", 2\n",
    "    os += -J, \"X\", 1, \"X\", 2\n",
    "    \n",
    "    return os\n",
    "end\n",
    "\n",
    "function hamiltonian_ancillas(N)\n",
    "    os = OpSum()\n",
    "  \n",
    "    os += -J, \"Z\", 1, \"Z\", 3\n",
    "    os += -J, \"X\", 1, \"X\", 3\n",
    "    \n",
    "    return os\n",
    "end"
   ]
  },
  {
   "cell_type": "code",
   "execution_count": 4,
   "id": "78ccf906",
   "metadata": {},
   "outputs": [
    {
     "name": "stdout",
     "output_type": "stream",
     "text": [
      "\n",
      "Ground state energy from DMRG: -2.0000000000\n",
      "\n"
     ]
    }
   ],
   "source": [
    "N = 3   # number of qubits\n",
    "J = 1.0  # Ising exchange interaction\n",
    "h = 1.  # transverse magnetic field\n",
    "\n",
    "# Hilbert space\n",
    "hilbert = qubits(N)\n",
    "\n",
    "# define the Hamiltonian\n",
    "os = hamiltonian(N)\n",
    "os_ancillas = hamiltonian_ancillas(N)\n",
    "\n",
    "# build MPO \"cost function\"\n",
    "H = MPO(os, hilbert)\n",
    "H2 = MPO(os_ancillas, hilbert)\n",
    "\n",
    "# find ground state with DMRG\n",
    "\n",
    "nsweeps = 100\n",
    "maxdims = [10, 20, 30, 50, 100]\n",
    "cutoff_ = 1e-10\n",
    "\n",
    "start_mps = randomMPS(hilbert, linkdims=10)\n",
    "Edmrg, Φ = dmrg(H2, start_mps; outputlevel=0, nsweeps, maxdims, cutoff_);\n",
    "@printf(\"\\nGround state energy from DMRG: %.10f\\n\\n\", Edmrg)"
   ]
  },
  {
   "cell_type": "code",
   "execution_count": 5,
   "id": "bbb27670",
   "metadata": {},
   "outputs": [
    {
     "data": {
      "text/plain": [
       "Dim 1: (dim=2|id=61|\"Qubit,Site,n=1\")\n",
       "Dim 2: (dim=2|id=240|\"Qubit,Site,n=2\")\n",
       "Dim 3: (dim=2|id=995|\"Qubit,Site,n=3\")\n",
       "NDTensors.Dense{Float64, Vector{Float64}}\n",
       " 2×2×2\n",
       "[:, :, 1] =\n",
       " -0.6481410476285797     -0.2826891974924541\n",
       "  1.699693154267482e-17   4.654229393228718e-16\n",
       "\n",
       "[:, :, 2] =\n",
       " -9.77658610126822e-16   1.9511105818827065e-16\n",
       " -0.6481410476285778    -0.28268919749245586"
      ]
     },
     "execution_count": 5,
     "metadata": {},
     "output_type": "execute_result"
    }
   ],
   "source": [
    "full = contract(Φ.data)\n",
    "full.tensor"
   ]
  },
  {
   "cell_type": "code",
   "execution_count": 6,
   "id": "dd1f313e",
   "metadata": {},
   "outputs": [
    {
     "data": {
      "text/plain": [
       "Dim 1: 2\n",
       "Dim 2: 2\n",
       "NDTensors.Dense{Float64, Base.ReshapedArray{Float64, 1, SubArray{Float64, 2, Array{Float64, 3}, Tuple{Base.Slice{Base.OneTo{Int64}}, Int64, Base.Slice{Base.OneTo{Int64}}}, false}, Tuple{Base.MultiplicativeInverses.SignedMultiplicativeInverse{Int64}}}}\n",
       " 2×2\n",
       " -0.2826891974924541      1.9511105818827065e-16\n",
       "  4.654229393228718e-16  -0.28268919749245586"
      ]
     },
     "execution_count": 6,
     "metadata": {},
     "output_type": "execute_result"
    }
   ],
   "source": [
    "full.tensor[:, 2, :]"
   ]
  },
  {
   "cell_type": "code",
   "execution_count": 7,
   "id": "6087b0ef",
   "metadata": {},
   "outputs": [
    {
     "data": {
      "text/plain": [
       "variationalcircuit (generic function with 1 method)"
      ]
     },
     "execution_count": 7,
     "metadata": {},
     "output_type": "execute_result"
    }
   ],
   "source": [
    "# layer of single-qubit Ry gates\n",
    "Rylayer(N, θ) = [(\"Ry\", j, (θ=θ[j],)) for j in 1:N]\n",
    "\n",
    "# brick-layer of CX gates\n",
    "function CXlayer(N, Π)\n",
    "  start = isodd(Π) ? 1 : 2\n",
    "  return [(\"CX\", (j, j + 1)) for j in start:2:(N - 1)]\n",
    "end\n",
    "\n",
    "# variational ansatz\n",
    "function variationalcircuit(N, depth, θ)\n",
    "  circuit = Tuple[]\n",
    "  for d in 1:depth\n",
    "    circuit = vcat(circuit, CXlayer(N, d))\n",
    "    circuit = vcat(circuit, Rylayer(N, θ[d]))\n",
    "  end\n",
    "  return circuit\n",
    "end"
   ]
  },
  {
   "cell_type": "code",
   "execution_count": 8,
   "id": "c01f59c3",
   "metadata": {},
   "outputs": [
    {
     "data": {
      "text/plain": [
       "2×4 Matrix{Int64}:\n",
       " 0  0  1  1\n",
       " 0  1  0  1"
      ]
     },
     "execution_count": 8,
     "metadata": {},
     "output_type": "execute_result"
    }
   ],
   "source": [
    "function get_bit_string(n)\n",
    "    b = Matrix{Int}(undef, n, 2^n)\n",
    "    for i = 0:2^(n)-1\n",
    "        s = bitstring(i)\n",
    "        b[:, i+1] .= [Int(i)-48 for i in s[length(s)-n+1:end]]\n",
    "    end\n",
    "    return b\n",
    "end\n",
    "get_bit_string(2)"
   ]
  },
  {
   "cell_type": "code",
   "execution_count": 9,
   "id": "36c706fe",
   "metadata": {},
   "outputs": [
    {
     "name": "stdout",
     "output_type": "stream",
     "text": [
      "[0, 0, 0]\n",
      "[0, 0, 1]\n",
      "[1, 0, 0]\n",
      "[1, 0, 1]\n"
     ]
    }
   ],
   "source": [
    "ψs = Vector{MPS}(undef, 4)\n",
    "states = get_bit_string(2)\n",
    "for i in 1:size(states, 2)\n",
    "    state = zeros(Int, 3)\n",
    "    state[[1, 3]] = states[:, i]\n",
    "    #state = states[:, i]\n",
    "    ψs[i] = productstate(hilbert, state)\n",
    "    println(state)\n",
    "end"
   ]
  },
  {
   "cell_type": "code",
   "execution_count": 10,
   "id": "70289c37",
   "metadata": {},
   "outputs": [
    {
     "data": {
      "text/plain": [
       "loss_and_grad (generic function with 1 method)"
      ]
     },
     "execution_count": 10,
     "metadata": {},
     "output_type": "execute_result"
    }
   ],
   "source": [
    "depth = 10\n",
    "ψ = productstate(hilbert)\n",
    "\n",
    "cutoffs = 1e-8\n",
    "maxdims = 50\n",
    "\n",
    "# cost function\n",
    "function loss(θ)\n",
    "  circuit = variationalcircuit(N, depth, θ)\n",
    "  Uψ = runcircuit(ψ, circuit; cutoffs, maxdims)\n",
    "  return inner(Uψ', H, Uψ; cutoffs, maxdims)\n",
    "end\n",
    "\n",
    "# cost function\n",
    "\n",
    "function loss_stat(θ)\n",
    "    circuit = variationalcircuit(N, depth, θ)\n",
    "    \n",
    "    E = 0\n",
    "    for i in 1:length(ψs)\n",
    "        Uψ = runcircuit(ψs[i], circuit; cutoffs, maxdims)\n",
    "        E += inner(Uψ', H, Uψ; cutoffs, maxdims)\n",
    "    end\n",
    "    \n",
    "    return E / length(ψs)\n",
    "end\n",
    "\n",
    "function loss(θ, ψ)\n",
    "  circuit = variationalcircuit(N, depth, θ)\n",
    "  Uψ = runcircuit(ψ, circuit; cutoffs, maxdims)\n",
    "  return inner(Uψ', H, Uψ; cutoffs, maxdims)\n",
    "end\n",
    "\n",
    "Random.seed!(1234)\n",
    "\n",
    "# initialize parameters\n",
    "θ₀ = [2π .* rand(N) for _ in 1:depth]\n",
    "\n",
    "# run VQE using BFGS optimization\n",
    "optimizer = LBFGS(; maxiter=50, verbosity=2)\n",
    "function loss_and_grad(x)\n",
    "  y, (∇,) = withgradient(loss_stat, x)\n",
    "    display(y)\n",
    "  return y, ∇\n",
    "end"
   ]
  },
  {
   "cell_type": "code",
   "execution_count": 11,
   "id": "a4b9053e",
   "metadata": {
    "scrolled": true
   },
   "outputs": [
    {
     "data": {
      "text/plain": [
       "-0.24634870646683624"
      ]
     },
     "metadata": {},
     "output_type": "display_data"
    },
    {
     "name": "stderr",
     "output_type": "stream",
     "text": [
      "┌ Info: LBFGS: initializing with f = -0.246348706467, ‖∇f‖ = 7.0745e-01\n",
      "└ @ OptimKit /Users/alcalde/.julia/packages/OptimKit/xpmbV/src/lbfgs.jl:35\n"
     ]
    },
    {
     "data": {
      "text/plain": [
       "-0.8693064170989728"
      ]
     },
     "metadata": {},
     "output_type": "display_data"
    },
    {
     "name": "stderr",
     "output_type": "stream",
     "text": [
      "┌ Info: LBFGS: iter    1: f = -0.869306417099, ‖∇f‖ = 5.0313e-01, α = 1.00e+00, m = 0, nfg = 1\n",
      "└ @ OptimKit /Users/alcalde/.julia/packages/OptimKit/xpmbV/src/lbfgs.jl:76\n"
     ]
    },
    {
     "data": {
      "text/plain": [
       "-0.44447745646840453"
      ]
     },
     "metadata": {},
     "output_type": "display_data"
    },
    {
     "data": {
      "text/plain": [
       "-0.8628804915201725"
      ]
     },
     "metadata": {},
     "output_type": "display_data"
    },
    {
     "data": {
      "text/plain": [
       "-0.9448447790765421"
      ]
     },
     "metadata": {},
     "output_type": "display_data"
    },
    {
     "name": "stderr",
     "output_type": "stream",
     "text": [
      "┌ Info: LBFGS: iter    2: f = -0.944844779077, ‖∇f‖ = 5.3737e-01, α = 2.52e-01, m = 1, nfg = 3\n",
      "└ @ OptimKit /Users/alcalde/.julia/packages/OptimKit/xpmbV/src/lbfgs.jl:76\n"
     ]
    },
    {
     "data": {
      "text/plain": [
       "-0.9785074811470253"
      ]
     },
     "metadata": {},
     "output_type": "display_data"
    },
    {
     "name": "stderr",
     "output_type": "stream",
     "text": [
      "┌ Info: LBFGS: iter    3: f = -0.978507481147, ‖∇f‖ = 2.4743e-01, α = 1.00e+00, m = 2, nfg = 1\n",
      "└ @ OptimKit /Users/alcalde/.julia/packages/OptimKit/xpmbV/src/lbfgs.jl:76\n"
     ]
    },
    {
     "data": {
      "text/plain": [
       "-0.9925011273596465"
      ]
     },
     "metadata": {},
     "output_type": "display_data"
    },
    {
     "name": "stderr",
     "output_type": "stream",
     "text": [
      "┌ Info: LBFGS: iter    4: f = -0.992501127360, ‖∇f‖ = 1.1468e-01, α = 1.00e+00, m = 3, nfg = 1\n",
      "└ @ OptimKit /Users/alcalde/.julia/packages/OptimKit/xpmbV/src/lbfgs.jl:76\n"
     ]
    },
    {
     "data": {
      "text/plain": [
       "-0.9972754904306697"
      ]
     },
     "metadata": {},
     "output_type": "display_data"
    },
    {
     "name": "stderr",
     "output_type": "stream",
     "text": [
      "┌ Info: LBFGS: iter    5: f = -0.997275490431, ‖∇f‖ = 4.6177e-02, α = 1.00e+00, m = 4, nfg = 1\n",
      "└ @ OptimKit /Users/alcalde/.julia/packages/OptimKit/xpmbV/src/lbfgs.jl:76\n"
     ]
    },
    {
     "data": {
      "text/plain": [
       "-0.9988485422681787"
      ]
     },
     "metadata": {},
     "output_type": "display_data"
    },
    {
     "name": "stderr",
     "output_type": "stream",
     "text": [
      "┌ Info: LBFGS: iter    6: f = -0.998848542268, ‖∇f‖ = 2.7349e-02, α = 1.00e+00, m = 5, nfg = 1\n",
      "└ @ OptimKit /Users/alcalde/.julia/packages/OptimKit/xpmbV/src/lbfgs.jl:76\n"
     ]
    },
    {
     "data": {
      "text/plain": [
       "-0.999795216868705"
      ]
     },
     "metadata": {},
     "output_type": "display_data"
    },
    {
     "name": "stderr",
     "output_type": "stream",
     "text": [
      "┌ Info: LBFGS: iter    7: f = -0.999795216869, ‖∇f‖ = 2.5986e-02, α = 1.00e+00, m = 6, nfg = 1\n",
      "└ @ OptimKit /Users/alcalde/.julia/packages/OptimKit/xpmbV/src/lbfgs.jl:76\n"
     ]
    },
    {
     "data": {
      "text/plain": [
       "-0.9999459476739985"
      ]
     },
     "metadata": {},
     "output_type": "display_data"
    },
    {
     "name": "stderr",
     "output_type": "stream",
     "text": [
      "┌ Info: LBFGS: iter    8: f = -0.999945947674, ‖∇f‖ = 1.3431e-02, α = 1.00e+00, m = 7, nfg = 1\n",
      "└ @ OptimKit /Users/alcalde/.julia/packages/OptimKit/xpmbV/src/lbfgs.jl:76\n"
     ]
    },
    {
     "data": {
      "text/plain": [
       "-0.9999802809186586"
      ]
     },
     "metadata": {},
     "output_type": "display_data"
    },
    {
     "name": "stderr",
     "output_type": "stream",
     "text": [
      "┌ Info: LBFGS: iter    9: f = -0.999980280919, ‖∇f‖ = 2.9419e-03, α = 1.00e+00, m = 8, nfg = 1\n",
      "└ @ OptimKit /Users/alcalde/.julia/packages/OptimKit/xpmbV/src/lbfgs.jl:76\n"
     ]
    },
    {
     "data": {
      "text/plain": [
       "-0.9999841747986926"
      ]
     },
     "metadata": {},
     "output_type": "display_data"
    },
    {
     "name": "stderr",
     "output_type": "stream",
     "text": [
      "┌ Info: LBFGS: iter   10: f = -0.999984174799, ‖∇f‖ = 2.4000e-03, α = 1.00e+00, m = 8, nfg = 1\n",
      "└ @ OptimKit /Users/alcalde/.julia/packages/OptimKit/xpmbV/src/lbfgs.jl:76\n"
     ]
    },
    {
     "data": {
      "text/plain": [
       "-0.9999938065679221"
      ]
     },
     "metadata": {},
     "output_type": "display_data"
    },
    {
     "name": "stderr",
     "output_type": "stream",
     "text": [
      "┌ Info: LBFGS: iter   11: f = -0.999993806568, ‖∇f‖ = 2.3928e-03, α = 1.00e+00, m = 8, nfg = 1\n",
      "└ @ OptimKit /Users/alcalde/.julia/packages/OptimKit/xpmbV/src/lbfgs.jl:76\n"
     ]
    },
    {
     "data": {
      "text/plain": [
       "-0.99999841846069"
      ]
     },
     "metadata": {},
     "output_type": "display_data"
    },
    {
     "name": "stderr",
     "output_type": "stream",
     "text": [
      "┌ Info: LBFGS: iter   12: f = -0.999998418461, ‖∇f‖ = 3.0515e-03, α = 1.00e+00, m = 8, nfg = 1\n",
      "└ @ OptimKit /Users/alcalde/.julia/packages/OptimKit/xpmbV/src/lbfgs.jl:76\n"
     ]
    },
    {
     "data": {
      "text/plain": [
       "-0.9999929962254839"
      ]
     },
     "metadata": {},
     "output_type": "display_data"
    },
    {
     "data": {
      "text/plain": [
       "-0.9999995576058223"
      ]
     },
     "metadata": {},
     "output_type": "display_data"
    },
    {
     "name": "stderr",
     "output_type": "stream",
     "text": [
      "┌ Info: LBFGS: iter   13: f = -0.999999557606, ‖∇f‖ = 1.2483e-03, α = 2.94e-01, m = 8, nfg = 2\n",
      "└ @ OptimKit /Users/alcalde/.julia/packages/OptimKit/xpmbV/src/lbfgs.jl:76\n"
     ]
    },
    {
     "data": {
      "text/plain": [
       "-0.9999999030505893"
      ]
     },
     "metadata": {},
     "output_type": "display_data"
    },
    {
     "name": "stderr",
     "output_type": "stream",
     "text": [
      "┌ Info: LBFGS: iter   14: f = -0.999999903051, ‖∇f‖ = 4.9490e-04, α = 1.00e+00, m = 8, nfg = 1\n",
      "└ @ OptimKit /Users/alcalde/.julia/packages/OptimKit/xpmbV/src/lbfgs.jl:76\n"
     ]
    },
    {
     "data": {
      "text/plain": [
       "-0.9999999875003937"
      ]
     },
     "metadata": {},
     "output_type": "display_data"
    },
    {
     "name": "stderr",
     "output_type": "stream",
     "text": [
      "┌ Info: LBFGS: iter   15: f = -0.999999987500, ‖∇f‖ = 1.5015e-04, α = 1.00e+00, m = 8, nfg = 1\n",
      "└ @ OptimKit /Users/alcalde/.julia/packages/OptimKit/xpmbV/src/lbfgs.jl:76\n"
     ]
    },
    {
     "data": {
      "text/plain": [
       "-0.9999999977335493"
      ]
     },
     "metadata": {},
     "output_type": "display_data"
    },
    {
     "name": "stderr",
     "output_type": "stream",
     "text": [
      "┌ Info: LBFGS: iter   16: f = -0.999999997734, ‖∇f‖ = 7.4821e-05, α = 1.00e+00, m = 8, nfg = 1\n",
      "└ @ OptimKit /Users/alcalde/.julia/packages/OptimKit/xpmbV/src/lbfgs.jl:76\n"
     ]
    },
    {
     "data": {
      "text/plain": [
       "-0.999999999950524"
      ]
     },
     "metadata": {},
     "output_type": "display_data"
    },
    {
     "name": "stderr",
     "output_type": "stream",
     "text": [
      "┌ Info: LBFGS: iter   17: f = -0.999999999951, ‖∇f‖ = 1.6146e-05, α = 1.00e+00, m = 8, nfg = 1\n",
      "└ @ OptimKit /Users/alcalde/.julia/packages/OptimKit/xpmbV/src/lbfgs.jl:76\n"
     ]
    },
    {
     "data": {
      "text/plain": [
       "-0.9999999999964447"
      ]
     },
     "metadata": {},
     "output_type": "display_data"
    },
    {
     "name": "stderr",
     "output_type": "stream",
     "text": [
      "┌ Info: LBFGS: iter   18: f = -0.999999999996, ‖∇f‖ = 3.0780e-06, α = 1.00e+00, m = 8, nfg = 1\n",
      "└ @ OptimKit /Users/alcalde/.julia/packages/OptimKit/xpmbV/src/lbfgs.jl:76\n"
     ]
    },
    {
     "data": {
      "text/plain": [
       "-0.9999999999993052"
      ]
     },
     "metadata": {},
     "output_type": "display_data"
    },
    {
     "name": "stderr",
     "output_type": "stream",
     "text": [
      "┌ Info: LBFGS: iter   19: f = -0.999999999999, ‖∇f‖ = 1.2507e-06, α = 1.00e+00, m = 8, nfg = 1\n",
      "└ @ OptimKit /Users/alcalde/.julia/packages/OptimKit/xpmbV/src/lbfgs.jl:76\n"
     ]
    },
    {
     "data": {
      "text/plain": [
       "-1.0000000000000004"
      ]
     },
     "metadata": {},
     "output_type": "display_data"
    },
    {
     "name": "stderr",
     "output_type": "stream",
     "text": [
      "┌ Info: LBFGS: iter   20: f = -1.000000000000, ‖∇f‖ = 6.5563e-08, α = 1.00e+00, m = 8, nfg = 1\n",
      "└ @ OptimKit /Users/alcalde/.julia/packages/OptimKit/xpmbV/src/lbfgs.jl:76\n"
     ]
    },
    {
     "data": {
      "text/plain": [
       "-1.0000000000000004"
      ]
     },
     "metadata": {},
     "output_type": "display_data"
    },
    {
     "name": "stderr",
     "output_type": "stream",
     "text": [
      "┌ Info: LBFGS: iter   21: f = -1.000000000000, ‖∇f‖ = 3.8609e-08, α = 1.00e+00, m = 8, nfg = 1\n",
      "└ @ OptimKit /Users/alcalde/.julia/packages/OptimKit/xpmbV/src/lbfgs.jl:76\n"
     ]
    },
    {
     "data": {
      "text/plain": [
       "-1.0000000000000016"
      ]
     },
     "metadata": {},
     "output_type": "display_data"
    },
    {
     "name": "stderr",
     "output_type": "stream",
     "text": [
      "┌ Info: LBFGS: iter   22: f = -1.000000000000, ‖∇f‖ = 1.1994e-08, α = 1.00e+00, m = 8, nfg = 1\n",
      "└ @ OptimKit /Users/alcalde/.julia/packages/OptimKit/xpmbV/src/lbfgs.jl:76\n"
     ]
    },
    {
     "data": {
      "text/plain": [
       "-0.9999999999999984"
      ]
     },
     "metadata": {},
     "output_type": "display_data"
    },
    {
     "name": "stderr",
     "output_type": "stream",
     "text": [
      "┌ Info: LBFGS: iter   23: f = -1.000000000000, ‖∇f‖ = 1.7095e-08, α = 1.00e+00, m = 8, nfg = 1\n",
      "└ @ OptimKit /Users/alcalde/.julia/packages/OptimKit/xpmbV/src/lbfgs.jl:76\n"
     ]
    },
    {
     "data": {
      "text/plain": [
       "-1.0000000000000013"
      ]
     },
     "metadata": {},
     "output_type": "display_data"
    },
    {
     "name": "stderr",
     "output_type": "stream",
     "text": [
      "┌ Info: LBFGS: converged after 24 iterations: f = -1.000000000000, ‖∇f‖ = 3.0527e-09\n",
      "└ @ OptimKit /Users/alcalde/.julia/packages/OptimKit/xpmbV/src/lbfgs.jl:138\n"
     ]
    },
    {
     "name": "stdout",
     "output_type": "stream",
     "text": [
      "Relative error: 5.000E-01"
     ]
    }
   ],
   "source": [
    "θ, fs, gs, niter, normgradhistory = optimize(loss_and_grad, θ₀, optimizer)\n",
    "@printf(\"Relative error: %.3E\", abs(Edmrg - fs[end]) / abs(Edmrg))"
   ]
  },
  {
   "cell_type": "code",
   "execution_count": 415,
   "id": "7cb8085f",
   "metadata": {},
   "outputs": [
    {
     "data": {
      "text/plain": [
       "-1.2171279084094804"
      ]
     },
     "execution_count": 415,
     "metadata": {},
     "output_type": "execute_result"
    }
   ],
   "source": [
    "ψ = productstate(hilbert, [0, 0, 0])\n",
    "loss(θ, ψ)"
   ]
  },
  {
   "cell_type": "code",
   "execution_count": null,
   "id": "90829900",
   "metadata": {},
   "outputs": [],
   "source": [
    "new_ψs = Vector{MPS}(undef, 4)\n",
    "for i in 1:size(states, 2)\n",
    "    state = zeros(Int, 3)\n",
    "    state[[1, 3]] = states[:, i]\n",
    "    #state = states[:, i]\n",
    "    ψs[i] = productstate(hilbert, state)\n",
    "    println(state)\n",
    "end"
   ]
  },
  {
   "cell_type": "code",
   "execution_count": 416,
   "id": "0bf36517",
   "metadata": {},
   "outputs": [
    {
     "data": {
      "text/plain": [
       "Dim 1: 2\n",
       "Dim 2: 2\n",
       "NDTensors.Dense{Float64, Base.ReshapedArray{Float64, 1, SubArray{Float64, 2, Array{Float64, 3}, Tuple{Base.Slice{Base.OneTo{Int64}}, Int64, Base.Slice{Base.OneTo{Int64}}}, false}, Tuple{Base.MultiplicativeInverses.SignedMultiplicativeInverse{Int64}}}}\n",
       " 2×2\n",
       "  0.3038642171657574   0.10382010356144811\n",
       " -0.16069076495493637  0.419305237121601"
      ]
     },
     "execution_count": 416,
     "metadata": {},
     "output_type": "execute_result"
    }
   ],
   "source": [
    "circuit = variationalcircuit(N, depth, θ)\n",
    "Uψ = runcircuit(ψ, circuit; cutoffs, maxdims)\n",
    "o = contract(Uψ.data)\n",
    "o.tensor[:, 2, :]"
   ]
  },
  {
   "cell_type": "markdown",
   "id": "9c753cc7",
   "metadata": {},
   "source": [
    "## Measurement"
   ]
  },
  {
   "cell_type": "code",
   "execution_count": 431,
   "id": "dc6d80bf",
   "metadata": {},
   "outputs": [
    {
     "data": {
      "text/plain": [
       "MPS\n",
       "[1] ((dim=2|id=995|\"Qubit,Site,n=1\"),)\n"
      ]
     },
     "execution_count": 431,
     "metadata": {},
     "output_type": "execute_result"
    }
   ],
   "source": [
    "hilbert = qubits(1)\n",
    "mps = productstate(hilbert, [1])"
   ]
  },
  {
   "cell_type": "code",
   "execution_count": 474,
   "id": "616311be",
   "metadata": {},
   "outputs": [
    {
     "name": "stdout",
     "output_type": "stream",
     "text": [
      "ITensor[ITensor ord=1\n",
      "Dim 1: (dim=2|id=379|\"Qubit,Site,n=1\")\n",
      "NDTensors.Dense{Float64, Vector{Float64}}\n",
      " 2-element\n",
      " 0.0\n",
      " 1.0]\n"
     ]
    }
   ],
   "source": [
    "N = 1\n",
    "ntrial = 1\n",
    "gates = randomcircuit(N; depth=0, layered=false)\n",
    "\n",
    "U = runcircuit(N, gates; process=true)\n",
    "\n",
    "bases = randombases(N, ntrial)\n",
    "preps = randompreparations(N, ntrial)\n",
    "\n"
   ]
  },
  {
   "cell_type": "code",
   "execution_count": 483,
   "id": "d3949b0d",
   "metadata": {},
   "outputs": [
    {
     "data": {
      "text/plain": [
       "1-element Vector{ITensor}:\n",
       " ITensor ord=2\n",
       "Dim 1: (dim=2|id=379|\"Qubit,Site,n=1\")'\n",
       "Dim 2: (dim=2|id=379|\"Qubit,Site,n=1\")\n",
       "NDTensors.Dense{Float64, Vector{Float64}}\n",
       " 2×2\n",
       " 1.0  0.0\n",
       " 0.0  1.0"
      ]
     },
     "execution_count": 483,
     "metadata": {},
     "output_type": "execute_result"
    }
   ],
   "source": [
    "U.data"
   ]
  },
  {
   "cell_type": "code",
   "execution_count": 481,
   "id": "07688455",
   "metadata": {},
   "outputs": [
    {
     "name": "stdout",
     "output_type": "stream",
     "text": [
      "ITensor[ITensor ord=1\n",
      "Dim 1: (dim=2|id=379|\"Qubit,Site,n=1\")\n",
      "NDTensors.Dense{Float64, Vector{Float64}}\n",
      " 2-element\n",
      " 0.0\n",
      " 1.0]\n"
     ]
    }
   ],
   "source": [
    "for n in 1:ntrial\n",
    "    mgates = PastaQ.measurementgates(bases[n, :])\n",
    "    ψ_in = productstate(N, preps[n, :])\n",
    "    ψ_out = runcircuit(ψ_in, gates)\n",
    "\n",
    "    Ψ_out = PastaQ.projectchannel(U, preps[n, :])\n",
    "    println(Ψ_out.data)\n",
    "\n",
    "    ψ_m = runcircuit(ψ_out, mgates)\n",
    "    Ψ_m = runcircuit(Ψ_out, mgates)\n",
    "end"
   ]
  },
  {
   "cell_type": "code",
   "execution_count": 445,
   "id": "ff52c78b",
   "metadata": {},
   "outputs": [
    {
     "data": {
      "text/plain": [
       "Vector{Tuple} (alias for Array{Tuple, 1})"
      ]
     },
     "execution_count": 445,
     "metadata": {},
     "output_type": "execute_result"
    }
   ],
   "source": [
    "typeof(mgates)"
   ]
  },
  {
   "cell_type": "code",
   "execution_count": 449,
   "id": "7cfc1b8e",
   "metadata": {},
   "outputs": [
    {
     "data": {
      "text/latex": [
       "No documentation found.\n",
       "\n",
       "\\texttt{PastaQ.projectchannel} is a \\texttt{Function}.\n",
       "\n",
       "\\begin{verbatim}\n",
       "# 1 method for generic function \"projectchannel\":\n",
       "[1] projectchannel(M::Union{ITensor, MPO}, prep::AbstractArray) in PastaQ at /home/leinad/.julia/packages/PastaQ/D5CCg/src/circuits/getsamples.jl:353\n",
       "\\end{verbatim}\n"
      ],
      "text/markdown": [
       "No documentation found.\n",
       "\n",
       "`PastaQ.projectchannel` is a `Function`.\n",
       "\n",
       "```\n",
       "# 1 method for generic function \"projectchannel\":\n",
       "[1] projectchannel(M::Union{ITensor, MPO}, prep::AbstractArray) in PastaQ at /home/leinad/.julia/packages/PastaQ/D5CCg/src/circuits/getsamples.jl:353\n",
       "```\n"
      ],
      "text/plain": [
       "  No documentation found.\n",
       "\n",
       "  \u001b[36mPastaQ.projectchannel\u001b[39m is a \u001b[36mFunction\u001b[39m.\n",
       "\n",
       "\u001b[36m  # 1 method for generic function \"projectchannel\":\u001b[39m\n",
       "\u001b[36m  [1] projectchannel(M::Union{ITensor, MPO}, prep::AbstractArray) in PastaQ at /home/leinad/.julia/packages/PastaQ/D5CCg/src/circuits/getsamples.jl:353\u001b[39m"
      ]
     },
     "execution_count": 449,
     "metadata": {},
     "output_type": "execute_result"
    }
   ],
   "source": [
    "mgates = PastaQ.measurementgates([\"Z\"])\n",
    "\n",
    "ψ_m = runcircuit(mps, mgates)\n",
    "\n",
    "PastaQ.array(ψ_m)"
   ]
  },
  {
   "cell_type": "code",
   "execution_count": null,
   "id": "cba212bf",
   "metadata": {},
   "outputs": [],
   "source": []
  }
 ],
 "metadata": {
  "kernelspec": {
   "display_name": "Julia 1.7.3",
   "language": "julia",
   "name": "julia-1.7"
  },
  "language_info": {
   "file_extension": ".jl",
   "mimetype": "application/julia",
   "name": "julia",
   "version": "1.7.3"
  },
  "toc": {
   "base_numbering": 1,
   "nav_menu": {},
   "number_sections": true,
   "sideBar": true,
   "skip_h1_title": false,
   "title_cell": "Table of Contents",
   "title_sidebar": "Contents",
   "toc_cell": false,
   "toc_position": {},
   "toc_section_display": true,
   "toc_window_display": false
  }
 },
 "nbformat": 4,
 "nbformat_minor": 5
}
