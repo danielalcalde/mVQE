{
 "cells": [
  {
   "cell_type": "code",
   "execution_count": 1,
   "id": "9c165373",
   "metadata": {},
   "outputs": [
    {
     "name": "stderr",
     "output_type": "stream",
     "text": [
      "┌ Info: Precompiling PastaQ [30b07047-aa8b-4c78-a4e8-24d720215c19]\n",
      "└ @ Base loading.jl:1664\n",
      "WARNING: method definition for - at /Users/alcalde/workprojects/forks/ITensors.jl/src/LazyApply/LazyApply.jl:82 declares type variable C but does not use it.\n",
      "WARNING: method definition for - at /Users/alcalde/workprojects/forks/ITensors.jl/src/LazyApply/LazyApply.jl:83 declares type variable C but does not use it.\n",
      "WARNING: method definition for - at /Users/alcalde/workprojects/forks/ITensors.jl/src/LazyApply/LazyApply.jl:167 declares type variable A but does not use it.\n",
      "WARNING: method definition for - at /Users/alcalde/workprojects/forks/ITensors.jl/src/LazyApply/LazyApply.jl:167 declares type variable C but does not use it.\n",
      "WARNING: method definition for show at /Users/alcalde/workprojects/forks/ITensors.jl/src/Ops/Ops.jl:300 declares type variable C but does not use it.\n",
      "WARNING: method definition for after_combiner_signs at /Users/alcalde/workprojects/forks/ITensors.jl/src/physics/fermions.jl:314 declares type variable NT but does not use it.\n",
      "WARNING: method definition for #MPO#1165 at /Users/alcalde/workprojects/forks/ITensors.jl/src/physics/autompo/opsum_to_mpo_generic.jl:268 declares type variable C but does not use it.\n",
      "WARNING: method definition for #MPO#1166 at /Users/alcalde/workprojects/forks/ITensors.jl/src/physics/autompo/opsum_to_mpo_generic.jl:272 declares type variable C but does not use it.\n",
      "WARNING: could not import ITensors._op into PastaQ\n",
      "┌ Info: Precompiling mVQE [fbf8b4f3-d5ee-4fcd-97a7-1cb357585aed]\n",
      "└ @ Base loading.jl:1664\n"
     ]
    }
   ],
   "source": [
    "using Revise\n",
    "using PastaQ\n",
    "using ITensors\n",
    "using Random\n",
    "using OptimKit\n",
    "using Zygote\n",
    "using Zygote: ChainRulesCore\n",
    "using BenchmarkTools\n",
    "using LinearAlgebra\n",
    "using JLD2\n",
    "using Flux\n",
    "using PyCall\n",
    "using SymPy\n",
    "using QOS\n",
    "\n",
    "import mVQE\n",
    "using mVQE.Hamiltonians: hamiltonian_tfi, hamiltonian_ghz, hamiltonian_aklt_half\n",
    "using mVQE.ITensorsExtension: projective_measurement\n",
    "using mVQE: loss, optimize_and_evolve\n",
    "using mVQE.Circuits: AbstractVariationalCircuit, VariationalCircuitRy, VariationalMeasurement, VariationalMeasurementMC, VariationalMeasurementMCFeedback\n",
    "using mVQE.Misc: get_ancillas_indices, pprint\n",
    "using mVQE.Optimizers: OptimizerWrapper\n",
    "using mVQE.pyflexmps: pfs"
   ]
  },
  {
   "cell_type": "code",
   "execution_count": 2,
   "id": "a232a63e",
   "metadata": {},
   "outputs": [
    {
     "data": {
      "text/plain": [
       "([2, 3, 4, 5, 8, 9, 10, 11, 14, 15  …  46, 47, 50, 51, 52, 53, 56, 57, 58, 59], [1, 6, 7, 12, 13, 18, 19, 24, 25, 30, 31, 36, 37, 42, 43, 48, 49, 54, 55, 60], 60)"
      ]
     },
     "execution_count": 2,
     "metadata": {},
     "output_type": "execute_result"
    }
   ],
   "source": [
    "N_state = 4 * 10\n",
    "state_indices, ancilla_indices, N = get_ancillas_indices(N_state, [false, true, true, true, true, false])\n",
    "hilbert = qubits(N)\n",
    "\n",
    "hilbert_state = hilbert[state_indices]\n",
    "hilbert_ancilla = hilbert[ancilla_indices]\n",
    "\n",
    "ψ = productstate(hilbert, fill(0, N))\n",
    "ρ = outer(ψ, ψ')\n",
    "aklts = mVQE.StateFactory.AKLT_halfs(hilbert[state_indices], basis=\"girvin\");\n",
    "state_indices, ancilla_indices, N"
   ]
  },
  {
   "cell_type": "code",
   "execution_count": 5,
   "id": "fb4dc284",
   "metadata": {},
   "outputs": [],
   "source": [
    "aklts = mVQE.StateFactory.AKLT_halfs(hilbert[state_indices], basis=\"girvin\")\n",
    "H, = hamiltonian_aklt_half(hilbert_state)\n",
    "Htot, Htot_aklt, Htot_spin1 = hamiltonian_aklt_half(hilbert, sublattice=state_indices);"
   ]
  },
  {
   "cell_type": "code",
   "execution_count": 4,
   "id": "0a776bad",
   "metadata": {},
   "outputs": [],
   "source": [
    "gcirc = mVQE.GirvinProtocol.GirvinCircuitIdeal(N_state);\n",
    "corrcirc = mVQE.GirvinProtocol.GirvinCorrCircuit();"
   ]
  },
  {
   "cell_type": "code",
   "execution_count": 6,
   "id": "86093855",
   "metadata": {},
   "outputs": [
    {
     "data": {
      "text/plain": [
       "-7.254215219086706e-15 + 1.5806638110778084e-16im"
      ]
     },
     "execution_count": 6,
     "metadata": {},
     "output_type": "execute_result"
    }
   ],
   "source": [
    "ψ2 = gcirc(ψ);\n",
    "ψp, measurement = mVQE.ITensorsExtension.projective_measurement_sample(ψ2; indices=ancilla_indices)\n",
    "params = mVQE.GirvinProtocol.param_correction_gates(measurement.-1);\n",
    "ψp_corr = corrcirc(ψp; params)\n",
    "inner(ψp_corr, Htot, ψp_corr')"
   ]
  },
  {
   "cell_type": "markdown",
   "id": "6a0776f4",
   "metadata": {},
   "source": [
    "VariationalMeasurementMCFeedback"
   ]
  },
  {
   "cell_type": "code",
   "execution_count": 7,
   "id": "c1470454",
   "metadata": {},
   "outputs": [],
   "source": [
    "vmodels = [mVQE.GirvinProtocol.GirvinCircuitIdeal(N_state), mVQE.GirvinProtocol.GirvinCorrCircuit(Int(N_state/2))]\n",
    "\n",
    "g(a, b)= mVQE.GirvinProtocol.param_correction_gates\n",
    "    \n",
    "model = VariationalMeasurementMCFeedback(vmodels, [g], ancilla_indices);"
   ]
  },
  {
   "cell_type": "code",
   "execution_count": 8,
   "id": "dd5621a6",
   "metadata": {},
   "outputs": [
    {
     "data": {
      "text/plain": [
       "-7.094734055754784e-15 - 3.0467924655566587e-17im"
      ]
     },
     "execution_count": 8,
     "metadata": {},
     "output_type": "execute_result"
    }
   ],
   "source": [
    "ψ_aklt = model(ψ);\n",
    "inner(ψ_aklt, Htot, ψ_aklt')"
   ]
  },
  {
   "cell_type": "markdown",
   "id": "bb9d3969",
   "metadata": {},
   "source": [
    "# Training"
   ]
  },
  {
   "cell_type": "code",
   "execution_count": 9,
   "id": "f4394d01",
   "metadata": {},
   "outputs": [],
   "source": [
    "vmodels = [mVQE.GirvinProtocol.GirvinCircuitIdeal(N_state), mVQE.GirvinProtocol.GirvinCorrCircuit(Int(N_state/2))]\n",
    "#vmodels = [mVQE.GirvinProtocol.GirvinCircuit(Int(N_state/4)), mVQE.GirvinProtocol.GirvinCorrCircuit(Int(N_state/2))]\n",
    "vmodels = [VariationalCircuitRy(N, 1) for _ in 1:2]\n",
    "    \n",
    "g(a, b)= mVQE.GirvinProtocol.GirvinCorrectionNetwork()\n",
    "dense(x, y) = Flux.Dense(Flux.glorot_uniform(y, x)/10, 2π .* rand(y))\n",
    "\n",
    "model = VariationalMeasurementMCFeedback(vmodels, [dense], ancilla_indices);"
   ]
  },
  {
   "cell_type": "code",
   "execution_count": 41,
   "id": "7d80ac6f",
   "metadata": {},
   "outputs": [
    {
     "data": {
      "text/plain": [
       "VariationalMeasurementMC(AbstractVariationalCircuit[VariationalCircuitRy(N=60, depth=1), VariationalCircuitRy(N=60, depth=1)], [1, 6, 7, 12, 13, 18, 19, 24, 25, 30, 31, 36, 37, 42, 43, 48, 49, 54, 55, 60], 1)"
      ]
     },
     "execution_count": 41,
     "metadata": {},
     "output_type": "execute_result"
    }
   ],
   "source": [
    "model2 = VariationalMeasurementMC(vmodels[1:2], ancilla_indices)"
   ]
  },
  {
   "cell_type": "code",
   "execution_count": 42,
   "id": "4546bb93",
   "metadata": {},
   "outputs": [
    {
     "data": {
      "text/plain": [
       "10.555591266516911"
      ]
     },
     "execution_count": 42,
     "metadata": {},
     "output_type": "execute_result"
    }
   ],
   "source": [
    "ψ_aklt = model(ψ; maxdim=10, cutoff=1e-5);\n",
    "inner(ψ_aklt, Htot, ψ_aklt')"
   ]
  },
  {
   "cell_type": "code",
   "execution_count": 43,
   "id": "4715e8b7",
   "metadata": {},
   "outputs": [
    {
     "data": {
      "text/plain": [
       "11.069049052327868"
      ]
     },
     "execution_count": 43,
     "metadata": {},
     "output_type": "execute_result"
    }
   ],
   "source": [
    "loss(ψ, Htot, model.vcircuits[1])"
   ]
  },
  {
   "cell_type": "code",
   "execution_count": 44,
   "id": "5f2fcfdf",
   "metadata": {},
   "outputs": [
    {
     "data": {
      "text/plain": [
       "10.947517980151352"
      ]
     },
     "execution_count": 44,
     "metadata": {},
     "output_type": "execute_result"
    }
   ],
   "source": [
    "mVQE.loss(ψ, Htot, model; maxdim=10, cutoff=1e-5)"
   ]
  },
  {
   "cell_type": "code",
   "execution_count": 45,
   "id": "50256cbd",
   "metadata": {},
   "outputs": [
    {
     "data": {
      "text/plain": [
       "\"/Users/alcalde/workprojects/forks/ITensors.jl/src/ITensors.jl\""
      ]
     },
     "execution_count": 45,
     "metadata": {},
     "output_type": "execute_result"
    }
   ],
   "source": [
    "pathof(mVQE.ITensors)"
   ]
  },
  {
   "cell_type": "code",
   "execution_count": 46,
   "id": "25335bd4",
   "metadata": {},
   "outputs": [],
   "source": [
    "H_tfi = MPO(hamiltonian_tfi(state_indices, 0.1), hilbert);"
   ]
  },
  {
   "cell_type": "code",
   "execution_count": null,
   "id": "4f80a316",
   "metadata": {},
   "outputs": [],
   "source": [
    "l, grad = @time mVQE.loss_and_grad(ψ, H_tfi, model2)\n",
    "l, grad[grad.params[1]]"
   ]
  },
  {
   "cell_type": "code",
   "execution_count": 52,
   "id": "1c01e6dc",
   "metadata": {},
   "outputs": [
    {
     "name": "stdout",
     "output_type": "stream",
     "text": [
      "  1.955944 seconds (7.28 M allocations: 945.135 MiB, 8.92% gc time, 58.35% compilation time)\n"
     ]
    },
    {
     "data": {
      "text/plain": [
       "(2.7285647129146007, [NaN NaN; NaN NaN; … ; NaN NaN; NaN NaN])"
      ]
     },
     "execution_count": 52,
     "metadata": {},
     "output_type": "execute_result"
    },
    {
     "name": "stderr",
     "output_type": "stream",
     "text": [
      "┌ Warning: /local/alcalde/workprojects/forks/installed/ITensors.jl/NDTensors/src/similar.jl is not an existing file, Revise is not watching\n",
      "└ @ Revise /Users/alcalde/.julia/packages/Revise/do2nH/src/packagedef.jl:617\n",
      "┌ Warning: /local/alcalde/workprojects/forks/installed/ITensors.jl/NDTensors/src/tensorstorage.jl is not an existing file, Revise is not watching\n",
      "└ @ Revise /Users/alcalde/.julia/packages/Revise/do2nH/src/packagedef.jl:617\n",
      "┌ Warning: /local/alcalde/workprojects/forks/installed/ITensors.jl/NDTensors/src/tensor.jl is not an existing file, Revise is not watching\n",
      "└ @ Revise /Users/alcalde/.julia/packages/Revise/do2nH/src/packagedef.jl:617\n",
      "┌ Warning: /local/alcalde/workprojects/forks/installed/ITensors.jl/NDTensors/src/generic_tensor_operations.jl is not an existing file, Revise is not watching\n",
      "└ @ Revise /Users/alcalde/.julia/packages/Revise/do2nH/src/packagedef.jl:617\n",
      "┌ Warning: /local/alcalde/workprojects/forks/installed/ITensors.jl/NDTensors/src/contraction_logic.jl is not an existing file, Revise is not watching\n",
      "└ @ Revise /Users/alcalde/.julia/packages/Revise/do2nH/src/packagedef.jl:617\n",
      "┌ Warning: /local/alcalde/workprojects/forks/installed/ITensors.jl/NDTensors/src/dense/adapt.jl is not an existing file, Revise is not watching\n",
      "└ @ Revise /Users/alcalde/.julia/packages/Revise/do2nH/src/packagedef.jl:617\n",
      "┌ Warning: /local/alcalde/workprojects/forks/installed/ITensors.jl/NDTensors/src/symmetric.jl is not an existing file, Revise is not watching\n",
      "└ @ Revise /Users/alcalde/.julia/packages/Revise/do2nH/src/packagedef.jl:617\n",
      "┌ Warning: /local/alcalde/workprojects/forks/installed/ITensors.jl/NDTensors/src/linearalgebra.jl is not an existing file, Revise is not watching\n",
      "└ @ Revise /Users/alcalde/.julia/packages/Revise/do2nH/src/packagedef.jl:617\n",
      "┌ Warning: /local/alcalde/workprojects/forks/installed/ITensors.jl/NDTensors/src/svd.jl is not an existing file, Revise is not watching\n",
      "└ @ Revise /Users/alcalde/.julia/packages/Revise/do2nH/src/packagedef.jl:617\n",
      "┌ Warning: /local/alcalde/workprojects/forks/installed/ITensors.jl/NDTensors/src/blas_get_num_threads.jl is not an existing file, Revise is not watching\n",
      "└ @ Revise /Users/alcalde/.julia/packages/Revise/do2nH/src/packagedef.jl:617\n"
     ]
    }
   ],
   "source": [
    "vmodels = [VariationalCircuitRy(N, 2) for _ in 1:2]\n",
    "model2 = VariationalMeasurementMC(vmodels, ancilla_indices)\n",
    "l, grad = @time mVQE.loss_and_grad(ψ, H_tfi, model2)\n",
    "l, grad[grad.params[1]]"
   ]
  },
  {
   "cell_type": "code",
   "execution_count": 38,
   "id": "f3471ce2",
   "metadata": {},
   "outputs": [
    {
     "data": {
      "text/plain": [
       "1-element Vector{AbstractVariationalCircuit}:\n",
       " VariationalCircuitRy(N=60, depth=1)"
      ]
     },
     "execution_count": 38,
     "metadata": {},
     "output_type": "execute_result"
    }
   ],
   "source": [
    "model2.vcircuits[]"
   ]
  },
  {
   "cell_type": "code",
   "execution_count": null,
   "id": "9c7d572a",
   "metadata": {},
   "outputs": [],
   "source": [
    "grad[grad.params[1]]"
   ]
  },
  {
   "cell_type": "code",
   "execution_count": 30,
   "id": "530222e5",
   "metadata": {},
   "outputs": [],
   "source": [
    "grad[model.vcircuits[1].params];"
   ]
  },
  {
   "cell_type": "code",
   "execution_count": 40,
   "id": "d21f6004",
   "metadata": {},
   "outputs": [
    {
     "data": {
      "text/plain": [
       "OptimizerWrapper(ADAM(0.1, (0.9, 0.999), 1.0e-8, IdDict{Any, Any}()), 10, 0.001, 10)"
      ]
     },
     "execution_count": 40,
     "metadata": {},
     "output_type": "execute_result"
    }
   ],
   "source": [
    "optimzer = OptimizerWrapper(ADAM(0.1); gradtol=1e-3, maxiter=10, verbosity=10)"
   ]
  },
  {
   "cell_type": "code",
   "execution_count": 95,
   "id": "0dbf2cde",
   "metadata": {},
   "outputs": [
    {
     "name": "stderr",
     "output_type": "stream",
     "text": [
      "┌ Info: ADAM: iter 1: f = 0.7407407409616755, ‖∇f‖ = 0.0, ‖θ‖ = 20.352104255980546\n",
      "└ @ mVQE.Optimizers /local/alcalde/workprojects/mVQE/mVQE/src/Optimizers.jl:41\n"
     ]
    },
    {
     "data": {
      "text/plain": [
       "(0.7407407409616755, VariationalMeasurementMCFeedback(AbstractVariationalCircuit[mVQE.GirvinProtocol.GirvinCircuit([0.0 -1.5707963267948966 … 1.9106332362490186 3.141592653589793; 3.141592653589793 -1.5707963267948966 … 1.9106332362490186 3.141592653589793; … ; 3.141592653589793 -1.5707963267948966 … 1.9106332362490186 3.141592653589793; 3.141592653589793 -1.5707963267948966 … 1.9106332362490186 3.141592653589793]), mVQE.Circuits.FeedbackCircuit(mVQE.GirvinProtocol.GirvinCorrCircuit([4.591472781039895 0.2800606390466213 4.146049185538529 2.810284712629163; 6.087338315029476 0.06627693469669528 2.1147417087190084 4.626359206140794; … ; 0.12328778398119601 1.302111353606939 3.7297215037556803 0.6941629319075078; 3.7543774681516697 2.3331982789813597 5.943467702674782 2.692997834408845]), mVQE.Circuits.ReshapeModel(mVQE.GirvinProtocol.param_correction_gates, (20, 4)))], [1, 6, 7, 12, 13, 18, 19, 24, 25, 30, 31, 36, 37, 42, 43, 48, 49, 54, 55, 60], 1), MPS\n",
       "[1] ((dim=2|id=991|\"Link,n=1\"), (dim=2|id=484|\"Qubit,Site,n=1\"))\n",
       "[2] ((dim=2|id=679|\"Qubit,Site,n=2\"), (dim=1|id=64|\"Link,n=1\"), (dim=2|id=991|\"Link,n=1\"))\n",
       "[3] ((dim=2|id=840|\"Qubit,Site,n=3\"), (dim=2|id=610|\"Link,n=1\"), (dim=1|id=64|\"Link,n=1\"))\n",
       "[4] ((dim=2|id=566|\"Qubit,Site,n=4\"), (dim=3|id=84|\"Link,n=1\"), (dim=2|id=610|\"Link,n=1\"))\n",
       "[5] ((dim=2|id=70|\"Qubit,Site,n=5\"), (dim=2|id=257|\"Link,n=1\"), (dim=3|id=84|\"Link,n=1\"))\n",
       "[6] ((dim=2|id=874|\"Link,n=1\"), (dim=2|id=257|\"Link,n=1\"), (dim=2|id=254|\"Qubit,Site,n=6\"))\n",
       "[7] ((dim=2|id=972|\"Link,n=1\"), (dim=2|id=874|\"Link,n=1\"), (dim=2|id=94|\"Qubit,Site,n=7\"))\n",
       "[8] ((dim=2|id=173|\"Qubit,Site,n=8\"), (dim=3|id=540|\"Link,n=1\"), (dim=2|id=972|\"Link,n=1\"))\n",
       "[9] ((dim=2|id=519|\"Qubit,Site,n=9\"), (dim=2|id=31|\"Link,n=1\"), (dim=3|id=540|\"Link,n=1\"))\n",
       "[10] ((dim=2|id=830|\"Qubit,Site,n=10\"), (dim=3|id=530|\"Link,n=1\"), (dim=2|id=31|\"Link,n=1\"))\n",
       "[11] ((dim=2|id=94|\"Qubit,Site,n=11\"), (dim=2|id=846|\"Link,n=1\"), (dim=3|id=530|\"Link,n=1\"))\n",
       "[12] ((dim=2|id=78|\"Link,n=1\"), (dim=2|id=846|\"Link,n=1\"), (dim=2|id=532|\"Qubit,Site,n=12\"))\n",
       "[13] ((dim=2|id=222|\"Link,n=1\"), (dim=2|id=78|\"Link,n=1\"), (dim=2|id=169|\"Qubit,Site,n=13\"))\n",
       "[14] ((dim=2|id=709|\"Qubit,Site,n=14\"), (dim=3|id=276|\"Link,n=1\"), (dim=2|id=222|\"Link,n=1\"))\n",
       "[15] ((dim=2|id=677|\"Qubit,Site,n=15\"), (dim=2|id=781|\"Link,n=1\"), (dim=3|id=276|\"Link,n=1\"))\n",
       "[16] ((dim=2|id=405|\"Qubit,Site,n=16\"), (dim=3|id=912|\"Link,n=1\"), (dim=2|id=781|\"Link,n=1\"))\n",
       "[17] ((dim=2|id=745|\"Qubit,Site,n=17\"), (dim=2|id=956|\"Link,n=1\"), (dim=3|id=912|\"Link,n=1\"))\n",
       "[18] ((dim=2|id=344|\"Link,n=1\"), (dim=2|id=956|\"Link,n=1\"), (dim=2|id=722|\"Qubit,Site,n=18\"))\n",
       "[19] ((dim=2|id=313|\"Link,n=1\"), (dim=2|id=344|\"Link,n=1\"), (dim=2|id=38|\"Qubit,Site,n=19\"))\n",
       "[20] ((dim=2|id=366|\"Qubit,Site,n=20\"), (dim=3|id=399|\"Link,n=1\"), (dim=2|id=313|\"Link,n=1\"))\n",
       "[21] ((dim=2|id=843|\"Qubit,Site,n=21\"), (dim=2|id=930|\"Link,n=1\"), (dim=3|id=399|\"Link,n=1\"))\n",
       "[22] ((dim=2|id=810|\"Qubit,Site,n=22\"), (dim=3|id=202|\"Link,n=1\"), (dim=2|id=930|\"Link,n=1\"))\n",
       "[23] ((dim=2|id=745|\"Qubit,Site,n=23\"), (dim=2|id=188|\"Link,n=1\"), (dim=3|id=202|\"Link,n=1\"))\n",
       "[24] ((dim=2|id=554|\"Link,n=1\"), (dim=2|id=188|\"Link,n=1\"), (dim=2|id=267|\"Qubit,Site,n=24\"))\n",
       "[25] ((dim=2|id=952|\"Link,n=1\"), (dim=2|id=554|\"Link,n=1\"), (dim=2|id=14|\"Qubit,Site,n=25\"))\n",
       "[26] ((dim=2|id=654|\"Qubit,Site,n=26\"), (dim=3|id=652|\"Link,n=1\"), (dim=2|id=952|\"Link,n=1\"))\n",
       "[27] ((dim=2|id=146|\"Qubit,Site,n=27\"), (dim=2|id=357|\"Link,n=1\"), (dim=3|id=652|\"Link,n=1\"))\n",
       "[28] ((dim=2|id=185|\"Qubit,Site,n=28\"), (dim=3|id=533|\"Link,n=1\"), (dim=2|id=357|\"Link,n=1\"))\n",
       "[29] ((dim=2|id=820|\"Qubit,Site,n=29\"), (dim=2|id=398|\"Link,n=1\"), (dim=3|id=533|\"Link,n=1\"))\n",
       "[30] ((dim=2|id=402|\"Link,n=1\"), (dim=2|id=398|\"Link,n=1\"), (dim=2|id=665|\"Qubit,Site,n=30\"))\n",
       "[31] ((dim=2|id=344|\"Link,n=1\"), (dim=2|id=402|\"Link,n=1\"), (dim=2|id=59|\"Qubit,Site,n=31\"))\n",
       "[32] ((dim=2|id=574|\"Qubit,Site,n=32\"), (dim=3|id=681|\"Link,n=1\"), (dim=2|id=344|\"Link,n=1\"))\n",
       "[33] ((dim=2|id=415|\"Qubit,Site,n=33\"), (dim=2|id=307|\"Link,n=1\"), (dim=3|id=681|\"Link,n=1\"))\n",
       "[34] ((dim=2|id=225|\"Qubit,Site,n=34\"), (dim=3|id=818|\"Link,n=1\"), (dim=2|id=307|\"Link,n=1\"))\n",
       "[35] ((dim=2|id=734|\"Qubit,Site,n=35\"), (dim=2|id=84|\"Link,n=1\"), (dim=3|id=818|\"Link,n=1\"))\n",
       "[36] ((dim=2|id=94|\"Link,n=1\"), (dim=2|id=84|\"Link,n=1\"), (dim=2|id=663|\"Qubit,Site,n=36\"))\n",
       "[37] ((dim=2|id=964|\"Link,n=1\"), (dim=2|id=94|\"Link,n=1\"), (dim=2|id=59|\"Qubit,Site,n=37\"))\n",
       "[38] ((dim=2|id=280|\"Qubit,Site,n=38\"), (dim=3|id=391|\"Link,n=1\"), (dim=2|id=964|\"Link,n=1\"))\n",
       "[39] ((dim=2|id=718|\"Qubit,Site,n=39\"), (dim=2|id=773|\"Link,n=1\"), (dim=3|id=391|\"Link,n=1\"))\n",
       "[40] ((dim=2|id=538|\"Qubit,Site,n=40\"), (dim=3|id=397|\"Link,n=1\"), (dim=2|id=773|\"Link,n=1\"))\n",
       "[41] ((dim=2|id=133|\"Qubit,Site,n=41\"), (dim=2|id=717|\"Link,n=1\"), (dim=3|id=397|\"Link,n=1\"))\n",
       "[42] ((dim=2|id=829|\"Link,n=1\"), (dim=2|id=717|\"Link,n=1\"), (dim=2|id=377|\"Qubit,Site,n=42\"))\n",
       "[43] ((dim=2|id=863|\"Link,n=1\"), (dim=2|id=829|\"Link,n=1\"), (dim=2|id=684|\"Qubit,Site,n=43\"))\n",
       "[44] ((dim=2|id=401|\"Qubit,Site,n=44\"), (dim=3|id=850|\"Link,n=1\"), (dim=2|id=863|\"Link,n=1\"))\n",
       "[45] ((dim=2|id=162|\"Qubit,Site,n=45\"), (dim=2|id=655|\"Link,n=1\"), (dim=3|id=850|\"Link,n=1\"))\n",
       "[46] ((dim=2|id=860|\"Qubit,Site,n=46\"), (dim=3|id=10|\"Link,n=1\"), (dim=2|id=655|\"Link,n=1\"))\n",
       "[47] ((dim=2|id=567|\"Qubit,Site,n=47\"), (dim=2|id=283|\"Link,n=1\"), (dim=3|id=10|\"Link,n=1\"))\n",
       "[48] ((dim=2|id=801|\"Link,n=1\"), (dim=2|id=283|\"Link,n=1\"), (dim=2|id=742|\"Qubit,Site,n=48\"))\n",
       "[49] ((dim=2|id=266|\"Link,n=1\"), (dim=2|id=801|\"Link,n=1\"), (dim=2|id=770|\"Qubit,Site,n=49\"))\n",
       "[50] ((dim=2|id=299|\"Qubit,Site,n=50\"), (dim=3|id=69|\"Link,n=1\"), (dim=2|id=266|\"Link,n=1\"))\n",
       "[51] ((dim=2|id=754|\"Qubit,Site,n=51\"), (dim=2|id=87|\"Link,n=1\"), (dim=3|id=69|\"Link,n=1\"))\n",
       "[52] ((dim=2|id=673|\"Qubit,Site,n=52\"), (dim=3|id=849|\"Link,n=1\"), (dim=2|id=87|\"Link,n=1\"))\n",
       "[53] ((dim=2|id=454|\"Qubit,Site,n=53\"), (dim=2|id=141|\"Link,n=1\"), (dim=3|id=849|\"Link,n=1\"))\n",
       "[54] ((dim=2|id=30|\"Link,n=1\"), (dim=2|id=141|\"Link,n=1\"), (dim=2|id=334|\"Qubit,Site,n=54\"))\n",
       "[55] ((dim=2|id=700|\"Link,n=1\"), (dim=2|id=30|\"Link,n=1\"), (dim=2|id=841|\"Qubit,Site,n=55\"))\n",
       "[56] ((dim=2|id=953|\"Qubit,Site,n=56\"), (dim=3|id=452|\"Link,n=1\"), (dim=2|id=700|\"Link,n=1\"))\n",
       "[57] ((dim=2|id=459|\"Qubit,Site,n=57\"), (dim=2|id=341|\"Link,n=1\"), (dim=3|id=452|\"Link,n=1\"))\n",
       "[58] ((dim=2|id=496|\"Qubit,Site,n=58\"), (dim=1|id=488|\"Link,n=1\"), (dim=2|id=341|\"Link,n=1\"))\n",
       "[59] ((dim=2|id=654|\"Qubit,Site,n=59\"), (dim=2|id=233|\"Link,n=1\"), (dim=1|id=488|\"Link,n=1\"))\n",
       "[60] ((dim=2|id=233|\"Link,n=1\"), (dim=2|id=870|\"Qubit,Site,n=60\"))\n",
       ", Dict{String, Any}(\"niter\" => 0, \"history\" => [0.7407407409616755 0.0 20.352104255980546; 0.0 0.0 0.0; … ; 0.0 0.0 0.0; 0.0 0.0 0.0], \"gradient\" => Grads(...), \"loss\" => 0.7407407409616755))"
      ]
     },
     "execution_count": 95,
     "metadata": {},
     "output_type": "execute_result"
    }
   ],
   "source": [
    "loss_value, trained_model, ρ, misc = optimize_and_evolve(ψ, Htot, model; samples=10,\n",
    "                                           optimizer=optimzer, verbose=true, parallel=false)"
   ]
  },
  {
   "cell_type": "code",
   "execution_count": 94,
   "id": "2e763792",
   "metadata": {},
   "outputs": [
    {
     "data": {
      "text/plain": [
       "Dict{String, Any} with 4 entries:\n",
       "  \"niter\"    => 0\n",
       "  \"history\"  => [0.0 0.0 0.0; 0.0 0.0 6.92085e-310; … ; 0.0 0.0 0.0; 0.0 0.0 0.…\n",
       "  \"gradient\" => Grads(...)\n",
       "  \"loss\"     => 0.740741"
      ]
     },
     "execution_count": 94,
     "metadata": {},
     "output_type": "execute_result"
    }
   ],
   "source": [
    "misc"
   ]
  }
 ],
 "metadata": {
  "@webio": {
   "lastCommId": null,
   "lastKernelId": null
  },
  "kernelspec": {
   "display_name": "Julia 1.8.5",
   "language": "julia",
   "name": "julia-1.8"
  },
  "language_info": {
   "file_extension": ".jl",
   "mimetype": "application/julia",
   "name": "julia",
   "version": "1.8.5"
  }
 },
 "nbformat": 4,
 "nbformat_minor": 5
}
