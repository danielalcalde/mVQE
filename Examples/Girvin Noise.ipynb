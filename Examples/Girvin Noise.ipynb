{
 "cells": [
  {
   "cell_type": "code",
   "execution_count": 275,
   "id": "0828e98c",
   "metadata": {},
   "outputs": [],
   "source": [
    "using Revise\n",
    "using PastaQ\n",
    "using ITensors\n",
    "using Random\n",
    "using OptimKit\n",
    "using Zygote\n",
    "using Zygote: ChainRulesCore\n",
    "using BenchmarkTools\n",
    "using LinearAlgebra\n",
    "using JLD2\n",
    "using Flux\n",
    "using PyCall\n",
    "using SymPy\n",
    "using QOS\n",
    "using Plots\n",
    "using Pickle\n",
    "\n",
    "import mVQE\n",
    "using mVQE.Hamiltonians: hamiltonian_tfi, hamiltonian_ghz, hamiltonian_aklt_half\n",
    "using mVQE.ITensorsExtension: projective_measurement\n",
    "using mVQE: loss, optimize_and_evolve\n",
    "using mVQE.Circuits: AbstractVariationalCircuit, VariationalCircuitRy, VariationalMeasurement, VariationalMeasurementMC, VariationalMeasurementMCFeedback\n",
    "using mVQE.Misc: get_ancillas_indices, pprint\n",
    "using mVQE.Optimizers: OptimizerWrapper\n",
    "using mVQE.pyflexmps: pfs"
   ]
  },
  {
   "cell_type": "code",
   "execution_count": 56,
   "id": "b07ab037",
   "metadata": {},
   "outputs": [
    {
     "data": {
      "text/plain": [
       "([2, 3, 4, 5, 8, 9, 10, 11, 14, 15, 16, 17, 20, 21, 22, 23, 26, 27, 28, 29], [1, 6, 7, 12, 13, 18, 19, 24, 25, 30], 30)"
      ]
     },
     "execution_count": 56,
     "metadata": {},
     "output_type": "execute_result"
    }
   ],
   "source": [
    "N_state = 4 * 5\n",
    "state_indices, ancilla_indices, N = get_ancillas_indices(N_state, [false, true, true, true, true, false])\n",
    "hilbert = qubits(N)\n",
    "\n",
    "hilbert_state = hilbert[state_indices]\n",
    "hilbert_ancilla = hilbert[ancilla_indices]\n",
    "\n",
    "ψ = productstate(hilbert, fill(0, N))\n",
    "aklts = mVQE.StateFactory.AKLT_halfs(hilbert[state_indices], basis=\"girvin\");\n",
    "state_indices, ancilla_indices, N"
   ]
  },
  {
   "cell_type": "code",
   "execution_count": 57,
   "id": "fe4562c2",
   "metadata": {},
   "outputs": [],
   "source": [
    "aklts = mVQE.StateFactory.AKLT_halfs(hilbert[state_indices], basis=\"girvin\")\n",
    "H, = hamiltonian_aklt_half(hilbert_state)\n",
    "Htot, Htot_aklt, Htot_spin1 = hamiltonian_aklt_half(hilbert, sublattice=state_indices);"
   ]
  },
  {
   "cell_type": "code",
   "execution_count": 58,
   "id": "5d0e81d9",
   "metadata": {},
   "outputs": [],
   "source": [
    "vmodels = [mVQE.GirvinProtocol.GirvinCircuitIdeal(N_state), mVQE.GirvinProtocol.GirvinCorrCircuit(Int(N_state/2))]\n",
    "\n",
    "g(a, b)= mVQE.GirvinProtocol.param_correction_gates\n",
    "    \n",
    "model = VariationalMeasurementMCFeedback(vmodels, [g], ancilla_indices);"
   ]
  },
  {
   "cell_type": "code",
   "execution_count": 87,
   "id": "b03cabaa",
   "metadata": {},
   "outputs": [
    {
     "data": {
      "text/plain": [
       "-3.580583517969505e-15 + 1.2335727721302827e-16im"
      ]
     },
     "execution_count": 87,
     "metadata": {},
     "output_type": "execute_result"
    }
   ],
   "source": [
    "ψ_aklt = model(ψ);\n",
    "inner(ψ_aklt, Htot, ψ_aklt')"
   ]
  },
  {
   "cell_type": "code",
   "execution_count": 235,
   "id": "ddb57cbf",
   "metadata": {},
   "outputs": [
    {
     "data": {
      "text/plain": [
       "(\"dephasing\", (γ = 0.0015695632719552322,))"
      ]
     },
     "execution_count": 235,
     "metadata": {},
     "output_type": "execute_result"
    }
   ],
   "source": [
    "ϵ = 1e-3\n",
    "p = 1 - exp(-pi/2 * ϵ)\n",
    "noise = (1 => (\"depolarizing\", (p = p,)), \n",
    "         2 => (\"depolarizing\", (p = p,)))\n",
    "\n",
    "noise2 =(\"dephasing\", (γ = p,))"
   ]
  },
  {
   "cell_type": "code",
   "execution_count": 236,
   "id": "41544cb2",
   "metadata": {},
   "outputs": [
    {
     "data": {
      "text/plain": [
       "(0.1532967001485526, 0.566727040072944)"
      ]
     },
     "execution_count": 236,
     "metadata": {},
     "output_type": "execute_result"
    }
   ],
   "source": [
    "ρ_aklt = model(ψ; noise=noise)\n",
    "fid = sum([inner(aklt, ρ_aklt_tr, aklt') for aklt in aklts])\n",
    "\n",
    "real(inner(ρ_aklt, Htot)), real(fid)"
   ]
  },
  {
   "cell_type": "code",
   "execution_count": 237,
   "id": "b9df69fb",
   "metadata": {},
   "outputs": [],
   "source": [
    "using Suppressor"
   ]
  },
  {
   "cell_type": "code",
   "execution_count": 238,
   "id": "1332b573",
   "metadata": {},
   "outputs": [
    {
     "data": {
      "text/plain": [
       "(0.05049850987327341, 0.9408074029478039)"
      ]
     },
     "execution_count": 238,
     "metadata": {},
     "output_type": "execute_result"
    }
   ],
   "source": [
    "@suppress_err ρ_aklt = model(ψ; noise=noise2)\n",
    "ρ_aklt_tr = tr(ρ_aklt, ancilla_indices)\n",
    "fid = sum([inner(aklt, ρ_aklt_tr, aklt') for aklt in aklts])\n",
    "\n",
    "real(inner(ρ_aklt, Htot)), real(fid)"
   ]
  },
  {
   "cell_type": "code",
   "execution_count": 304,
   "id": "c405dcaf",
   "metadata": {},
   "outputs": [
    {
     "data": {
      "text/plain": [
       "fid_noise (generic function with 1 method)"
      ]
     },
     "execution_count": 304,
     "metadata": {},
     "output_type": "execute_result"
    }
   ],
   "source": [
    "function fid_noise(ϵ)\n",
    "    p = 1 - exp(-pi/2 * ϵ/6)\n",
    "    noise = (\"dephasing\", (γ = p,))\n",
    "    ρ_aklt = @suppress_err model(ψ; noise=noise)\n",
    "    ρ_aklt_tr = tr(ρ_aklt, ancilla_indices)\n",
    "    fid = sum([inner(aklt, ρ_aklt_tr, aklt') for aklt in aklts])\n",
    "\n",
    "    return 1-real(fid), real(inner(ρ_aklt, Htot)) / (N_state/2 - 1)\n",
    "end"
   ]
  },
  {
   "cell_type": "code",
   "execution_count": 279,
   "id": "43d084af",
   "metadata": {},
   "outputs": [
    {
     "data": {
      "text/plain": [
       "(0.9940303328814682, 0.004955703888423341)"
      ]
     },
     "execution_count": 279,
     "metadata": {},
     "output_type": "execute_result"
    }
   ],
   "source": [
    "fid_noise(0.0001)"
   ]
  },
  {
   "cell_type": "code",
   "execution_count": 305,
   "id": "a913e415",
   "metadata": {},
   "outputs": [
    {
     "name": "stdout",
     "output_type": "stream",
     "text": [
      " 11.175004 seconds (40.79 M allocations: 11.477 GiB, 12.15% gc time, 1.66% compilation time)\n"
     ]
    }
   ],
   "source": [
    "@time begin\n",
    "ϵs = 10 .^ LinRange(-4, -1, 100)\n",
    "f = [collect(fid_noise(ϵ)) for ϵ in ϵs]\n",
    "f = hcat(f...)\n",
    "end;"
   ]
  },
  {
   "cell_type": "code",
   "execution_count": 306,
   "id": "383c492d",
   "metadata": {},
   "outputs": [
    {
     "data": {
      "image/svg+xml": [
       "<?xml version=\"1.0\" encoding=\"utf-8\"?>\n",
       "<svg xmlns=\"http://www.w3.org/2000/svg\" xmlns:xlink=\"http://www.w3.org/1999/xlink\" width=\"600\" height=\"400\" viewBox=\"0 0 2400 1600\">\n",
       "<defs>\n",
       "  <clipPath id=\"clip810\">\n",
       "    <rect x=\"0\" y=\"0\" width=\"2400\" height=\"1600\"/>\n",
       "  </clipPath>\n",
       "</defs>\n",
       "<path clip-path=\"url(#clip810)\" d=\"\n",
       "M0 1600 L2400 1600 L2400 0 L0 0  Z\n",
       "  \" fill=\"#ffffff\" fill-rule=\"evenodd\" fill-opacity=\"1\"/>\n",
       "<defs>\n",
       "  <clipPath id=\"clip811\">\n",
       "    <rect x=\"480\" y=\"0\" width=\"1681\" height=\"1600\"/>\n",
       "  </clipPath>\n",
       "</defs>\n",
       "<path clip-path=\"url(#clip810)\" d=\"\n",
       "M188.574 1474.16 L2352.76 1474.16 L2352.76 47.2441 L188.574 47.2441  Z\n",
       "  \" fill=\"#ffffff\" fill-rule=\"evenodd\" fill-opacity=\"1\"/>\n",
       "<defs>\n",
       "  <clipPath id=\"clip812\">\n",
       "    <rect x=\"188\" y=\"47\" width=\"2165\" height=\"1428\"/>\n",
       "  </clipPath>\n",
       "</defs>\n",
       "<polyline clip-path=\"url(#clip812)\" style=\"stroke:#000000; stroke-linecap:round; stroke-linejoin:round; stroke-width:2; stroke-opacity:0.1; fill:none\" points=\"\n",
       "  249.825,1474.16 249.825,47.2441 \n",
       "  \"/>\n",
       "<polyline clip-path=\"url(#clip812)\" style=\"stroke:#000000; stroke-linecap:round; stroke-linejoin:round; stroke-width:2; stroke-opacity:0.1; fill:none\" points=\"\n",
       "  1610.95,1474.16 1610.95,47.2441 \n",
       "  \"/>\n",
       "<polyline clip-path=\"url(#clip810)\" style=\"stroke:#000000; stroke-linecap:round; stroke-linejoin:round; stroke-width:4; stroke-opacity:1; fill:none\" points=\"\n",
       "  188.574,1474.16 2352.76,1474.16 \n",
       "  \"/>\n",
       "<polyline clip-path=\"url(#clip810)\" style=\"stroke:#000000; stroke-linecap:round; stroke-linejoin:round; stroke-width:4; stroke-opacity:1; fill:none\" points=\"\n",
       "  249.825,1474.16 249.825,1455.27 \n",
       "  \"/>\n",
       "<polyline clip-path=\"url(#clip810)\" style=\"stroke:#000000; stroke-linecap:round; stroke-linejoin:round; stroke-width:4; stroke-opacity:1; fill:none\" points=\"\n",
       "  1610.95,1474.16 1610.95,1455.27 \n",
       "  \"/>\n",
       "<path clip-path=\"url(#clip810)\" d=\"M199.244 1548.29 L206.883 1548.29 L206.883 1521.92 L198.573 1523.59 L198.573 1519.33 L206.837 1517.66 L211.513 1517.66 L211.513 1548.29 L219.151 1548.29 L219.151 1552.22 L199.244 1552.22 L199.244 1548.29 Z\" fill=\"#000000\" fill-rule=\"evenodd\" fill-opacity=\"1\" /><path clip-path=\"url(#clip810)\" d=\"M238.596 1520.74 Q234.985 1520.74 233.156 1524.31 Q231.35 1527.85 231.35 1534.98 Q231.35 1542.09 233.156 1545.65 Q234.985 1549.19 238.596 1549.19 Q242.23 1549.19 244.036 1545.65 Q245.864 1542.09 245.864 1534.98 Q245.864 1527.85 244.036 1524.31 Q242.23 1520.74 238.596 1520.74 M238.596 1517.04 Q244.406 1517.04 247.461 1521.65 Q250.54 1526.23 250.54 1534.98 Q250.54 1543.71 247.461 1548.31 Q244.406 1552.9 238.596 1552.9 Q232.786 1552.9 229.707 1548.31 Q226.651 1543.71 226.651 1534.98 Q226.651 1526.23 229.707 1521.65 Q232.786 1517.04 238.596 1517.04 Z\" fill=\"#000000\" fill-rule=\"evenodd\" fill-opacity=\"1\" /><path clip-path=\"url(#clip810)\" d=\"M250.54 1511.14 L274.652 1511.14 L274.652 1514.34 L250.54 1514.34 L250.54 1511.14 Z\" fill=\"#000000\" fill-rule=\"evenodd\" fill-opacity=\"1\" /><path clip-path=\"url(#clip810)\" d=\"M293.29 1500.04 L283.698 1515.03 L293.29 1515.03 L293.29 1500.04 M292.293 1496.73 L297.071 1496.73 L297.071 1515.03 L301.077 1515.03 L301.077 1518.19 L297.071 1518.19 L297.071 1524.81 L293.29 1524.81 L293.29 1518.19 L280.614 1518.19 L280.614 1514.53 L292.293 1496.73 Z\" fill=\"#000000\" fill-rule=\"evenodd\" fill-opacity=\"1\" /><path clip-path=\"url(#clip810)\" d=\"M1561.21 1548.29 L1568.85 1548.29 L1568.85 1521.92 L1560.54 1523.59 L1560.54 1519.33 L1568.8 1517.66 L1573.48 1517.66 L1573.48 1548.29 L1581.12 1548.29 L1581.12 1552.22 L1561.21 1552.22 L1561.21 1548.29 Z\" fill=\"#000000\" fill-rule=\"evenodd\" fill-opacity=\"1\" /><path clip-path=\"url(#clip810)\" d=\"M1600.56 1520.74 Q1596.95 1520.74 1595.12 1524.31 Q1593.32 1527.85 1593.32 1534.98 Q1593.32 1542.09 1595.12 1545.65 Q1596.95 1549.19 1600.56 1549.19 Q1604.2 1549.19 1606 1545.65 Q1607.83 1542.09 1607.83 1534.98 Q1607.83 1527.85 1606 1524.31 Q1604.2 1520.74 1600.56 1520.74 M1600.56 1517.04 Q1606.37 1517.04 1609.43 1521.65 Q1612.51 1526.23 1612.51 1534.98 Q1612.51 1543.71 1609.43 1548.31 Q1606.37 1552.9 1600.56 1552.9 Q1594.75 1552.9 1591.67 1548.31 Q1588.62 1543.71 1588.62 1534.98 Q1588.62 1526.23 1591.67 1521.65 Q1594.75 1517.04 1600.56 1517.04 Z\" fill=\"#000000\" fill-rule=\"evenodd\" fill-opacity=\"1\" /><path clip-path=\"url(#clip810)\" d=\"M1612.51 1511.14 L1636.62 1511.14 L1636.62 1514.34 L1612.51 1514.34 L1612.51 1511.14 Z\" fill=\"#000000\" fill-rule=\"evenodd\" fill-opacity=\"1\" /><path clip-path=\"url(#clip810)\" d=\"M1648.09 1521.62 L1661.35 1521.62 L1661.35 1524.81 L1643.52 1524.81 L1643.52 1521.62 Q1645.68 1519.38 1649.41 1515.62 Q1653.15 1511.84 1654.11 1510.75 Q1655.93 1508.7 1656.65 1507.29 Q1657.38 1505.86 1657.38 1504.48 Q1657.38 1502.24 1655.8 1500.83 Q1654.24 1499.42 1651.72 1499.42 Q1649.93 1499.42 1647.94 1500.04 Q1645.97 1500.67 1643.71 1501.93 L1643.71 1498.09 Q1646 1497.17 1648 1496.7 Q1649.99 1496.23 1651.65 1496.23 Q1656.01 1496.23 1658.6 1498.41 Q1661.2 1500.59 1661.2 1504.24 Q1661.2 1505.97 1660.54 1507.53 Q1659.9 1509.07 1658.19 1511.18 Q1657.72 1511.72 1655.2 1514.34 Q1652.68 1516.93 1648.09 1521.62 Z\" fill=\"#000000\" fill-rule=\"evenodd\" fill-opacity=\"1\" /><polyline clip-path=\"url(#clip812)\" style=\"stroke:#000000; stroke-linecap:round; stroke-linejoin:round; stroke-width:2; stroke-opacity:0.1; fill:none\" points=\"\n",
       "  188.574,1434.9 2352.76,1434.9 \n",
       "  \"/>\n",
       "<polyline clip-path=\"url(#clip812)\" style=\"stroke:#000000; stroke-linecap:round; stroke-linejoin:round; stroke-width:2; stroke-opacity:0.1; fill:none\" points=\"\n",
       "  188.574,951.135 2352.76,951.135 \n",
       "  \"/>\n",
       "<polyline clip-path=\"url(#clip812)\" style=\"stroke:#000000; stroke-linecap:round; stroke-linejoin:round; stroke-width:2; stroke-opacity:0.1; fill:none\" points=\"\n",
       "  188.574,467.373 2352.76,467.373 \n",
       "  \"/>\n",
       "<polyline clip-path=\"url(#clip810)\" style=\"stroke:#000000; stroke-linecap:round; stroke-linejoin:round; stroke-width:4; stroke-opacity:1; fill:none\" points=\"\n",
       "  188.574,1474.16 188.574,47.2441 \n",
       "  \"/>\n",
       "<polyline clip-path=\"url(#clip810)\" style=\"stroke:#000000; stroke-linecap:round; stroke-linejoin:round; stroke-width:4; stroke-opacity:1; fill:none\" points=\"\n",
       "  188.574,1434.9 207.472,1434.9 \n",
       "  \"/>\n",
       "<polyline clip-path=\"url(#clip810)\" style=\"stroke:#000000; stroke-linecap:round; stroke-linejoin:round; stroke-width:4; stroke-opacity:1; fill:none\" points=\"\n",
       "  188.574,951.135 207.472,951.135 \n",
       "  \"/>\n",
       "<polyline clip-path=\"url(#clip810)\" style=\"stroke:#000000; stroke-linecap:round; stroke-linejoin:round; stroke-width:4; stroke-opacity:1; fill:none\" points=\"\n",
       "  188.574,467.373 207.472,467.373 \n",
       "  \"/>\n",
       "<path clip-path=\"url(#clip810)\" d=\"M51.6634 1454.69 L59.3023 1454.69 L59.3023 1428.32 L50.9921 1429.99 L50.9921 1425.73 L59.256 1424.06 L63.9319 1424.06 L63.9319 1454.69 L71.5707 1454.69 L71.5707 1458.62 L51.6634 1458.62 L51.6634 1454.69 Z\" fill=\"#000000\" fill-rule=\"evenodd\" fill-opacity=\"1\" /><path clip-path=\"url(#clip810)\" d=\"M91.0151 1427.14 Q87.404 1427.14 85.5753 1430.71 Q83.7697 1434.25 83.7697 1441.38 Q83.7697 1448.49 85.5753 1452.05 Q87.404 1455.59 91.0151 1455.59 Q94.6493 1455.59 96.4548 1452.05 Q98.2835 1448.49 98.2835 1441.38 Q98.2835 1434.25 96.4548 1430.71 Q94.6493 1427.14 91.0151 1427.14 M91.0151 1423.44 Q96.8252 1423.44 99.8808 1428.05 Q102.959 1432.63 102.959 1441.38 Q102.959 1450.11 99.8808 1454.71 Q96.8252 1459.3 91.0151 1459.3 Q85.2049 1459.3 82.1262 1454.71 Q79.0707 1450.11 79.0707 1441.38 Q79.0707 1432.63 82.1262 1428.05 Q85.2049 1423.44 91.0151 1423.44 Z\" fill=\"#000000\" fill-rule=\"evenodd\" fill-opacity=\"1\" /><path clip-path=\"url(#clip810)\" d=\"M102.959 1417.54 L127.071 1417.54 L127.071 1420.74 L102.959 1420.74 L102.959 1417.54 Z\" fill=\"#000000\" fill-rule=\"evenodd\" fill-opacity=\"1\" /><path clip-path=\"url(#clip810)\" d=\"M146.782 1416.07 Q149.509 1416.66 151.032 1418.5 Q152.574 1420.34 152.574 1423.05 Q152.574 1427.21 149.716 1429.48 Q146.857 1431.76 141.591 1431.76 Q139.823 1431.76 137.942 1431.4 Q136.08 1431.06 134.086 1430.37 L134.086 1426.7 Q135.666 1427.62 137.547 1428.09 Q139.428 1428.56 141.478 1428.56 Q145.051 1428.56 146.913 1427.15 Q148.794 1425.74 148.794 1423.05 Q148.794 1420.57 147.045 1419.18 Q145.315 1417.77 142.211 1417.77 L138.939 1417.77 L138.939 1414.64 L142.362 1414.64 Q145.164 1414.64 146.65 1413.53 Q148.136 1412.41 148.136 1410.3 Q148.136 1408.14 146.593 1406.99 Q145.07 1405.82 142.211 1405.82 Q140.65 1405.82 138.863 1406.16 Q137.077 1406.5 134.933 1407.22 L134.933 1403.83 Q137.096 1403.23 138.976 1402.93 Q140.876 1402.63 142.55 1402.63 Q146.876 1402.63 149.396 1404.6 Q151.916 1406.56 151.916 1409.9 Q151.916 1412.24 150.581 1413.85 Q149.245 1415.45 146.782 1416.07 Z\" fill=\"#000000\" fill-rule=\"evenodd\" fill-opacity=\"1\" /><path clip-path=\"url(#clip810)\" d=\"M52.4345 970.928 L60.0734 970.928 L60.0734 944.562 L51.7632 946.229 L51.7632 941.969 L60.0271 940.303 L64.703 940.303 L64.703 970.928 L72.3418 970.928 L72.3418 974.863 L52.4345 974.863 L52.4345 970.928 Z\" fill=\"#000000\" fill-rule=\"evenodd\" fill-opacity=\"1\" /><path clip-path=\"url(#clip810)\" d=\"M91.7862 943.381 Q88.1751 943.381 86.3464 946.946 Q84.5408 950.488 84.5408 957.617 Q84.5408 964.724 86.3464 968.289 Q88.1751 971.83 91.7862 971.83 Q95.4204 971.83 97.226 968.289 Q99.0547 964.724 99.0547 957.617 Q99.0547 950.488 97.226 946.946 Q95.4204 943.381 91.7862 943.381 M91.7862 939.678 Q97.5963 939.678 100.652 944.284 Q103.731 948.867 103.731 957.617 Q103.731 966.344 100.652 970.951 Q97.5963 975.534 91.7862 975.534 Q85.976 975.534 82.8973 970.951 Q79.8418 966.344 79.8418 957.617 Q79.8418 948.867 82.8973 944.284 Q85.976 939.678 91.7862 939.678 Z\" fill=\"#000000\" fill-rule=\"evenodd\" fill-opacity=\"1\" /><path clip-path=\"url(#clip810)\" d=\"M103.731 933.779 L127.842 933.779 L127.842 936.976 L103.731 936.976 L103.731 933.779 Z\" fill=\"#000000\" fill-rule=\"evenodd\" fill-opacity=\"1\" /><path clip-path=\"url(#clip810)\" d=\"M139.315 944.255 L152.574 944.255 L152.574 947.452 L134.745 947.452 L134.745 944.255 Q136.907 942.017 140.631 938.255 Q144.374 934.475 145.333 933.384 Q147.158 931.334 147.872 929.923 Q148.606 928.494 148.606 927.121 Q148.606 924.883 147.026 923.472 Q145.465 922.062 142.945 922.062 Q141.158 922.062 139.164 922.682 Q137.19 923.303 134.933 924.563 L134.933 920.726 Q137.227 919.805 139.221 919.335 Q141.214 918.864 142.87 918.864 Q147.233 918.864 149.828 921.046 Q152.424 923.228 152.424 926.877 Q152.424 928.607 151.766 930.168 Q151.126 931.71 149.415 933.817 Q148.944 934.362 146.424 936.976 Q143.904 939.572 139.315 944.255 Z\" fill=\"#000000\" fill-rule=\"evenodd\" fill-opacity=\"1\" /><path clip-path=\"url(#clip810)\" d=\"M52.1336 487.166 L59.7725 487.166 L59.7725 460.8 L51.4623 462.467 L51.4623 458.208 L59.7262 456.541 L64.4021 456.541 L64.4021 487.166 L72.0409 487.166 L72.0409 491.101 L52.1336 491.101 L52.1336 487.166 Z\" fill=\"#000000\" fill-rule=\"evenodd\" fill-opacity=\"1\" /><path clip-path=\"url(#clip810)\" d=\"M91.4853 459.62 Q87.8742 459.62 86.0455 463.184 Q84.2399 466.726 84.2399 473.856 Q84.2399 480.962 86.0455 484.527 Q87.8742 488.069 91.4853 488.069 Q95.1195 488.069 96.925 484.527 Q98.7537 480.962 98.7537 473.856 Q98.7537 466.726 96.925 463.184 Q95.1195 459.62 91.4853 459.62 M91.4853 455.916 Q97.2954 455.916 100.351 460.522 Q103.43 465.106 103.43 473.856 Q103.43 482.583 100.351 487.189 Q97.2954 491.772 91.4853 491.772 Q85.6751 491.772 82.5964 487.189 Q79.5409 482.583 79.5409 473.856 Q79.5409 465.106 82.5964 460.522 Q85.6751 455.916 91.4853 455.916 Z\" fill=\"#000000\" fill-rule=\"evenodd\" fill-opacity=\"1\" /><path clip-path=\"url(#clip810)\" d=\"M103.43 450.017 L127.541 450.017 L127.541 453.215 L103.43 453.215 L103.43 450.017 Z\" fill=\"#000000\" fill-rule=\"evenodd\" fill-opacity=\"1\" /><path clip-path=\"url(#clip810)\" d=\"M136.4 460.493 L142.606 460.493 L142.606 439.071 L135.854 440.425 L135.854 436.965 L142.569 435.611 L146.368 435.611 L146.368 460.493 L152.574 460.493 L152.574 463.691 L136.4 463.691 L136.4 460.493 Z\" fill=\"#000000\" fill-rule=\"evenodd\" fill-opacity=\"1\" /><polyline clip-path=\"url(#clip812)\" style=\"stroke:#009af9; stroke-linecap:round; stroke-linejoin:round; stroke-width:4; stroke-opacity:1; fill:none\" points=\"\n",
       "  249.825,1433.78 270.448,1419.95 291.071,1404.5 311.694,1394.38 332.317,1376.31 352.94,1362.16 373.563,1349.59 394.186,1330.46 414.809,1312.99 435.432,1306.47 \n",
       "  456.055,1288.57 476.678,1274 497.301,1261.71 517.924,1240.29 538.547,1232.46 559.17,1215.44 579.793,1203.97 600.416,1181.26 621.039,1171.85 641.662,1154.82 \n",
       "  662.286,1141.8 682.909,1123.24 703.532,1112.84 724.155,1093.75 744.778,1079.67 765.401,1064.27 786.024,1054.89 806.647,1039.49 827.27,1020.95 847.893,1005.87 \n",
       "  868.516,996.469 889.139,981.386 909.762,965.369 930.385,952.676 951.008,932.882 971.631,921.513 992.254,903.847 1012.88,893.968 1033.5,875.242 1054.12,860.491 \n",
       "  1074.75,846.006 1095.37,838.631 1115.99,821.529 1136.62,802.662 1157.24,795.197 1177.86,775.991 1198.48,758.735 1219.11,752.281 1239.73,737.807 1260.35,718.963 \n",
       "  1280.98,708.733 1301.6,689.785 1322.22,672.337 1342.85,665.573 1363.47,644.524 1384.09,632.449 1404.71,619.789 1425.34,608.858 1445.96,587.56 1466.58,576.027 \n",
       "  1487.21,559.268 1507.83,552.209 1528.45,534.978 1549.08,519.3 1569.7,509.769 1590.32,495.348 1610.95,477.256 1631.57,463.661 1652.19,449.679 1672.81,438.301 \n",
       "  1693.44,420.162 1714.06,406.526 1734.68,393.236 1755.31,381.969 1775.93,372.639 1796.55,353.382 1817.18,342.814 1837.8,329.254 1858.42,318.59 1879.04,303.974 \n",
       "  1899.67,293.105 1920.29,278.733 1940.91,270.684 1961.54,251.905 1982.16,243.483 2002.78,228.008 2023.41,220.028 2044.03,205.259 2064.65,193.708 2085.28,186.057 \n",
       "  2105.9,173.931 2126.52,161.144 2147.14,150.767 2167.77,141.072 2188.39,133.987 2209.01,124.341 2229.64,116.687 2250.26,103.557 2270.88,98.7927 2291.51,87.6286 \n",
       "  \n",
       "  \"/>\n",
       "<path clip-path=\"url(#clip810)\" d=\"\n",
       "M1987.72 198.488 L2280.62 198.488 L2280.62 94.8081 L1987.72 94.8081  Z\n",
       "  \" fill=\"#ffffff\" fill-rule=\"evenodd\" fill-opacity=\"1\"/>\n",
       "<polyline clip-path=\"url(#clip810)\" style=\"stroke:#000000; stroke-linecap:round; stroke-linejoin:round; stroke-width:4; stroke-opacity:1; fill:none\" points=\"\n",
       "  1987.72,198.488 2280.62,198.488 2280.62,94.8081 1987.72,94.8081 1987.72,198.488 \n",
       "  \"/>\n",
       "<polyline clip-path=\"url(#clip810)\" style=\"stroke:#009af9; stroke-linecap:round; stroke-linejoin:round; stroke-width:4; stroke-opacity:1; fill:none\" points=\"\n",
       "  2011.77,146.648 2156.05,146.648 \n",
       "  \"/>\n",
       "<path clip-path=\"url(#clip810)\" d=\"M2193.94 166.336 Q2192.13 170.965 2190.42 172.377 Q2188.7 173.789 2185.83 173.789 L2182.43 173.789 L2182.43 170.224 L2184.93 170.224 Q2186.69 170.224 2187.66 169.391 Q2188.63 168.558 2189.82 165.456 L2190.58 163.511 L2180.09 138.002 L2184.61 138.002 L2192.71 158.28 L2200.81 138.002 L2205.32 138.002 L2193.94 166.336 Z\" fill=\"#000000\" fill-rule=\"evenodd\" fill-opacity=\"1\" /><path clip-path=\"url(#clip810)\" d=\"M2212.62 159.993 L2220.26 159.993 L2220.26 133.627 L2211.95 135.294 L2211.95 131.035 L2220.21 129.368 L2224.88 129.368 L2224.88 159.993 L2232.52 159.993 L2232.52 163.928 L2212.62 163.928 L2212.62 159.993 Z\" fill=\"#000000\" fill-rule=\"evenodd\" fill-opacity=\"1\" /></svg>\n"
      ]
     },
     "execution_count": 306,
     "metadata": {},
     "output_type": "execute_result"
    }
   ],
   "source": [
    "plot(ϵs, f[1, :], xscale=:log10, yscale=:log10)"
   ]
  },
  {
   "cell_type": "code",
   "execution_count": 307,
   "id": "ce930b99",
   "metadata": {},
   "outputs": [],
   "source": [
    "Pickle.store(\"./girvin_fid.pkl\", [ϵs, f[1, :], f[2, :]])"
   ]
  }
 ],
 "metadata": {
  "kernelspec": {
   "display_name": "Julia 1.8.5",
   "language": "julia",
   "name": "julia-1.8"
  },
  "language_info": {
   "file_extension": ".jl",
   "mimetype": "application/julia",
   "name": "julia",
   "version": "1.8.5"
  }
 },
 "nbformat": 4,
 "nbformat_minor": 5
}
