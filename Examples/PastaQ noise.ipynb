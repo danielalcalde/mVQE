{
 "cells": [
  {
   "cell_type": "code",
   "execution_count": 1,
   "id": "3abe824d",
   "metadata": {},
   "outputs": [],
   "source": [
    "using PastaQ\n",
    "using ITensors"
   ]
  },
  {
   "cell_type": "code",
   "execution_count": 2,
   "id": "55513f6b",
   "metadata": {},
   "outputs": [
    {
     "name": "stdout",
     "output_type": "stream",
     "text": [
      "getsamples(ψ, 5) = [0 0 0 0 0; 1 1 1 1 1; 1 1 1 1 1; 0 0 0 0 0; 1 1 1 1 1]\n"
     ]
    },
    {
     "data": {
      "text/plain": [
       "5×5 Matrix{Int64}:\n",
       " 0  0  0  0  0\n",
       " 1  1  1  1  1\n",
       " 1  1  1  1  1\n",
       " 0  0  0  0  0\n",
       " 1  1  1  1  1"
      ]
     },
     "execution_count": 2,
     "metadata": {},
     "output_type": "execute_result"
    }
   ],
   "source": [
    "# number of qubits\n",
    "N = 5\n",
    "\n",
    "# manually create a circuit to prepare GHZ state,\n",
    "# or use built-in call `circuit = ghz(n)` \n",
    "circuit = Tuple[(\"H\", 1)]\n",
    "for j in 1:N-1\n",
    "  push!(circuit, (\"CX\", (j, j+1)))\n",
    "end\n",
    "\n",
    "# run the circuit to obtain the output MPS\n",
    "hilbert = qubits(N)\n",
    "ψ = runcircuit(hilbert, circuit)\n",
    "\n",
    "\n",
    "# sample projective measurements in the computational basis\n",
    "@show getsamples(ψ, 5)"
   ]
  },
  {
   "cell_type": "code",
   "execution_count": 3,
   "id": "343529af",
   "metadata": {},
   "outputs": [
    {
     "data": {
      "text/html": [
       "getsamples(M0::<b>Union{MPO, MPS}</b>, nshots::<b>Int64</b>; <i>kwargs...</i>) in PastaQ at <a href=\"file:///Users/alcalde/.julia/packages/PastaQ/D5CCg/src/circuits/getsamples.jl\" target=\"_blank\">/Users/alcalde/.julia/packages/PastaQ/D5CCg/src/circuits/getsamples.jl:154</a>"
      ],
      "text/plain": [
       "getsamples(M0::Union{MPO, MPS}, nshots::Int64; kwargs...) in PastaQ at /Users/alcalde/.julia/packages/PastaQ/D5CCg/src/circuits/getsamples.jl:154"
      ]
     },
     "execution_count": 3,
     "metadata": {},
     "output_type": "execute_result"
    }
   ],
   "source": [
    "ψ = runcircuit(hilbert, circuit)\n",
    "@which getsamples(ψ, 5)"
   ]
  },
  {
   "cell_type": "code",
   "execution_count": 4,
   "id": "06b52315",
   "metadata": {},
   "outputs": [
    {
     "data": {
      "text/html": [
       "sample(M::<b>MPO</b>) in ITensors at <a href=\"https://github.com/ITensor/ITensors.jl/tree/c2d4cf84b77419c79d4f7ec6f3781b1cdf223b8e//src/mps/mpo.jl#L920\" target=\"_blank\">/local/alcalde/workprojects/forks/installed/ITensors.jl/src/mps/mpo.jl:920</a>"
      ],
      "text/plain": [
       "sample(M::MPO) in ITensors at /local/alcalde/workprojects/forks/installed/ITensors.jl/src/mps/mpo.jl:920"
      ]
     },
     "execution_count": 4,
     "metadata": {},
     "output_type": "execute_result"
    }
   ],
   "source": [
    "ψ = runcircuit(hilbert, circuit)\n",
    "ρ = outer(ψ, prime(ψ))\n",
    "@which sample(ρ)"
   ]
  },
  {
   "cell_type": "code",
   "execution_count": 5,
   "id": "fe6100d4",
   "metadata": {},
   "outputs": [
    {
     "data": {
      "text/plain": [
       "MPO\n",
       "[1] ((dim=2|id=673|\"Qubit,Site,n=1\")', (dim=2|id=673|\"Qubit,Site,n=1\"), (dim=4|id=323|\"Link,n=1\"))\n",
       "[2] ((dim=2|id=549|\"Qubit,Site,n=2\")', (dim=4|id=323|\"Link,n=1\"), (dim=2|id=549|\"Qubit,Site,n=2\"), (dim=16|id=872|\"Link,n=1\"))\n",
       "[3] ((dim=2|id=465|\"Qubit,Site,n=3\")', (dim=16|id=872|\"Link,n=1\"), (dim=2|id=465|\"Qubit,Site,n=3\"), (dim=16|id=977|\"Link,n=1\"))\n",
       "[4] ((dim=2|id=199|\"Qubit,Site,n=4\")', (dim=16|id=977|\"Link,n=1\"), (dim=2|id=199|\"Qubit,Site,n=4\"), (dim=4|id=582|\"Link,n=1\"))\n",
       "[5] ((dim=4|id=582|\"Link,n=1\"), (dim=2|id=29|\"Qubit,Site,n=5\")', (dim=2|id=29|\"Qubit,Site,n=5\"))\n"
      ]
     },
     "execution_count": 5,
     "metadata": {},
     "output_type": "execute_result"
    }
   ],
   "source": [
    "noisemodel = (1 => (\"depolarizing\", (p = 0.1,)), \n",
    "              2 => (\"depolarizing\", (p = 0.5,)))\n",
    "\n",
    "circuit2 = Tuple[(\"H\", 1)]\n",
    "for j in 1:N-1\n",
    "  push!(circuit2, (\"CX\", (j, j+1)))\n",
    "end\n",
    "\n",
    "ψ = randomMPS(hilbert, linkdims=10)\n",
    "\n",
    "runcircuit(ψ, circuit2; noismodel=noisemodel)\n",
    "\n",
    "ψ = randomMPS(hilbert, linkdims=10)\n",
    "runcircuit(ψ, circuit2; noise = noisemodel)"
   ]
  },
  {
   "cell_type": "code",
   "execution_count": 6,
   "id": "f3aacfcb",
   "metadata": {},
   "outputs": [
    {
     "name": "stdout",
     "output_type": "stream",
     "text": [
      "fidelity(ψ, ρ) = 0.02717837060776039\n",
      "getsamples(ρ, 5) = [1 1 0 0 0; 1 0 0 0 1; 1 0 0 0 0; 0 0 0 0 0; 1 1 1 0 0]\n"
     ]
    },
    {
     "data": {
      "text/plain": [
       "5×5 Matrix{Int64}:\n",
       " 1  1  0  0  0\n",
       " 1  0  0  0  1\n",
       " 1  0  0  0  0\n",
       " 0  0  0  0  0\n",
       " 1  1  1  0  0"
      ]
     },
     "execution_count": 6,
     "metadata": {},
     "output_type": "execute_result"
    }
   ],
   "source": [
    "# define a noise model with different error rates for\n",
    "# one- and two-qubit gates\n",
    "noisemodel = (1 => (\"depolarizing\", (p = 0.1,)), \n",
    "              2 => (\"depolarizing\", (p = 0.5,)))\n",
    "\n",
    "# run a noisy circuit\n",
    "ρ = runcircuit(hilbert, circuit; noise = noisemodel)\n",
    "@show fidelity(ψ, ρ)\n",
    "@show getsamples(ρ, 5)"
   ]
  },
  {
   "cell_type": "code",
   "execution_count": 7,
   "id": "6155bb4b",
   "metadata": {},
   "outputs": [
    {
     "data": {
      "text/plain": [
       "MPO\n",
       "[1] ((dim=2|id=180|\"Output,Qubit,Site,n=1\")', (dim=2|id=180|\"Input,Qubit,Site,n=1\")', (dim=2|id=180|\"Input,Qubit,Site,n=1\"), (dim=2|id=180|\"Output,Qubit,Site,n=1\"), (dim=5|id=509|\"Link,n=1\"))\n",
       "[2] ((dim=2|id=473|\"Output,Qubit,Site,n=2\")', (dim=5|id=509|\"Link,n=1\"), (dim=2|id=473|\"Input,Qubit,Site,n=2\")', (dim=2|id=473|\"Input,Qubit,Site,n=2\"), (dim=2|id=473|\"Output,Qubit,Site,n=2\"), (dim=5|id=667|\"Link,n=1\"))\n",
       "[3] ((dim=2|id=827|\"Output,Qubit,Site,n=3\")', (dim=5|id=667|\"Link,n=1\"), (dim=2|id=827|\"Input,Qubit,Site,n=3\")', (dim=2|id=827|\"Input,Qubit,Site,n=3\"), (dim=2|id=827|\"Output,Qubit,Site,n=3\"), (dim=5|id=484|\"Link,n=1\"))\n",
       "[4] ((dim=2|id=432|\"Output,Qubit,Site,n=4\")', (dim=5|id=484|\"Link,n=1\"), (dim=2|id=432|\"Input,Qubit,Site,n=4\")', (dim=2|id=432|\"Input,Qubit,Site,n=4\"), (dim=2|id=432|\"Output,Qubit,Site,n=4\"), (dim=5|id=198|\"Link,n=1\"))\n",
       "[5] ((dim=5|id=198|\"Link,n=1\"), (dim=2|id=884|\"Output,Qubit,Site,n=5\")', (dim=2|id=884|\"Input,Qubit,Site,n=5\")', (dim=2|id=884|\"Input,Qubit,Site,n=5\"), (dim=2|id=884|\"Output,Qubit,Site,n=5\"))\n"
      ]
     },
     "execution_count": 7,
     "metadata": {},
     "output_type": "execute_result"
    }
   ],
   "source": [
    "# quantum processes can also be obtained.\n",
    "# unitary MPO\n",
    "U = runcircuit(circuit; process = true)\n",
    "# Choi matrix\n",
    "Λ = runcircuit(circuit; process = true, noise = noisemodel)"
   ]
  },
  {
   "cell_type": "code",
   "execution_count": null,
   "id": "52686a2c",
   "metadata": {},
   "outputs": [],
   "source": []
  }
 ],
 "metadata": {
  "@webio": {
   "lastCommId": null,
   "lastKernelId": null
  },
  "kernelspec": {
   "display_name": "Julia 1.7.3",
   "language": "julia",
   "name": "julia-1.7"
  },
  "language_info": {
   "file_extension": ".jl",
   "mimetype": "application/julia",
   "name": "julia",
   "version": "1.7.3"
  },
  "toc": {
   "base_numbering": 1,
   "nav_menu": {},
   "number_sections": true,
   "sideBar": true,
   "skip_h1_title": false,
   "title_cell": "Table of Contents",
   "title_sidebar": "Contents",
   "toc_cell": false,
   "toc_position": {},
   "toc_section_display": true,
   "toc_window_display": false
  }
 },
 "nbformat": 4,
 "nbformat_minor": 5
}
