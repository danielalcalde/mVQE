{
 "cells": [
  {
   "cell_type": "code",
   "execution_count": 1,
   "metadata": {},
   "outputs": [],
   "source": [
    "using PastaQ\n",
    "using ITensors"
   ]
  },
  {
   "cell_type": "code",
   "execution_count": 2,
   "metadata": {},
   "outputs": [
    {
     "name": "stdout",
     "output_type": "stream",
     "text": [
      "getsamples(ψ, 5) = [0 0 0 0 0; 1 1 1 1 1; 1 1 1 1 1; 1 1 1 1 1; 1 1 1 1 1]\n"
     ]
    },
    {
     "data": {
      "text/plain": [
       "5×5 Matrix{Int64}:\n",
       " 0  0  0  0  0\n",
       " 1  1  1  1  1\n",
       " 1  1  1  1  1\n",
       " 1  1  1  1  1\n",
       " 1  1  1  1  1"
      ]
     },
     "execution_count": 2,
     "metadata": {},
     "output_type": "execute_result"
    }
   ],
   "source": [
    "# number of qubits\n",
    "N = 5\n",
    "\n",
    "# manually create a circuit to prepare GHZ state,\n",
    "# or use built-in call `circuit = ghz(n)` \n",
    "circuit = Tuple[(\"H\", 1)]\n",
    "for j in 1:N-1\n",
    "  push!(circuit, (\"CX\", (j, j+1)))\n",
    "end\n",
    "\n",
    "# run the circuit to obtain the output MPS\n",
    "hilbert = qubits(N)\n",
    "ψ = runcircuit(hilbert, circuit)\n",
    "\n",
    "\n",
    "# sample projective measurements in the computational basis\n",
    "@show getsamples(ψ, 5)"
   ]
  },
  {
   "cell_type": "code",
   "execution_count": null,
   "metadata": {},
   "outputs": [],
   "source": []
  },
  {
   "cell_type": "code",
   "execution_count": null,
   "metadata": {},
   "outputs": [],
   "source": [
    "ψ = runcircuit(hilbert, circuit)\n",
    "@which getsamples(ψ, 5)"
   ]
  },
  {
   "cell_type": "code",
   "execution_count": 10,
   "metadata": {},
   "outputs": [
    {
     "data": {
      "text/html": [
       "sample(M::<b>MPO</b>) in ITensors at <a href=\"https://github.com/danielalcalde/ITensors.jl/tree/2abb8951dbdc2e916788728a232e08095885c643//src/mps/mpo.jl#L863\" target=\"_blank\">/Users/alcalde/workprojects/forks/ITensors.jl/src/mps/mpo.jl:863</a>"
      ],
      "text/plain": [
       "sample(M::MPO) in ITensors at /Users/alcalde/workprojects/forks/ITensors.jl/src/mps/mpo.jl:863"
      ]
     },
     "execution_count": 10,
     "metadata": {},
     "output_type": "execute_result"
    }
   ],
   "source": [
    "ψ = runcircuit(hilbert, circuit)\n",
    "ρ = outer(ψ, prime(ψ))\n",
    "@which sample(ρ)"
   ]
  },
  {
   "cell_type": "code",
   "execution_count": 17,
   "metadata": {},
   "outputs": [
    {
     "data": {
      "text/plain": [
       "MPO\n",
       "[1] ((dim=2|id=43|\"Qubit,Site,n=1\")', (dim=2|id=43|\"Qubit,Site,n=1\"), (dim=4|id=685|\"Link,n=1\"))\n",
       "[2] ((dim=2|id=171|\"Qubit,Site,n=2\")', (dim=4|id=685|\"Link,n=1\"), (dim=2|id=171|\"Qubit,Site,n=2\"), (dim=16|id=129|\"Link,n=1\"))\n",
       "[3] ((dim=2|id=825|\"Qubit,Site,n=3\")', (dim=16|id=129|\"Link,n=1\"), (dim=2|id=825|\"Qubit,Site,n=3\"), (dim=16|id=842|\"Link,n=1\"))\n",
       "[4] ((dim=2|id=976|\"Qubit,Site,n=4\")', (dim=16|id=842|\"Link,n=1\"), (dim=2|id=976|\"Qubit,Site,n=4\"), (dim=4|id=989|\"Link,n=1\"))\n",
       "[5] ((dim=4|id=989|\"Link,n=1\"), (dim=2|id=165|\"Qubit,Site,n=5\")', (dim=2|id=165|\"Qubit,Site,n=5\"))\n"
      ]
     },
     "execution_count": 17,
     "metadata": {},
     "output_type": "execute_result"
    }
   ],
   "source": [
    "noisemodel = (1 => (\"depolarizing\", (p = 0.1,)), \n",
    "              2 => (\"depolarizing\", (p = 0.5,)))\n",
    "\n",
    "circuit2 = Tuple[(\"H\", 1)]\n",
    "for j in 1:N-1\n",
    "  push!(circuit2, (\"CX\", (j, j+1)))\n",
    "end\n",
    "\n",
    "ψ = randomMPS(hilbert, linkdims=10)\n",
    "\n",
    "runcircuit(ψ, circuit2; noismodel=noisemodel)\n",
    "\n",
    "ψ = randomMPS(hilbert, linkdims=10)\n",
    "runcircuit(ψ, circuit2; noise = noisemodel)"
   ]
  },
  {
   "cell_type": "code",
   "execution_count": 4,
   "metadata": {},
   "outputs": [
    {
     "name": "stdout",
     "output_type": "stream",
     "text": [
      "fidelity(ψ, ρ) = 0.11689744855967078\n",
      "getsamples(ρ, 5) = [0 0 1 1 1; 0 0 0 1 0; 0 1 1 1 1; 0 1 1 0 0; 0 1 1 1 1]\n"
     ]
    },
    {
     "data": {
      "text/plain": [
       "5×5 Matrix{Int64}:\n",
       " 0  0  1  1  1\n",
       " 0  0  0  1  0\n",
       " 0  1  1  1  1\n",
       " 0  1  1  0  0\n",
       " 0  1  1  1  1"
      ]
     },
     "execution_count": 4,
     "metadata": {},
     "output_type": "execute_result"
    }
   ],
   "source": [
    "# define a noise model with different error rates for\n",
    "# one- and two-qubit gates\n",
    "noisemodel = (1 => (\"depolarizing\", (p = 0.1,)), \n",
    "              2 => (\"depolarizing\", (p = 0.5,)))\n",
    "\n",
    "# run a noisy circuit\n",
    "ρ = runcircuit(hilbert, circuit; noise = noisemodel)\n",
    "@show fidelity(ψ, ρ)\n",
    "@show getsamples(ρ, 5)"
   ]
  },
  {
   "cell_type": "code",
   "execution_count": 16,
   "metadata": {},
   "outputs": [
    {
     "data": {
      "text/plain": [
       "MPO\n",
       "[1] ((dim=2|id=43|\"Qubit,Site,n=1\")', (dim=2|id=43|\"Qubit,Site,n=1\"), (dim=4|id=324|\"Link,n=1\"))\n",
       "[2] ((dim=2|id=171|\"Qubit,Site,n=2\")', (dim=4|id=324|\"Link,n=1\"), (dim=2|id=171|\"Qubit,Site,n=2\"), (dim=16|id=191|\"Link,n=1\"))\n",
       "[3] ((dim=2|id=825|\"Qubit,Site,n=3\")', (dim=16|id=191|\"Link,n=1\"), (dim=2|id=825|\"Qubit,Site,n=3\"), (dim=16|id=31|\"Link,n=1\"))\n",
       "[4] ((dim=2|id=976|\"Qubit,Site,n=4\")', (dim=16|id=31|\"Link,n=1\"), (dim=2|id=976|\"Qubit,Site,n=4\"), (dim=4|id=348|\"Link,n=1\"))\n",
       "[5] ((dim=4|id=348|\"Link,n=1\"), (dim=2|id=165|\"Qubit,Site,n=5\")', (dim=2|id=165|\"Qubit,Site,n=5\"))\n"
      ]
     },
     "execution_count": 16,
     "metadata": {},
     "output_type": "execute_result"
    }
   ],
   "source": []
  },
  {
   "cell_type": "code",
   "execution_count": 12,
   "metadata": {},
   "outputs": [
    {
     "data": {
      "text/plain": [
       "MPO\n",
       "[1] ((dim=2|id=43|\"Qubit,Site,n=1\")', (dim=2|id=43|\"Qubit,Site,n=1\"), (dim=4|id=123|\"Link,n=1\"))\n",
       "[2] ((dim=2|id=171|\"Qubit,Site,n=2\")', (dim=4|id=123|\"Link,n=1\"), (dim=2|id=171|\"Qubit,Site,n=2\"), (dim=16|id=555|\"Link,n=1\"))\n",
       "[3] ((dim=2|id=825|\"Qubit,Site,n=3\")', (dim=16|id=555|\"Link,n=1\"), (dim=2|id=825|\"Qubit,Site,n=3\"), (dim=16|id=370|\"Link,n=1\"))\n",
       "[4] ((dim=2|id=976|\"Qubit,Site,n=4\")', (dim=16|id=370|\"Link,n=1\"), (dim=2|id=976|\"Qubit,Site,n=4\"), (dim=4|id=759|\"Link,n=1\"))\n",
       "[5] ((dim=4|id=759|\"Link,n=1\"), (dim=2|id=165|\"Qubit,Site,n=5\")', (dim=2|id=165|\"Qubit,Site,n=5\"))\n"
      ]
     },
     "execution_count": 12,
     "metadata": {},
     "output_type": "execute_result"
    }
   ],
   "source": []
  },
  {
   "cell_type": "code",
   "execution_count": 3,
   "metadata": {},
   "outputs": [
    {
     "data": {
      "text/plain": [
       "MPO\n",
       "[1] ((dim=2|id=605|\"Output,Qubit,Site,n=1\")', (dim=2|id=605|\"Input,Qubit,Site,n=1\")', (dim=2|id=605|\"Input,Qubit,Site,n=1\"), (dim=2|id=605|\"Output,Qubit,Site,n=1\"), (dim=5|id=624|\"Link,n=1\"))\n",
       "[2] ((dim=2|id=982|\"Output,Qubit,Site,n=2\")', (dim=5|id=624|\"Link,n=1\"), (dim=2|id=982|\"Input,Qubit,Site,n=2\")', (dim=2|id=982|\"Input,Qubit,Site,n=2\"), (dim=2|id=982|\"Output,Qubit,Site,n=2\"), (dim=5|id=343|\"Link,n=1\"))\n",
       "[3] ((dim=2|id=490|\"Output,Qubit,Site,n=3\")', (dim=5|id=343|\"Link,n=1\"), (dim=2|id=490|\"Input,Qubit,Site,n=3\")', (dim=2|id=490|\"Input,Qubit,Site,n=3\"), (dim=2|id=490|\"Output,Qubit,Site,n=3\"), (dim=5|id=620|\"Link,n=1\"))\n",
       "[4] ((dim=2|id=288|\"Output,Qubit,Site,n=4\")', (dim=5|id=620|\"Link,n=1\"), (dim=2|id=288|\"Input,Qubit,Site,n=4\")', (dim=2|id=288|\"Input,Qubit,Site,n=4\"), (dim=2|id=288|\"Output,Qubit,Site,n=4\"), (dim=5|id=369|\"Link,n=1\"))\n",
       "[5] ((dim=5|id=369|\"Link,n=1\"), (dim=2|id=837|\"Output,Qubit,Site,n=5\")', (dim=2|id=837|\"Input,Qubit,Site,n=5\")', (dim=2|id=837|\"Input,Qubit,Site,n=5\"), (dim=2|id=837|\"Output,Qubit,Site,n=5\"))\n"
      ]
     },
     "execution_count": 3,
     "metadata": {},
     "output_type": "execute_result"
    }
   ],
   "source": [
    "# quantum processes can also be obtained.\n",
    "# unitary MPO\n",
    "U = runcircuit(circuit; process = true)\n",
    "# Choi matrix\n",
    "Λ = runcircuit(circuit; process = true, noise = noisemodel)"
   ]
  },
  {
   "cell_type": "code",
   "execution_count": null,
   "metadata": {},
   "outputs": [],
   "source": []
  }
 ],
 "metadata": {
  "@webio": {
   "lastCommId": null,
   "lastKernelId": null
  },
  "kernelspec": {
   "display_name": "My Julia",
   "language": "julia",
   "name": "julia-1.7"
  },
  "language_info": {
   "file_extension": ".jl",
   "mimetype": "application/julia",
   "name": "julia",
   "version": "1.7.3"
  },
  "toc": {
   "base_numbering": 1,
   "nav_menu": {},
   "number_sections": true,
   "sideBar": true,
   "skip_h1_title": false,
   "title_cell": "Table of Contents",
   "title_sidebar": "Contents",
   "toc_cell": false,
   "toc_position": {},
   "toc_section_display": true,
   "toc_window_display": false
  }
 },
 "nbformat": 4,
 "nbformat_minor": 5
}
