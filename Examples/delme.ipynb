{
 "cells": [
  {
   "cell_type": "code",
   "execution_count": 1,
   "id": "b85ae403",
   "metadata": {},
   "outputs": [
    {
     "name": "stderr",
     "output_type": "stream",
     "text": [
      "┌ Info: Precompiling PastaQ [30b07047-aa8b-4c78-a4e8-24d720215c19]\n",
      "└ @ Base loading.jl:1664\n",
      "WARNING: method definition for adapt_structure at /Users/alcalde/.julia/packages/Transducers/DSfBv/src/partitionby.jl:50 declares type variable inbounds but does not use it.\n",
      "WARNING: method definition for _foldl_array at /Users/alcalde/.julia/packages/Transducers/DSfBv/src/processes.jl:222 declares type variable T but does not use it.\n",
      "WARNING: could not import ITensors._op into PastaQ\n",
      "┌ Info: Precompiling Zygote [e88e6eb3-aa80-5325-afca-941959d7151f]\n",
      "└ @ Base loading.jl:1664\n",
      "┌ Info: Precompiling Flux [587475ba-b771-5e3f-ad9e-33799f191a9c]\n",
      "└ @ Base loading.jl:1664\n",
      "WARNING: method definition for attribute at /Users/alcalde/.julia/packages/CUDA/DfvRa/lib/cudadrv/pool.jl:79 declares type variable T but does not use it.\n",
      "WARNING: method definition for attribute! at /Users/alcalde/.julia/packages/CUDA/DfvRa/lib/cudadrv/pool.jl:90 declares type variable T but does not use it.\n",
      "WARNING: method definition for #cudacall#42 at /Users/alcalde/.julia/packages/CUDA/DfvRa/lib/cudadrv/execution.jl:131 declares type variable N but does not use it.\n",
      "WARNING: method definition for #bitonic_sort!#3 at /Users/alcalde/.julia/packages/CUDA/DfvRa/src/sorting.jl:836 declares type variable T but does not use it.\n",
      "┌ Info: Precompiling mVQE [fbf8b4f3-d5ee-4fcd-97a7-1cb357585aed]\n",
      "└ @ Base loading.jl:1664\n"
     ]
    }
   ],
   "source": [
    "using Revise\n",
    "using PastaQ\n",
    "using ITensors\n",
    "using Random\n",
    "using OptimKit\n",
    "using Zygote\n",
    "using Zygote: ChainRulesCore\n",
    "using BenchmarkTools\n",
    "using LinearAlgebra\n",
    "using JLD2\n",
    "using Flux\n",
    "\n",
    "import mVQE\n",
    "using mVQE.Hamiltonians: hamiltonian_tfi, hamiltonian_ghz\n",
    "using mVQE.ITensorsExtension: projective_measurement\n",
    "using mVQE: loss, optimize_and_evolve\n",
    "using mVQE.Circuits: VariationalCircuitRy, VariationalMeasurement, VariationalMeasurementMC, VariationalMeasurementMCFeedback\n",
    "using mVQE.Misc: get_ancillas_indices, pprint, unravel_index\n",
    "using mVQE.Optimizers: OptimizerWrapper"
   ]
  },
  {
   "cell_type": "code",
   "execution_count": 2,
   "id": "d7b224d1",
   "metadata": {},
   "outputs": [],
   "source": [
    "state_indices, ancillas_indices, N = get_ancillas_indices(6, 1)\n",
    "\n",
    "# build MPO \"cost function\"\n",
    "hilbert = qubits(N)\n",
    "\n",
    "H = MPO(hamiltonian_tfi(state_indices, 0.1), hilbert)\n",
    "#H = hamiltonian_ghz(state_indices, hilbert)\n",
    "\n",
    "# VQE\n",
    "Random.seed!(1)\n",
    "\n",
    "# Initialize state\n",
    "ψ = productstate(hilbert, fill(0, N))\n",
    "ρs = outer(ψ, ψ');"
   ]
  },
  {
   "cell_type": "code",
   "execution_count": null,
   "id": "ef1a1bef",
   "metadata": {},
   "outputs": [],
   "source": [
    "vmodels = [VariationalCircuitRy(N, 2) for _ in 1:1]\n",
    "model2 = VariationalMeasurementMC(vmodels, ancillas_indices)\n",
    "l, grad = @time mVQE.loss_and_grad(ψ, H, model2, 1)\n",
    "l, grad[grad.params[1]]"
   ]
  },
  {
   "cell_type": "code",
   "execution_count": 8,
   "id": "10640e4e",
   "metadata": {},
   "outputs": [
    {
     "data": {
      "text/plain": [
       "Pkg.API.ProjectInfo(\"mVQE\", UUID(\"fbf8b4f3-d5ee-4fcd-97a7-1cb357585aed\"), v\"0.1.0\", true, Dict{String, Base.UUID}(\"Statistics\" => UUID(\"10745b16-79ce-11e8-11f9-7d13ad32a3b2\"), \"Revise\" => UUID(\"295af30f-e4ad-537b-8983-00126c2a3abe\"), \"Random\" => UUID(\"9a3f8284-a2c9-5f02-9a11-845980a1fd5c\"), \"ParallelDataTransfer\" => UUID(\"2dcacdae-9679-587a-88bb-8b444fb7085b\"), \"Suppressor\" => UUID(\"fd094767-a336-5f1f-9728-57cf17d0bbfb\"), \"ITensors\" => UUID(\"9136182c-28ba-11e9-034c-db9fb085ebd5\"), \"Distributed\" => UUID(\"8ba89e20-285c-5b6f-9357-94700520ee1b\"), \"PastaQ\" => UUID(\"30b07047-aa8b-4c78-a4e8-24d720215c19\"), \"LinearAlgebra\" => UUID(\"37e2e46d-f89d-539d-b4ee-838fcccc9c8e\"), \"PyCall\" => UUID(\"438e738f-606a-5dbb-bf0a-cddfbfd45ab0\")…), \"/local/alcalde/workprojects/mVQE/mVQE/Project.toml\")"
      ]
     },
     "execution_count": 8,
     "metadata": {},
     "output_type": "execute_result"
    }
   ],
   "source": [
    "using Pkg\n",
    "Pkg.project()"
   ]
  }
 ],
 "metadata": {
  "@webio": {
   "lastCommId": null,
   "lastKernelId": null
  },
  "kernelspec": {
   "display_name": "Julia 1.8.5",
   "language": "julia",
   "name": "julia-1.8"
  },
  "language_info": {
   "file_extension": ".jl",
   "mimetype": "application/julia",
   "name": "julia",
   "version": "1.8.5"
  }
 },
 "nbformat": 4,
 "nbformat_minor": 5
}
