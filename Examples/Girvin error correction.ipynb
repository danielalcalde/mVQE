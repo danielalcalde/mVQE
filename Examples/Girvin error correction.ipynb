{
 "cells": [
  {
   "cell_type": "code",
   "execution_count": 197,
   "id": "e6c6ae3c",
   "metadata": {},
   "outputs": [],
   "source": [
    "using Revise\n",
    "using PastaQ\n",
    "using ITensors\n",
    "using Random\n",
    "using OptimKit\n",
    "using Zygote\n",
    "using Zygote: ChainRulesCore\n",
    "using BenchmarkTools\n",
    "using LinearAlgebra\n",
    "using JLD2\n",
    "using Flux\n",
    "using PyCall\n",
    "using SymPy\n",
    "using QOS\n",
    "\n",
    "import mVQE\n",
    "using mVQE: Circuits\n",
    "\n",
    "using mVQE.Hamiltonians: hamiltonian_tfi, hamiltonian_ghz, hamiltonian_aklt_half\n",
    "using mVQE.ITensorsExtension: projective_measurement\n",
    "using mVQE: loss, optimize_and_evolve\n",
    "using mVQE.Circuits: AbstractVariationalCircuit, VariationalCircuitRy, VariationalMeasurement, VariationalMeasurementMC, VariationalMeasurementMCFeedback\n",
    "using mVQE.Misc: get_ancillas_indices, pprint\n",
    "using mVQE.Optimizers: OptimizerWrapper\n",
    "using mVQE.pyflexmps: pfs"
   ]
  },
  {
   "cell_type": "code",
   "execution_count": 2,
   "id": "2af5df9c",
   "metadata": {},
   "outputs": [
    {
     "data": {
      "text/plain": [
       "bell_gate (generic function with 1 method)"
      ]
     },
     "execution_count": 2,
     "metadata": {},
     "output_type": "execute_result"
    }
   ],
   "source": [
    "singlet_gate(i1, i2)=[(\"X\", i1), (\"X\", i2), (\"H\", i2), (\"CX\", (i2, i1))]\n",
    "\n",
    "\n",
    "θ_1 = 2 * atan(-1 / sqrt(2))\n",
    "θ_2 = 2 * atan(sqrt(2))\n",
    "\n",
    "U_gate_L(c_in, i1, i2) =[(\"CX\", (c_in, i1)), (\"CRy\", (i1, c_in), (θ = θ_1,)), (\"X\", i1),(\"CRy\", (i1, i2), (θ = θ_2,)), (\"X\", i1),\n",
    "                        (\"CX\", (c_in, i1)), (\"CX\", (i1, i2)), (\"CX\", (i2, i1))]\n",
    "\n",
    "U_gate_R(c_in, i1, i2) =[(\"CX\", (c_in, i1)), (\"CRy\", (i1, c_in), (θ = θ_1,)), (\"X\", i1),(\"CRy\", (i1, i2), (θ = θ_2,)), (\"X\", i1),\n",
    "                        (\"CX\", (c_in, i1)), (\"CX\", (i1, i2)), (\"CX\", (i2, i1)), (\"SWAP\", c_in, i1)]\n",
    "\n",
    "U_gate_L_(i0, i1, i2) = U_gate_L(i2, i1, i0)\n",
    "#U_gate_R(i3, i4, i5) = U_gate_R(i3, i4, i5)\n",
    "\n",
    "U2_gate(i0, i1, i2, i3, i4, i5) = vcat(U_gate_L_(i0, i1, i2), U_gate_R(i3, i4, i5))\n",
    "    \n",
    "bell_gate(i0, i1) = [(\"CX\", (i1, i0)), (\"H\", i1)]"
   ]
  },
  {
   "cell_type": "code",
   "execution_count": 3,
   "id": "b60111fa",
   "metadata": {},
   "outputs": [],
   "source": [
    "Ux = zeros(2, 2, 2, 2)\n",
    "Ux[1, 2, 2, 1] = 1\n",
    "Ux[1, 1, 1, 1] = 1\n",
    "Ux[2, 1, 1, 2] = 1\n",
    "Ux[2, 2, 2, 2] = 1\n",
    "Ux = reshape(Ux, 4, 4)\n",
    "ITensors.op(::OpName\"Ux\", ::SiteType\"Qubit\") = Ux\n",
    "\n",
    "Uy = zeros(2, 2, 2, 2)\n",
    "Uy[1, 2, 2, 1] = -1 # |+><-|\n",
    "Uy[1, 1, 1, 1] = 1 # |0><0|\n",
    "Uy[2, 1, 1, 2] = -1 # |-><+|\n",
    "Uy[2, 2, 2, 2] = 1\n",
    "Uy = reshape(Uy, 4, 4)\n",
    "ITensors.op(::OpName\"Uy\", ::SiteType\"Qubit\") = Uy\n",
    "\n",
    "Uz = zeros(2, 2, 2, 2)\n",
    "Uz[2, 1, 2, 1] = -1\n",
    "Uz[1, 1, 1, 1] = 1\n",
    "Uz[1, 2, 1, 2] = -1\n",
    "Uz[2, 2, 2, 2] = 1\n",
    "Uz = reshape(Uz, 4, 4)\n",
    "ITensors.op(::OpName\"Uz\", ::SiteType\"Qubit\") = Uz\n",
    "\n",
    "Ui = zeros(2, 2, 2, 2)\n",
    "Ui[2, 1, 2, 1] = 1\n",
    "Ui[1, 1, 1, 1] = 1\n",
    "Ui[1, 2, 1, 2] = 1\n",
    "Ui[2, 2, 2, 2] = 1\n",
    "Ui = reshape(Ui, 4, 4)\n",
    "ITensors.op(::OpName\"Ui\", ::SiteType\"Qubit\") = Ui"
   ]
  },
  {
   "cell_type": "code",
   "execution_count": 4,
   "id": "915b0c4c",
   "metadata": {},
   "outputs": [
    {
     "data": {
      "text/plain": [
       "4×4 Matrix{Float64}:\n",
       " 1.0  0.0  0.0  0.0\n",
       " 0.0  0.0  1.0  0.0\n",
       " 0.0  1.0  0.0  0.0\n",
       " 0.0  0.0  0.0  1.0"
      ]
     },
     "execution_count": 4,
     "metadata": {},
     "output_type": "execute_result"
    }
   ],
   "source": [
    "Uy*Uz"
   ]
  },
  {
   "cell_type": "code",
   "execution_count": 5,
   "id": "0f559386",
   "metadata": {},
   "outputs": [
    {
     "data": {
      "text/plain": [
       "4×4 Matrix{Float64}:\n",
       " 1.0   0.0   0.0  0.0\n",
       " 0.0   0.0  -1.0  0.0\n",
       " 0.0  -1.0   0.0  0.0\n",
       " 0.0   0.0   0.0  1.0"
      ]
     },
     "execution_count": 5,
     "metadata": {},
     "output_type": "execute_result"
    }
   ],
   "source": [
    "Ux*Uz"
   ]
  },
  {
   "cell_type": "code",
   "execution_count": 61,
   "id": "0fb5dcf1",
   "metadata": {},
   "outputs": [
    {
     "data": {
      "text/plain": [
       "([2, 3, 4, 5, 8, 9, 10, 11], [1, 6, 7, 12], 12)"
      ]
     },
     "execution_count": 61,
     "metadata": {},
     "output_type": "execute_result"
    }
   ],
   "source": [
    "N_state = 8\n",
    "state_indices, ancilla_indices, N = get_ancillas_indices(N_state, [false, true, true, true, true, false])\n",
    "hilbert = qubits(N)\n",
    "\n",
    "hilbert_state = hilbert[state_indices]\n",
    "hilbert_ancilla = hilbert[ancilla_indices]\n",
    "\n",
    "H = hamiltonian_ghz(state_indices, hilbert)\n",
    "ψ = productstate(hilbert, fill(0, N))\n",
    "state_indices, ancilla_indices, N"
   ]
  },
  {
   "cell_type": "code",
   "execution_count": 62,
   "id": "2e606638",
   "metadata": {},
   "outputs": [],
   "source": [
    "aklts = mVQE.StateFactory.AKLT_halfs(hilbert[state_indices], basis=\"girvin\");\n",
    "H_8, H_aklt_8, H_spin1_8 = hamiltonian_aklt_half(hilbert_state);\n",
    "Htot_8, = hamiltonian_aklt_half(hilbert, sublattice=state_indices);"
   ]
  },
  {
   "cell_type": "code",
   "execution_count": 63,
   "id": "b720166e",
   "metadata": {},
   "outputs": [],
   "source": [
    "gates = vcat(singlet_gate(3, 4), singlet_gate(9, 10))\n",
    "gates = vcat(gates, U2_gate(1, 2, 3, 4, 5, 6))\n",
    "gates = vcat(gates, U2_gate(7, 8, 9, 10, 11, 12));\n",
    "gates = vcat(gates, bell_gate(7, 6));"
   ]
  },
  {
   "cell_type": "code",
   "execution_count": 64,
   "id": "29186523",
   "metadata": {},
   "outputs": [],
   "source": [
    "ψ2 = runcircuit(ψ, gates);"
   ]
  },
  {
   "cell_type": "code",
   "execution_count": 72,
   "id": "9cd170d9",
   "metadata": {},
   "outputs": [
    {
     "name": "stdout",
     "output_type": "stream",
     "text": [
      "-3.583441369784768e-16\n",
      "-1.8676482051465933e-17\n"
     ]
    },
    {
     "data": {
      "text/plain": [
       "4-element Vector{Int64}:\n",
       " 2\n",
       " 2\n",
       " 2\n",
       " 1"
      ]
     },
     "execution_count": 72,
     "metadata": {},
     "output_type": "execute_result"
    }
   ],
   "source": [
    "ψp, measurement = mVQE.ITensorsExtension.projective_measurement_sample(ψ2; indices=[1, 6, 7, 12], remove_measured=true)\n",
    "#measurement = [2, 1, 2, 1]\n",
    "#ψp = mVQE.ITensorsExtension.reduce_MPS(ψ2, [1, 6, 7, 12], measurement, norm=true)\n",
    "println(inner(ψp, H_aklt_8, ψp))\n",
    "println(inner(ψp, H_spin1_8, ψp))\n",
    "measurement"
   ]
  },
  {
   "cell_type": "code",
   "execution_count": 73,
   "id": "2de0c078",
   "metadata": {},
   "outputs": [
    {
     "data": {
      "text/plain": [
       "\"Ui\""
      ]
     },
     "execution_count": 73,
     "metadata": {},
     "output_type": "execute_result"
    }
   ],
   "source": [
    "correction_gates_ = Dict()\n",
    "\n",
    "correction_gates_[[1, 1]] = \"Uy\"\n",
    "correction_gates_[[1, 2]] = \"Uz\"\n",
    "correction_gates_[[2, 1]] = \"Ux\"\n",
    "correction_gates_[[2, 2]] = \"Ui\""
   ]
  },
  {
   "cell_type": "code",
   "execution_count": 74,
   "id": "e07dbdea",
   "metadata": {},
   "outputs": [
    {
     "name": "stdout",
     "output_type": "stream",
     "text": [
      "-1.520190956388908e-16\n",
      "-1.7080666827577884e-17\n"
     ]
    }
   ],
   "source": [
    "g = correction_gates_[measurement[2:3]]\n",
    "gates = [(g, (1, 2)), (g, (3, 4))]\n",
    "ψp_corr = runcircuit(ψp, gates);\n",
    "\n",
    "g = correction_gates_[measurement[2:3]]\n",
    "gates = [(g, (5, 6)), (g, (7, 8))]\n",
    "ψp_corr2 = runcircuit(ψp, gates);\n",
    "\n",
    "println(inner(ψp_corr, H_aklt_8, ψp_corr))\n",
    "println(inner(ψp_corr, H_spin1_8, ψp_corr))"
   ]
  },
  {
   "cell_type": "code",
   "execution_count": 75,
   "id": "65c14b95",
   "metadata": {},
   "outputs": [
    {
     "data": {
      "text/plain": [
       "4-element Vector{Float64}:\n",
       " 1.0000000000000009\n",
       " 5.722131837052231e-32\n",
       " 4.937110032284334e-31\n",
       " 0.0005948839976204658"
      ]
     },
     "execution_count": 75,
     "metadata": {},
     "output_type": "execute_result"
    }
   ],
   "source": [
    "[inner(ψp_corr, aklt)^2 for aklt in aklts]"
   ]
  },
  {
   "cell_type": "code",
   "execution_count": 76,
   "id": "6ce96d6f",
   "metadata": {},
   "outputs": [
    {
     "data": {
      "text/plain": [
       "4-element Vector{Float64}:\n",
       " 1.0000000000000009\n",
       " 6.391228950878499e-32\n",
       " 1.3375834148446364e-32\n",
       " 0.0005948839976204646"
      ]
     },
     "execution_count": 76,
     "metadata": {},
     "output_type": "execute_result"
    }
   ],
   "source": [
    "[inner(ψp_corr2, aklt)^2 for aklt in aklts]"
   ]
  },
  {
   "cell_type": "markdown",
   "id": "5711564c",
   "metadata": {},
   "source": [
    "## Larger AKLTs"
   ]
  },
  {
   "cell_type": "code",
   "execution_count": 77,
   "id": "5ea7a7ce",
   "metadata": {},
   "outputs": [
    {
     "data": {
      "text/plain": [
       "([2, 3, 4, 5, 8, 9, 10, 11, 14, 15, 16, 17, 20, 21, 22, 23], [1, 6, 7, 12, 13, 18, 19, 24], 24)"
      ]
     },
     "execution_count": 77,
     "metadata": {},
     "output_type": "execute_result"
    }
   ],
   "source": [
    "N_state = 4 * 4\n",
    "state_indices, ancilla_indices, N = get_ancillas_indices(N_state, [false, true, true, true, true, false])\n",
    "hilbert = qubits(N)\n",
    "\n",
    "hilbert_state = hilbert[state_indices]\n",
    "hilbert_ancilla = hilbert[ancilla_indices]\n",
    "\n",
    "ψ = productstate(hilbert, fill(0, N))\n",
    "aklts = mVQE.StateFactory.AKLT_halfs(hilbert[state_indices], basis=\"girvin\");\n",
    "state_indices, ancilla_indices, N"
   ]
  },
  {
   "cell_type": "code",
   "execution_count": 78,
   "id": "09552907",
   "metadata": {},
   "outputs": [],
   "source": [
    "aklts = mVQE.StateFactory.AKLT_halfs(hilbert[state_indices], basis=\"girvin\")\n",
    "H, = hamiltonian_aklt_half(hilbert_state)\n",
    "Htot, Htot_aklt, Htot_spin1 = hamiltonian_aklt_half(hilbert, sublattice=state_indices);"
   ]
  },
  {
   "cell_type": "code",
   "execution_count": 79,
   "id": "a0196f3c",
   "metadata": {},
   "outputs": [
    {
     "data": {
      "text/plain": [
       "correction_gates2 (generic function with 1 method)"
      ]
     },
     "execution_count": 79,
     "metadata": {},
     "output_type": "execute_result"
    }
   ],
   "source": [
    "function girvin_gates(N)\n",
    "    gates = Vector()\n",
    "    for site in 3:6:N\n",
    "        gates = vcat(gates, singlet_gate(site, site + 1))\n",
    "    end\n",
    "    \n",
    "    for site in 1:6:N\n",
    "        gates = vcat(gates, U2_gate(site, site+1, site+2, site+3, site+4, site+5))\n",
    "    end\n",
    "    \n",
    "    for site in 6:6:N-1\n",
    "        gates = vcat(gates, bell_gate(site+1, site))\n",
    "    end\n",
    "    return gates\n",
    "end\n",
    "            \n",
    "function correction_gates(M)\n",
    "    M = M[2:end-1]\n",
    "    @assert mod(length(M), 2) == 0\n",
    "    M = reshape(M, (2, Int(length(M)/2)))\n",
    "    gates = Vector()\n",
    "    for i in 1:size(M, 2)\n",
    "        Mi = M[:, i]\n",
    "        g = correction_gates_[Mi]\n",
    "        for sites in 1:4:4*i\n",
    "            gates = vcat(gates, [(g, (sites, sites+1)), (g, (sites+2, sites+3))])\n",
    "        end\n",
    "    end\n",
    "    return gates\n",
    "end\n",
    "            \n",
    "function correction_gates2(M, sites)\n",
    "    M = M[2:end-1]\n",
    "    @assert mod(length(M), 2) == 0\n",
    "    M = reshape(M, (2, Int(length(M)/2)))\n",
    "    gates = Vector()\n",
    "    for i in 1:size(M, 2)\n",
    "        Mi = M[:, i]\n",
    "        g = correction_gates_[Mi]\n",
    "        for site in 1:4:4*i\n",
    "            gates = vcat(gates, [(g, (sites[site], sites[site+1])),\n",
    "                                 (g, (sites[site+2], sites[site+3]))])\n",
    "        end\n",
    "    end\n",
    "    return gates\n",
    "end"
   ]
  },
  {
   "cell_type": "code",
   "execution_count": 80,
   "id": "fb463808",
   "metadata": {},
   "outputs": [],
   "source": [
    "ψ2 = runcircuit(ψ, girvin_gates(N));"
   ]
  },
  {
   "cell_type": "code",
   "execution_count": 81,
   "id": "040f9e05",
   "metadata": {},
   "outputs": [
    {
     "data": {
      "text/plain": [
       "-1.9963004004924863e-15"
      ]
     },
     "execution_count": 81,
     "metadata": {},
     "output_type": "execute_result"
    }
   ],
   "source": [
    "ψp, measurement = mVQE.ITensorsExtension.projective_measurement_sample(ψ2; indices=ancilla_indices, remove_measured=true);\n",
    "\n",
    "ψp_corr = runcircuit(ψp, correction_gates(measurement));\n",
    "inner(ψp_corr, H, ψp_corr)"
   ]
  },
  {
   "cell_type": "markdown",
   "id": "917367a4",
   "metadata": {},
   "source": [
    "### Make the preparation a parametrized quantum circuit"
   ]
  },
  {
   "cell_type": "code",
   "execution_count": 82,
   "id": "e26515e3",
   "metadata": {},
   "outputs": [
    {
     "data": {
      "text/plain": [
       "bell_gate (generic function with 1 method)"
      ]
     },
     "execution_count": 82,
     "metadata": {},
     "output_type": "execute_result"
    }
   ],
   "source": [
    "singlet_gate_p(i1, i2, θ_1, θ_2) = [(\"Rx\", i1, (θ=θ_1,)), (\"Ry\", i2, (θ=θ_2,)), (\"CX\", (i2, i1))]\n",
    "singlet_gate_p_i(i1, i2) = singlet_gate_p(i1, i2, pi, -pi/2) \n",
    "\n",
    "θ_1 = 2 * atan(-1 / sqrt(2))\n",
    "θ_2 = 2 * atan(sqrt(2))\n",
    "\n",
    "U_gate_L_p(c_in, i1, i2, θ_1, θ_2, ϕ_1) =[(\"CX\", (c_in, i1)), (\"CRy\", (i1, c_in), (θ = θ_1,)), (\"Rx\", i1, (θ=ϕ_1,)),(\"CRy\", (i1, i2), (θ = θ_2,)), (\"X\", i1),\n",
    "                        (\"CX\", (c_in, i1)), (\"CX\", (i1, i2)), (\"CX\", (i2, i1))]\n",
    "\n",
    "U_gate_R_p(c_in, i1, i2, θ_1, θ_2, ϕ_1) =[(\"CX\", (c_in, i1)), (\"CRy\", (i1, c_in), (θ = θ_1,)), (\"Rx\", i1, (θ=ϕ_1,)),(\"CRy\", (i1, i2), (θ = θ_2,)), (\"X\", i1),\n",
    "                        (\"CX\", (c_in, i1)), (\"CX\", (i1, i2)), (\"CX\", (i2, i1)), (\"SWAP\", c_in, i1)]\n",
    "\n",
    "U2_gate_p(i0, i1, i2, i3, i4, i5, θ_1, θ_2, ϕ_1, θ_3, θ_4, ϕ_2) = vcat(U_gate_L_p(i2, i1, i0, θ_1, θ_2, ϕ_1), U_gate_R_p(i3, i4, i5, θ_3, θ_4, ϕ_2))\n",
    "U2_gate_p_i(i0, i1, i2, i3, i4, i5) = U2_gate_p(i0, i1, i2, i3, i4, i5, θ_1, θ_2, pi, θ_1, θ_2, pi)\n",
    "bell_gate(i0, i1) = [(\"CX\", (i1, i0)), (\"H\", i1)]"
   ]
  },
  {
   "cell_type": "code",
   "execution_count": 83,
   "id": "9c9ab51f",
   "metadata": {},
   "outputs": [
    {
     "data": {
      "text/plain": [
       "Dim 1: (dim=2|id=610|\"Qubit,Site,n=1\")'\n",
       "Dim 2: (dim=2|id=610|\"Qubit,Site,n=1\")\n",
       "NDTensors.Dense{Float64, Vector{Float64}}\n",
       " 2×2\n",
       "  0.7071067811865475  0.7071067811865475\n",
       " -0.7071067811865475  0.7071067811865475"
      ]
     },
     "execution_count": 83,
     "metadata": {},
     "output_type": "execute_result"
    }
   ],
   "source": [
    "op(\"H\", hilbert[1]).tensor*op(\"X\", hilbert[1]).tensor"
   ]
  },
  {
   "cell_type": "code",
   "execution_count": 84,
   "id": "8f3904ab",
   "metadata": {},
   "outputs": [
    {
     "data": {
      "text/plain": [
       "Dim 1: (dim=2|id=610|\"Qubit,Site,n=1\")'\n",
       "Dim 2: (dim=2|id=610|\"Qubit,Site,n=1\")\n",
       "NDTensors.Dense{Float64, Vector{Float64}}\n",
       " 2×2\n",
       "  0.7071067811865476  0.7071067811865475\n",
       " -0.7071067811865475  0.7071067811865476"
      ]
     },
     "execution_count": 84,
     "metadata": {},
     "output_type": "execute_result"
    }
   ],
   "source": [
    "op(\"Ry\", hilbert[1], θ=-pi/2).tensor"
   ]
  },
  {
   "cell_type": "code",
   "execution_count": 85,
   "id": "69ef818e",
   "metadata": {},
   "outputs": [
    {
     "data": {
      "text/plain": [
       "generate_circuit (generic function with 2 methods)"
      ]
     },
     "execution_count": 85,
     "metadata": {},
     "output_type": "execute_result"
    }
   ],
   "source": [
    "struct GirvinCircuit2 <: AbstractVariationalCircuit\n",
    "    params::Matrix{Float64}\n",
    "    GirvinCircuit2(params::Matrix{Float64}) = new(params)\n",
    "    GirvinCircuit2(N::Int) = new(2π .* rand(N, 8))\n",
    "    GirvinCircuit2() = new(Matrix{Float64}(undef, 0, 0)) # Empty circuit to be used as a placeholder\n",
    "end\n",
    "function generate_circuit(model::GirvinCircuit2; params=nothing)\n",
    "    if params === nothing\n",
    "        params = model.params\n",
    "    end\n",
    "    \n",
    "    gates = Vector()\n",
    "    for (i, site) in enumerate(3:6:N)\n",
    "        gates = vcat(gates, singlet_gate_p(site, site + 1, params[i, 1:2]...))\n",
    "    end\n",
    "    for (i, site) in enumerate(1:6:N)\n",
    "            gates = vcat(gates, U2_gate_p(site, site+1, site+2, site+3, site+4, site+5, params[i, 3:end]...))\n",
    "    end\n",
    "    \n",
    "    for site in 6:6:N-1\n",
    "        gates = vcat(gates, bell_gate(site+1, site))\n",
    "    end\n",
    "    return gates\n",
    "end"
   ]
  },
  {
   "cell_type": "code",
   "execution_count": 226,
   "id": "f7c7d73c",
   "metadata": {},
   "outputs": [
    {
     "data": {
      "text/plain": [
       "24"
      ]
     },
     "execution_count": 226,
     "metadata": {},
     "output_type": "execute_result"
    }
   ],
   "source": [
    "N"
   ]
  },
  {
   "cell_type": "code",
   "execution_count": 88,
   "id": "ef2a6431",
   "metadata": {},
   "outputs": [],
   "source": [
    "params = Array(hcat(fill([pi, -pi/2, θ_1, θ_2, pi, θ_1, θ_2, pi], Int(N_state/4))...)')\n",
    "gcirc = GirvinCircuit2(params)\n",
    "gates = generate_circuit(gcirc);"
   ]
  },
  {
   "cell_type": "code",
   "execution_count": 89,
   "id": "b19f479b",
   "metadata": {},
   "outputs": [],
   "source": [
    "ψ2_2 = runcircuit(ψ, gates);"
   ]
  },
  {
   "cell_type": "code",
   "execution_count": 135,
   "id": "6f6e5fbd",
   "metadata": {},
   "outputs": [],
   "source": [
    "ψ2 = runcircuit(ψ, girvin_gates(N));"
   ]
  },
  {
   "cell_type": "code",
   "execution_count": 136,
   "id": "791b9f32",
   "metadata": {},
   "outputs": [
    {
     "data": {
      "text/plain": [
       "1.0000000000000002 - 2.302212852266881e-16im"
      ]
     },
     "execution_count": 136,
     "metadata": {},
     "output_type": "execute_result"
    }
   ],
   "source": [
    "inner(ψ2_2, ψ2)"
   ]
  },
  {
   "cell_type": "markdown",
   "id": "93557228",
   "metadata": {},
   "source": [
    "### Make  the correction a parametrized quantum circuit"
   ]
  },
  {
   "cell_type": "code",
   "execution_count": 137,
   "id": "4732e68c",
   "metadata": {},
   "outputs": [],
   "source": [
    "# Uz*Uz=I\n",
    "# Ux*Ux=I\n",
    "# Uy*Uy=I\n",
    "\n",
    "# Ux*Uy=Uz\n",
    "# Ux*Uz=Uy\n",
    "\n",
    "# Uy*Uz=Ux"
   ]
  },
  {
   "cell_type": "code",
   "execution_count": 138,
   "id": "f2071a77",
   "metadata": {},
   "outputs": [
    {
     "data": {
      "text/latex": [
       "$\\left[ \\begin{array}{rr}e^{i \\left(α_{2} - β_{2} - δ_{2}\\right)} \\cos{\\left(γ_{2} \\right)}&- e^{i \\left(α_{2} - β_{2} + δ_{2}\\right)} \\sin{\\left(γ \\right)}\\\\e^{i \\left(α_{2} + β_{2} - δ_{2}\\right)} \\sin{\\left(γ_{2} \\right)}&e^{i \\left(α_{2} + β_{2} + δ_{2}\\right)} \\cos{\\left(γ \\right)}\\end{array}\\right]$\n"
      ],
      "text/plain": [
       "2×2 Matrix{Sym}:\n",
       " exp(I*(α_2 - β_2 - δ_2))*cos(γ_2)  -exp(I*(α_2 - β_2 + δ_2))*sin(γ)\n",
       " exp(I*(α_2 + β_2 - δ_2))*sin(γ_2)   exp(I*(α_2 + β_2 + δ_2))*cos(γ)"
      ]
     },
     "execution_count": 138,
     "metadata": {},
     "output_type": "execute_result"
    }
   ],
   "source": [
    "α, β, γ, δ1 = Sym(\"α, β, γ, δ\")\n",
    "U1 = [\n",
    "exp(1im*(α-β-δ1)) * cos(γ) -exp(1im*(α-β+δ1)) * sin(γ)\n",
    "exp(1im*(α+β-δ1)) * sin(γ)  exp(1im*(α+β+δ1)) * cos(γ)\n",
    "]\n",
    "\n",
    "α2, β2, γ2, δ2 = Sym(\"α_2, β_2, γ_2, δ_2\")\n",
    "U2 = [\n",
    "exp(1im*(α2-β2-δ2)) * cos(γ2) -exp(1im*(α2-β2+δ2)) * sin(γ)\n",
    "exp(1im*(α2+β2-δ2)) * sin(γ2)  exp(1im*(α2+β2+δ2)) * cos(γ)\n",
    "]"
   ]
  },
  {
   "cell_type": "code",
   "execution_count": 139,
   "id": "27277ccd",
   "metadata": {},
   "outputs": [
    {
     "data": {
      "text/latex": [
       "$\\left[ \\begin{array}{rr}e^{i \\left(α - β - δ\\right)} e^{i \\left(α_{2} - β_{2} - δ_{2}\\right)} \\cos{\\left(γ \\right)} \\cos{\\left(γ_{2} \\right)} - e^{i \\left(α - β + δ\\right)} e^{i \\left(α_{2} + β_{2} - δ_{2}\\right)} \\sin{\\left(γ \\right)} \\sin{\\left(γ_{2} \\right)}&- e^{i \\left(α - β - δ\\right)} e^{i \\left(α_{2} - β_{2} + δ_{2}\\right)} \\sin{\\left(γ \\right)} \\cos{\\left(γ \\right)} - e^{i \\left(α - β + δ\\right)} e^{i \\left(α_{2} + β_{2} + δ_{2}\\right)} \\sin{\\left(γ \\right)} \\cos{\\left(γ \\right)}\\\\e^{i \\left(α + β - δ\\right)} e^{i \\left(α_{2} - β_{2} - δ_{2}\\right)} \\sin{\\left(γ \\right)} \\cos{\\left(γ_{2} \\right)} + e^{i \\left(α + β + δ\\right)} e^{i \\left(α_{2} + β_{2} - δ_{2}\\right)} \\sin{\\left(γ_{2} \\right)} \\cos{\\left(γ \\right)}&- e^{i \\left(α + β - δ\\right)} e^{i \\left(α_{2} - β_{2} + δ_{2}\\right)} \\sin^{2}{\\left(γ \\right)} + e^{i \\left(α + β + δ\\right)} e^{i \\left(α_{2} + β_{2} + δ_{2}\\right)} \\cos^{2}{\\left(γ \\right)}\\end{array}\\right]$\n"
      ],
      "text/plain": [
       "2×2 Matrix{Sym}:\n",
       " exp(I*(α - β - δ))*exp(I*(α_2 - β_2 - δ_2))*cos(γ)*cos(γ_2) - exp(I*(α - β + δ))*exp(I*(α_2 + β_2 - δ_2))*sin(γ)*sin(γ_2)  …  -exp(I*(α - β - δ))*exp(I*(α_2 - β_2 + δ_2))*sin(γ)*cos(γ) - exp(I*(α - β + δ))*exp(I*(α_2 + β_2 + δ_2))*sin(γ)*cos(γ)\n",
       " exp(I*(α + β - δ))*exp(I*(α_2 - β_2 - δ_2))*sin(γ)*cos(γ_2) + exp(I*(α + β + δ))*exp(I*(α_2 + β_2 - δ_2))*sin(γ_2)*cos(γ)               -exp(I*(α + β - δ))*exp(I*(α_2 - β_2 + δ_2))*sin(γ)^2 + exp(I*(α + β + δ))*exp(I*(α_2 + β_2 + δ_2))*cos(γ)^2"
      ]
     },
     "execution_count": 139,
     "metadata": {},
     "output_type": "execute_result"
    }
   ],
   "source": [
    "U = U1 * U2"
   ]
  },
  {
   "cell_type": "code",
   "execution_count": 140,
   "id": "166bf226",
   "metadata": {},
   "outputs": [],
   "source": [
    "function ITensors.op(::OpName\"U_rot\", ::SiteType\"Qubit\"; α::Number, β::Number, γ::Number, δ::Number) \n",
    "    return [\n",
    "    1 0 0 0\n",
    "    0 exp(1im*(α-β-δ)) * cos(γ) -exp(1im*(α-β+δ)) * sin(γ)  0\n",
    "    0 exp(1im*(α+β-δ)) * sin(γ)  exp(1im*(α+β+δ)) * cos(γ)  0\n",
    "    0 0 0 1]\n",
    "end"
   ]
  },
  {
   "cell_type": "code",
   "execution_count": 141,
   "id": "9ff50aa2",
   "metadata": {},
   "outputs": [
    {
     "data": {
      "text/plain": [
       "4×4 Matrix{Float64}:\n",
       " 1.0  0.0  0.0  0.0\n",
       " 0.0  0.0  1.0  0.0\n",
       " 0.0  1.0  0.0  0.0\n",
       " 0.0  0.0  0.0  1.0"
      ]
     },
     "execution_count": 141,
     "metadata": {},
     "output_type": "execute_result"
    }
   ],
   "source": [
    "Ux"
   ]
  },
  {
   "cell_type": "code",
   "execution_count": 142,
   "id": "82d391fd",
   "metadata": {},
   "outputs": [
    {
     "data": {
      "text/plain": [
       "4×8 Matrix{Float64}:\n",
       " 0.0      0.0      0.0  0.0  1.5708   1.5708   0.0  0.0\n",
       " 0.0      0.0      0.0  0.0  1.5708   1.5708   0.0  0.0\n",
       " 0.0      0.0      0.0  0.0  1.5708   1.5708   0.0  0.0\n",
       " 3.14159  3.14159  0.0  0.0  3.14159  3.14159  0.0  0.0"
      ]
     },
     "execution_count": 142,
     "metadata": {},
     "output_type": "execute_result"
    }
   ],
   "source": [
    "correction_gates_params = Dict()\n",
    "correction_gates_params[[1, 1]] = [pi/2, pi/2, pi/2, 0]\n",
    "correction_gates_params[[1, 2]] = [0, 0, 0, pi]\n",
    "correction_gates_params[[2, 1]] = [pi/2, pi/2, pi/2, pi]\n",
    "correction_gates_params[[2, 2]] = [0, 0, 0, 0];\n",
    "\n",
    "compare(X, Y) = sum(abs.(X - Y)) < 1e-5\n",
    "compare(X, Y, tX, tY) = (compare(X, tX) && compare(Y, tY)) || (compare(X, tY) && compare(Y, tX))\n",
    "\n",
    "function add(a, b)\n",
    "    if compare(a, b)\n",
    "        out = zeros(4)\n",
    "\n",
    "    elseif compare(a, [0,0,0,0]) || compare(b, [0,0,0,0])\n",
    "        out = a .+ b\n",
    "\n",
    "    elseif compare(a, b, [pi/2,pi/2,pi/2,0], [pi/2,pi/2,pi/2,pi])\n",
    "        out = [0,0,0,pi]\n",
    "\n",
    "    elseif compare(a, b, [pi/2,pi/2,pi/2,0], [0,0,0,pi])\n",
    "        out = [pi/2,pi/2,pi/2,pi]\n",
    "\n",
    "    elseif compare(a, b, [0,0,0,pi], [pi/2,pi/2,pi/2,pi])\n",
    "        out = [pi/2,pi/2,pi/2,0]\n",
    "    else\n",
    "        println(compare(a, b, [pi/2,pi/2,pi/2,0], [0,0,0,pi]))\n",
    "        @assert false \"$a $b\"\n",
    "    end\n",
    "    return out\n",
    "end\n",
    "\n",
    "function param_correction_gates(M)\n",
    "    Ns_spin1 = length(M)\n",
    "    M = M[2:end-1]\n",
    "    \n",
    "    @assert mod(length(M), 2) == 0\n",
    "    \n",
    "    M = reshape(M, (2, Int(length(M)/2)))\n",
    "    angles = zeros((4, Ns_spin1))\n",
    "    for i in 1:size(M, 2)\n",
    "        Mi = M[:, i]\n",
    "        g = correction_gates_params[Mi]\n",
    "        for j in 1:2i\n",
    "            angles[:, j] = add(angles[:, j], g)\n",
    "        end\n",
    "    end\n",
    "    return angles\n",
    "end\n",
    "params = param_correction_gates(measurement)"
   ]
  },
  {
   "cell_type": "code",
   "execution_count": 143,
   "id": "6e631eeb",
   "metadata": {},
   "outputs": [
    {
     "data": {
      "text/plain": [
       "GirvinCorrCircuit2()"
      ]
     },
     "execution_count": 143,
     "metadata": {},
     "output_type": "execute_result"
    }
   ],
   "source": [
    "struct GirvinCorrCircuit2 <: AbstractVariationalCircuit end\n",
    "function generate_circuit(model::GirvinCorrCircuit2; params=nothing)\n",
    "    @assert size(params, 1) == 4\n",
    "    N = size(params, 2)\n",
    "    N_state = N * 2\n",
    "    \n",
    "    state_indices, = get_ancillas_indices(N_state, [false, true, true, true, true, false])\n",
    "    println(state_indices)\n",
    "    gates = Vector()\n",
    "    \n",
    "    for site in 1:N\n",
    "        p = (α=params[1, site], β=params[2, site], γ=params[3, site], δ=params[4, site])\n",
    "        gates = vcat(gates, [(\"U_rot\", (state_indices[2site-1], state_indices[2site]), p)])\n",
    "    end\n",
    "    return gates\n",
    "end\n",
    "circ = GirvinCorrCircuit2()\n"
   ]
  },
  {
   "cell_type": "code",
   "execution_count": 144,
   "id": "b7d6c5a6",
   "metadata": {},
   "outputs": [],
   "source": [
    "# Fix the gates"
   ]
  },
  {
   "cell_type": "code",
   "execution_count": 189,
   "id": "08de32d8",
   "metadata": {},
   "outputs": [
    {
     "name": "stdout",
     "output_type": "stream",
     "text": [
      "[2, 3, 4, 5, 8, 9, 10, 11, 14, 15, 16, 17, 20, 21, 22, 23]\n"
     ]
    },
    {
     "data": {
      "text/plain": [
       "-2.3178148509082522e-15 - 3.447678710060339e-33im"
      ]
     },
     "execution_count": 189,
     "metadata": {},
     "output_type": "execute_result"
    }
   ],
   "source": [
    "ψp, measurement = mVQE.ITensorsExtension.projective_measurement_sample(ψ2; indices=ancilla_indices);\n",
    "\n",
    "params = param_correction_gates(measurement)\n",
    "gates = generate_circuit(circ; params)\n",
    "gates2 = correction_gates2(measurement, state_indices)\n",
    "ψp_corr = runcircuit(ψp, gates);\n",
    "inner(ψp_corr, Htot, ψp_corr)"
   ]
  },
  {
   "cell_type": "code",
   "execution_count": 146,
   "id": "d4fb0b15",
   "metadata": {},
   "outputs": [
    {
     "name": "stdout",
     "output_type": "stream",
     "text": [
      "[2, 3, 4, 5, 8, 9, 10, 11, 14, 15, 16, 17, 20, 21, 22, 23]\n"
     ]
    }
   ],
   "source": [
    "gates = generate_circuit(circ; params);"
   ]
  },
  {
   "cell_type": "code",
   "execution_count": 147,
   "id": "8f55ee94",
   "metadata": {},
   "outputs": [
    {
     "data": {
      "text/plain": [
       "-2.2322903936280042e-15"
      ]
     },
     "execution_count": 147,
     "metadata": {},
     "output_type": "execute_result"
    }
   ],
   "source": [
    "ψp_corr = runcircuit(ψp, gates2);\n",
    "inner(ψp_corr, Htot, ψp_corr)"
   ]
  },
  {
   "cell_type": "code",
   "execution_count": 148,
   "id": "e8841aca",
   "metadata": {},
   "outputs": [
    {
     "data": {
      "text/plain": [
       "-2.5967250751520253e-15 - 9.180444230631619e-33im"
      ]
     },
     "execution_count": 148,
     "metadata": {},
     "output_type": "execute_result"
    }
   ],
   "source": [
    "ψp_corr = runcircuit(ψp, gates);\n",
    "inner(ψp_corr, Htot, ψp_corr)"
   ]
  },
  {
   "cell_type": "code",
   "execution_count": 149,
   "id": "5e39c3ba",
   "metadata": {},
   "outputs": [
    {
     "data": {
      "text/plain": [
       "Dim 1: 4\n",
       "Dim 2: 4\n",
       "NDTensors.Dense{Float64, Vector{Float64}}\n",
       " 4×4\n",
       " 1.0   0.0  0.0  0.0\n",
       " 0.0   1.0  0.0  0.0\n",
       " 0.0  -0.0  1.0  0.0\n",
       " 0.0   0.0  0.0  1.0"
      ]
     },
     "execution_count": 149,
     "metadata": {},
     "output_type": "execute_result"
    }
   ],
   "source": [
    "t = op(\"U_rot\", hilbert[1], hilbert[2] ; α = pi, β = pi, γ = pi, δ = pi)\n",
    "real(reshape(t.tensor, 4, 4))"
   ]
  },
  {
   "cell_type": "markdown",
   "id": "388467b7",
   "metadata": {},
   "source": [
    "## Everithing combined"
   ]
  },
  {
   "cell_type": "code",
   "execution_count": 162,
   "id": "b9efbdfd",
   "metadata": {},
   "outputs": [],
   "source": [
    "gcirc = mVQE.GirvinProtocol.GirvinCircuitIdeal(N_state);\n",
    "corrcirc = mVQE.GirvinProtocol.GirvinCorrCircuit();"
   ]
  },
  {
   "cell_type": "code",
   "execution_count": 264,
   "id": "568ccd02",
   "metadata": {},
   "outputs": [
    {
     "ename": "LoadError",
     "evalue": "MethodError: no method matching param_correction_gates(::Vector{Int64})",
     "output_type": "error",
     "traceback": [
      "MethodError: no method matching param_correction_gates(::Vector{Int64})",
      "",
      "Stacktrace:",
      " [1] top-level scope",
      "   @ In[264]:3",
      " [2] eval",
      "   @ ./boot.jl:368 [inlined]",
      " [3] include_string(mapexpr::typeof(REPL.softscope), mod::Module, code::String, filename::String)",
      "   @ Base ./loading.jl:1428"
     ]
    }
   ],
   "source": [
    "ψ2_ = gcirc(ψ);\n",
    "ψp_, measurement = mVQE.ITensorsExtension.projective_measurement_sample(ψ2_; indices=ancilla_indices)\n",
    "params = mVQE.GirvinProtocol.param_correction_gates(measurement .- 1);\n",
    "ψp_corr_ = corrcirc(ψp_; params)\n",
    "inner(ψp_corr_, Htot, ψp_corr_)"
   ]
  },
  {
   "cell_type": "code",
   "execution_count": null,
   "id": "573a6e10",
   "metadata": {},
   "outputs": [],
   "source": []
  }
 ],
 "metadata": {
  "@webio": {
   "lastCommId": null,
   "lastKernelId": null
  },
  "kernelspec": {
   "display_name": "Julia 1.8.5",
   "language": "julia",
   "name": "julia-1.8"
  },
  "language_info": {
   "file_extension": ".jl",
   "mimetype": "application/julia",
   "name": "julia",
   "version": "1.8.5"
  }
 },
 "nbformat": 4,
 "nbformat_minor": 5
}
