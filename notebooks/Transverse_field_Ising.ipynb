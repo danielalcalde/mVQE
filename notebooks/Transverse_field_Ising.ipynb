{
 "cells": [
  {
   "cell_type": "code",
   "execution_count": 5,
   "metadata": {},
   "outputs": [],
   "source": [
    "using Revise\n",
    "using PastaQ\n",
    "using ITensors\n",
    "using Random\n",
    "using OptimKit\n",
    "using Zygote\n",
    "using Zygote: ChainRulesCore\n",
    "using BenchmarkTools\n",
    "using JLD\n",
    "using MethodAnalysis\n",
    "using Plots"
   ]
  },
  {
   "cell_type": "code",
   "execution_count": 6,
   "metadata": {},
   "outputs": [
    {
     "name": "stdout",
     "output_type": "stream",
     "text": [
      "  0.000294 seconds (702 allocations: 64.688 KiB)\n"
     ]
    }
   ],
   "source": [
    "@time begin\n",
    "import mVQE\n",
    "using mVQE.ITensorsExtension: projective_measurement\n",
    "using mVQE.StateFactory: random_MPS, infinite_temp_MPO\n",
    "using mVQE.Layers: Rylayer, CXlayer, Rxlayer\n",
    "using mVQE.Circuits: runcircuit, VariationalCircuitRy, VariationalMeasurement\n",
    "using mVQE: loss, optimize_and_evolve\n",
    "end"
   ]
  },
  {
   "cell_type": "code",
   "execution_count": 7,
   "metadata": {},
   "outputs": [],
   "source": [
    "N_state = 5\n",
    "ancilla_frequency = 1\n",
    "N = N_state * (ancilla_frequency + 1) - ancilla_frequency\n",
    "ancillas_indices = [i for i in 1:N if mod1(i, ancilla_frequency+1)!=1]\n",
    "state_indices = [i for i in 1:N if mod1(i, ancilla_frequency+1)==1];"
   ]
  },
  {
   "cell_type": "code",
   "execution_count": 4,
   "metadata": {},
   "outputs": [
    {
     "data": {
      "text/plain": [
       "hamiltonian (generic function with 1 method)"
      ]
     },
     "execution_count": 4,
     "metadata": {},
     "output_type": "execute_result"
    }
   ],
   "source": [
    "function hamiltonian(state_indices, h)\n",
    "    os = OpSum()\n",
    "    for (i, s) in enumerate(state_indices)\n",
    "        os += -1, \"Z\", s, \"Z\", state_indices[mod1(i+1, length(state_indices))]\n",
    "        os += -h, \"X\", s\n",
    "    end\n",
    "    \n",
    "    return os\n",
    "end"
   ]
  },
  {
   "cell_type": "code",
   "execution_count": 49,
   "metadata": {},
   "outputs": [
    {
     "data": {
      "text/plain": [
       "ghz_parent2 (generic function with 1 method)"
      ]
     },
     "execution_count": 49,
     "metadata": {},
     "output_type": "execute_result"
    }
   ],
   "source": [
    "function ghz_parent(state_indices, hilbert)\n",
    "    N = length(hilbert)\n",
    "    state = zeros(Int, N)\n",
    "    ψ_0 = productstate(hilbert, state)\n",
    "    \n",
    "    state[state_indices] .= 1\n",
    "    ψ_1 = productstate(hilbert, state)\n",
    "    ghz = (ψ_0 + ψ_1) / sqrt(2)\n",
    "    return -outer(ghz, ghz')\n",
    "end\n",
    "\n",
    "function mul_operator(state_indices, hilbert; op=\"X\")\n",
    "    tensors = Vector{ITensor}(undef, length(hilbert))\n",
    "    for (i, si) in enumerate(hilbert)\n",
    "        if i in state_indices\n",
    "            tensors[i] = gate(op, si)\n",
    "        else\n",
    "            tensors[i] = gate(\"Rx\", si, θ = 0.) # Identity\n",
    "        end\n",
    "    end\n",
    "    return MPO(tensors)\n",
    "end\n",
    "\n",
    "function ghz_parent2(state_indices, hilbert)\n",
    "    os = OpSum()\n",
    "    for (i, s) in enumerate(state_indices)\n",
    "        os += -1, \"Z\", s, \"Z\", state_indices[mod1(i+1, length(state_indices))]\n",
    "    end\n",
    "    op1 = MPO(os, hilbert) / length(state_indices)\n",
    "    op2 = mul_operator(state_indices, hilbert; op=\"X\")\n",
    "    return (op1 - op2)/2\n",
    "end"
   ]
  },
  {
   "cell_type": "code",
   "execution_count": 50,
   "metadata": {},
   "outputs": [
    {
     "data": {
      "text/plain": [
       "MPO\n",
       "[1] ((dim=2|id=231|\"Qubit,Site,n=1\")', (dim=2|id=231|\"Qubit,Site,n=1\"), (dim=3|id=749|\"Link,l=1\"))\n",
       "[2] ((dim=2|id=576|\"Qubit,Site,n=3\")', (dim=2|id=576|\"Qubit,Site,n=3\"), (dim=5|id=586|\"Link,l=2\"), (dim=3|id=749|\"Link,l=1\"))\n",
       "[3] ((dim=2|id=635|\"Qubit,Site,n=5\")', (dim=2|id=635|\"Qubit,Site,n=5\"), (dim=5|id=833|\"Link,l=3\"), (dim=5|id=586|\"Link,l=2\"))\n",
       "[4] ((dim=2|id=237|\"Qubit,Site,n=7\")', (dim=2|id=237|\"Qubit,Site,n=7\"), (dim=3|id=556|\"Link,l=4\"), (dim=5|id=833|\"Link,l=3\"))\n",
       "[5] ((dim=2|id=29|\"Qubit,Site,n=9\")', (dim=2|id=29|\"Qubit,Site,n=9\"), (dim=3|id=556|\"Link,l=4\"))\n"
      ]
     },
     "execution_count": 50,
     "metadata": {},
     "output_type": "execute_result"
    }
   ],
   "source": [
    "h = -1.  # transverse magnetic field\n",
    "\n",
    "# Hilbert space\n",
    "hilbert = qubits(N)\n",
    "\n",
    "# build MPO \"cost function\"\n",
    "H = MPO(hamiltonian(state_indices, h), hilbert);\n",
    "H = ghz_parent2(state_indices, hilbert)\n",
    "\n",
    "hilbert_s = hilbert[state_indices]\n",
    "H_s = MPO(hamiltonian(1:N_state, h), hilbert_s);\n",
    "H_s = ghz_parent2(1:N_state, hilbert_s)"
   ]
  },
  {
   "cell_type": "code",
   "execution_count": 45,
   "metadata": {},
   "outputs": [
    {
     "name": "stdout",
     "output_type": "stream",
     "text": [
      "Ground state energy from DMRG: -2.9999999999999996\n"
     ]
    },
    {
     "data": {
      "text/plain": [
       "8"
      ]
     },
     "execution_count": 45,
     "metadata": {},
     "output_type": "execute_result"
    }
   ],
   "source": [
    "#Find ground state with DMRG\n",
    "\n",
    "nsweeps = 200\n",
    "maxdim = 10\n",
    "cutoff_ = 1e-10\n",
    "\n",
    "start_mps = randomMPS(hilbert, linkdims=10)\n",
    "Edmrg, Φ = dmrg(H, start_mps; outputlevel=0, nsweeps, maxdim);\n",
    "println(\"Ground state energy from DMRG: $Edmrg\")\n",
    "maxlinkdim(Φ)"
   ]
  },
  {
   "cell_type": "code",
   "execution_count": 51,
   "metadata": {},
   "outputs": [
    {
     "name": "stdout",
     "output_type": "stream",
     "text": [
      "Ground state energy from DMRG: -1.0000000000000002\n"
     ]
    },
    {
     "data": {
      "text/plain": [
       "2"
      ]
     },
     "execution_count": 51,
     "metadata": {},
     "output_type": "execute_result"
    }
   ],
   "source": [
    "start_mps = randomMPS(hilbert_s, linkdims=100)\n",
    "Edmrg, Φ_state = dmrg(H_s, start_mps; outputlevel=0, nsweeps, maxdim=100);\n",
    "println(\"Ground state energy from DMRG: $Edmrg\")\n",
    "maxlinkdim(Φ_state)"
   ]
  },
  {
   "cell_type": "code",
   "execution_count": 55,
   "metadata": {},
   "outputs": [
    {
     "data": {
      "text/plain": [
       "-1.0"
      ]
     },
     "execution_count": 55,
     "metadata": {},
     "output_type": "execute_result"
    }
   ],
   "source": [
    "ψ_0 = productstate(hilbert_s, fill(0, N_state))\n",
    "ψ_1 = productstate(hilbert_s, fill(1, N_state))\n",
    "\n",
    "ghz = (ψ_0 + ψ_1)/sqrt(2)\n",
    "inner(ghz', H_s, ghz)"
   ]
  },
  {
   "cell_type": "code",
   "execution_count": 56,
   "metadata": {},
   "outputs": [
    {
     "data": {
      "text/plain": [
       "0.9999999999999999"
      ]
     },
     "execution_count": 56,
     "metadata": {},
     "output_type": "execute_result"
    }
   ],
   "source": [
    "#ghz = (ψ_0 + ψ_1)/2\n",
    "norm(ghz)"
   ]
  },
  {
   "cell_type": "code",
   "execution_count": 57,
   "metadata": {},
   "outputs": [
    {
     "data": {
      "text/plain": [
       "-0.5"
      ]
     },
     "execution_count": 57,
     "metadata": {},
     "output_type": "execute_result"
    }
   ],
   "source": [
    "inner(ψ_1, H_s, ψ_1)"
   ]
  },
  {
   "cell_type": "code",
   "execution_count": 627,
   "metadata": {},
   "outputs": [
    {
     "data": {
      "text/plain": [
       "0.9999999999999999"
      ]
     },
     "execution_count": 627,
     "metadata": {},
     "output_type": "execute_result"
    }
   ],
   "source": [
    "norm(ghz)"
   ]
  },
  {
   "cell_type": "code",
   "execution_count": 628,
   "metadata": {},
   "outputs": [
    {
     "data": {
      "text/plain": [
       "-0.4999999999999999"
      ]
     },
     "execution_count": 628,
     "metadata": {},
     "output_type": "execute_result"
    }
   ],
   "source": [
    "ψ_0 = productstate(hilbert_s, fill(0, N_state))\n",
    "ψ_1 = productstate(hilbert_s, fill(0, N_state))\n",
    "α = 0.1\n",
    "ghz2 = (sqrt(α) * ψ_0 + sqrt(1-α) * ψ_1)\n",
    "ghz2 /=norm(ghz2)\n",
    "inner(ghz2', H_s, ghz2)"
   ]
  },
  {
   "cell_type": "code",
   "execution_count": 629,
   "metadata": {},
   "outputs": [
    {
     "data": {
      "text/plain": [
       "(-0.4999999999999999, -0.4999999999999999)"
      ]
     },
     "execution_count": 629,
     "metadata": {},
     "output_type": "execute_result"
    }
   ],
   "source": [
    "inner(ψ_0, H_s, ψ_0), inner(ψ_1, H_s, ψ_1)"
   ]
  },
  {
   "cell_type": "code",
   "execution_count": 630,
   "metadata": {},
   "outputs": [
    {
     "data": {
      "text/plain": [
       "0.9999999999999967"
      ]
     },
     "execution_count": 630,
     "metadata": {},
     "output_type": "execute_result"
    }
   ],
   "source": [
    "\n",
    "p0 = inner(ψ_0, Φ_state)\n",
    "p1 = inner(ψ_1, Φ_state)\n",
    "\n",
    "p0 ^2 + p1^2"
   ]
  },
  {
   "cell_type": "code",
   "execution_count": 631,
   "metadata": {},
   "outputs": [
    {
     "data": {
      "text/plain": [
       "(0.49999999999999833, 0.49999999999999833)"
      ]
     },
     "execution_count": 631,
     "metadata": {},
     "output_type": "execute_result"
    }
   ],
   "source": [
    "p0 ^2, p1 ^2"
   ]
  },
  {
   "cell_type": "code",
   "execution_count": 8,
   "metadata": {},
   "outputs": [],
   "source": [
    "# contract(Φ.data).tensor[:, 1, :]"
   ]
  },
  {
   "cell_type": "code",
   "execution_count": 633,
   "metadata": {},
   "outputs": [
    {
     "data": {
      "text/plain": [
       "Dict{String, Int64} with 1 entry:\n",
       "  \"a\" => 5"
      ]
     },
     "execution_count": 633,
     "metadata": {},
     "output_type": "execute_result"
    }
   ],
   "source": [
    "Dict(\"a\"=>5)"
   ]
  },
  {
   "cell_type": "code",
   "execution_count": 636,
   "metadata": {},
   "outputs": [
    {
     "data": {
      "text/plain": [
       "Dict{String, Any}()"
      ]
     },
     "execution_count": 636,
     "metadata": {},
     "output_type": "execute_result"
    }
   ],
   "source": [
    "Dict{String, Any}()"
   ]
  },
  {
   "cell_type": "markdown",
   "metadata": {},
   "source": [
    "## Random ansatz"
   ]
  },
  {
   "cell_type": "code",
   "execution_count": 8,
   "metadata": {},
   "outputs": [],
   "source": [
    "depth = 6\n",
    "model = VariationalCircuitRy(N, depth)\n",
    "ψ = productstate(hilbert, fill(0, N))\n",
    "θs = initialize_circuit(model);"
   ]
  },
  {
   "cell_type": "code",
   "execution_count": 9,
   "metadata": {},
   "outputs": [
    {
     "data": {
      "text/plain": [
       "2"
      ]
     },
     "execution_count": 9,
     "metadata": {},
     "output_type": "execute_result"
    }
   ],
   "source": [
    "ψout = runcircuit(ψ, model, θs, maxdim=2)\n",
    "maxlinkdim(ψout)"
   ]
  },
  {
   "cell_type": "markdown",
   "metadata": {},
   "source": [
    "## Variational ansatz"
   ]
  },
  {
   "cell_type": "code",
   "execution_count": 10,
   "metadata": {},
   "outputs": [
    {
     "data": {
      "text/plain": [
       "LBFGS{Float64, HagerZhangLineSearch{Rational{Int64}}}(8, 50, 1.0e-8, true, HagerZhangLineSearch{Rational{Int64}}(1//10, 9//10, 1//1000000, 1//2, 2//3, 5//1, 9223372036854775807, -1), 1)"
      ]
     },
     "execution_count": 10,
     "metadata": {},
     "output_type": "execute_result"
    }
   ],
   "source": [
    "noise_ = (1 => (\"depolarizing\", (p = 1e-4,)), \n",
    "         2 => (\"depolarizing\", (p = 0.0,)))\n",
    "\n",
    "Random.seed!(1234)\n",
    "\n",
    "# run VQE using BFGS optimization\n",
    "optimizer = LBFGS(; maxiter=50, verbosity=1)"
   ]
  },
  {
   "cell_type": "markdown",
   "metadata": {},
   "source": [
    "# With errors"
   ]
  },
  {
   "cell_type": "code",
   "execution_count": 9,
   "metadata": {},
   "outputs": [
    {
     "data": {
      "text/plain": [
       "LBFGS{Float64, HagerZhangLineSearch{Rational{Int64}}}(8, 10, 1.0e-8, true, HagerZhangLineSearch{Rational{Int64}}(1//10, 9//10, 1//1000000, 1//2, 2//3, 5//1, 9223372036854775807, -1), 1)"
      ]
     },
     "execution_count": 9,
     "metadata": {},
     "output_type": "execute_result"
    }
   ],
   "source": [
    "optimizer = LBFGS(; maxiter=10, verbosity=1)"
   ]
  },
  {
   "cell_type": "code",
   "execution_count": 15,
   "metadata": {},
   "outputs": [
    {
     "name": "stderr",
     "output_type": "stream",
     "text": [
      "┌ Warning: LBFGS: not converged to requested tol: f = -2.824928724859, ‖∇f‖ = 2.3391e-02\n",
      "└ @ OptimKit /Users/alcalde/.julia/packages/OptimKit/xpmbV/src/lbfgs.jl:141\n"
     ]
    },
    {
     "name": "stdout",
     "output_type": "stream",
     "text": [
      "iter: 1\n",
      "Loss: -2.824928724858896\n",
      "\n",
      "iter: 2\n",
      "Loss: -2.822275682606981\n",
      "\n"
     ]
    },
    {
     "name": "stderr",
     "output_type": "stream",
     "text": [
      "┌ Warning: LBFGS: not converged to requested tol: f = -2.822275682607, ‖∇f‖ = 3.8798e-02\n",
      "└ @ OptimKit /Users/alcalde/.julia/packages/OptimKit/xpmbV/src/lbfgs.jl:141\n"
     ]
    },
    {
     "name": "stdout",
     "output_type": "stream",
     "text": [
      "210.672968 seconds (445.25 M allocations: 23.668 GiB, 5.94% gc time, 98.89% compilation time)\n"
     ]
    }
   ],
   "source": [
    "#ρs = infinite_temp_MPO(hilbert)\n",
    "\n",
    "ψ = productstate(hilbert, fill(0, N))\n",
    "ρs = outer(ψ, ψ')\n",
    "\n",
    "k = 2\n",
    "depth = 5\n",
    "model = VariationalCircuitRy(N, depth)\n",
    "@time loss_value, θs_error, ρ, niter = optimize_and_evolve(k, ancillas_indices, ρs, H, model, depth; optimizer=optimizer, verbose=true, maxdims, noise=noise_);\n",
    "ρ, = projective_measurement(ρ; indices=ancillas_indices, reset=1);"
   ]
  },
  {
   "cell_type": "markdown",
   "metadata": {},
   "source": [
    "# Optimize through the entire loop"
   ]
  },
  {
   "cell_type": "code",
   "execution_count": null,
   "metadata": {},
   "outputs": [],
   "source": [
    "optimizer = LBFGS(; maxiter=100, verbosity=2)\n",
    "\n",
    "ρ = infinite_temp_MPO(hilbert)\n",
    "ρ, = projective_measurement(ρ; indices=ancillas_indices, reset=1)\n",
    "\n",
    "ψ = productstate(hilbert, fill(0, N))\n",
    "ρs = outer(ψ, prime(ψ))\n",
    "\n",
    "depth = 5\n",
    "model = VariationalCircuitRy(N, depth)\n",
    "reset = 1\n",
    "k = 4\n",
    "model = VariationalMeasurement(model, k, ancillas_indices, reset)\n",
    "@time loss_value, θs_error2, ρ2, niter = optimize_and_evolve(ρs, H, model; optimizer, noise=noise_, maxdim=50);\n",
    "ρ2, = projective_measurement(ρ2; indices=ancillas_indices, reset=1);"
   ]
  },
  {
   "cell_type": "code",
   "execution_count": 38,
   "metadata": {},
   "outputs": [],
   "source": [
    "θs = initialize_circuit(model);"
   ]
  },
  {
   "cell_type": "code",
   "execution_count": 39,
   "metadata": {},
   "outputs": [
    {
     "data": {
      "text/plain": [
       "0.6758652705238788"
      ]
     },
     "execution_count": 39,
     "metadata": {},
     "output_type": "execute_result"
    }
   ],
   "source": [
    "loss(ρs, H, model, θs)"
   ]
  },
  {
   "cell_type": "code",
   "execution_count": 202,
   "metadata": {},
   "outputs": [
    {
     "data": {
      "text/plain": [
       "0.0002890192316163327 + 0.0im"
      ]
     },
     "execution_count": 202,
     "metadata": {},
     "output_type": "execute_result"
    }
   ],
   "source": [
    "inner(Φ, ρ2, Φ')"
   ]
  },
  {
   "cell_type": "markdown",
   "metadata": {},
   "source": [
    "# VQE"
   ]
  },
  {
   "cell_type": "code",
   "execution_count": 28,
   "metadata": {},
   "outputs": [
    {
     "name": "stdout",
     "output_type": "stream",
     "text": [
      " 50.640185 seconds (48.41 M allocations: 11.965 GiB, 5.95% gc time)\n",
      "0.974617613731652\n"
     ]
    },
    {
     "name": "stderr",
     "output_type": "stream",
     "text": [
      "┌ Warning: LBFGS: not converged to requested tol: f = -6.307857700209, ‖∇f‖ = 1.1731e-02\n",
      "└ @ OptimKit /home/leinad/.julia/packages/OptimKit/xpmbV/src/lbfgs.jl:141\n"
     ]
    }
   ],
   "source": [
    "ψ = productstate(hilbert_s, fill(0, N_state))\n",
    "ρs_s = outer(ψ, ψ')\n",
    "\n",
    "model = VariationalCircuitRy(N_state, 8)\n",
    "\n",
    "\n",
    "optimizer = LBFGS(; gradtol=1e-8, maxiter=150, verbosity=1)\n",
    "@time loss_value, θs, ρ_s, niter = optimize_and_evolve(ρs_s, H_s, model, depth; optimizer=optimizer, verbose=true, maxdims, noise);\n",
    "println(loss_value/Edmrg)"
   ]
  },
  {
   "cell_type": "code",
   "execution_count": 204,
   "metadata": {},
   "outputs": [
    {
     "data": {
      "text/plain": [
       "-6.251523086913398 + 0.0im"
      ]
     },
     "execution_count": 204,
     "metadata": {},
     "output_type": "execute_result"
    }
   ],
   "source": [
    "inner(ρ_s, H_s)"
   ]
  },
  {
   "cell_type": "code",
   "execution_count": 205,
   "metadata": {},
   "outputs": [
    {
     "data": {
      "text/plain": [
       "0.5202533766943219 + 0.0im"
      ]
     },
     "execution_count": 205,
     "metadata": {},
     "output_type": "execute_result"
    }
   ],
   "source": [
    "inner(Φ_state, ρ_s, Φ_state')"
   ]
  },
  {
   "cell_type": "markdown",
   "metadata": {},
   "source": [
    "# del"
   ]
  },
  {
   "cell_type": "code",
   "execution_count": 642,
   "metadata": {},
   "outputs": [
    {
     "name": "stdout",
     "output_type": "stream",
     "text": [
      "optimizer => LBFGS{Float64, HagerZhangLineSearch{Rational{Int64}}}(8, 300, 0.001, true, HagerZhangLineSearch{Rational{Int64}}(1//10, 9//10, 1//1000000, 1//2, 2//3, 5//1, 9223372036854775807, 0), 2)\n",
      "maxiter => 300\n",
      "k => 2\n",
      "ancilla_frequency => 1\n",
      "depth => 6\n",
      "nthreads => 18\n",
      "noise_p => 0\n",
      "N_state => 6\n",
      "samples => 36\n",
      "gradtol => 0.001\n",
      "maxdim => 60\n",
      "num_threads => 1\n",
      "\n",
      "save_folder//depth=6_LBFGS.jld2\n",
      "\n"
     ]
    },
    {
     "ename": "LoadError",
     "evalue": "AssertionError: reset <= dim(s)",
     "output_type": "error",
     "traceback": [
      "AssertionError: reset <= dim(s)",
      "",
      "Stacktrace:",
      "  [1] (::mVQE.ITensorsExtension.var\"#78#79\"{Int64, Index{Int64}, Int64, Float64, ITensor, Index{Int64}})()",
      "    @ mVQE.ITensorsExtension /local/alcalde/workprojects/mVQE/mVQE/src/ITensorsExtension.jl:308",
      "  [2] ignore_derivatives(f::mVQE.ITensorsExtension.var\"#78#79\"{Int64, Index{Int64}, Int64, Float64, ITensor, Index{Int64}})",
      "    @ ChainRulesCore ~/.julia/packages/ChainRulesCore/C73ay/src/ignore_derivatives.jl:26",
      "  [3] ignore(f::Function)",
      "    @ Zygote ./deprecated.jl:72",
      "  [4] #projective_measurement_gate_sample#77",
      "    @ /local/alcalde/workprojects/mVQE/mVQE/src/ITensorsExtension.jl:304 [inlined]",
      "  [5] (::mVQE.ITensorsExtension.var\"#6#12\"{Vector{Int64}})()",
      "    @ mVQE.ITensorsExtension ~/.julia/packages/Zygote/qGFGD/src/deprecated.jl:49",
      "  [6] ignore_derivatives(f::mVQE.ITensorsExtension.var\"#6#12\"{Vector{Int64}})",
      "    @ ChainRulesCore ~/.julia/packages/ChainRulesCore/C73ay/src/ignore_derivatives.jl:26",
      "  [7] ignore(f::Function)",
      "    @ Zygote ./deprecated.jl:72",
      "  [8] adjoint",
      "    @ ~/.julia/packages/Zygote/qGFGD/src/deprecated.jl:31 [inlined]",
      "  [9] _pullback",
      "    @ ~/.julia/packages/ZygoteRules/AIbCs/src/adjoint.jl:65 [inlined]",
      " [10] _pullback",
      "    @ /local/alcalde/workprojects/mVQE/mVQE/src/ITensorsExtension.jl:153 [inlined]",
      " [11] _pullback(::Zygote.Context{true}, ::mVQE.ITensorsExtension.var\"##projective_measurement_sample#2\", ::Vector{Int64}, ::Int64, ::Float64, ::typeof(mVQE.ITensorsExtension.projective_measurement_sample), ::MPO)",
      "    @ Zygote ~/.julia/packages/Zygote/qGFGD/src/compiler/interface2.jl:0",
      " [12] _pullback",
      "    @ /local/alcalde/workprojects/mVQE/mVQE/src/ITensorsExtension.jl:116 [inlined]",
      " [13] _pullback(::Zygote.Context{true}, ::mVQE.ITensorsExtension.var\"#projective_measurement_sample##kw\", ::NamedTuple{(:indices, :reset), Tuple{Vector{Int64}, Int64}}, ::typeof(mVQE.ITensorsExtension.projective_measurement_sample), ::MPO)",
      "    @ Zygote ~/.julia/packages/Zygote/qGFGD/src/compiler/interface2.jl:0",
      " [14] _pullback",
      "    @ /local/alcalde/workprojects/mVQE/mVQE/src/Circuits.jl:89 [inlined]",
      " [15] _pullback(::Zygote.Context{true}, ::mVQE.Circuits.var\"##_#11\", ::Base.Pairs{Symbol, Any, Tuple{Symbol, Symbol, Symbol}, NamedTuple{(:noise, :verbose, :maxdim), Tuple{Tuple{Pair{Int64, Tuple{String, NamedTuple{(:p,), Tuple{Int64}}}}, Pair{Int64, Tuple{String, NamedTuple{(:p,), Tuple{Float64}}}}}, Bool, Int64}}}, ::VariationalMeasurementMC, ::MPO)",
      "    @ Zygote ~/.julia/packages/Zygote/qGFGD/src/compiler/interface2.jl:0",
      " [16] _pullback",
      "    @ /local/alcalde/workprojects/mVQE/mVQE/src/Circuits.jl:87 [inlined]",
      " [17] _pullback",
      "    @ /local/alcalde/workprojects/mVQE/mVQE/src/mVQE.jl:40 [inlined]",
      " [18] _pullback(::Zygote.Context{true}, ::mVQE.var\"##loss#3\", ::Tuple{Pair{Int64, Tuple{String, NamedTuple{(:p,), Tuple{Int64}}}}, Pair{Int64, Tuple{String, NamedTuple{(:p,), Tuple{Float64}}}}}, ::Base.Pairs{Symbol, Integer, Tuple{Symbol, Symbol}, NamedTuple{(:verbose, :maxdim), Tuple{Bool, Int64}}}, ::typeof(loss), ::MPO, ::MPO, ::VariationalMeasurementMC)",
      "    @ Zygote ~/.julia/packages/Zygote/qGFGD/src/compiler/interface2.jl:0",
      " [19] _pullback",
      "    @ /local/alcalde/workprojects/mVQE/mVQE/src/mVQE.jl:40 [inlined]",
      " [20] _pullback",
      "    @ ./none:0 [inlined]",
      " [21] #465",
      "    @ ~/.julia/packages/Zygote/qGFGD/src/lib/array.jl:172 [inlined]",
      " [22] iterate",
      "    @ ./generator.jl:47 [inlined]",
      " [23] _collect(c::UnitRange{Int64}, itr::Base.Generator{UnitRange{Int64}, Zygote.var\"#465#469\"{Zygote.Context{true}, mVQE.var\"#5#6\"{Tuple{Pair{Int64, Tuple{String, NamedTuple{(:p,), Tuple{Int64}}}}, Pair{Int64, Tuple{String, NamedTuple{(:p,), Tuple{Float64}}}}}, Base.Pairs{Symbol, Integer, Tuple{Symbol, Symbol}, NamedTuple{(:verbose, :maxdim), Tuple{Bool, Int64}}}, MPO, MPO, VariationalMeasurementMC}}}, #unused#::Base.EltypeUnknown, isz::Base.HasShape{1})",
      "    @ Base ./array.jl:744",
      " [24] collect_similar",
      "    @ ./array.jl:653 [inlined]",
      " [25] map",
      "    @ ./abstractarray.jl:2867 [inlined]",
      " [26] ∇map(cx::Zygote.Context{true}, f::mVQE.var\"#5#6\"{Tuple{Pair{Int64, Tuple{String, NamedTuple{(:p,), Tuple{Int64}}}}, Pair{Int64, Tuple{String, NamedTuple{(:p,), Tuple{Float64}}}}}, Base.Pairs{Symbol, Integer, Tuple{Symbol, Symbol}, NamedTuple{(:verbose, :maxdim), Tuple{Bool, Int64}}}, MPO, MPO, VariationalMeasurementMC}, args::UnitRange{Int64})",
      "    @ Zygote ~/.julia/packages/Zygote/qGFGD/src/lib/array.jl:172",
      " [27] _pullback",
      "    @ ~/.julia/packages/Zygote/qGFGD/src/lib/array.jl:214 [inlined]",
      " [28] _pullback",
      "    @ /local/alcalde/workprojects/mVQE/mVQE/src/mVQE.jl:45 [inlined]",
      " [29] _pullback(::Zygote.Context{true}, ::mVQE.var\"##loss#4\", ::Bool, ::Tuple{Pair{Int64, Tuple{String, NamedTuple{(:p,), Tuple{Int64}}}}, Pair{Int64, Tuple{String, NamedTuple{(:p,), Tuple{Float64}}}}}, ::Base.Pairs{Symbol, Integer, Tuple{Symbol, Symbol}, NamedTuple{(:verbose, :maxdim), Tuple{Bool, Int64}}}, ::typeof(loss), ::MPO, ::MPO, ::VariationalMeasurementMC, ::Int64)",
      "    @ Zygote ~/.julia/packages/Zygote/qGFGD/src/compiler/interface2.jl:0",
      " [30] _pullback",
      "    @ /local/alcalde/workprojects/mVQE/mVQE/src/mVQE.jl:45 [inlined]",
      " [31] _pullback",
      "    @ /local/alcalde/workprojects/mVQE/mVQE/src/mVQE.jl:95 [inlined]",
      " [32] _pullback(::Zygote.Context{true}, ::mVQE.var\"#60#65\"{VariationalMeasurementMC, Int64, Base.Pairs{Symbol, Any, Tuple{Symbol, Symbol, Symbol}, NamedTuple{(:verbose, :noise, :maxdim), Tuple{Bool, Tuple{Pair{Int64, Tuple{String, NamedTuple{(:p,), Tuple{Int64}}}}, Pair{Int64, Tuple{String, NamedTuple{(:p,), Tuple{Float64}}}}}, Int64}}}, MPO, MPO})",
      "    @ Zygote ~/.julia/packages/Zygote/qGFGD/src/compiler/interface2.jl:0",
      " [33] pullback(f::Function, ps::Params{Zygote.Buffer{Any, Vector{Any}}})",
      "    @ Zygote ~/.julia/packages/Zygote/qGFGD/src/compiler/interface.jl:373",
      " [34] withgradient(f::Function, args::Params{Zygote.Buffer{Any, Vector{Any}}})",
      "    @ Zygote ~/.julia/packages/Zygote/qGFGD/src/compiler/interface.jl:123",
      " [35] (::mVQE.var\"#loss_and_grad_serial_parallel#64\"{Int64, Base.Pairs{Symbol, Any, Tuple{Symbol, Symbol, Symbol}, NamedTuple{(:verbose, :noise, :maxdim), Tuple{Bool, Tuple{Pair{Int64, Tuple{String, NamedTuple{(:p,), Tuple{Int64}}}}, Pair{Int64, Tuple{String, NamedTuple{(:p,), Tuple{Float64}}}}}, Int64}}}, MPO, MPO})(model::VariationalMeasurementMC)",
      "    @ mVQE /local/alcalde/workprojects/mVQE/mVQE/src/mVQE.jl:94",
      " [36] (::mVQE.var\"#61#67\"{VariationalMeasurementMC, mVQE.var\"#loss_and_grad_serial_parallel#64\"{Int64, Base.Pairs{Symbol, Any, Tuple{Symbol, Symbol, Symbol}, NamedTuple{(:verbose, :noise, :maxdim), Tuple{Bool, Tuple{Pair{Int64, Tuple{String, NamedTuple{(:p,), Tuple{Int64}}}}, Pair{Int64, Tuple{String, NamedTuple{(:p,), Tuple{Float64}}}}}, Int64}}}, MPO, MPO}})(i::Int64)",
      "    @ mVQE ./none:0",
      " [37] next",
      "    @ ~/.julia/packages/Transducers/HBMTc/src/library.jl:54 [inlined]",
      " [38] next(rf::Transducers.Reduction{Transducers.NoComplete, Transducers.Reduction{Transducers.Map{mVQE.var\"#61#67\"{VariationalMeasurementMC, mVQE.var\"#loss_and_grad_serial_parallel#64\"{Int64, Base.Pairs{Symbol, Any, Tuple{Symbol, Symbol, Symbol}, NamedTuple{(:verbose, :noise, :maxdim), Tuple{Bool, Tuple{Pair{Int64, Tuple{String, NamedTuple{(:p,), Tuple{Int64}}}}, Pair{Int64, Tuple{String, NamedTuple{(:p,), Tuple{Float64}}}}}, Int64}}}, MPO, MPO}}}, Transducers.Reduction{Transducers.Map{typeof(identity)}, Transducers.BottomRF{Transducers.Completing{typeof(Base.add_sum)}}}}}, result::InitialValues.InitialValueOf{typeof(Base.add_sum)}, input::Int64)",
      "    @ Transducers ~/.julia/packages/Transducers/HBMTc/src/core.jl:785",
      " [39] next",
      "    @ ~/.julia/packages/Transducers/HBMTc/src/simd.jl:8 [inlined]",
      " [40] macro expansion",
      "    @ ~/.julia/packages/Transducers/HBMTc/src/core.jl:181 [inlined]",
      " [41] _foldl_array",
      "    @ ~/.julia/packages/Transducers/HBMTc/src/processes.jl:187 [inlined]",
      " [42] __foldl__",
      "    @ ~/.julia/packages/Transducers/HBMTc/src/processes.jl:182 [inlined]",
      " [43] foldl_basecase",
      "    @ ~/.julia/packages/Transducers/HBMTc/src/processes.jl:365 [inlined]",
      " [44] _reduce_basecase(rf::Transducers.Reduction{Transducers.UseSIMD{false}, Transducers.Reduction{Transducers.Map{mVQE.var\"#61#67\"{VariationalMeasurementMC, mVQE.var\"#loss_and_grad_serial_parallel#64\"{Int64, Base.Pairs{Symbol, Any, Tuple{Symbol, Symbol, Symbol}, NamedTuple{(:verbose, :noise, :maxdim), Tuple{Bool, Tuple{Pair{Int64, Tuple{String, NamedTuple{(:p,), Tuple{Int64}}}}, Pair{Int64, Tuple{String, NamedTuple{(:p,), Tuple{Float64}}}}}, Int64}}}, MPO, MPO}}}, Transducers.Reduction{Transducers.Map{typeof(identity)}, Transducers.BottomRF{Transducers.Completing{typeof(Base.add_sum)}}}}}, init::InitialValues.InitialValueOf{typeof(Base.add_sum)}, reducible::Transducers.SizedReducible{UnitRange{Int64}, Int64})",
      "    @ Transducers ~/.julia/packages/Transducers/HBMTc/src/threading_utils.jl:56",
      " [45] _reduce(ctx::Transducers.CancellableDACContext, rf::Transducers.Reduction{Transducers.UseSIMD{false}, Transducers.Reduction{Transducers.Map{mVQE.var\"#61#67\"{VariationalMeasurementMC, mVQE.var\"#loss_and_grad_serial_parallel#64\"{Int64, Base.Pairs{Symbol, Any, Tuple{Symbol, Symbol, Symbol}, NamedTuple{(:verbose, :noise, :maxdim), Tuple{Bool, Tuple{Pair{Int64, Tuple{String, NamedTuple{(:p,), Tuple{Int64}}}}, Pair{Int64, Tuple{String, NamedTuple{(:p,), Tuple{Float64}}}}}, Int64}}}, MPO, MPO}}}, Transducers.Reduction{Transducers.Map{typeof(identity)}, Transducers.BottomRF{Transducers.Completing{typeof(Base.add_sum)}}}}}, init::InitialValues.InitialValueOf{typeof(Base.add_sum)}, reducible::Transducers.SizedReducible{UnitRange{Int64}, Int64})",
      "    @ Transducers ~/.julia/packages/Transducers/HBMTc/src/reduce.jl:150",
      " [46] _reduce(ctx::Transducers.CancellableDACContext, rf::Transducers.Reduction{Transducers.UseSIMD{false}, Transducers.Reduction{Transducers.Map{mVQE.var\"#61#67\"{VariationalMeasurementMC, mVQE.var\"#loss_and_grad_serial_parallel#64\"{Int64, Base.Pairs{Symbol, Any, Tuple{Symbol, Symbol, Symbol}, NamedTuple{(:verbose, :noise, :maxdim), Tuple{Bool, Tuple{Pair{Int64, Tuple{String, NamedTuple{(:p,), Tuple{Int64}}}}, Pair{Int64, Tuple{String, NamedTuple{(:p,), Tuple{Float64}}}}}, Int64}}}, MPO, MPO}}}, Transducers.Reduction{Transducers.Map{typeof(identity)}, Transducers.BottomRF{Transducers.Completing{typeof(Base.add_sum)}}}}}, init::InitialValues.InitialValueOf{typeof(Base.add_sum)}, reducible::Transducers.SizedReducible{UnitRange{Int64}, Int64}) (repeats 4 times)",
      "    @ Transducers ~/.julia/packages/Transducers/HBMTc/src/reduce.jl:159",
      " [47] _transduce_assoc_nocomplete",
      "    @ ~/.julia/packages/Transducers/HBMTc/src/reduce.jl:139 [inlined]",
      " [48] transduce_assoc(xform::Transducers.Composition{Transducers.Map{mVQE.var\"#61#67\"{VariationalMeasurementMC, mVQE.var\"#loss_and_grad_serial_parallel#64\"{Int64, Base.Pairs{Symbol, Any, Tuple{Symbol, Symbol, Symbol}, NamedTuple{(:verbose, :noise, :maxdim), Tuple{Bool, Tuple{Pair{Int64, Tuple{String, NamedTuple{(:p,), Tuple{Int64}}}}, Pair{Int64, Tuple{String, NamedTuple{(:p,), Tuple{Float64}}}}}, Int64}}}, MPO, MPO}}}, Transducers.Map{typeof(identity)}}, step::Transducers.Completing{typeof(Base.add_sum)}, init::InitialValues.InitialValueOf{typeof(Base.add_sum)}, coll0::UnitRange{Int64}; simd::Val{true}, basesize::Int64, stoppable::Nothing, nestlevel::Nothing)",
      "    @ Transducers ~/.julia/packages/Transducers/HBMTc/src/reduce.jl:108",
      " [49] foldxt(step::typeof(Base.add_sum), xform::Transducers.Composition{Transducers.Map{mVQE.var\"#61#67\"{VariationalMeasurementMC, mVQE.var\"#loss_and_grad_serial_parallel#64\"{Int64, Base.Pairs{Symbol, Any, Tuple{Symbol, Symbol, Symbol}, NamedTuple{(:verbose, :noise, :maxdim), Tuple{Bool, Tuple{Pair{Int64, Tuple{String, NamedTuple{(:p,), Tuple{Int64}}}}, Pair{Int64, Tuple{String, NamedTuple{(:p,), Tuple{Float64}}}}}, Int64}}}, MPO, MPO}}}, Transducers.Map{typeof(identity)}}, itr::UnitRange{Int64}; init::InitialValues.InitialValueOf{typeof(Base.add_sum)}, kwargs::Base.Pairs{Symbol, Any, Tuple{Symbol, Symbol}, NamedTuple{(:basesize, :simd), Tuple{Int64, Val{true}}}})",
      "    @ Transducers ~/.julia/packages/Transducers/HBMTc/src/reduce.jl:246",
      " [50] #mapreduce#11",
      "    @ ~/.julia/packages/ThreadsX/7c2uJ/src/reduce.jl:19 [inlined]",
      " [51] #sum#14",
      "    @ ~/.julia/packages/ThreadsX/7c2uJ/src/reduce.jl:48 [inlined]",
      " [52] sum",
      "    @ ~/.julia/packages/ThreadsX/7c2uJ/src/reduce.jl:48 [inlined]",
      " [53] #sum#13",
      "    @ ~/.julia/packages/ThreadsX/7c2uJ/src/reduce.jl:47 [inlined]",
      " [54] sum(itr::Base.Generator{UnitRange{Int64}, mVQE.var\"#61#67\"{VariationalMeasurementMC, mVQE.var\"#loss_and_grad_serial_parallel#64\"{Int64, Base.Pairs{Symbol, Any, Tuple{Symbol, Symbol, Symbol}, NamedTuple{(:verbose, :noise, :maxdim), Tuple{Bool, Tuple{Pair{Int64, Tuple{String, NamedTuple{(:p,), Tuple{Int64}}}}, Pair{Int64, Tuple{String, NamedTuple{(:p,), Tuple{Float64}}}}}, Int64}}}, MPO, MPO}}})",
      "    @ ThreadsX.Implementations ~/.julia/packages/ThreadsX/7c2uJ/src/reduce.jl:47",
      " [55] (::mVQE.var\"#loss_and_grad_parallel#66\"{mVQE.var\"#loss_and_grad_serial_parallel#64\"{Int64, Base.Pairs{Symbol, Any, Tuple{Symbol, Symbol, Symbol}, NamedTuple{(:verbose, :noise, :maxdim), Tuple{Bool, Tuple{Pair{Int64, Tuple{String, NamedTuple{(:p,), Tuple{Int64}}}}, Pair{Int64, Tuple{String, NamedTuple{(:p,), Tuple{Float64}}}}}, Int64}}}, MPO, MPO}})(model::VariationalMeasurementMC)",
      "    @ mVQE /local/alcalde/workprojects/mVQE/mVQE/src/mVQE.jl:100",
      " [56] optimize(fg::mVQE.var\"#loss_and_grad_parallel#66\"{mVQE.var\"#loss_and_grad_serial_parallel#64\"{Int64, Base.Pairs{Symbol, Any, Tuple{Symbol, Symbol, Symbol}, NamedTuple{(:verbose, :noise, :maxdim), Tuple{Bool, Tuple{Pair{Int64, Tuple{String, NamedTuple{(:p,), Tuple{Int64}}}}, Pair{Int64, Tuple{String, NamedTuple{(:p,), Tuple{Float64}}}}}, Int64}}}, MPO, MPO}}, x::VariationalMeasurementMC, alg::LBFGS{Float64, HagerZhangLineSearch{Rational{Int64}}}; precondition::typeof(OptimKit._precondition), finalize!::typeof(OptimKit._finalize!), retract::Function, inner::typeof(OptimKit._inner), transport!::typeof(OptimKit._transport!), scale!::typeof(OptimKit._scale!), add!::typeof(OptimKit._add!), isometrictransport::Bool)",
      "    @ OptimKit ~/.julia/packages/OptimKit/xpmbV/src/lbfgs.jl:21",
      " [57] optimize",
      "    @ ~/.julia/packages/OptimKit/xpmbV/src/lbfgs.jl:20 [inlined]",
      " [58] optimize_and_evolve(ψs::MPO, H::MPO, model::VariationalMeasurementMC; optimizer::LBFGS{Float64, HagerZhangLineSearch{Rational{Int64}}}, samples::Int64, parallel::Bool, nthreads::Int64, kwargs::Base.Pairs{Symbol, Any, Tuple{Symbol, Symbol, Symbol}, NamedTuple{(:verbose, :noise, :maxdim), Tuple{Bool, Tuple{Pair{Int64, Tuple{String, NamedTuple{(:p,), Tuple{Int64}}}}, Pair{Int64, Tuple{String, NamedTuple{(:p,), Tuple{Float64}}}}}, Int64}}})",
      "    @ mVQE /local/alcalde/workprojects/mVQE/mVQE/src/mVQE.jl:126",
      " [59] top-level scope",
      "    @ ./timing.jl:220 [inlined]",
      " [60] top-level scope",
      "    @ ./In[642]:0",
      " [61] eval",
      "    @ ./boot.jl:373 [inlined]"
     ]
    }
   ],
   "source": [
    "using PastaQ\n",
    "using ITensors\n",
    "using Random\n",
    "using OptimKit\n",
    "using Zygote\n",
    "using Zygote: ChainRulesCore\n",
    "using BenchmarkTools\n",
    "using LinearAlgebra\n",
    "using JLD2\n",
    "using Flux\n",
    "\n",
    "import mVQE\n",
    "using mVQE.Hamiltonians: hamiltonian_tfi, hamiltonian_ghz\n",
    "using mVQE.ITensorsExtension: projective_measurement\n",
    "using mVQE: loss, optimize_and_evolve\n",
    "using mVQE.Circuits: VariationalCircuitRy, VariationalMeasurement, VariationalMeasurementMC, VariationalMeasurementMCFeedback\n",
    "using mVQE.Misc: get_ancillas_indices, pprint\n",
    "using mVQE.Optimizers: OptimizerWrapper\n",
    "\n",
    "\n",
    "instance_number = 2\n",
    "\n",
    "depths = [4, 6]\n",
    "depth = depths[mod1(instance_number, length(depths))]\n",
    "\n",
    "params = Dict{String, Any}(\"depth\" => depth, \n",
    "              \"maxiter\" => 300,\n",
    "              \"maxdim\" => 60,\n",
    "              \"noise_p\" => 0,\n",
    "              \"N_state\" => 6,\n",
    "              \"ancilla_frequency\" => 1,\n",
    "              \"k\" => 2,\n",
    "              #\"h\" => 1.,\n",
    "              \"gradtol\" => 1e-3,\n",
    "              \"num_threads\" => 1,\n",
    "              \"nthreads\" => 18,\n",
    "              \"samples\" => 36)\n",
    "\n",
    "\n",
    "# Create a directory to save the results\n",
    "save_folder = \"save_folder/\"\n",
    "mkpath(save_folder)\n",
    "\n",
    "\n",
    "if instance_number <= length(depths)\n",
    "    params[\"optimizer\"] = LBFGS(; gradtol=params[\"gradtol\"], maxiter=params[\"maxiter\"], verbosity=2)\n",
    "    save_file = \"$save_folder/depth=$(depth)_LBFGS.jld2\"\n",
    "elseif instance_number <= 2*length(depths)\n",
    "    params[\"optimizer\"] = OptimizerWrapper(ADAM(0.1); gradtol=params[\"gradtol\"], maxiter=params[\"maxiter\"], verbosity=2)\n",
    "    save_file = \"$save_folder/depth=$(depth)_ADAM.jld2\"\n",
    "elseif instance_number <= 3*length(depths)\n",
    "    params[\"optimizer\"] = OptimizerWrapper(RADAM(0.1); gradtol=params[\"gradtol\"], maxiter=params[\"maxiter\"], verbosity=2)\n",
    "    save_file = \"$save_folder/depth=$(depth)_RADAM.jld2\"\n",
    "\n",
    "elseif instance_number <= 4*length(depths)\n",
    "    params[\"optimizer\"] = OptimizerWrapper(RMSProp(0.1); gradtol=params[\"gradtol\"], maxiter=params[\"maxiter\"], verbosity=2)\n",
    "    save_file = \"$save_folder/depth=$(depth)_RMSProp.jld2\"\n",
    "end\n",
    "\n",
    "\n",
    "pprint(params)\n",
    "println()\n",
    "\n",
    "\n",
    "\n",
    "println(save_file)\n",
    "println()\n",
    "\n",
    "# Set number of threads\n",
    "BLAS.set_num_threads(params[\"num_threads\"])\n",
    "\n",
    "# Set noise\n",
    "noise = (1 => (\"depolarizing\", (p = params[\"noise_p\"],)), \n",
    "         2 => (\"depolarizing\", (p = 0.0,)))\n",
    "\n",
    "# define ancillas and state indices\n",
    "state_indices, ancillas_indices, N = get_ancillas_indices(params[\"N_state\"], params[\"ancilla_frequency\"])\n",
    "\n",
    "# build MPO \"cost function\"\n",
    "hilbert = qubits(N)\n",
    "\n",
    "#H = MPO(hamiltonian_tfi(state_indices, params[\"h\"]), hilbert)\n",
    "H = hamiltonian_ghz(state_indices, hilbert)\n",
    "\n",
    "# VQE\n",
    "Random.seed!(1)\n",
    "\n",
    "# Initialize state\n",
    "ψ = productstate(hilbert, fill(0, N))\n",
    "ρs = outer(ψ, ψ')\n",
    "\n",
    "function callback(; kwargs...)\n",
    "    kwargs = Dict(string(key) => v for (key, v) in kwargs)\n",
    "    kwargs[\"params\"] = params\n",
    "    save(save_file, kwargs)\n",
    "end\n",
    "\n",
    "#= Load previous results\n",
    "if isfile(save_file)# && false\n",
    "    previous = load(save_file)\n",
    "\n",
    "    #@assert previous[\"params\"] == params, \"Previous parameterr: $(previous[\"params\"]) != current parameters: $(params)\"\n",
    "    extra_kwargs = (k_in=previous[\"i\"], θs=previous[\"θs\"], misc=previous[\"optim_misc\"])\n",
    "    θs = previous[\"θs\"]\n",
    "    misc = previous[\"optim_misc\"]\n",
    "    println(\"restarting at k_in=$(previous[\"i\"])/$(params[\"k\"])\")\n",
    "else\n",
    "    extra_kwargs = Tuple()\n",
    "end=#\n",
    "\n",
    "# Run sequential optimization\n",
    "#@time loss_value, θs, ρ, misc = optimize_and_evolve(params[\"k\"], ancillas_indices, ρs, H, model;\n",
    "#                                                    optimizer=optimizer, verbose=true, maxdim=params[\"maxdim\"], cutoff=params[\"cutoff\"], noise, callback, extra_kwargs...)\n",
    "\n",
    "# Define circuit blueprint\n",
    "vmodels = [VariationalCircuitRy(N, depth) for _ in 1:params[\"k\"]]\n",
    "#model = VariationalMeasurementMCFeedback(vmodels, [Flux.Dense for i in 2:params[\"k\"]], ancillas_indices)\n",
    "model = VariationalMeasurementMC(vmodels, ancillas_indices, params[\"samples\"])\n",
    "\n",
    "# Run optimization\n",
    "@time loss_value, trained_model, ρ, misc = optimize_and_evolve(ρs, H, model; samples=params[\"samples\"],\n",
    "                                           optimizer=params[\"optimizer\"], verbose=true, noise, maxdim=params[\"maxdim\"],\n",
    "                                           parallel=true, nthreads=params[\"nthreads\"])\n",
    "\n",
    "ρ, = projective_measurement(ρ; indices=ancillas_indices, reset=1)\n",
    "\n",
    "callback(; loss_value=loss_value, model=trained_model, ρ=ρ, misc=misc, misc=misc)"
   ]
  },
  {
   "cell_type": "code",
   "execution_count": 640,
   "metadata": {},
   "outputs": [
    {
     "data": {
      "text/plain": [
       "VariationalCircuitRy(N=11, depth=6)"
      ]
     },
     "execution_count": 640,
     "metadata": {},
     "output_type": "execute_result"
    }
   ],
   "source": [
    "model = VariationalCircuitRy(N, depth)"
   ]
  },
  {
   "cell_type": "code",
   "execution_count": 641,
   "metadata": {},
   "outputs": [
    {
     "data": {
      "text/plain": [
       "-0.0003190539717932331"
      ]
     },
     "execution_count": 641,
     "metadata": {},
     "output_type": "execute_result"
    }
   ],
   "source": [
    "loss(ρs, H, model)"
   ]
  }
 ],
 "metadata": {
  "@webio": {
   "lastCommId": null,
   "lastKernelId": null
  },
  "kernelspec": {
   "display_name": "Julia 1.7.3",
   "language": "julia",
   "name": "julia-1.7"
  },
  "language_info": {
   "file_extension": ".jl",
   "mimetype": "application/julia",
   "name": "julia",
   "version": "1.7.3"
  },
  "toc": {
   "base_numbering": 1,
   "nav_menu": {},
   "number_sections": true,
   "sideBar": true,
   "skip_h1_title": false,
   "title_cell": "Table of Contents",
   "title_sidebar": "Contents",
   "toc_cell": false,
   "toc_position": {},
   "toc_section_display": true,
   "toc_window_display": false
  }
 },
 "nbformat": 4,
 "nbformat_minor": 5
}
