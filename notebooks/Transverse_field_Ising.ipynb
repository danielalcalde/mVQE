{
 "cells": [
  {
   "cell_type": "code",
   "execution_count": 1,
   "metadata": {},
   "outputs": [],
   "source": [
    "using Revise\n",
    "using PastaQ\n",
    "using ITensors\n",
    "using Random\n",
    "using OptimKit\n",
    "using Zygote\n",
    "using Zygote: ChainRulesCore\n",
    "using BenchmarkTools\n",
    "using JLD\n",
    "using MethodAnalysis\n",
    "using Plots"
   ]
  },
  {
   "cell_type": "code",
   "execution_count": 2,
   "metadata": {},
   "outputs": [
    {
     "name": "stdout",
     "output_type": "stream",
     "text": [
      "  0.030186 seconds (44.96 k allocations: 1.621 MiB, 15.85% compilation time)\n"
     ]
    }
   ],
   "source": [
    "@time begin\n",
    "import mVQE\n",
    "using mVQE.ITensorsExtension: projective_measurement\n",
    "using mVQE.StateFactory: random_MPS, infinite_temp_MPO\n",
    "using mVQE.Layers: Rylayer, CXlayer, Rxlayer\n",
    "using mVQE.Circuits: runcircuit, VariationalCircuitRy, VariationalMeasurement, initialize_circuit, generate_circuit\n",
    "using mVQE: loss, optimize_and_evolve\n",
    "end"
   ]
  },
  {
   "cell_type": "code",
   "execution_count": 3,
   "metadata": {},
   "outputs": [],
   "source": [
    "N_state = 5\n",
    "ancilla_frequency = 1\n",
    "N = N_state * (ancilla_frequency + 1) - ancilla_frequency\n",
    "ancillas_indices = [i for i in 1:N if mod1(i, ancilla_frequency+1)!=1]\n",
    "state_indices = [i for i in 1:N if mod1(i, ancilla_frequency+1)==1];"
   ]
  },
  {
   "cell_type": "code",
   "execution_count": 4,
   "metadata": {},
   "outputs": [
    {
     "data": {
      "text/plain": [
       "hamiltonian (generic function with 1 method)"
      ]
     },
     "execution_count": 4,
     "metadata": {},
     "output_type": "execute_result"
    }
   ],
   "source": [
    "function hamiltonian(state_indices, h)\n",
    "    os = OpSum()\n",
    "    for (i, s) in enumerate(state_indices)\n",
    "        os += -1, \"Z\", s, \"Z\", state_indices[mod1(i+1, length(state_indices))]\n",
    "        os += -h, \"X\", s\n",
    "    end\n",
    "    \n",
    "    return os\n",
    "end"
   ]
  },
  {
   "cell_type": "code",
   "execution_count": 5,
   "metadata": {},
   "outputs": [],
   "source": [
    "h = 1.  # transverse magnetic field\n",
    "\n",
    "# Hilbert space\n",
    "hilbert = qubits(N)\n",
    "\n",
    "# build MPO \"cost function\"\n",
    "H = MPO(hamiltonian(state_indices, h), hilbert);\n",
    "\n",
    "\n",
    "hilbert_s = hilbert[state_indices]\n",
    "H_s = MPO(hamiltonian(1:N_state, h), hilbert_s);"
   ]
  },
  {
   "cell_type": "code",
   "execution_count": 6,
   "metadata": {},
   "outputs": [
    {
     "name": "stdout",
     "output_type": "stream",
     "text": [
      "Ground state energy from DMRG: -6.414910943567371\n"
     ]
    },
    {
     "data": {
      "text/plain": [
       "2"
      ]
     },
     "execution_count": 6,
     "metadata": {},
     "output_type": "execute_result"
    }
   ],
   "source": [
    "# Find ground state with DMRG\n",
    "\n",
    "nsweeps = 20\n",
    "maxdim = 2\n",
    "cutoff_ = 1e-10\n",
    "\n",
    "start_mps = randomMPS(hilbert, linkdims=2)\n",
    "Edmrg, Φ = dmrg(H, start_mps; outputlevel=0, nsweeps, maxdim, cutoff=cutoff_);\n",
    "println(\"Ground state energy from DMRG: $Edmrg\")\n",
    "maxlinkdim(Φ)"
   ]
  },
  {
   "cell_type": "code",
   "execution_count": 7,
   "metadata": {},
   "outputs": [
    {
     "name": "stdout",
     "output_type": "stream",
     "text": [
      "Ground state energy from DMRG: -6.413640314458521\n"
     ]
    }
   ],
   "source": [
    "start_mps = randomMPS(hilbert_s, linkdims=10)\n",
    "Edmrg, Φ_state = dmrg(H_s, start_mps; outputlevel=0, nsweeps, maxdim, cutoff=cutoff_);\n",
    "println(\"Ground state energy from DMRG: $Edmrg\")"
   ]
  },
  {
   "cell_type": "code",
   "execution_count": 8,
   "metadata": {},
   "outputs": [],
   "source": [
    "# contract(Φ.data).tensor[:, 1, :]"
   ]
  },
  {
   "cell_type": "markdown",
   "metadata": {},
   "source": [
    "## Random ansatz"
   ]
  },
  {
   "cell_type": "code",
   "execution_count": 8,
   "metadata": {},
   "outputs": [],
   "source": [
    "depth = 6\n",
    "model = VariationalCircuitRy(N, depth)\n",
    "ψ = productstate(hilbert, fill(0, N))\n",
    "θs = initialize_circuit(model);"
   ]
  },
  {
   "cell_type": "code",
   "execution_count": 9,
   "metadata": {},
   "outputs": [
    {
     "data": {
      "text/plain": [
       "2"
      ]
     },
     "execution_count": 9,
     "metadata": {},
     "output_type": "execute_result"
    }
   ],
   "source": [
    "ψout = runcircuit(ψ, model, θs, maxdim=2)\n",
    "maxlinkdim(ψout)"
   ]
  },
  {
   "cell_type": "markdown",
   "metadata": {},
   "source": [
    "## Variational ansatz"
   ]
  },
  {
   "cell_type": "code",
   "execution_count": 10,
   "metadata": {},
   "outputs": [
    {
     "data": {
      "text/plain": [
       "LBFGS{Float64, HagerZhangLineSearch{Rational{Int64}}}(8, 50, 1.0e-8, true, HagerZhangLineSearch{Rational{Int64}}(1//10, 9//10, 1//1000000, 1//2, 2//3, 5//1, 9223372036854775807, -1), 1)"
      ]
     },
     "execution_count": 10,
     "metadata": {},
     "output_type": "execute_result"
    }
   ],
   "source": [
    "noise_ = (1 => (\"depolarizing\", (p = 1e-4,)), \n",
    "         2 => (\"depolarizing\", (p = 0.0,)))\n",
    "\n",
    "Random.seed!(1234)\n",
    "\n",
    "# run VQE using BFGS optimization\n",
    "optimizer = LBFGS(; maxiter=50, verbosity=1)"
   ]
  },
  {
   "cell_type": "markdown",
   "metadata": {},
   "source": [
    "# With errors"
   ]
  },
  {
   "cell_type": "code",
   "execution_count": 9,
   "metadata": {},
   "outputs": [
    {
     "data": {
      "text/plain": [
       "LBFGS{Float64, HagerZhangLineSearch{Rational{Int64}}}(8, 10, 1.0e-8, true, HagerZhangLineSearch{Rational{Int64}}(1//10, 9//10, 1//1000000, 1//2, 2//3, 5//1, 9223372036854775807, -1), 1)"
      ]
     },
     "execution_count": 9,
     "metadata": {},
     "output_type": "execute_result"
    }
   ],
   "source": [
    "optimizer = LBFGS(; maxiter=10, verbosity=1)"
   ]
  },
  {
   "cell_type": "code",
   "execution_count": 15,
   "metadata": {},
   "outputs": [
    {
     "name": "stderr",
     "output_type": "stream",
     "text": [
      "┌ Warning: LBFGS: not converged to requested tol: f = -2.824928724859, ‖∇f‖ = 2.3391e-02\n",
      "└ @ OptimKit /Users/alcalde/.julia/packages/OptimKit/xpmbV/src/lbfgs.jl:141\n"
     ]
    },
    {
     "name": "stdout",
     "output_type": "stream",
     "text": [
      "iter: 1\n",
      "Loss: -2.824928724858896\n",
      "\n",
      "iter: 2\n",
      "Loss: -2.822275682606981\n",
      "\n"
     ]
    },
    {
     "name": "stderr",
     "output_type": "stream",
     "text": [
      "┌ Warning: LBFGS: not converged to requested tol: f = -2.822275682607, ‖∇f‖ = 3.8798e-02\n",
      "└ @ OptimKit /Users/alcalde/.julia/packages/OptimKit/xpmbV/src/lbfgs.jl:141\n"
     ]
    },
    {
     "name": "stdout",
     "output_type": "stream",
     "text": [
      "210.672968 seconds (445.25 M allocations: 23.668 GiB, 5.94% gc time, 98.89% compilation time)\n"
     ]
    }
   ],
   "source": [
    "#ρs = infinite_temp_MPO(hilbert)\n",
    "\n",
    "ψ = productstate(hilbert, fill(0, N))\n",
    "ρs = outer(ψ, ψ')\n",
    "\n",
    "k = 2\n",
    "depth = 5\n",
    "model = VariationalCircuitRy(N, depth)\n",
    "@time loss_value, θs_error, ρ, niter = optimize_and_evolve(k, ancillas_indices, ρs, H, model, depth; optimizer=optimizer, verbose=true, maxdims, noise=noise_);\n",
    "ρ, = projective_measurement(ρ; indices=ancillas_indices, reset=1);"
   ]
  },
  {
   "cell_type": "markdown",
   "metadata": {},
   "source": [
    "# Optimize through the entire loop"
   ]
  },
  {
   "cell_type": "code",
   "execution_count": null,
   "metadata": {},
   "outputs": [],
   "source": [
    "optimizer = LBFGS(; maxiter=100, verbosity=2)\n",
    "\n",
    "ρ = infinite_temp_MPO(hilbert)\n",
    "ρ, = projective_measurement(ρ; indices=ancillas_indices, reset=1)\n",
    "\n",
    "ψ = productstate(hilbert, fill(0, N))\n",
    "ρs = outer(ψ, prime(ψ))\n",
    "\n",
    "depth = 5\n",
    "model = VariationalCircuitRy(N, depth)\n",
    "reset = 1\n",
    "k = 4\n",
    "model = VariationalMeasurement(model, k, ancillas_indices, reset)\n",
    "@time loss_value, θs_error2, ρ2, niter = optimize_and_evolve(ρs, H, model; optimizer, noise=noise_, maxdim=50);\n",
    "ρ2, = projective_measurement(ρ2; indices=ancillas_indices, reset=1);"
   ]
  },
  {
   "cell_type": "code",
   "execution_count": 38,
   "metadata": {},
   "outputs": [],
   "source": [
    "θs = initialize_circuit(model);"
   ]
  },
  {
   "cell_type": "code",
   "execution_count": 39,
   "metadata": {},
   "outputs": [
    {
     "data": {
      "text/plain": [
       "0.6758652705238788"
      ]
     },
     "execution_count": 39,
     "metadata": {},
     "output_type": "execute_result"
    }
   ],
   "source": [
    "loss(ρs, H, model, θs)"
   ]
  },
  {
   "cell_type": "code",
   "execution_count": 202,
   "metadata": {},
   "outputs": [
    {
     "data": {
      "text/plain": [
       "0.0002890192316163327 + 0.0im"
      ]
     },
     "execution_count": 202,
     "metadata": {},
     "output_type": "execute_result"
    }
   ],
   "source": [
    "inner(Φ, ρ2, Φ')"
   ]
  },
  {
   "cell_type": "markdown",
   "metadata": {},
   "source": [
    "# VQE"
   ]
  },
  {
   "cell_type": "code",
   "execution_count": 28,
   "metadata": {},
   "outputs": [
    {
     "name": "stdout",
     "output_type": "stream",
     "text": [
      " 50.640185 seconds (48.41 M allocations: 11.965 GiB, 5.95% gc time)\n",
      "0.974617613731652\n"
     ]
    },
    {
     "name": "stderr",
     "output_type": "stream",
     "text": [
      "┌ Warning: LBFGS: not converged to requested tol: f = -6.307857700209, ‖∇f‖ = 1.1731e-02\n",
      "└ @ OptimKit /home/leinad/.julia/packages/OptimKit/xpmbV/src/lbfgs.jl:141\n"
     ]
    }
   ],
   "source": [
    "ψ = productstate(hilbert_s, fill(0, N_state))\n",
    "ρs_s = outer(ψ, ψ')\n",
    "\n",
    "model = VariationalCircuitRy(N_state, 8)\n",
    "\n",
    "\n",
    "optimizer = LBFGS(; gradtol=1e-8, maxiter=150, verbosity=1)\n",
    "@time loss_value, θs, ρ_s, niter = optimize_and_evolve(ρs_s, H_s, model, depth; optimizer=optimizer, verbose=true, maxdims, noise);\n",
    "println(loss_value/Edmrg)"
   ]
  },
  {
   "cell_type": "code",
   "execution_count": 204,
   "metadata": {},
   "outputs": [
    {
     "data": {
      "text/plain": [
       "-6.251523086913398 + 0.0im"
      ]
     },
     "execution_count": 204,
     "metadata": {},
     "output_type": "execute_result"
    }
   ],
   "source": [
    "inner(ρ_s, H_s)"
   ]
  },
  {
   "cell_type": "code",
   "execution_count": 205,
   "metadata": {},
   "outputs": [
    {
     "data": {
      "text/plain": [
       "0.5202533766943219 + 0.0im"
      ]
     },
     "execution_count": 205,
     "metadata": {},
     "output_type": "execute_result"
    }
   ],
   "source": [
    "inner(Φ_state, ρ_s, Φ_state')"
   ]
  },
  {
   "cell_type": "code",
   "execution_count": null,
   "metadata": {},
   "outputs": [],
   "source": []
  }
 ],
 "metadata": {
  "@webio": {
   "lastCommId": null,
   "lastKernelId": null
  },
  "kernelspec": {
   "display_name": "My Julia",
   "language": "julia",
   "name": "julia-1.7"
  },
  "language_info": {
   "file_extension": ".jl",
   "mimetype": "application/julia",
   "name": "julia",
   "version": "1.7.3"
  },
  "toc": {
   "base_numbering": 1,
   "nav_menu": {},
   "number_sections": true,
   "sideBar": true,
   "skip_h1_title": false,
   "title_cell": "Table of Contents",
   "title_sidebar": "Contents",
   "toc_cell": false,
   "toc_position": {},
   "toc_section_display": true,
   "toc_window_display": false
  }
 },
 "nbformat": 4,
 "nbformat_minor": 5
}
