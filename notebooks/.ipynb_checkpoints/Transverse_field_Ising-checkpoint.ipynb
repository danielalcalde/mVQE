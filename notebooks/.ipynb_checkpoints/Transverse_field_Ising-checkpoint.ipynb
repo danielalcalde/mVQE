{
 "cells": [
  {
   "cell_type": "code",
   "execution_count": null,
   "metadata": {},
   "outputs": [],
   "source": [
    "using Revise\n",
    "using PastaQ\n",
    "using ITensors\n",
    "using Random\n",
    "using OptimKit\n",
    "using Zygote\n",
    "using Zygote: ChainRulesCore\n",
    "using BenchmarkTools\n",
    "using JLD\n",
    "using MethodAnalysis"
   ]
  },
  {
   "cell_type": "code",
   "execution_count": null,
   "metadata": {},
   "outputs": [],
   "source": [
    "@time begin\n",
    "import mVQE\n",
    "using mVQE.ITensorsExtension: projective_measurement\n",
    "using mVQE.StateFactory: random_MPS, infinite_temp_MPO\n",
    "using mVQE.Layers: Rylayer, CXlayer, Rxlayer\n",
    "using mVQE.Circuits: runcircuit, VariationalCircuitRy, VariationalMeasurement, initialize_circuit, generate_circuit\n",
    "using mVQE: loss, optimize_and_evolve\n",
    "end"
   ]
  },
  {
   "cell_type": "code",
   "execution_count": 52,
   "metadata": {},
   "outputs": [],
   "source": [
    "f2(k, ancillas_indices, ρs, H, model, depth, optimizer, verbose, maxdims, noise) = optimize_and_evolve(k, ancillas_indices, ρs, H, model, depth; optimizer=optimizer, verbose=true, maxdims, noise);"
   ]
  },
  {
   "cell_type": "code",
   "execution_count": 55,
   "metadata": {},
   "outputs": [
    {
     "name": "stderr",
     "output_type": "stream",
     "text": [
      "┌ Warning: LBFGS: not converged to requested tol: f = -6.064154035950, ‖∇f‖ = 8.9624e-01\n",
      "└ @ OptimKit /Users/alcalde/.julia/packages/OptimKit/xpmbV/src/lbfgs.jl:141\n"
     ]
    },
    {
     "name": "stdout",
     "output_type": "stream",
     "text": [
      "iter: 1\n",
      "Loss: -6.0641540359501835\n",
      "\n"
     ]
    },
    {
     "name": "stderr",
     "output_type": "stream",
     "text": [
      "┌ Warning: LBFGS: not converged to requested tol: f = -5.310860288320, ‖∇f‖ = 4.1722e-01\n",
      "└ @ OptimKit /Users/alcalde/.julia/packages/OptimKit/xpmbV/src/lbfgs.jl:141\n"
     ]
    },
    {
     "name": "stdout",
     "output_type": "stream",
     "text": [
      "iter: 2\n",
      "Loss: -5.310860288320461\n",
      "\n",
      "127.328181 seconds (242.87 M allocations: 29.108 GiB, 8.76% gc time, 78.60% compilation time)\n"
     ]
    }
   ],
   "source": [
    "@time f2(k, ancillas_indices, ρs, H, model, depth, optimizer, false, maxdims, noise);"
   ]
  },
  {
   "cell_type": "code",
   "execution_count": 59,
   "metadata": {},
   "outputs": [
    {
     "data": {
      "text/plain": [
       "true"
      ]
     },
     "execution_count": 59,
     "metadata": {},
     "output_type": "execute_result"
    }
   ],
   "source": [
    "precompile(f2, (Int64, Vector{Int64}, MPO, MPO, VariationalCircuitRy, Int64, LBFGS{Float64, HagerZhangLineSearch{Rational{Int64}}}, Bool, Int64, Tuple{Pair{Int64, Tuple{String, NamedTuple{(:p,), Tuple{Float64}}}}, Pair{Int64, Tuple{String, NamedTuple{(:p,), Tuple{Float64}}}}}))"
   ]
  },
  {
   "cell_type": "code",
   "execution_count": 49,
   "metadata": {},
   "outputs": [
    {
     "name": "stdout",
     "output_type": "stream",
     "text": [
      "  0.000004 seconds (2 allocations: 112 bytes)\n"
     ]
    },
    {
     "data": {
      "text/plain": [
       "true"
      ]
     },
     "execution_count": 49,
     "metadata": {},
     "output_type": "execute_result"
    }
   ],
   "source": [
    "@time precompile(f, (Int64, Vector{Int64}, MPO, MPO, VariationalCircuitRy, Int64))"
   ]
  },
  {
   "cell_type": "code",
   "execution_count": 57,
   "metadata": {},
   "outputs": [
    {
     "data": {
      "text/plain": [
       "1-element Vector{Core.MethodInstance}:\n",
       " MethodInstance for f2(::Int64, ::Vector{Int64}, ::MPO, ::MPO, ::VariationalCircuitRy, ::Int64, ::LBFGS{Float64, HagerZhangLineSearch{Rational{Int64}}}, ::Bool, ::Int64, ::Tuple{Pair{Int64, Tuple{String, NamedTuple{(:p,), Tuple{Float64}}}}, Pair{Int64, Tuple{String, NamedTuple{(:p,), Tuple{Float64}}}}})"
      ]
     },
     "execution_count": 57,
     "metadata": {},
     "output_type": "execute_result"
    }
   ],
   "source": [
    "methodinstances(f2)"
   ]
  },
  {
   "cell_type": "code",
   "execution_count": 33,
   "metadata": {},
   "outputs": [
    {
     "name": "stdout",
     "output_type": "stream",
     "text": [
      "Core.MethodInstance[]\n",
      "\n",
      "Core.MethodInstance[]\n",
      "\n",
      "Core.MethodInstance[]\n",
      "\n",
      "Core.MethodInstance[]\n",
      "\n",
      "Core.MethodInstance[MethodInstance for mVQE.var\"#optimize_and_evolve#5\"(::Any, ::LBFGS{Float64, HagerZhangLineSearch{Rational{Int64}}}, ::Base.Pairs{Symbol, _A, Tuple{}, NamedTuple{names, T}} where {_A, names, T<:Tuple{Vararg{Any, N}}}, ::typeof(optimize_and_evolve), ::ITensors.AbstractMPS, ::MPO, ::VariationalCircuitRy, ::Int64), MethodInstance for mVQE.var\"#optimize_and_evolve#5\"(::Any, ::LBFGS{Float64, HagerZhangLineSearch{Rational{Int64}}}, ::Base.Pairs{Symbol, _A, Tuple{}, NamedTuple{names, T}} where {_A, names, T<:Tuple{Vararg{Any, N}}}, ::typeof(optimize_and_evolve), ::Vector{MPS}, ::MPO, ::VariationalCircuitRy, ::Int64), MethodInstance for mVQE.var\"#optimize_and_evolve#5\"(::Any, ::LBFGS{Float64, HagerZhangLineSearch{Rational{Int64}}}, ::Base.Pairs{Symbol, _A, Tuple{}, NamedTuple{names, T}} where {_A, names, T<:Tuple{Vararg{Any, N}}}, ::typeof(optimize_and_evolve), ::Vector{MPO}, ::MPO, ::VariationalCircuitRy, ::Int64)]\n",
      "\n",
      "Core.MethodInstance[MethodInstance for mVQE.var\"#optimize_and_evolve#8\"(::Vector{Any}, ::Bool, ::Nothing, ::Base.Pairs{Symbol, Union{}, Tuple{}, NamedTuple{(), Tuple{}}}, ::typeof(optimize_and_evolve), ::Int64, ::Vector{Int64}, ::MPO, ::MPO, ::VariationalCircuitRy, ::Int64)]\n",
      "\n",
      "Core.MethodInstance[MethodInstance for mVQE.State_length(::ITensors.AbstractMPS), MethodInstance for mVQE.State_length(::Vector{MPO}), MethodInstance for mVQE.State_length(::Vector{MPS})]\n",
      "\n",
      "Core.MethodInstance[]\n",
      "\n",
      "Core.MethodInstance[MethodInstance for mVQE.include(::String)]\n",
      "\n",
      "Core.MethodInstance[]\n",
      "\n",
      "Core.MethodInstance[]\n",
      "\n",
      "Core.MethodInstance[MethodInstance for mVQE.optimize_and_evolve(::Int64, ::Vector{Int64}, ::MPO, ::MPO, ::VariationalCircuitRy, ::Int64)]\n",
      "\n",
      "Core.MethodInstance[MethodInstance for (::mVQE.var\"#optimize_and_evolve##kw\")(::NamedTuple{(:θ,), _A} where _A<:Tuple{Any}, ::typeof(optimize_and_evolve), ::Union{Vector{MPO}, Vector{MPS}, ITensors.AbstractMPS}, ::MPO, ::VariationalCircuitRy, ::Int64)]\n",
      "\n"
     ]
    }
   ],
   "source": [
    "for a in names(mVQE, all=true)\n",
    "    func = eval(quote mVQE.$a end)\n",
    "    if hasproperty(func, :instance)\n",
    "        println(methodinstances(func.instance))\n",
    "        println()\n",
    "    end\n",
    "end"
   ]
  },
  {
   "cell_type": "code",
   "execution_count": 9,
   "metadata": {},
   "outputs": [
    {
     "data": {
      "text/plain": [
       "hamiltonian (generic function with 1 method)"
      ]
     },
     "execution_count": 9,
     "metadata": {},
     "output_type": "execute_result"
    }
   ],
   "source": [
    "function hamiltonian(state_indices, h)\n",
    "    os = OpSum()\n",
    "    for (i, s) in enumerate(state_indices)\n",
    "        os += -1, \"Z\", s, \"Z\", state_indices[mod1(i+1, length(state_indices))]\n",
    "        os += -h, \"X\", s\n",
    "    end\n",
    "    \n",
    "    return os\n",
    "end"
   ]
  },
  {
   "cell_type": "code",
   "execution_count": 10,
   "metadata": {},
   "outputs": [],
   "source": [
    "N_state = 5\n",
    "ancilla_frequency = 1\n",
    "N = N_state * (ancilla_frequency + 1) - ancilla_frequency\n",
    "ancillas_indices = [i for i in 1:N if mod1(i, ancilla_frequency+1)!=1]\n",
    "state_indices = [i for i in 1:N if mod1(i, ancilla_frequency+1)==1];"
   ]
  },
  {
   "cell_type": "code",
   "execution_count": 11,
   "metadata": {},
   "outputs": [],
   "source": [
    "h = 1.  # transverse magnetic field\n",
    "\n",
    "# Hilbert space\n",
    "hilbert = qubits(N)\n",
    "\n",
    "# build MPO \"cost function\"\n",
    "H = MPO(hamiltonian(state_indices, h), hilbert);\n",
    "\n",
    "\n",
    "hilbert_s = hilbert[state_indices]\n",
    "H_s = MPO(hamiltonian(1:N_state, h), hilbert_s);"
   ]
  },
  {
   "cell_type": "code",
   "execution_count": 12,
   "metadata": {},
   "outputs": [
    {
     "name": "stdout",
     "output_type": "stream",
     "text": [
      "Ground state energy from DMRG: -6.472135954999582\n"
     ]
    }
   ],
   "source": [
    "# Find ground state with DMRG\n",
    "\n",
    "nsweeps = 20\n",
    "maxdims = 100\n",
    "cutoff_ = 1e-10\n",
    "\n",
    "start_mps = randomMPS(hilbert, linkdims=10)\n",
    "Edmrg, Φ = dmrg(H, start_mps; outputlevel=0, nsweeps, maxdims, cutoff_);\n",
    "println(\"Ground state energy from DMRG: $Edmrg\")"
   ]
  },
  {
   "cell_type": "code",
   "execution_count": 13,
   "metadata": {},
   "outputs": [
    {
     "name": "stdout",
     "output_type": "stream",
     "text": [
      "Ground state energy from DMRG: -6.472135954999577\n"
     ]
    }
   ],
   "source": [
    "start_mps = randomMPS(hilbert_s, linkdims=10)\n",
    "Edmrg, Φ_state = dmrg(H_s, start_mps; outputlevel=0, nsweeps, maxdims, cutoff_);\n",
    "println(\"Ground state energy from DMRG: $Edmrg\")"
   ]
  },
  {
   "cell_type": "code",
   "execution_count": 14,
   "metadata": {},
   "outputs": [],
   "source": [
    "# contract(Φ.data).tensor[:, 1, :]"
   ]
  },
  {
   "cell_type": "markdown",
   "metadata": {},
   "source": [
    "## Variational ansatz"
   ]
  },
  {
   "cell_type": "code",
   "execution_count": 15,
   "metadata": {},
   "outputs": [
    {
     "data": {
      "text/plain": [
       "LBFGS{Float64, HagerZhangLineSearch{Rational{Int64}}}(8, 50, 1.0e-8, true, HagerZhangLineSearch{Rational{Int64}}(1//10, 9//10, 1//1000000, 1//2, 2//3, 5//1, 9223372036854775807, -1), 1)"
      ]
     },
     "execution_count": 15,
     "metadata": {},
     "output_type": "execute_result"
    }
   ],
   "source": [
    "cutoffs = 1e-8\n",
    "maxdims = 50\n",
    "noise = (1 => (\"depolarizing\", (p = 1e-4,)), \n",
    "         2 => (\"depolarizing\", (p = 0.0,)))\n",
    "\n",
    "Random.seed!(1234)\n",
    "\n",
    "# run VQE using BFGS optimization\n",
    "optimizer = LBFGS(; maxiter=50, verbosity=1)"
   ]
  },
  {
   "cell_type": "markdown",
   "metadata": {},
   "source": [
    "# With errors"
   ]
  },
  {
   "cell_type": "code",
   "execution_count": 16,
   "metadata": {},
   "outputs": [
    {
     "data": {
      "text/plain": [
       "LBFGS{Float64, HagerZhangLineSearch{Rational{Int64}}}(8, 10, 1.0e-8, true, HagerZhangLineSearch{Rational{Int64}}(1//10, 9//10, 1//1000000, 1//2, 2//3, 5//1, 9223372036854775807, -1), 1)"
      ]
     },
     "execution_count": 16,
     "metadata": {},
     "output_type": "execute_result"
    }
   ],
   "source": [
    "optimizer = LBFGS(; maxiter=10, verbosity=1)"
   ]
  },
  {
   "cell_type": "code",
   "execution_count": 17,
   "metadata": {},
   "outputs": [],
   "source": [
    "ρs = infinite_temp_MPO(hilbert)\n",
    "\n",
    "\n",
    "ψ = productstate(hilbert, fill(0, N))\n",
    "ρs = outer(ψ, ψ')\n",
    "\n",
    "k = 2\n",
    "depth = 5\n",
    "model = VariationalCircuitRy(N, depth)\n",
    "#@time loss_value, θs_error, ρ, niter = optimize_and_evolve(k, ancillas_indices, ρs, H, model, depth; optimizer=optimizer, verbose=true, maxdims, noise);\n",
    "#ρ, = projective_measurement(ρ; indices=ancillas_indices, reset=1);"
   ]
  },
  {
   "cell_type": "code",
   "execution_count": null,
   "metadata": {},
   "outputs": [],
   "source": [
    "213"
   ]
  },
  {
   "cell_type": "code",
   "execution_count": 16,
   "metadata": {},
   "outputs": [
    {
     "name": "stdout",
     "output_type": "stream",
     "text": [
      "iter: 1\n",
      "Loss: -6.111974398946262\n",
      "\n"
     ]
    },
    {
     "name": "stderr",
     "output_type": "stream",
     "text": [
      "┌ Warning: LBFGS: not converged to requested tol: f = -6.111974398946, ‖∇f‖ = 5.1014e-01\n",
      "└ @ OptimKit /Users/alcalde/.julia/packages/OptimKit/xpmbV/src/lbfgs.jl:141\n",
      "┌ Warning: LBFGS: not converged to requested tol: f = -6.008692757288, ‖∇f‖ = 2.5731e-01\n",
      "└ @ OptimKit /Users/alcalde/.julia/packages/OptimKit/xpmbV/src/lbfgs.jl:141\n"
     ]
    },
    {
     "name": "stdout",
     "output_type": "stream",
     "text": [
      "iter: 2\n",
      "Loss: -6.008692757288341\n",
      "\n",
      " 21.701734 seconds (14.72 M allocations: 13.328 GiB, 23.69% gc time)\n"
     ]
    }
   ],
   "source": [
    "ρs = infinite_temp_MPO(hilbert)\n",
    "\n",
    "\n",
    "ψ = productstate(hilbert, fill(0, N))\n",
    "ρs = outer(ψ, ψ')\n",
    "\n",
    "k = 2\n",
    "depth = 5\n",
    "model = VariationalCircuitRy(N, depth)\n",
    "@time loss_value, θs_error, ρ, niter = optimize_and_evolve(k, ancillas_indices, ρs, H, model, depth; optimizer=optimizer, verbose=true, maxdims, noise);\n",
    "ρ, = projective_measurement(ρ; indices=ancillas_indices, reset=1);"
   ]
  },
  {
   "cell_type": "code",
   "execution_count": 17,
   "metadata": {},
   "outputs": [
    {
     "data": {
      "text/plain": [
       "optimize_and_evolve (generic function with 2 methods)"
      ]
     },
     "execution_count": 17,
     "metadata": {},
     "output_type": "execute_result"
    }
   ],
   "source": [
    "optimize_and_evolve"
   ]
  },
  {
   "cell_type": "code",
   "execution_count": 18,
   "metadata": {},
   "outputs": [
    {
     "data": {
      "text/plain": [
       "Core.MethodInstance[]"
      ]
     },
     "execution_count": 18,
     "metadata": {},
     "output_type": "execute_result"
    }
   ],
   "source": [
    "methodinstances(optimize_and_evolve)"
   ]
  },
  {
   "cell_type": "code",
   "execution_count": 40,
   "metadata": {},
   "outputs": [
    {
     "data": {
      "text/plain": [
       "Symbol(\"##loss#1\")"
      ]
     },
     "execution_count": 40,
     "metadata": {},
     "output_type": "execute_result"
    }
   ],
   "source": [
    "a = names(mVQE, all=true)[1]"
   ]
  },
  {
   "cell_type": "code",
   "execution_count": 58,
   "metadata": {},
   "outputs": [
    {
     "name": "stdout",
     "output_type": "stream",
     "text": [
      "Core.MethodInstance[]\n",
      "\n",
      "Core.MethodInstance[MethodInstance for mVQE.var\"#loss#2\"(::Base.Pairs{Symbol, Int64, Tuple{Symbol}, NamedTuple{(:maxdims,), Tuple{Int64}}}, ::typeof(loss), ::MPO, ::MPO)]\n",
      "\n",
      "Core.MethodInstance[MethodInstance for mVQE.var\"#loss#3\"(::Tuple{Pair{Int64, Tuple{String, NamedTuple{(:p,), Tuple{Float64}}}}, Pair{Int64, Tuple{String, NamedTuple{(:p,), Tuple{Float64}}}}}, ::Base.Pairs{Symbol, Int64, Tuple{Symbol}, NamedTuple{(:maxdims,), Tuple{Int64}}}, ::typeof(loss), ::MPO, ::MPO, ::VariationalCircuitRy, ::Vector{Vector{Float64}})]\n",
      "\n",
      "Core.MethodInstance[]\n",
      "\n",
      "Core.MethodInstance[MethodInstance for mVQE.var\"#optimize_and_evolve#5\"(::Nothing, ::LBFGS{Float64, HagerZhangLineSearch{Rational{Int64}}}, ::Base.Pairs{Symbol, Any, Tuple{Symbol, Symbol}, NamedTuple{(:maxdims, :noise), Tuple{Int64, Tuple{Pair{Int64, Tuple{String, NamedTuple{(:p,), Tuple{Float64}}}}, Pair{Int64, Tuple{String, NamedTuple{(:p,), Tuple{Float64}}}}}}}}, ::typeof(optimize_and_evolve), ::MPO, ::MPO, ::VariationalCircuitRy, ::Int64), MethodInstance for mVQE.var\"#optimize_and_evolve#5\"(::Any, ::Any, ::Base.Pairs{Symbol, _A, Tuple{Symbol, Symbol}, NamedTuple{names, T}} where {_A, names, T<:Tuple{Vararg{Any, N}}}, ::typeof(optimize_and_evolve), ::ITensors.AbstractMPS, ::MPO, ::VariationalCircuitRy, ::Int64), MethodInstance for mVQE.var\"#optimize_and_evolve#5\"(::Any, ::Any, ::Base.Pairs{Symbol, _A, Tuple{Symbol, Symbol}, NamedTuple{names, T}} where {_A, names, T<:Tuple{Vararg{Any, N}}}, ::typeof(optimize_and_evolve), ::Vector{MPS}, ::MPO, ::VariationalCircuitRy, ::Int64), MethodInstance for mVQE.var\"#optimize_and_evolve#5\"(::Any, ::Any, ::Base.Pairs{Symbol, _A, Tuple{Symbol, Symbol}, NamedTuple{names, T}} where {_A, names, T<:Tuple{Vararg{Any, N}}}, ::typeof(optimize_and_evolve), ::Vector{MPO}, ::MPO, ::VariationalCircuitRy, ::Int64)]\n",
      "\n",
      "Core.MethodInstance[MethodInstance for mVQE.var\"#optimize_and_evolve#8\"(::Vector{Any}, ::Bool, ::Nothing, ::Base.Pairs{Symbol, Any, Tuple{Symbol, Symbol, Symbol}, NamedTuple{(:optimizer, :maxdims, :noise), Tuple{LBFGS{Float64, HagerZhangLineSearch{Rational{Int64}}}, Int64, Tuple{Pair{Int64, Tuple{String, NamedTuple{(:p,), Tuple{Float64}}}}, Pair{Int64, Tuple{String, NamedTuple{(:p,), Tuple{Float64}}}}}}}}, ::typeof(optimize_and_evolve), ::Int64, ::Vector{Int64}, ::MPO, ::MPO, ::VariationalCircuitRy, ::Int64)]\n",
      "\n",
      "Core.MethodInstance[MethodInstance for mVQE.State_length(::ITensors.AbstractMPS), MethodInstance for mVQE.State_length(::MPO), MethodInstance for mVQE.State_length(::Vector{MPO}), MethodInstance for mVQE.State_length(::Vector{MPS})]\n",
      "\n",
      "Core.MethodInstance[]\n",
      "\n",
      "Core.MethodInstance[MethodInstance for mVQE.include(::String)]\n",
      "\n",
      "Core.MethodInstance[]\n",
      "\n",
      "Core.MethodInstance[MethodInstance for (::mVQE.var\"#loss##kw\")(::NamedTuple{(:maxdims,), Tuple{Int64}}, ::typeof(loss), ::MPO, ::MPO), MethodInstance for (::mVQE.var\"#loss##kw\")(::NamedTuple{(:maxdims, :noise), Tuple{Int64, Tuple{Pair{Int64, Tuple{String, NamedTuple{(:p,), Tuple{Float64}}}}, Pair{Int64, Tuple{String, NamedTuple{(:p,), Tuple{Float64}}}}}}}, ::typeof(loss), ::MPO, ::MPO, ::VariationalCircuitRy, ::Vector{Vector{Float64}})]\n",
      "\n",
      "Core.MethodInstance[]\n",
      "\n",
      "Core.MethodInstance[MethodInstance for (::mVQE.var\"#optimize_and_evolve##kw\")(::NamedTuple{(:θ, :optimizer, :maxdims, :noise), Tuple{Nothing, LBFGS{Float64, HagerZhangLineSearch{Rational{Int64}}}, Int64, Tuple{Pair{Int64, Tuple{String, NamedTuple{(:p,), Tuple{Float64}}}}, Pair{Int64, Tuple{String, NamedTuple{(:p,), Tuple{Float64}}}}}}}, ::typeof(optimize_and_evolve), ::MPO, ::MPO, ::VariationalCircuitRy, ::Int64), MethodInstance for (::mVQE.var\"#optimize_and_evolve##kw\")(::NamedTuple{(:θ, :optimizer, :maxdims, :noise)}, ::typeof(optimize_and_evolve), ::Union{Vector{MPO}, Vector{MPS}, ITensors.AbstractMPS}, ::MPO, ::VariationalCircuitRy, ::Int64), MethodInstance for (::mVQE.var\"#optimize_and_evolve##kw\")(::NamedTuple{(:optimizer, :verbose, :maxdims, :noise), Tuple{LBFGS{Float64, HagerZhangLineSearch{Rational{Int64}}}, Bool, Int64, Tuple{Pair{Int64, Tuple{String, NamedTuple{(:p,), Tuple{Float64}}}}, Pair{Int64, Tuple{String, NamedTuple{(:p,), Tuple{Float64}}}}}}}, ::typeof(optimize_and_evolve), ::Int64, ::Vector{Int64}, ::MPO, ::MPO, ::VariationalCircuitRy, ::Int64)]\n",
      "\n"
     ]
    }
   ],
   "source": [
    "for a in names(mVQE, all=true)\n",
    "    func = eval(quote mVQE.$a end)\n",
    "    if hasproperty(func, :instance)\n",
    "        println(methodinstances(func.instance))\n",
    "        println()\n",
    "    end\n",
    "end"
   ]
  },
  {
   "cell_type": "code",
   "execution_count": 54,
   "metadata": {},
   "outputs": [
    {
     "data": {
      "text/plain": [
       "false"
      ]
     },
     "execution_count": 54,
     "metadata": {},
     "output_type": "execute_result"
    }
   ],
   "source": []
  },
  {
   "cell_type": "code",
   "execution_count": 34,
   "metadata": {},
   "outputs": [
    {
     "data": {
      "text/plain": [
       "5"
      ]
     },
     "execution_count": 34,
     "metadata": {},
     "output_type": "execute_result"
    }
   ],
   "source": [
    "a = :b\n",
    "b = 5\n",
    "eval(quote $a end)"
   ]
  },
  {
   "cell_type": "code",
   "execution_count": null,
   "metadata": {},
   "outputs": [],
   "source": [
    "iter: 1\n",
    "Loss: -6.207897467034955\n",
    "\n",
    "iter: 2\n",
    "Loss: -6.158329628284427"
   ]
  },
  {
   "cell_type": "code",
   "execution_count": 200,
   "metadata": {},
   "outputs": [
    {
     "data": {
      "text/plain": [
       "0.0002462403859401179 + 0.0im"
      ]
     },
     "execution_count": 200,
     "metadata": {},
     "output_type": "execute_result"
    }
   ],
   "source": [
    "inner(Φ, ρ, Φ')"
   ]
  },
  {
   "cell_type": "markdown",
   "metadata": {},
   "source": [
    "# Optimize through the entire loop"
   ]
  },
  {
   "cell_type": "code",
   "execution_count": null,
   "metadata": {},
   "outputs": [],
   "source": [
    "optimizer = LBFGS(; maxiter=100, verbosity=1)\n",
    "\n",
    "ρ = infinite_temp_MPO(hilbert)\n",
    "ρ, = projective_measurement(ρ; indices=ancillas_indices, reset=1)\n",
    "\n",
    "ψ = productstate(hilbert, fill(0, N))\n",
    "ρs = outer(ψ, prime(ψ))\n",
    "\n",
    "depth = 5\n",
    "model = VariationalCircuitRy(N, depth)\n",
    "reset = 1\n",
    "k = 4\n",
    "model = VariationalMeasurement(model, k, ancillas_indices, reset)\n",
    "@time loss_value, θs_error2, ρ2, niter = optimize_and_evolve(ρs, H, model, depth; optimizer, verbose=true, noise);\n",
    "ρ2, = projective_measurement(ρ2; indices=ancillas_indices, reset=1);"
   ]
  },
  {
   "cell_type": "code",
   "execution_count": 202,
   "metadata": {},
   "outputs": [
    {
     "data": {
      "text/plain": [
       "0.0002890192316163327 + 0.0im"
      ]
     },
     "execution_count": 202,
     "metadata": {},
     "output_type": "execute_result"
    }
   ],
   "source": [
    "inner(Φ, ρ2, Φ')"
   ]
  },
  {
   "cell_type": "markdown",
   "metadata": {},
   "source": [
    "# VQE"
   ]
  },
  {
   "cell_type": "code",
   "execution_count": 28,
   "metadata": {},
   "outputs": [
    {
     "name": "stdout",
     "output_type": "stream",
     "text": [
      " 50.640185 seconds (48.41 M allocations: 11.965 GiB, 5.95% gc time)\n",
      "0.974617613731652\n"
     ]
    },
    {
     "name": "stderr",
     "output_type": "stream",
     "text": [
      "┌ Warning: LBFGS: not converged to requested tol: f = -6.307857700209, ‖∇f‖ = 1.1731e-02\n",
      "└ @ OptimKit /home/leinad/.julia/packages/OptimKit/xpmbV/src/lbfgs.jl:141\n"
     ]
    }
   ],
   "source": [
    "ψ = productstate(hilbert_s, fill(0, N_state))\n",
    "ρs_s = outer(ψ, ψ')\n",
    "\n",
    "model = VariationalCircuitRy(N_state, 8)\n",
    "\n",
    "\n",
    "optimizer = LBFGS(; gradtol=1e-8, maxiter=150, verbosity=1)\n",
    "@time loss_value, θs, ρ_s, niter = optimize_and_evolve(ρs_s, H_s, model, depth; optimizer=optimizer, verbose=true, maxdims, noise);\n",
    "println(loss_value/Edmrg)"
   ]
  },
  {
   "cell_type": "code",
   "execution_count": 204,
   "metadata": {},
   "outputs": [
    {
     "data": {
      "text/plain": [
       "-6.251523086913398 + 0.0im"
      ]
     },
     "execution_count": 204,
     "metadata": {},
     "output_type": "execute_result"
    }
   ],
   "source": [
    "inner(ρ_s, H_s)"
   ]
  },
  {
   "cell_type": "code",
   "execution_count": 205,
   "metadata": {},
   "outputs": [
    {
     "data": {
      "text/plain": [
       "0.5202533766943219 + 0.0im"
      ]
     },
     "execution_count": 205,
     "metadata": {},
     "output_type": "execute_result"
    }
   ],
   "source": [
    "inner(Φ_state, ρ_s, Φ_state')"
   ]
  },
  {
   "cell_type": "code",
   "execution_count": null,
   "metadata": {},
   "outputs": [],
   "source": []
  }
 ],
 "metadata": {
  "@webio": {
   "lastCommId": null,
   "lastKernelId": null
  },
  "kernelspec": {
   "display_name": "Julia 1.7.3",
   "language": "julia",
   "name": "julia-1.7"
  },
  "language_info": {
   "file_extension": ".jl",
   "mimetype": "application/julia",
   "name": "julia",
   "version": "1.7.3"
  },
  "toc": {
   "base_numbering": 1,
   "nav_menu": {},
   "number_sections": true,
   "sideBar": true,
   "skip_h1_title": false,
   "title_cell": "Table of Contents",
   "title_sidebar": "Contents",
   "toc_cell": false,
   "toc_position": {},
   "toc_section_display": true,
   "toc_window_display": false
  }
 },
 "nbformat": 4,
 "nbformat_minor": 5
}
