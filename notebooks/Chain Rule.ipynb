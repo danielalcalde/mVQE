{
 "cells": [
  {
   "cell_type": "code",
   "execution_count": 11,
   "metadata": {},
   "outputs": [],
   "source": [
    "using Revise\n",
    "using PastaQ\n",
    "using ITensors\n",
    "using Zygote\n",
    "using Pkg\n",
    "using BenchmarkTools"
   ]
  },
  {
   "cell_type": "code",
   "execution_count": 2,
   "metadata": {},
   "outputs": [],
   "source": [
    "#https://github.com/ITensor/ITensors.jl/blob/d7d6ec897586d48c624356b53054573e0286d396/src/ITensorChainRules/mps/abstractmps.jl"
   ]
  },
  {
   "cell_type": "code",
   "execution_count": 3,
   "metadata": {},
   "outputs": [
    {
     "data": {
      "text/plain": [
       "1-element Vector{Index{Int64}}:\n",
       " (dim=2|id=18|\"Qubit,Site,n=1\")"
      ]
     },
     "execution_count": 3,
     "metadata": {},
     "output_type": "execute_result"
    }
   ],
   "source": [
    "N = 1\n",
    "hilbert = siteinds(\"Qubit\", N)"
   ]
  },
  {
   "cell_type": "code",
   "execution_count": 4,
   "metadata": {},
   "outputs": [
    {
     "data": {
      "text/plain": [
       "MPO\n",
       "[1] ((dim=2|id=18|\"Qubit,Site,n=1\")', (dim=2|id=18|\"Qubit,Site,n=1\"))\n"
      ]
     },
     "execution_count": 4,
     "metadata": {},
     "output_type": "execute_result"
    }
   ],
   "source": [
    "os = OpSum()\n",
    "os += -1, \"Y\", 1\n",
    "\n",
    "H = MPO(os, hilbert)"
   ]
  },
  {
   "cell_type": "code",
   "execution_count": 5,
   "metadata": {},
   "outputs": [
    {
     "data": {
      "text/plain": [
       "MPS\n",
       "[1] ((dim=2|id=18|\"Qubit,Site,n=1\"),)\n"
      ]
     },
     "execution_count": 5,
     "metadata": {},
     "output_type": "execute_result"
    }
   ],
   "source": [
    "ψ = productstate(hilbert, fill(0, N))\n",
    "ρs = ψ"
   ]
  },
  {
   "cell_type": "code",
   "execution_count": 75,
   "metadata": {},
   "outputs": [
    {
     "data": {
      "text/plain": [
       "evolve2 (generic function with 1 method)"
      ]
     },
     "execution_count": 75,
     "metadata": {},
     "output_type": "execute_result"
    }
   ],
   "source": [
    "function evolve(ρs, θ)\n",
    "    gates = ITensor[]\n",
    "    for i in 1:length(θ)\n",
    "        if mod1(i, 2) == 1\n",
    "            g = gate(\"Rx\", siteind(ρs, 1), (θ=θ[i]))\n",
    "        else\n",
    "            g = gate(\"Rx\", siteind(ρs, 1), (θ=θ[i]))\n",
    "        end\n",
    "        gates = vcat(gates, g)\n",
    "    end\n",
    "    ρ = apply(gates, ρs)\n",
    "    return ρ\n",
    "end\n",
    "\n",
    "function evolve2(ρs, θ)\n",
    "    ρ = ρs\n",
    "    for i in 1:length(θ)\n",
    "        if mod1(i, 2) == 1\n",
    "            g = gate(\"Rx\", siteind(ρs, 1), (θ=θ[i]))\n",
    "        else\n",
    "            g = gate(\"Rt\", siteind(ρs, 1), (θ=θ[i]))\n",
    "        end\n",
    "        ρ = apply([g], ρ)\n",
    "    end\n",
    "    \n",
    "    return ρ\n",
    "end"
   ]
  },
  {
   "cell_type": "code",
   "execution_count": 86,
   "metadata": {},
   "outputs": [
    {
     "data": {
      "text/plain": [
       "(0.7218500130938642, 0.7218500130938642)"
      ]
     },
     "execution_count": 86,
     "metadata": {},
     "output_type": "execute_result"
    }
   ],
   "source": [
    "function loss(θ)\n",
    "    Uρ = evolve(ρs, θ)\n",
    "    return real(inner(Uρ', H, Uρ))\n",
    "end\n",
    "\n",
    "function loss2(θ)\n",
    "    Uρ = evolve2(ρs, θ)\n",
    "    return real(inner(Uρ', H, Uρ))\n",
    "end\n",
    "\n",
    "θ = π .* 0:0.1:2\n",
    "loss(θ), loss2(θ)"
   ]
  },
  {
   "cell_type": "code",
   "execution_count": 87,
   "metadata": {},
   "outputs": [
    {
     "name": "stdout",
     "output_type": "stream",
     "text": [
      "  24.145 ms (37236 allocations: 4.23 MiB)\n"
     ]
    },
    {
     "data": {
      "text/plain": [
       "([-0.041860492099317914, -0.6907823519731741, -0.04165136399940923, -0.6778429499535611, -0.07913706994677437, -0.57959594328723, -0.24673205117049352, -0.3165495796314257, -0.551910602575379, -0.025237347917263557  …  -0.15943174804516128, -0.2391941188813998, -0.6445121432980633, 0.012634357962134246, -0.35763083379648253, -0.5899678859473261, 0.06492297680613793, -0.27690636458754325, -0.6291554448207154, 0.013705527055707711],)"
      ]
     },
     "execution_count": 87,
     "metadata": {},
     "output_type": "execute_result"
    }
   ],
   "source": [
    "@btime loss_grad = gradient(loss, θ)"
   ]
  },
  {
   "cell_type": "code",
   "execution_count": 88,
   "metadata": {},
   "outputs": [
    {
     "name": "stdout",
     "output_type": "stream",
     "text": [
      "  25.337 ms (35459 allocations: 4.12 MiB)\n"
     ]
    },
    {
     "data": {
      "text/plain": [
       "([-0.041860492099317914, -0.6907823519731741, -0.04165136399940923, -0.6778429499535611, -0.07913706994677437, -0.57959594328723, -0.24673205117049352, -0.3165495796314257, -0.551910602575379, -0.025237347917263557  …  -0.15943174804516128, -0.2391941188813998, -0.6445121432980633, 0.012634357962134246, -0.35763083379648253, -0.5899678859473261, 0.06492297680613793, -0.27690636458754325, -0.6291554448207154, 0.013705527055707711],)"
      ]
     },
     "execution_count": 88,
     "metadata": {},
     "output_type": "execute_result"
    }
   ],
   "source": [
    "@btime loss_grad = gradient(loss2, θ)"
   ]
  },
  {
   "cell_type": "code",
   "execution_count": null,
   "metadata": {},
   "outputs": [],
   "source": []
  },
  {
   "cell_type": "markdown",
   "metadata": {},
   "source": [
    "## Checking if the derivateive of the rho is correct"
   ]
  },
  {
   "cell_type": "code",
   "execution_count": 11,
   "metadata": {},
   "outputs": [
    {
     "data": {
      "text/plain": [
       "Dim 1: (dim=2|id=826|\"Qubit,Site,n=1\")'\n",
       "Dim 2: (dim=2|id=826|\"Qubit,Site,n=1\")\n",
       "NDTensors.Dense{ComplexF64, Vector{ComplexF64}}\n",
       " 2×2\n",
       " 0.955336489125606 + 0.0im                  …                0.0 - 0.29552020666133955im\n",
       "               0.0 - 0.29552020666133955im     0.955336489125606 + 0.0im"
      ]
     },
     "execution_count": 11,
     "metadata": {},
     "output_type": "execute_result"
    }
   ],
   "source": [
    "g = gate(\"Rx\", siteind(ρs, 1), (θ=θ[1]))\n",
    "g.tensor"
   ]
  },
  {
   "cell_type": "code",
   "execution_count": 16,
   "metadata": {},
   "outputs": [
    {
     "name": "stdout",
     "output_type": "stream",
     "text": [
      "s\n",
      "1.0\n",
      "0.0\n"
     ]
    }
   ],
   "source": [
    "k = 0\n",
    "loss_test = ρs -> apply([g], ρs)\n",
    "loss_test_ = ρs -> apply([g], ρs)[1].tensor[k+1]\n",
    "out, grad = pullback(loss_test, ρs)\n",
    "ρh = productstate(hilbert, fill(k, N))\n",
    "out, = grad(ρh)\n",
    "for i in 1:2\n",
    "    println(out[1].tensor[i])\n",
    "end"
   ]
  },
  {
   "cell_type": "code",
   "execution_count": 13,
   "metadata": {},
   "outputs": [
    {
     "name": "stdout",
     "output_type": "stream",
     "text": [
      "0.9547918011776346 + 0.0im\n",
      "0.0 - 0.2955202066613396im\n"
     ]
    }
   ],
   "source": [
    "for i in 1:2\n",
    "    h = 1e-13\n",
    "    ρh = deepcopy(ρs)\n",
    "    ρh[1].tensor[i] += h\n",
    "    println((loss_test_(ρh) - loss_test_(ρs))/h)\n",
    "end"
   ]
  },
  {
   "cell_type": "code",
   "execution_count": 14,
   "metadata": {},
   "outputs": [
    {
     "data": {
      "text/plain": [
       "0.955336489125606 + 0.0im"
      ]
     },
     "execution_count": 14,
     "metadata": {},
     "output_type": "execute_result"
    }
   ],
   "source": [
    "loss_test_(ρs)"
   ]
  },
  {
   "cell_type": "markdown",
   "metadata": {},
   "source": [
    "## Checking if the derivateive of the gates is correct"
   ]
  },
  {
   "cell_type": "code",
   "execution_count": 42,
   "metadata": {},
   "outputs": [
    {
     "data": {
      "text/plain": [
       "ITensor ord=2 (dim=2|id=231|\"Qubit,Site,n=1\")' (dim=2|id=231|\"Qubit,Site,n=1\")\n",
       "NDTensors.Dense{ComplexF64, Vector{ComplexF64}}"
      ]
     },
     "execution_count": 42,
     "metadata": {},
     "output_type": "execute_result"
    }
   ],
   "source": [
    "g = gate(\"Rx\", siteind(ρs, 1), (θ=θ[1]))"
   ]
  },
  {
   "cell_type": "code",
   "execution_count": 83,
   "metadata": {},
   "outputs": [
    {
     "name": "stdout",
     "output_type": "stream",
     "text": [
      "1.0\n",
      "0.0\n",
      "0.0\n",
      "0.0\n"
     ]
    }
   ],
   "source": [
    "k = 0\n",
    "loss_test = g -> apply([g], ρs)\n",
    "loss_test_ = g -> apply([g], ρs)[1].tensor[k+1]\n",
    "out, grad = pullback(loss_test, g)\n",
    "ρh = productstate(hilbert, fill(k, N))\n",
    "out = grad(ρh)[1].tensor\n",
    "for i in 1:4\n",
    "    println(out[i])\n",
    "end"
   ]
  },
  {
   "cell_type": "code",
   "execution_count": 84,
   "metadata": {},
   "outputs": [
    {
     "name": "stdout",
     "output_type": "stream",
     "text": [
      "1.000310945187266 + 0.0im\n",
      "0.0 + 0.0im\n",
      "0.0 + 0.0im\n",
      "0.0 + 0.0im\n"
     ]
    }
   ],
   "source": [
    "for i in 1:4\n",
    "    h = 1e-13\n",
    "    gh = copy(g)\n",
    "    gh.tensor[i] += h\n",
    "    println((loss_test_(gh) - loss_test_(g))/h)\n",
    "end"
   ]
  },
  {
   "cell_type": "markdown",
   "metadata": {},
   "source": [
    "# Last check"
   ]
  },
  {
   "cell_type": "code",
   "execution_count": 2,
   "metadata": {},
   "outputs": [
    {
     "name": "stdout",
     "output_type": "stream",
     "text": [
      "0.7218500130938642\n",
      "  768.464 μs (4144 allocations: 751.27 KiB)\n",
      "0.7218500130938642\n",
      "  788.731 μs (4143 allocations: 749.66 KiB)\n",
      "  24.068 ms (37236 allocations: 4.23 MiB)\n",
      "  25.891 ms (35459 allocations: 4.12 MiB)\n"
     ]
    },
    {
     "data": {
      "text/plain": [
       "true"
      ]
     },
     "execution_count": 2,
     "metadata": {},
     "output_type": "execute_result"
    }
   ],
   "source": [
    "using PastaQ\n",
    "using ITensors\n",
    "using Zygote\n",
    "using BenchmarkTools\n",
    "\n",
    "N = 1\n",
    "hilbert = siteinds(\"Qubit\", N)\n",
    "\n",
    "os = OpSum()\n",
    "os += -1, \"Y\", 1\n",
    "H = MPO(os, hilbert)\n",
    "\n",
    "ψs = productstate(hilbert, fill(0, N))\n",
    "\n",
    "function evolve(ρs, θ)\n",
    "    gates = ITensor[]\n",
    "    for i in 1:length(θ)\n",
    "        if mod1(i, 2) == 1\n",
    "            g = gate(\"Rx\", siteind(ρs, 1), (θ=θ[i]))\n",
    "        else\n",
    "            g = gate(\"Ry\", siteind(ρs, 1), (θ=θ[i]))\n",
    "        end\n",
    "        gates = vcat(gates, g)\n",
    "    end\n",
    "    ρ = apply(gates, ρs)\n",
    "    return ρ\n",
    "end\n",
    "\n",
    "function evolve2(ρs, θ)\n",
    "    ρ = ρs\n",
    "    for i in 1:length(θ)\n",
    "        if mod1(i, 2) == 1\n",
    "            g = gate(\"Rx\", siteind(ρs, 1), (θ=θ[i]))\n",
    "        else\n",
    "            g = gate(\"Ry\", siteind(ρs, 1), (θ=θ[i]))\n",
    "        end\n",
    "        ρ = apply([g], ρ)\n",
    "    end\n",
    "    \n",
    "    return ρ\n",
    "end\n",
    "\n",
    "function loss(θ)\n",
    "    Uψ = evolve(ψs, θ)\n",
    "    return real(inner(Uψ', H, Uψ))\n",
    "end\n",
    "\n",
    "function loss2(θ)\n",
    "    Uψ = evolve2(ψs, θ)\n",
    "    return real(inner(Uψ', H, Uψ))\n",
    "end\n",
    "\n",
    "θ = π .* 0:0.1:2\n",
    "\n",
    "println(loss(θ))\n",
    "#0.7218500130938642\n",
    "@btime loss(θ)\n",
    "\n",
    "println(loss2(θ))\n",
    "#0.7218500130938642\n",
    "@btime loss2(θ)\n",
    "\n",
    "\n",
    "loss_grad1 = gradient(loss, θ)\n",
    "@btime gradient(loss, θ)\n",
    "#24.040 ms (37236 allocations: 4.23 MiB)\n",
    "\n",
    "loss_grad2 = gradient(loss2, θ)\n",
    "@btime gradient(loss2, θ)\n",
    "#25.280 ms (35459 allocations: 4.12 MiB)\n",
    "\n",
    "loss_grad1 == loss_grad2\n",
    "# true"
   ]
  },
  {
   "cell_type": "code",
   "execution_count": 5,
   "metadata": {},
   "outputs": [
    {
     "ename": "LoadError",
     "evalue": "syntax: invalid identifier name \"?\"",
     "output_type": "error",
     "traceback": [
      "syntax: invalid identifier name \"?\"",
      "",
      "Stacktrace:",
      " [1] top-level scope",
      "   @ In[5]:2",
      " [2] eval",
      "   @ ./boot.jl:373 [inlined]",
      " [3] include_string(mapexpr::typeof(REPL.softscope), mod::Module, code::String, filename::String)",
      "   @ Base ./loading.jl:1196"
     ]
    }
   ],
   "source": [
    "using ThreadPinning\n"
   ]
  },
  {
   "cell_type": "code",
   "execution_count": 8,
   "metadata": {},
   "outputs": [
    {
     "name": "stdout",
     "output_type": "stream",
     "text": [
      "\n",
      "\u001b[0m\u001b[1m| \u001b[22m\u001b[39m0,\u001b[33m\u001b[1m1\u001b[22m\u001b[39m,\u001b[39m2,\u001b[33m\u001b[1m3\u001b[22m\u001b[39m,\u001b[39m4,\u001b[33m\u001b[1m5\u001b[22m\u001b[39m,\u001b[39m6,\u001b[33m\u001b[1m7\u001b[22m\u001b[39m,\u001b[39m8,\u001b[33m\u001b[1m9\u001b[22m\u001b[39m,\u001b[39m10,\u001b[33m\u001b[1m11\u001b[22m\u001b[39m,\u001b[39m12,\u001b[33m\u001b[1m13\u001b[22m\u001b[39m,\u001b[39m14,\u001b[33m\u001b[1m15\u001b[22m\u001b[39m,\n",
      "  \u001b[39m16,\u001b[33m\u001b[1m17\u001b[22m\u001b[39m,\u001b[90m36\u001b[39m,\u001b[95m\u001b[1m37\u001b[22m\u001b[39m,\u001b[90m38\u001b[39m,\u001b[95m\u001b[1m39\u001b[22m\u001b[39m,\u001b[90m40\u001b[39m,\u001b[95m\u001b[1m41\u001b[22m\u001b[39m,\u001b[90m42\u001b[39m,\u001b[95m\u001b[1m43\u001b[22m\u001b[39m,\u001b[90m44\u001b[39m,\u001b[95m\u001b[1m45\u001b[22m\u001b[39m,\u001b[90m46\u001b[39m,\u001b[95m\u001b[1m47\u001b[22m\u001b[39m,\u001b[90m48\u001b[39m,\u001b[95m\u001b[1m49\u001b[22m\u001b[39m,\n",
      "  \u001b[90m50\u001b[39m,\u001b[95m\u001b[1m51\u001b[22m\u001b[39m,\u001b[90m52\u001b[39m,\u001b[95m\u001b[1m53\u001b[22m\u001b[39m\u001b[0m\u001b[1m |\u001b[22m\n",
      "\u001b[0m\u001b[1m| \u001b[22m\u001b[39m18,\u001b[33m\u001b[1m19\u001b[22m\u001b[39m,\u001b[39m20,\u001b[33m\u001b[1m21\u001b[22m\u001b[39m,\u001b[39m22,\u001b[33m\u001b[1m23\u001b[22m\u001b[39m,\u001b[39m24,\u001b[33m\u001b[1m25\u001b[22m\u001b[39m,\u001b[39m26,\u001b[33m\u001b[1m27\u001b[22m\u001b[39m,\u001b[39m28,\u001b[33m\u001b[1m29\u001b[22m\u001b[39m,\u001b[39m30,\u001b[33m\u001b[1m31\u001b[22m\u001b[39m,\u001b[39m32,\u001b[33m\u001b[1m33\u001b[22m\u001b[39m,\n",
      "  \u001b[39m34,\u001b[33m\u001b[1m35\u001b[22m\u001b[39m,\u001b[90m54\u001b[39m,\u001b[95m\u001b[1m55\u001b[22m\u001b[39m,\u001b[90m56\u001b[39m,\u001b[95m\u001b[1m57\u001b[22m\u001b[39m,\u001b[90m58\u001b[39m,\u001b[95m\u001b[1m59\u001b[22m\u001b[39m,\u001b[90m60\u001b[39m,\u001b[95m\u001b[1m61\u001b[22m\u001b[39m,\u001b[90m62\u001b[39m,\u001b[95m\u001b[1m63\u001b[22m\u001b[39m,\u001b[90m64\u001b[39m,\u001b[95m\u001b[1m65\u001b[22m\u001b[39m,\u001b[90m66\u001b[39m,\u001b[95m\u001b[1m67\u001b[22m\u001b[39m,\n",
      "  \u001b[90m68\u001b[39m,\u001b[95m\u001b[1m69\u001b[22m\u001b[39m,\u001b[90m70\u001b[39m,\u001b[95m\u001b[1m71\u001b[22m\u001b[39m\u001b[0m\u001b[1m |\u001b[22m\n",
      "\n",
      "\u001b[33m\u001b[1m#\u001b[22m\u001b[39m = Julia thread, \u001b[90m#\u001b[39m = HT, \u001b[95m\u001b[1m#\u001b[22m\u001b[39m = Julia thread on HT, \u001b[0m\u001b[1m|\u001b[22m = Socket seperator\n",
      "\n",
      "Julia threads: \u001b[32m36\u001b[39m\n",
      "├ Occupied CPU-threads: \u001b[32m36\u001b[39m\n",
      "└ Mapping (Thread => CPUID): 1 => 1, 2 => 3, 3 => 5, 4 => 7, 5 => 9, ...\n",
      "\n"
     ]
    }
   ],
   "source": [
    "pinthreads(1:2:72)\n",
    "threadinfo()"
   ]
  },
  {
   "cell_type": "code",
   "execution_count": 97,
   "metadata": {},
   "outputs": [
    {
     "ename": "LoadError",
     "evalue": "UndefVarError: loss_grad1 not defined",
     "output_type": "error",
     "traceback": [
      "UndefVarError: loss_grad1 not defined",
      "",
      "Stacktrace:",
      " [1] top-level scope",
      "   @ In[97]:1",
      " [2] eval",
      "   @ ./boot.jl:373 [inlined]",
      " [3] include_string(mapexpr::typeof(REPL.softscope), mod::Module, code::String, filename::String)",
      "   @ Base ./loading.jl:1196"
     ]
    }
   ],
   "source": [
    "loss_grad1 == loss_grad2"
   ]
  },
  {
   "cell_type": "code",
   "execution_count": 39,
   "metadata": {},
   "outputs": [
    {
     "data": {
      "text/plain": [
       "0.5402900349338324"
      ]
     },
     "execution_count": 39,
     "metadata": {},
     "output_type": "execute_result"
    }
   ],
   "source": [
    "h = 1e-11\n",
    "θh = copy(θ)\n",
    "θh[2] += h\n",
    "(loss2(θh) - loss2(θ))/h"
   ]
  },
  {
   "cell_type": "code",
   "execution_count": 5,
   "metadata": {},
   "outputs": [
    {
     "name": "stdout",
     "output_type": "stream",
     "text": [
      "Julia Version 1.7.3\n",
      "Commit 742b9abb4d (2022-05-06 12:58 UTC)\n",
      "Platform Info:\n",
      "  OS: Linux (x86_64-pc-linux-gnu)\n",
      "  CPU: Intel(R) Xeon(R) Gold 6240 CPU @ 2.60GHz\n",
      "  WORD_SIZE: 64\n",
      "  LIBM: libopenlibm\n",
      "  LLVM: libLLVM-12.0.1 (ORCJIT, cascadelake)\n"
     ]
    }
   ],
   "source": [
    "versioninfo()"
   ]
  }
 ],
 "metadata": {
  "@webio": {
   "lastCommId": null,
   "lastKernelId": null
  },
  "kernelspec": {
   "display_name": "My Julia",
   "language": "julia",
   "name": "julia-1.7"
  },
  "language_info": {
   "file_extension": ".jl",
   "mimetype": "application/julia",
   "name": "julia",
   "version": "1.7.3"
  }
 },
 "nbformat": 4,
 "nbformat_minor": 4
}
