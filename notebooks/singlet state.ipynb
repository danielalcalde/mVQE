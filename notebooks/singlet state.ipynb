{
 "cells": [
  {
   "cell_type": "code",
   "execution_count": 1,
   "metadata": {},
   "outputs": [],
   "source": [
    "using Revise\n",
    "using PastaQ\n",
    "using ITensors\n",
    "using Random\n",
    "using Printf\n",
    "using OptimKit\n",
    "using Zygote\n",
    "using Zygote: ChainRulesCore\n",
    "using BenchmarkTools\n",
    "\n",
    "import mVQE\n",
    "using mVQE.ITensorsExtension: projective_measurement\n",
    "using mVQE.StateFactory: random_MPS, infinite_temp_MPO\n",
    "using mVQE.Layers: Rylayer, CXlayer, Rxlayer\n",
    "using mVQE.Circuits: runcircuit, VariationalCircuitRy, VariationalMeasurement, initialize_circuit, generate_circuit\n",
    "using mVQE: loss, optimize_and_evolve"
   ]
  },
  {
   "cell_type": "code",
   "execution_count": 2,
   "metadata": {},
   "outputs": [
    {
     "data": {
      "text/plain": [
       "hamiltonian (generic function with 1 method)"
      ]
     },
     "execution_count": 2,
     "metadata": {},
     "output_type": "execute_result"
    }
   ],
   "source": [
    "function hamiltonian(N, h)\n",
    "    os = OpSum()\n",
    "  \n",
    "    os += -J, \"Z\", 1, \"Z\", N\n",
    "    os += -J, \"X\", 1, \"X\", N\n",
    "    \n",
    "    os += -h, \"Z\", 2\n",
    "    \n",
    "    return os\n",
    "end"
   ]
  },
  {
   "cell_type": "code",
   "execution_count": 3,
   "metadata": {},
   "outputs": [],
   "source": [
    "ancillas = 1\n",
    "ancillas_indices = [2]\n",
    "N = 2 + ancillas   # number of qubits\n",
    "J = 1.0  # Ising exchange interaction\n",
    "h = 1.  # transverse magnetic field\n",
    "\n",
    "# Hilbert space\n",
    "hilbert = qubits(N)\n",
    "\n",
    "# build MPO \"cost function\"\n",
    "H = MPO(hamiltonian(N, 0.1), hilbert);\n",
    "H2 = MPO(hamiltonian(N, 0.), hilbert);"
   ]
  },
  {
   "cell_type": "code",
   "execution_count": 4,
   "metadata": {},
   "outputs": [],
   "source": [
    "# # find ground state with DMRG\n",
    "\n",
    "# nsweeps = 10\n",
    "# maxdims = [10, 20, 30, 50, 100]\n",
    "# cutoff_ = 1e-10\n",
    "\n",
    "# start_mps = randomMPS(hilbert, linkdims=10)\n",
    "# Edmrg, Φ = dmrg(H, start_mps; outputlevel=0, nsweeps, maxdims, cutoff_);\n",
    "# @printf(\"\\nGround state energy from DMRG: %.10f\\n\\n\", Edmrg)"
   ]
  },
  {
   "cell_type": "code",
   "execution_count": 5,
   "metadata": {},
   "outputs": [],
   "source": [
    "# contract(Φ.data).tensor[:, 1, :]"
   ]
  },
  {
   "cell_type": "markdown",
   "metadata": {},
   "source": [
    "## Variational ansatz"
   ]
  },
  {
   "cell_type": "code",
   "execution_count": 6,
   "metadata": {},
   "outputs": [
    {
     "data": {
      "text/plain": [
       "LBFGS{Float64, HagerZhangLineSearch{Rational{Int64}}}(8, 50, 1.0e-8, true, HagerZhangLineSearch{Rational{Int64}}(1//10, 9//10, 1//1000000, 1//2, 2//3, 5//1, 9223372036854775807, -1), 1)"
      ]
     },
     "execution_count": 6,
     "metadata": {},
     "output_type": "execute_result"
    }
   ],
   "source": [
    "depth = 5\n",
    "\n",
    "cutoffs = 1e-8\n",
    "maxdims = 50\n",
    "\n",
    "Random.seed!(1234)\n",
    "\n",
    "# run VQE using BFGS optimization\n",
    "optimizer = LBFGS(; maxiter=50, verbosity=1)"
   ]
  },
  {
   "cell_type": "markdown",
   "metadata": {
    "heading_collapsed": true
   },
   "source": [
    "# Pure States"
   ]
  },
  {
   "cell_type": "code",
   "execution_count": 7,
   "metadata": {
    "hidden": true
   },
   "outputs": [
    {
     "ename": "LoadError",
     "evalue": "UndefVarError: variationalcircuit not defined",
     "output_type": "error",
     "traceback": [
      "UndefVarError: variationalcircuit not defined",
      "",
      "Stacktrace:",
      " [1] top-level scope",
      "   @ In[7]:4",
      " [2] eval",
      "   @ ./boot.jl:373 [inlined]",
      " [3] include_string(mapexpr::typeof(REPL.softscope), mod::Module, code::String, filename::String)",
      "   @ Base ./loading.jl:1196"
     ]
    }
   ],
   "source": [
    "ψs, states = random_MPS(hilbert, 2; ancilla_indices=2)\n",
    "ψs = [randomMPS(hilbert, linkdims=10) for _ in 1:10]\n",
    "\n",
    "loss_value, θs, ψs_n, niter = optimize_and_evolve(3, [2], ψs, H, variationalcircuit, depth; optimizer=optimizer, verbose=true);"
   ]
  },
  {
   "cell_type": "code",
   "execution_count": 45,
   "metadata": {
    "hidden": true
   },
   "outputs": [
    {
     "data": {
      "text/plain": [
       "MPS\n",
       "[1] ((dim=2|id=581|\"Qubit,Site,n=1\"), (dim=4|id=54|\"Link,l=1\"))\n",
       "[2] ((dim=4|id=54|\"Link,l=1\"), (dim=2|id=766|\"Qubit,Site,n=2\"), (dim=2|id=525|\"Link,l=2\"))\n",
       "[3] ((dim=2|id=525|\"Link,l=2\"), (dim=2|id=422|\"Qubit,Site,n=3\"))\n"
      ]
     },
     "execution_count": 45,
     "metadata": {},
     "output_type": "execute_result"
    }
   ],
   "source": [
    "ψ_init = randomMPS(hilbert, linkdims=10)"
   ]
  },
  {
   "cell_type": "code",
   "execution_count": 194,
   "metadata": {
    "hidden": true
   },
   "outputs": [
    {
     "name": "stdout",
     "output_type": "stream",
     "text": [
      "0.14654935978031258\n",
      "-1.0937576757009784\n",
      "-2.0000000000000004\n"
     ]
    }
   ],
   "source": [
    "ψ = ψ_init\n",
    "for i in 1:3\n",
    "    circuit = variationalcircuit(N, depth, θs[i])\n",
    "    #runcircuit(ψ, circuit; noise=noisemodel)\n",
    "    ψ = runcircuit(ψ, circuit)\n",
    "    println(loss(ψ, H2))\n",
    "    ψ, m = projective_measurement(ψ, indices=[2], reset=1)\n",
    "    \n",
    "end"
   ]
  },
  {
   "cell_type": "code",
   "execution_count": 179,
   "metadata": {
    "hidden": true
   },
   "outputs": [
    {
     "name": "stdout",
     "output_type": "stream",
     "text": [
      "0.14654935978031308\n",
      "-1.2098042695580364\n",
      "-1.9999999999999947\n"
     ]
    }
   ],
   "source": [
    "noisemodel = (1 => (\"depolarizing\", (p = 0.,)), \n",
    "              2 => (\"depolarizing\", (p = 0.,)))\n",
    "ρ = ψ_init\n",
    "for i in 1:3\n",
    "    circuit = variationalcircuit(N, depth, θs[i])\n",
    "    ρ = runcircuit(ρ, circuit; noise=noisemodel)\n",
    "    ρ, = projective_measurement(ρ, indices=[2], reset=1)\n",
    "    println(loss(ρ, H2))\n",
    "end"
   ]
  },
  {
   "cell_type": "markdown",
   "metadata": {},
   "source": [
    "## Pure state with ADAM Optimizer"
   ]
  },
  {
   "cell_type": "code",
   "execution_count": 14,
   "metadata": {},
   "outputs": [
    {
     "data": {
      "text/plain": [
       "Grads(...)"
      ]
     },
     "execution_count": 14,
     "metadata": {},
     "output_type": "execute_result"
    }
   ],
   "source": [
    "using Flux\n",
    "using Flux: update!\n",
    "\n",
    "W = rand(2, 5)\n",
    "b = rand(2)\n",
    "\n",
    "predict(x) = (W * x) .+ b\n",
    "loss_(x, y) = sum((predict(x) .- y).^2)\n",
    "\n",
    "x, y = rand(5), rand(2) # Dummy data\n",
    "l = loss_(x, y) # ~ 3\n",
    "\n",
    "θ = Flux.params(W, b)\n",
    "grads = gradient(() -> loss_(x, y), θ)"
   ]
  },
  {
   "cell_type": "code",
   "execution_count": 15,
   "metadata": {},
   "outputs": [],
   "source": [
    "loss, pullback = Zygote.pullback(ps) do\n",
    "    preds = discriminator(all_data)\n",
    "    loss = Flux.Losses.binarycrossentropy(preds, all_target)\n",
    "end"
   ]
  },
  {
   "cell_type": "code",
   "execution_count": 17,
   "metadata": {},
   "outputs": [
    {
     "ename": "LoadError",
     "evalue": "UndefVarError: p not defined",
     "output_type": "error",
     "traceback": [
      "UndefVarError: p not defined",
      "",
      "Stacktrace:",
      " [1] top-level scope",
      "   @ In[17]:1",
      " [2] eval",
      "   @ ./boot.jl:373 [inlined]",
      " [3] include_string(mapexpr::typeof(REPL.softscope), mod::Module, code::String, filename::String)",
      "   @ Base ./loading.jl:1196"
     ]
    }
   ],
   "source": [
    "grads[p]"
   ]
  },
  {
   "cell_type": "code",
   "execution_count": 18,
   "metadata": {},
   "outputs": [
    {
     "name": "stdout",
     "output_type": "stream",
     "text": [
      "[0.78503577423136 0.04337504802829825 -0.1446791993932456 -0.22970440152262145 0.874378559337465; 0.6463273485542164 0.37433591118485243 0.1517483714635025 0.07005621813601606 0.08632429511679768]\n",
      "[0.09743861100875478, 0.10611696109022106]\n"
     ]
    }
   ],
   "source": [
    "opt = Descent(0.1) # Gradient descent with learning rate 0.1\n",
    "\n",
    "for p in (W, b)\n",
    "  update!(opt, p, grads[p])\n",
    "    println(p)\n",
    "end"
   ]
  },
  {
   "cell_type": "markdown",
   "metadata": {
    "heading_collapsed": true
   },
   "source": [
    "# Mixed States"
   ]
  },
  {
   "cell_type": "code",
   "execution_count": 5,
   "metadata": {
    "hidden": true
   },
   "outputs": [
    {
     "data": {
      "text/plain": [
       "VariationalCircuitRy(N=3, depth=5)"
      ]
     },
     "execution_count": 5,
     "metadata": {},
     "output_type": "execute_result"
    }
   ],
   "source": [
    "model = VariationalCircuitRy(N, depth)\n",
    "model"
   ]
  },
  {
   "cell_type": "code",
   "execution_count": 6,
   "metadata": {
    "hidden": true
   },
   "outputs": [
    {
     "name": "stdout",
     "output_type": "stream",
     "text": [
      "iter: 1\n",
      "Loss: -1.0000000000000004\n",
      "\n"
     ]
    },
    {
     "name": "stderr",
     "output_type": "stream",
     "text": [
      "┌ Info: LBFGS: converged after 16 iterations: f = -1.000000000000, ‖∇f‖ = 6.9690e-09\n",
      "└ @ OptimKit /home/leinad/.julia/packages/OptimKit/xpmbV/src/lbfgs.jl:138\n"
     ]
    },
    {
     "name": "stdout",
     "output_type": "stream",
     "text": [
      "iter: 2\n",
      "Loss: -2.0000000000000018\n",
      "\n"
     ]
    },
    {
     "name": "stderr",
     "output_type": "stream",
     "text": [
      "┌ Info: LBFGS: converged after 19 iterations: f = -2.000000000000, ‖∇f‖ = 9.5182e-09\n",
      "└ @ OptimKit /home/leinad/.julia/packages/OptimKit/xpmbV/src/lbfgs.jl:138\n"
     ]
    },
    {
     "name": "stdout",
     "output_type": "stream",
     "text": [
      "iter: 3\n",
      "Loss: -2.1000000000000028\n",
      "\n"
     ]
    },
    {
     "name": "stderr",
     "output_type": "stream",
     "text": [
      "┌ Info: LBFGS: converged after 22 iterations: f = -2.100000000000, ‖∇f‖ = 2.8220e-09\n",
      "└ @ OptimKit /home/leinad/.julia/packages/OptimKit/xpmbV/src/lbfgs.jl:138\n"
     ]
    }
   ],
   "source": [
    "ρ = infinite_temp_MPO(hilbert)\n",
    "depth = 5\n",
    "k = 3\n",
    "loss_value, θs, ψs_n, niter = optimize_and_evolve(k, [2], ρ, H, model, depth; optimizer=optimizer, verbose=true);"
   ]
  },
  {
   "cell_type": "code",
   "execution_count": 61,
   "metadata": {
    "hidden": true
   },
   "outputs": [],
   "source": [
    "ψ_init = [MPO(randomMPS(hilbert, linkdims=10)) for i in 1:1000];\n",
    "ψ_init, = projective_measurement(ψ_init, indices=[2], reset=1);"
   ]
  },
  {
   "cell_type": "code",
   "execution_count": 62,
   "metadata": {
    "hidden": true
   },
   "outputs": [
    {
     "name": "stdout",
     "output_type": "stream",
     "text": [
      "-0.9939841063631942\n",
      "-1.492355160705006\n",
      "-1.9999999999995435\n"
     ]
    }
   ],
   "source": [
    "ψ = ψ_init\n",
    "for i in 1:k\n",
    "    circuit = variationalcircuit(N, depth, θs[i])\n",
    "    #runcircuit(ψ, circuit; noise=noisemodel)\n",
    "    ψ = runcircuit(ψ, circuit)\n",
    "    println(loss(ψ, H2))\n",
    "    ψ, = projective_measurement(ψ, indices=[2], reset=1)\n",
    "end"
   ]
  },
  {
   "cell_type": "code",
   "execution_count": null,
   "metadata": {
    "hidden": true
   },
   "outputs": [],
   "source": [
    "ψ = ψ_init\n",
    "for i in 1:k\n",
    "    circuit = variationalcircuit(N, depth, θs[i])\n",
    "    #runcircuit(ψ, circuit; noise=noisemodel)\n",
    "    ψ = runcircuit(ψ, circuit)\n",
    "    println(loss(ψ, H2))\n",
    "    ψ, = projective_measurement(ψ, indices=[2], reset=1)\n",
    "end"
   ]
  },
  {
   "cell_type": "code",
   "execution_count": 7,
   "metadata": {
    "hidden": true
   },
   "outputs": [
    {
     "data": {
      "text/plain": [
       "MeasurementVariationalCircuitRy(3, 5, 3, [2])"
      ]
     },
     "execution_count": 7,
     "metadata": {},
     "output_type": "execute_result"
    }
   ],
   "source": [
    "m_model = MeasurementVariationalCircuitRy(N, depth, k, [2])"
   ]
  },
  {
   "cell_type": "code",
   "execution_count": 8,
   "metadata": {
    "hidden": true
   },
   "outputs": [
    {
     "name": "stdout",
     "output_type": "stream",
     "text": [
      "-2.000000000000003\n"
     ]
    }
   ],
   "source": [
    "circuit = generate_circuit(m_model, θs)\n",
    "ρ = infinite_temp_MPO(hilbert)\n",
    "ρ, = projective_measurement(ρ; indices=[2], reset=1)\n",
    "\n",
    "ρ = runcircuit(ρ, circuit)\n",
    "println(loss(ρ, H2))"
   ]
  },
  {
   "cell_type": "markdown",
   "metadata": {
    "hidden": true
   },
   "source": [
    "with errors"
   ]
  },
  {
   "cell_type": "code",
   "execution_count": 14,
   "metadata": {
    "hidden": true
   },
   "outputs": [
    {
     "name": "stdout",
     "output_type": "stream",
     "text": [
      "-0.6559344583190393\n",
      "-0.8680891669358506\n",
      "-0.9620536312358301\n"
     ]
    }
   ],
   "source": [
    "noise = (1 => (\"depolarizing\", (p = 0.01,)), \n",
    "         2 => (\"depolarizing\", (p = 0.05,)))\n",
    "\n",
    "ρ = infinite_temp_MPO(hilbert)\n",
    "ρ, = projective_measurement(ρ, indices=[2], reset=1)\n",
    "\n",
    "model = VariationalCircuitRy(N, depth)\n",
    "\n",
    "for i in 1:k\n",
    "    circuit = generate_circuit(model, θs[mod1(i, k)])\n",
    "    ρ = runcircuit(ρ, circuit; noise)\n",
    "    println(loss(ρ, H2))\n",
    "    \n",
    "    ρ, = projective_measurement(ρ, indices=[2], reset=1)\n",
    "end"
   ]
  },
  {
   "cell_type": "code",
   "execution_count": 16,
   "metadata": {
    "hidden": true
   },
   "outputs": [
    {
     "name": "stdout",
     "output_type": "stream",
     "text": [
      "-0.9620536312358299\n"
     ]
    }
   ],
   "source": [
    "circuit = generate_circuit(m_model, θs)\n",
    "ρ = infinite_temp_MPO(hilbert)\n",
    "ρ, = projective_measurement(ρ; indices=[2], reset=1)\n",
    "\n",
    "ρ = runcircuit(ρ, circuit; noise)\n",
    "println(loss(ρ, H2))"
   ]
  },
  {
   "cell_type": "markdown",
   "metadata": {
    "heading_collapsed": true
   },
   "source": [
    "# With errors"
   ]
  },
  {
   "cell_type": "code",
   "execution_count": 21,
   "metadata": {
    "hidden": true
   },
   "outputs": [
    {
     "data": {
      "text/plain": [
       "LBFGS{Float64, HagerZhangLineSearch{Rational{Int64}}}(8, 100, 1.0e-8, true, HagerZhangLineSearch{Rational{Int64}}(1//10, 9//10, 1//1000000, 1//2, 2//3, 5//1, 9223372036854775807, -1), 1)"
      ]
     },
     "execution_count": 21,
     "metadata": {},
     "output_type": "execute_result"
    }
   ],
   "source": [
    "optimizer = LBFGS(; maxiter=100, verbosity=1)"
   ]
  },
  {
   "cell_type": "code",
   "execution_count": 280,
   "metadata": {
    "hidden": true
   },
   "outputs": [
    {
     "name": "stdout",
     "output_type": "stream",
     "text": [
      "iter: 1\n",
      "Loss: -0.8176891388457767\n",
      "\n"
     ]
    },
    {
     "name": "stderr",
     "output_type": "stream",
     "text": [
      "┌ Info: LBFGS: converged after 53 iterations: f = -0.817689138846, ‖∇f‖ = 7.5900e-09\n",
      "└ @ OptimKit /home/leinad/.julia/packages/OptimKit/xpmbV/src/lbfgs.jl:138\n"
     ]
    },
    {
     "name": "stdout",
     "output_type": "stream",
     "text": [
      "iter: 2\n",
      "Loss: -1.477389996423896\n",
      "\n"
     ]
    },
    {
     "name": "stderr",
     "output_type": "stream",
     "text": [
      "┌ Warning: LBFGS: not converged to requested tol: f = -1.477389996424, ‖∇f‖ = 6.9892e-07\n",
      "└ @ OptimKit /home/leinad/.julia/packages/OptimKit/xpmbV/src/lbfgs.jl:141\n"
     ]
    },
    {
     "name": "stdout",
     "output_type": "stream",
     "text": [
      "iter: 3\n",
      "Loss: -1.5345133093909427\n",
      "\n"
     ]
    },
    {
     "name": "stderr",
     "output_type": "stream",
     "text": [
      "┌ Info: LBFGS: converged after 96 iterations: f = -1.534513309391, ‖∇f‖ = 8.5252e-09\n",
      "└ @ OptimKit /home/leinad/.julia/packages/OptimKit/xpmbV/src/lbfgs.jl:138\n"
     ]
    },
    {
     "name": "stdout",
     "output_type": "stream",
     "text": [
      "iter: 4\n",
      "Loss: -1.5333550231146056\n",
      "\n"
     ]
    },
    {
     "name": "stderr",
     "output_type": "stream",
     "text": [
      "┌ Info: LBFGS: converged after 82 iterations: f = -1.533355023115, ‖∇f‖ = 3.7717e-09\n",
      "└ @ OptimKit /home/leinad/.julia/packages/OptimKit/xpmbV/src/lbfgs.jl:138\n"
     ]
    }
   ],
   "source": [
    "noise = (1 => (\"depolarizing\", (p = 0.01,)), \n",
    "         2 => (\"depolarizing\", (p = 0.0,)))\n",
    "\n",
    "\n",
    "ρ = infinite_temp_MPO(hilbert)\n",
    "ρ, = projective_measurement(ρ; indices=[2], reset=1);\n",
    "model = VariationalCircuitRy(N, depth)\n",
    "oss_value, θs_error, ρ, niter = optimize_and_evolve(k, [2], ρ, H, model, depth; optimizer=optimizer, verbose=true, noise);"
   ]
  },
  {
   "cell_type": "code",
   "execution_count": 27,
   "metadata": {
    "hidden": true
   },
   "outputs": [
    {
     "name": "stdout",
     "output_type": "stream",
     "text": [
      "-0.6559344583190392\n",
      "-0.6559344583190422\n",
      "-1.0804460443562742\n"
     ]
    }
   ],
   "source": [
    "noise = (1 => (\"depolarizing\", (p = 0.01,)), \n",
    "         2 => (\"depolarizing\", (p = 0.01,)))\n",
    "\n",
    "ψ = infinite_temp_MPO(hilbert)\n",
    "ψ, = projective_measurement(ψ, indices=[2], reset=1)\n",
    "\n",
    "for i in 1:k\n",
    "    circuit = generate_circuit(model, θs_error[mod1(i, k)])\n",
    "    ψ = runcircuit(ψ, circuit; noise)\n",
    "    println(loss(ψ, H2))\n",
    "    \n",
    "    ψ, = projective_measurement(ψ, indices=[2], reset=1)\n",
    "end"
   ]
  },
  {
   "cell_type": "code",
   "execution_count": 25,
   "metadata": {
    "hidden": true
   },
   "outputs": [
    {
     "name": "stdout",
     "output_type": "stream",
     "text": [
      "-1.0804460443562744\n"
     ]
    }
   ],
   "source": [
    "circuit = generate_circuit(m_model, θs_error)\n",
    "ρ = infinite_temp_MPO(hilbert)\n",
    "ρ, = projective_measurement(ρ; indices=[2], reset=1)\n",
    "\n",
    "ρ = runcircuit(ρ, circuit; noise)\n",
    "println(loss(ρ, H2))"
   ]
  },
  {
   "cell_type": "markdown",
   "metadata": {
    "heading_collapsed": true
   },
   "source": [
    "# Optimize through the entire loop"
   ]
  },
  {
   "cell_type": "markdown",
   "metadata": {
    "heading_collapsed": true,
    "hidden": true
   },
   "source": [
    "## Test gradeints"
   ]
  },
  {
   "cell_type": "code",
   "execution_count": 7,
   "metadata": {
    "hidden": true
   },
   "outputs": [],
   "source": [
    "ρ = infinite_temp_MPO(hilbert)\n",
    "ρ, = projective_measurement(ρ; indices=[2], reset=1);\n",
    "noise = (1 => (\"depolarizing\", (p = 0.01,)), \n",
    "         2 => (\"depolarizing\", (p = 0.05,)));"
   ]
  },
  {
   "cell_type": "code",
   "execution_count": 8,
   "metadata": {
    "hidden": true
   },
   "outputs": [
    {
     "data": {
      "text/plain": [
       "VariationalCircuitRy(N=3, depth=5)"
      ]
     },
     "execution_count": 8,
     "metadata": {},
     "output_type": "execute_result"
    }
   ],
   "source": [
    "model_m = MeasurementVariationalCircuitRy(N, depth, 1, [2])\n",
    "model = VariationalCircuitRy(N, depth)"
   ]
  },
  {
   "cell_type": "code",
   "execution_count": 7,
   "metadata": {
    "hidden": true
   },
   "outputs": [
    {
     "data": {
      "text/plain": [
       "5-element Vector{Vector{Float64}}:\n",
       " [2.048172193278203, 3.449790032588226, 1.3734204579032128]\n",
       " [5.618709735484967, 2.218665895883152, 2.477179531823963]\n",
       " [5.988658654067139, 4.998568891921718, 3.105463501721357]\n",
       " [4.702430269195866, 3.633138470776425, 4.573750504288762]\n",
       " [0.04679720270180084, 1.2527202123030283, 2.7598459521276157]"
      ]
     },
     "execution_count": 7,
     "metadata": {},
     "output_type": "execute_result"
    }
   ],
   "source": [
    "θ = mVQE.initialize_circuit(model)"
   ]
  },
  {
   "cell_type": "code",
   "execution_count": 8,
   "metadata": {
    "hidden": true
   },
   "outputs": [
    {
     "ename": "LoadError",
     "evalue": "MethodError: no method matching loss(::Nothing, ::MPO)\n\u001b[0mClosest candidates are:\n\u001b[0m  loss(\u001b[91m::Union{Vector{MPO}, Vector{MPS}}\u001b[39m, ::MPO; kwargs...) at ~/workprojects/mVQE/mVQE/src/mVQE.jl:155\n\u001b[0m  loss(\u001b[91m::MPS\u001b[39m, ::MPO; kwargs...) at ~/workprojects/mVQE/mVQE/src/mVQE.jl:142\n\u001b[0m  loss(\u001b[91m::MPO\u001b[39m, ::MPO; kwargs...) at ~/workprojects/mVQE/mVQE/src/mVQE.jl:146\n\u001b[0m  ...",
     "output_type": "error",
     "traceback": [
      "MethodError: no method matching loss(::Nothing, ::MPO)\n\u001b[0mClosest candidates are:\n\u001b[0m  loss(\u001b[91m::Union{Vector{MPO}, Vector{MPS}}\u001b[39m, ::MPO; kwargs...) at ~/workprojects/mVQE/mVQE/src/mVQE.jl:155\n\u001b[0m  loss(\u001b[91m::MPS\u001b[39m, ::MPO; kwargs...) at ~/workprojects/mVQE/mVQE/src/mVQE.jl:142\n\u001b[0m  loss(\u001b[91m::MPO\u001b[39m, ::MPO; kwargs...) at ~/workprojects/mVQE/mVQE/src/mVQE.jl:146\n\u001b[0m  ...",
      "",
      "Stacktrace:",
      " [1] loss(ψ::MPO, H::MPO, model::VariationalCircuitRy, θ::Vector{Vector{Float64}}; noise::Tuple{Pair{Int64, Tuple{String, NamedTuple{(:p,), Tuple{Float64}}}}, Pair{Int64, Tuple{String, NamedTuple{(:p,), Tuple{Float64}}}}}, kwargs::Base.Pairs{Symbol, Union{}, Tuple{}, NamedTuple{(), Tuple{}}})",
      "   @ mVQE ~/workprojects/mVQE/mVQE/src/mVQE.jl:152",
      " [2] top-level scope",
      "   @ In[8]:1",
      " [3] eval",
      "   @ ./boot.jl:373 [inlined]",
      " [4] include_string(mapexpr::typeof(REPL.softscope), mod::Module, code::String, filename::String)",
      "   @ Base ./loading.jl:1196"
     ]
    }
   ],
   "source": [
    "loss(ρ, H2, model, θ; noise), loss(ρ, H2, model_m, [θ]; noise)"
   ]
  },
  {
   "cell_type": "code",
   "execution_count": 9,
   "metadata": {
    "hidden": true
   },
   "outputs": [
    {
     "data": {
      "text/plain": [
       "(0.07378024887946513, [[-0.04163530941548421, 0.1908551329712285, -8.829742492721948e-16], [-0.041635309415484476, 0.07291006857904545, 0.06596025862809346], [0.04682389084370242, 0.040674767093854924, 0.06596025862809415], [0.046823890843702476, -0.030264804143833174, 0.024571521869207313], [-0.024571521869207365, -6.938893903907228e-18, 0.02457152186920737]])"
      ]
     },
     "execution_count": 9,
     "metadata": {},
     "output_type": "execute_result"
    }
   ],
   "source": [
    "loss_(θ) =  loss(ρ, H2, model, θ; noise)\n",
    "\n",
    "function loss_and_grad(θ)\n",
    "    y, (∇,) = withgradient(loss_, θ)\n",
    "    return y, ∇\n",
    "end\n",
    "\n",
    "N = length(ρ)\n",
    "\n",
    "grad1 = loss_and_grad(θ)"
   ]
  },
  {
   "cell_type": "code",
   "execution_count": 159,
   "metadata": {
    "hidden": true
   },
   "outputs": [
    {
     "data": {
      "text/plain": [
       "(0.24529037630806977, [[0.027159865458527388, 0.09721514535114369, 0.012100779192252747], [0.027159865458527055, -0.05959521716597113, 0.19939521165272742], [-0.22309145248859374, -0.39579782851518686, 0.19939521165272756], [-0.22309145248859313, 0.16398905839855255, 0.2504279649959604], [-0.2504279649959583, 5.273559366969494e-16, 0.2504279649959584]])"
      ]
     },
     "execution_count": 159,
     "metadata": {},
     "output_type": "execute_result"
    }
   ],
   "source": [
    "loss_(θ) =  loss(ρ, H2, model_m, [θ]; noise)\n",
    "\n",
    "function loss_and_grad(θ)\n",
    "    y, (∇,) = withgradient(loss_, θ)\n",
    "    return y, ∇\n",
    "end\n",
    "\n",
    "N = length(ρ)\n",
    "\n",
    "v, grad2 = loss_and_grad(θ)"
   ]
  },
  {
   "cell_type": "code",
   "execution_count": null,
   "metadata": {
    "hidden": true
   },
   "outputs": [],
   "source": [
    "loss_(θ) =  loss(ρ, H2, model_m, [θ]; noise)\n",
    "\n",
    "function loss_and_grad(θ)\n",
    "    y, (∇,) = withgradient(loss_, θ)\n",
    "    return y, ∇\n",
    "end\n",
    "\n",
    "N = length(ρ)\n",
    "\n",
    "v, grad2 = loss_and_grad(θ)"
   ]
  },
  {
   "cell_type": "markdown",
   "metadata": {
    "heading_collapsed": true,
    "hidden": true
   },
   "source": [
    "### Numerical check"
   ]
  },
  {
   "cell_type": "code",
   "execution_count": 62,
   "metadata": {
    "hidden": true
   },
   "outputs": [],
   "source": [
    "depth = 6\n",
    "model_m2 = MeasurementVariationalCircuitRy(N, depth, 2, [2])\n",
    "model_m4 = VariationalCircuitRy(N, 2*depth)\n",
    "θs = mVQE.initialize_circuit(model_m2);"
   ]
  },
  {
   "cell_type": "code",
   "execution_count": 63,
   "metadata": {
    "hidden": true
   },
   "outputs": [
    {
     "data": {
      "text/plain": [
       "0.3135999911302023"
      ]
     },
     "execution_count": 63,
     "metadata": {},
     "output_type": "execute_result"
    }
   ],
   "source": [
    "circuit1 = generate_circuit(model_m2, θs)\n",
    "circuit2 = generate_circuit(model_m4, vcat(θs[1], θs[2]))\n",
    "ρ2 = runcircuit(ρ, circuit2.circ)\n",
    "loss(ρ2, H2)"
   ]
  },
  {
   "cell_type": "code",
   "execution_count": 64,
   "metadata": {
    "hidden": true
   },
   "outputs": [
    {
     "data": {
      "text/plain": [
       "0.3135999911302023"
      ]
     },
     "execution_count": 64,
     "metadata": {},
     "output_type": "execute_result"
    }
   ],
   "source": [
    "ρ2 = runcircuit(ρ, vcat(circuit1.circ[1][1], circuit1.circ[2][1]))\n",
    "loss(ρ2, H2)"
   ]
  },
  {
   "cell_type": "code",
   "execution_count": 65,
   "metadata": {
    "hidden": true
   },
   "outputs": [
    {
     "data": {
      "text/plain": [
       "0.31359999113020365"
      ]
     },
     "execution_count": 65,
     "metadata": {},
     "output_type": "execute_result"
    }
   ],
   "source": [
    "loss(ρ, H2, model_m2, θs)"
   ]
  },
  {
   "cell_type": "code",
   "execution_count": 98,
   "metadata": {
    "hidden": true
   },
   "outputs": [
    {
     "data": {
      "text/plain": [
       "0.31359999113020365"
      ]
     },
     "execution_count": 98,
     "metadata": {},
     "output_type": "execute_result"
    }
   ],
   "source": [
    "loss_(θ) = loss(ρ, H2, model_m2, θ)\n",
    "\n",
    "function loss_and_grad(θ)\n",
    "    y, (∇,) = withgradient(loss_, θ)\n",
    "    return y, ∇\n",
    "end\n",
    "\n",
    "N = length(ρ)\n",
    "\n",
    "lo, grad2 = loss_and_grad(θs);\n",
    "lo"
   ]
  },
  {
   "cell_type": "code",
   "execution_count": 99,
   "metadata": {
    "hidden": true
   },
   "outputs": [
    {
     "data": {
      "text/plain": [
       "-0.1510898738345156"
      ]
     },
     "execution_count": 99,
     "metadata": {},
     "output_type": "execute_result"
    }
   ],
   "source": [
    "l = 1\n",
    "grad2[l][1][1]"
   ]
  },
  {
   "cell_type": "code",
   "execution_count": 100,
   "metadata": {
    "hidden": true
   },
   "outputs": [
    {
     "data": {
      "text/plain": [
       "-0.058247850986958845"
      ]
     },
     "execution_count": 100,
     "metadata": {},
     "output_type": "execute_result"
    }
   ],
   "source": [
    "h = 1e-11\n",
    "θn = deepcopy(θs)\n",
    "θn[l][1][1] = θn[l][1][1] + h\n",
    "(loss_(θn) - loss_(θs))/h"
   ]
  },
  {
   "cell_type": "code",
   "execution_count": 240,
   "metadata": {
    "hidden": true
   },
   "outputs": [
    {
     "data": {
      "text/plain": [
       "0.16579565266031346"
      ]
     },
     "execution_count": 240,
     "metadata": {},
     "output_type": "execute_result"
    }
   ],
   "source": [
    "loss_(θ) =  loss(ρ, H2, model_m4, θ)\n",
    "\n",
    "function loss_and_grad(θ)\n",
    "    y, (∇,) = withgradient(loss_, θ)\n",
    "    return y, ∇\n",
    "end\n",
    "\n",
    "N = length(ρ)\n",
    "\n",
    "lo, grad1 = loss_and_grad(vcat(θs[1], θs[2]));\n",
    "lo"
   ]
  },
  {
   "cell_type": "code",
   "execution_count": 241,
   "metadata": {
    "hidden": true
   },
   "outputs": [
    {
     "data": {
      "text/plain": [
       "-0.06371863118819665"
      ]
     },
     "execution_count": 241,
     "metadata": {},
     "output_type": "execute_result"
    }
   ],
   "source": [
    "grad1[(l-1)*5 + 1][1]"
   ]
  },
  {
   "cell_type": "markdown",
   "metadata": {
    "heading_collapsed": true,
    "hidden": true
   },
   "source": [
    "## Rest"
   ]
  },
  {
   "cell_type": "code",
   "execution_count": 107,
   "metadata": {
    "hidden": true
   },
   "outputs": [
    {
     "name": "stdout",
     "output_type": "stream",
     "text": [
      " 46.238195 seconds (134.11 M allocations: 7.479 GiB, 7.17% gc time, 92.07% compilation time)\n"
     ]
    },
    {
     "name": "stderr",
     "output_type": "stream",
     "text": [
      "┌ Info: LBFGS: converged after 35 iterations: f = -0.604502977556, ‖∇f‖ = 6.2348e-09\n",
      "└ @ OptimKit /home/leinad/.julia/packages/OptimKit/xpmbV/src/lbfgs.jl:138\n"
     ]
    }
   ],
   "source": [
    "noise = (1 => (\"depolarizing\", (p = 0.01,)), \n",
    "         2 => (\"depolarizing\", (p = 0.0,)))\n",
    "\n",
    "optimizer = LBFGS(; maxiter=50, verbosity=1)\n",
    "\n",
    "ρ = infinite_temp_MPO(hilbert)\n",
    "ρ, = projective_measurement(ρ; indices=[2], reset=1)\n",
    "\n",
    "m_model = mVQE.Circuit.OldMeasurementVariationalCircuitRy(N, depth, 1, [2])\n",
    "#m_model = VariationalCircuitRy(N, depth)\n",
    "@time loss_value, θs_error2, ρ, niter = optimize_and_evolve(ρ, H2, m_model, depth; optimizer, verbose=true, noise);"
   ]
  },
  {
   "cell_type": "code",
   "execution_count": 108,
   "metadata": {
    "hidden": true
   },
   "outputs": [
    {
     "name": "stdout",
     "output_type": "stream",
     "text": [
      "-0.6045029775564075\n"
     ]
    }
   ],
   "source": [
    "circuit = generate_circuit(m_model, θs_error2)\n",
    "ρ = infinite_temp_MPO(hilbert)\n",
    "ρ, = projective_measurement(ρ; indices=[2], reset=1)\n",
    "\n",
    "ρ = runcircuit(ρ, circuit; noise)\n",
    "println(loss(ρ, H2))"
   ]
  },
  {
   "cell_type": "code",
   "execution_count": 114,
   "metadata": {
    "hidden": true
   },
   "outputs": [],
   "source": [
    "circ = insertnoise(circuit.circ, noise);"
   ]
  },
  {
   "cell_type": "code",
   "execution_count": 119,
   "metadata": {
    "hidden": true
   },
   "outputs": [
    {
     "data": {
      "text/plain": [
       "Dim 1: (dim=2|id=606|\"Qubit,Site,n=1\")'\n",
       "Dim 2: (dim=2|id=606|\"Qubit,Site,n=1\")\n",
       "Dim 3: (dim=4|id=988|\"kraus\")\n",
       "NDTensors.Dense{ComplexF64, Vector{ComplexF64}}\n",
       " 2×2×4\n",
       "[:, :, 1] =\n",
       " 0.99498743710662 + 0.0im               0.0 + 0.0im\n",
       "              0.0 + 0.0im  0.99498743710662 + 0.0im\n",
       "\n",
       "[:, :, 2] =\n",
       "                 0.0 + 0.0im  0.05773502691896258 + 0.0im\n",
       " 0.05773502691896258 + 0.0im                  0.0 + 0.0im\n",
       "\n",
       "[:, :, 3] =\n",
       " 0.0 + 0.0im                  -0.0 - 0.05773502691896258im\n",
       " 0.0 + 0.05773502691896258im   0.0 + 0.0im\n",
       "\n",
       "[:, :, 4] =\n",
       " 0.05773502691896258 + 0.0im                   0.0 + 0.0im\n",
       "                 0.0 + 0.0im  -0.05773502691896258 + 0.0im"
      ]
     },
     "execution_count": 119,
     "metadata": {},
     "output_type": "execute_result"
    }
   ],
   "source": [
    "circ = insertnoise(circuit.circ, noise);\n",
    "t = gate(hilbert, circ[4])\n",
    "t.tensor"
   ]
  },
  {
   "cell_type": "code",
   "execution_count": 18,
   "metadata": {
    "hidden": true
   },
   "outputs": [
    {
     "name": "stdout",
     "output_type": "stream",
     "text": [
      "1.0e-1510000divide_and_conquertrue\n"
     ]
    },
    {
     "data": {
      "text/plain": [
       "MPO\n",
       "[1] ((dim=2|id=743|\"Qubit,Site,n=1\")', (dim=2|id=743|\"Qubit,Site,n=1\"), (dim=3|id=902|\"Link,n=1\"))\n",
       "[2] ((dim=2|id=412|\"Qubit,Site,n=2\")', (dim=3|id=902|\"Link,n=1\"), (dim=2|id=412|\"Qubit,Site,n=2\"), (dim=4|id=986|\"Link,n=1\"))\n",
       "[3] ((dim=2|id=695|\"Qubit,Site,n=3\")', (dim=4|id=986|\"Link,n=1\"), (dim=2|id=695|\"Qubit,Site,n=3\"))\n"
      ]
     },
     "execution_count": 18,
     "metadata": {},
     "output_type": "execute_result"
    }
   ],
   "source": [
    "runcircuit(ρ, bc)"
   ]
  },
  {
   "cell_type": "code",
   "execution_count": 22,
   "metadata": {
    "hidden": true
   },
   "outputs": [
    {
     "data": {
      "text/html": [
       "(::<b>ITensors.var\"#product##kw\"</b>)(::<b>Any</b>, ::<b>typeof(product)</b>, As::<b>Vector{ITensor}</b>, ψ::<b>ITensors.AbstractMPS</b>) in ITensors at <a href=\"file:///home/leinad/.julia/packages/ITensors/PisGD/src/mps/abstractmps.jl\" target=\"_blank\">/home/leinad/.julia/packages/ITensors/PisGD/src/mps/abstractmps.jl:2152</a>"
      ],
      "text/plain": [
       "(::ITensors.var\"#product##kw\")(::Any, ::typeof(product), As::Vector{ITensor}, ψ::ITensors.AbstractMPS) in ITensors at /home/leinad/.julia/packages/ITensors/PisGD/src/mps/abstractmps.jl:2152"
      ]
     },
     "execution_count": 22,
     "metadata": {},
     "output_type": "execute_result"
    }
   ],
   "source": [
    "@which apply(bc, ρ; apply_dag=false)"
   ]
  },
  {
   "cell_type": "code",
   "execution_count": 30,
   "metadata": {
    "hidden": true
   },
   "outputs": [],
   "source": [
    "using AbstractTrees\n",
    "AbstractTrees.children(t::Type) = subtypes(t)"
   ]
  },
  {
   "cell_type": "code",
   "execution_count": 35,
   "metadata": {
    "hidden": true
   },
   "outputs": [
    {
     "data": {
      "text/plain": [
       "ITensors.AbstractMPS"
      ]
     },
     "execution_count": 35,
     "metadata": {},
     "output_type": "execute_result"
    }
   ],
   "source": [
    "ITensors.AbstractMPS"
   ]
  },
  {
   "cell_type": "code",
   "execution_count": 39,
   "metadata": {
    "hidden": true
   },
   "outputs": [
    {
     "data": {
      "text/html": [
       "(var\"#s48\"::<b>ITensors.var\"#product##kw\"</b>)(::<b>Any</b>, ::<b>typeof(product)</b>, o::<b>ITensor</b>, ψ::<b>ITensors.AbstractMPS</b>) in ITensors at <a href=\"file:///home/leinad/.julia/packages/ITensors/PisGD/src/mps/abstractmps.jl\" target=\"_blank\">/home/leinad/.julia/packages/ITensors/PisGD/src/mps/abstractmps.jl:2027</a>"
      ],
      "text/plain": [
       "(var\"#s48\"::ITensors.var\"#product##kw\")(::Any, ::typeof(product), o::ITensor, ψ::ITensors.AbstractMPS) in ITensors at /home/leinad/.julia/packages/ITensors/PisGD/src/mps/abstractmps.jl:2027"
      ]
     },
     "execution_count": 39,
     "metadata": {},
     "output_type": "execute_result"
    }
   ],
   "source": [
    "@which product(bc[1], ρ; apply_dag=false)"
   ]
  },
  {
   "cell_type": "markdown",
   "metadata": {},
   "source": [
    "# Reset Gates"
   ]
  },
  {
   "cell_type": "code",
   "execution_count": 7,
   "metadata": {},
   "outputs": [
    {
     "name": "stdout",
     "output_type": "stream",
     "text": [
      " 31.482786 seconds (44.65 M allocations: 7.348 GiB, 7.42% gc time, 0.30% compilation time)\n"
     ]
    },
    {
     "name": "stderr",
     "output_type": "stream",
     "text": [
      "┌ Warning: LBFGS: not converged to requested tol: f = -1.575814856524, ‖∇f‖ = 2.2716e-05\n",
      "└ @ OptimKit /home/leinad/.julia/packages/OptimKit/xpmbV/src/lbfgs.jl:141\n"
     ]
    }
   ],
   "source": [
    "noise = (1 => (\"depolarizing\", (p = 0.01,)), \n",
    "         2 => (\"depolarizing\", (p = 0.,)))\n",
    "\n",
    "optimizer = LBFGS(; maxiter=100, verbosity=1)\n",
    "\n",
    "\n",
    "N = 3\n",
    "hilbert = qubits(N)\n",
    "H = MPO(hamiltonian(N, 0.), hilbert);\n",
    "\n",
    "ρ = infinite_temp_MPO(hilbert)\n",
    "ρ, = projective_measurement(ρ; indices=[2], reset=1)\n",
    "\n",
    "ψ = productstate(hilbert, fill(0, N))\n",
    "ρ = outer(ψ, prime(ψ))\n",
    "\n",
    "depth = 5\n",
    "model = VariationalCircuitRy(N, depth)\n",
    "reset = 1\n",
    "k = 3\n",
    "model = VariationalMeasurement(model, k, [2], reset)\n",
    "@time loss_value, θs_error2, ρ, niter = optimize_and_evolve(ρ, H, model, depth; optimizer, verbose=true, noise);"
   ]
  },
  {
   "cell_type": "markdown",
   "metadata": {},
   "source": [
    "Test speed old vs new"
   ]
  },
  {
   "cell_type": "code",
   "execution_count": 93,
   "metadata": {},
   "outputs": [],
   "source": [
    "ρ = infinite_temp_MPO(hilbert)\n",
    "ρ, = projective_measurement(ρ; indices=[2], reset=1);"
   ]
  },
  {
   "cell_type": "code",
   "execution_count": 130,
   "metadata": {},
   "outputs": [
    {
     "data": {
      "text/plain": [
       "-1.5971096499596662"
      ]
     },
     "execution_count": 130,
     "metadata": {},
     "output_type": "execute_result"
    }
   ],
   "source": [
    "model_old = mVQE.Circuits.OldMeasurementVariationalCircuitRy(N, depth, k, [2])\n",
    "loss(ρ, H, model_old, θs_error2; noise, maxdims=50)"
   ]
  },
  {
   "cell_type": "code",
   "execution_count": 129,
   "metadata": {},
   "outputs": [
    {
     "data": {
      "text/plain": [
       "-1.575814854525538"
      ]
     },
     "execution_count": 129,
     "metadata": {},
     "output_type": "execute_result"
    }
   ],
   "source": [
    "model = VariationalCircuitRy(N, depth)\n",
    "model = VariationalMeasurement(model, k, [2], reset)\n",
    "\n",
    "loss(ρ, H, model, θs_error2; noise, maxdims=50)"
   ]
  },
  {
   "cell_type": "code",
   "execution_count": 14,
   "metadata": {},
   "outputs": [],
   "source": [
    "circuit1 = generate_circuit(model, θs_error2);\n",
    "circuit2 = generate_circuit(model_old, θs_error2);"
   ]
  },
  {
   "cell_type": "code",
   "execution_count": 140,
   "metadata": {},
   "outputs": [
    {
     "data": {
      "text/plain": [
       "-1.575814854525538"
      ]
     },
     "execution_count": 140,
     "metadata": {},
     "output_type": "execute_result"
    }
   ],
   "source": [
    "ρ1 = runcircuit(ρ, circuit1; noise)\n",
    "loss(ρ1, H)"
   ]
  },
  {
   "cell_type": "code",
   "execution_count": 141,
   "metadata": {},
   "outputs": [
    {
     "data": {
      "text/plain": [
       "-1.5971096499596662"
      ]
     },
     "execution_count": 141,
     "metadata": {},
     "output_type": "execute_result"
    }
   ],
   "source": [
    "ρ2 = runcircuit(ρ, circuit2; noise)\n",
    "loss(ρ2, H)"
   ]
  },
  {
   "cell_type": "code",
   "execution_count": 144,
   "metadata": {},
   "outputs": [
    {
     "data": {
      "text/plain": [
       "0.0008603783235126266"
      ]
     },
     "execution_count": 144,
     "metadata": {},
     "output_type": "execute_result"
    }
   ],
   "source": [
    "t = (contract(ρ2.data) - contract(ρ1.data)).tensor;\n",
    "mean(abs.(t.storage))"
   ]
  },
  {
   "cell_type": "code",
   "execution_count": 136,
   "metadata": {},
   "outputs": [
    {
     "name": "stdout",
     "output_type": "stream",
     "text": [
      "  30.423 ms (95918 allocations: 22.42 MiB)\n"
     ]
    },
    {
     "data": {
      "text/plain": [
       "-1.5971096499596662"
      ]
     },
     "execution_count": 136,
     "metadata": {},
     "output_type": "execute_result"
    }
   ],
   "source": [
    "@btime loss(ρ, H, model_old, θs_error2; noise)"
   ]
  },
  {
   "cell_type": "code",
   "execution_count": 137,
   "metadata": {},
   "outputs": [
    {
     "name": "stdout",
     "output_type": "stream",
     "text": [
      "  30.274 ms (97949 allocations: 22.91 MiB)\n"
     ]
    },
    {
     "data": {
      "text/plain": [
       "-1.575814854525538"
      ]
     },
     "execution_count": 137,
     "metadata": {},
     "output_type": "execute_result"
    }
   ],
   "source": [
    "@btime loss(ρ, H, model, θs_error2; noise)"
   ]
  },
  {
   "cell_type": "markdown",
   "metadata": {},
   "source": [
    "# VQE"
   ]
  },
  {
   "cell_type": "code",
   "execution_count": 309,
   "metadata": {},
   "outputs": [
    {
     "name": "stderr",
     "output_type": "stream",
     "text": [
      "┌ Warning: LBFGS: not converged to requested tol: f = -1.337337535800, ‖∇f‖ = 1.4628e-03\n",
      "└ @ OptimKit /home/leinad/.julia/packages/OptimKit/xpmbV/src/lbfgs.jl:141\n"
     ]
    }
   ],
   "source": [
    "noise = (1 => (\"depolarizing\", (p = 0.01,)), \n",
    "         2 => (\"depolarizing\", (p = 0.01,)))\n",
    "\n",
    "N = 3\n",
    "hilbert = qubits(N)\n",
    "H = MPO(hamiltonian(N, 0.), hilbert);\n",
    "\n",
    "ψ = productstate(hilbert, fill(0, N))\n",
    "ρ = outer(ψ, prime(ψ))\n",
    "model = VariationalCircuitRy(N, depth*3)\n",
    "oss_value, θs, ρ, niter = optimize_and_evolve(ρ, H, model, depth; optimizer=optimizer, verbose=true, noise);"
   ]
  }
 ],
 "metadata": {
  "@webio": {
   "lastCommId": null,
   "lastKernelId": null
  },
  "kernelspec": {
   "display_name": "Julia 1.7.3",
   "language": "julia",
   "name": "julia-1.7"
  },
  "language_info": {
   "file_extension": ".jl",
   "mimetype": "application/julia",
   "name": "julia",
   "version": "1.7.3"
  },
  "toc": {
   "base_numbering": 1,
   "nav_menu": {},
   "number_sections": true,
   "sideBar": true,
   "skip_h1_title": false,
   "title_cell": "Table of Contents",
   "title_sidebar": "Contents",
   "toc_cell": false,
   "toc_position": {},
   "toc_section_display": true,
   "toc_window_display": false
  }
 },
 "nbformat": 4,
 "nbformat_minor": 5
}
